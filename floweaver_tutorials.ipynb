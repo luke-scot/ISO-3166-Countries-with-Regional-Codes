{
  "nbformat": 4,
  "nbformat_minor": 0,
  "metadata": {
    "colab": {
      "name": "floweaver_tutorials.ipynb",
      "provenance": [],
      "authorship_tag": "ABX9TyOjJxRTPh3JXFAckkVrwFWL",
      "include_colab_link": true
    },
    "kernelspec": {
      "name": "python3",
      "display_name": "Python 3"
    },
    "language_info": {
      "name": "python"
    },
    "widgets": {
      "application/vnd.jupyter.widget-state+json": {
        "5a659b80be1c47acb41c6ba3bb329ae1": {
          "model_module": "jupyter-sankey-widget",
          "model_name": "SankeyModel",
          "model_module_version": "^0.5.0",
          "state": {
            "_dom_classes": [],
            "_model_module": "jupyter-sankey-widget",
            "_model_module_version": "^0.5.0",
            "_model_name": "SankeyModel",
            "_view_count": null,
            "_view_module": "jupyter-sankey-widget",
            "_view_module_version": "^0.5.0",
            "_view_name": "SankeyView",
            "align_link_types": false,
            "groups": [],
            "layout": "IPY_MODEL_b33cb6f8b3cc47a2acc946bca6130bd2",
            "linkLabelFormat": "",
            "linkLabelMinWidth": 5,
            "links": [
              {
                "source": "farms^*",
                "target": "customers^*",
                "type": "*",
                "time": "*",
                "value": 46,
                "title": "*",
                "color": "#FBB4AE",
                "opacity": 1,
                "data": {
                  "value": 46
                }
              }
            ],
            "margins": {
              "top": 25,
              "bottom": 10,
              "left": 130,
              "right": 130
            },
            "node_position_attr": null,
            "nodes": [
              {
                "id": "farms^*",
                "title": "farms",
                "direction": "r",
                "hidden": false,
                "type": "process",
                "fromElsewhere": [],
                "toElsewhere": []
              },
              {
                "id": "customers^*",
                "title": "customers",
                "direction": "r",
                "hidden": false,
                "type": "process",
                "fromElsewhere": [],
                "toElsewhere": []
              }
            ],
            "order": [
              [
                [
                  "farms^*"
                ]
              ],
              [
                [
                  "customers^*"
                ]
              ]
            ],
            "png": "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",
            "rank_sets": [],
            "scale": 2.880434782608696,
            "show_link_info_html": false,
            "svg": "<?xml version=\"1.0\" standalone=\"no\"?><!DOCTYPE svg PUBLIC \"-//W3C//DTD SVG 1.1//EN\" \"http://www.w3.org/Graphics/SVG/1.1/DTD/svg11.dtd\"><svg xmlns=\"http://www.w3.org/2000/svg\" width=\"0.005243927039112037\" height=\"0.0027599615995326514\" viewBox=\"0 0 570 300\" style=\"font-family: &quot;Helvetica Neue&quot;, Helvetica, Arial, sans-serif;\"><g class=\"sankey\" transform=\"translate(130,25)\"><g class=\"groups\"/><g class=\"links\"><g class=\"link\" style=\"opacity: 0.999998;\"><path d=\"M1,66.25 A0 0 0 0 0 1,66.25 L309,66.25 A0 0 0 0 0 309,66.25 L309,198.75 A0 0 0 0 0 309,198.75 L1,198.75 A0 0 0 0 0 1,198.75 Z\" style=\"fill: rgb(255, 255, 255);\"/><title>farms → customers\n*\n46.0</title><text class=\"label\" dy=\"0.35em\" x=\"5\" y=\"132.5\"/></g></g><g class=\"nodes\"><g class=\"node\" transform=\"translate(0,66.25)\"><title>farms</title><line x1=\"0\" x2=\"0\" y1=\"0\" y2=\"132.5\" style=\"display: inline; stroke: rgb(0, 0, 0);\"/><rect class=\"node-body\" width=\"1\" height=\"132.5\" style=\"fill: none;\"/><text class=\"node-value\" dy=\".35em\" text-anchor=\"middle\" transform=\"translate(0.5,66.25) rotate(-90)\" style=\"display: none;\"/><text class=\"node-title\" dy=\".35em\" text-anchor=\"end\" transform=\"translate(-4,66.25)\" style=\"display: inline;\">farms</text><rect class=\"node-click-target\" x=\"-5\" y=\"-5\" width=\"10\" height=\"137.5\" style=\"fill: none; visibility: hidden; pointer-events: all;\"/></g><g class=\"node\" transform=\"translate(309,66.25)\"><title>customers</title><line x1=\"0\" x2=\"0\" y1=\"0\" y2=\"132.5\" style=\"display: inline; stroke: rgb(0, 0, 0);\"/><rect class=\"node-body\" width=\"1\" height=\"132.5\" style=\"fill: none;\"/><text class=\"node-value\" dy=\".35em\" text-anchor=\"middle\" transform=\"translate(0.5,66.25) rotate(-90)\" style=\"display: none;\"/><text class=\"node-title\" dy=\".35em\" text-anchor=\"start\" transform=\"translate(5,66.25)\" style=\"display: inline;\">customers</text><rect class=\"node-click-target\" x=\"-5\" y=\"-5\" width=\"10\" height=\"137.5\" style=\"fill: none; visibility: hidden; pointer-events: all;\"/></g></g><g class=\"slice-titles\"/></g></svg>"
          }
        },
        "b33cb6f8b3cc47a2acc946bca6130bd2": {
          "model_module": "@jupyter-widgets/base",
          "model_name": "LayoutModel",
          "model_module_version": "1.2.0",
          "state": {
            "_model_module": "@jupyter-widgets/base",
            "_model_module_version": "1.2.0",
            "_model_name": "LayoutModel",
            "_view_count": null,
            "_view_module": "@jupyter-widgets/base",
            "_view_module_version": "1.2.0",
            "_view_name": "LayoutView",
            "align_content": null,
            "align_items": null,
            "align_self": null,
            "border": null,
            "bottom": null,
            "display": null,
            "flex": null,
            "flex_flow": null,
            "grid_area": null,
            "grid_auto_columns": null,
            "grid_auto_flow": null,
            "grid_auto_rows": null,
            "grid_column": null,
            "grid_gap": null,
            "grid_row": null,
            "grid_template_areas": null,
            "grid_template_columns": null,
            "grid_template_rows": null,
            "height": "300",
            "justify_content": null,
            "justify_items": null,
            "left": null,
            "margin": null,
            "max_height": null,
            "max_width": null,
            "min_height": null,
            "min_width": null,
            "object_fit": null,
            "object_position": null,
            "order": null,
            "overflow": null,
            "overflow_x": null,
            "overflow_y": null,
            "padding": null,
            "right": null,
            "top": null,
            "visibility": null,
            "width": "570"
          }
        },
        "547c54c036344bdab49ee0c80840436d": {
          "model_module": "jupyter-sankey-widget",
          "model_name": "SankeyModel",
          "model_module_version": "^0.5.0",
          "state": {
            "_dom_classes": [],
            "_model_module": "jupyter-sankey-widget",
            "_model_module_version": "^0.5.0",
            "_model_name": "SankeyModel",
            "_view_count": null,
            "_view_module": "jupyter-sankey-widget",
            "_view_module_version": "^0.5.0",
            "_view_name": "SankeyView",
            "align_link_types": false,
            "groups": [
              {
                "id": "customers",
                "type": "process",
                "title": "",
                "nodes": [
                  "customers^Men",
                  "customers^Women"
                ]
              }
            ],
            "layout": "IPY_MODEL_3dbf96f04bfa4f1e866070b7b3cc6429",
            "linkLabelFormat": "",
            "linkLabelMinWidth": 5,
            "links": [
              {
                "source": "farms^*",
                "target": "customers^Men",
                "type": "*",
                "time": "*",
                "value": 21,
                "title": "*",
                "color": "#FBB4AE",
                "opacity": 1,
                "data": {
                  "value": 21
                }
              },
              {
                "source": "farms^*",
                "target": "customers^Women",
                "type": "*",
                "time": "*",
                "value": 25,
                "title": "*",
                "color": "#FBB4AE",
                "opacity": 1,
                "data": {
                  "value": 25
                }
              }
            ],
            "margins": {
              "top": 25,
              "bottom": 10,
              "left": 130,
              "right": 130
            },
            "node_position_attr": null,
            "nodes": [
              {
                "id": "farms^*",
                "title": "farms",
                "direction": "r",
                "hidden": false,
                "type": "process",
                "fromElsewhere": [],
                "toElsewhere": []
              },
              {
                "id": "customers^Men",
                "title": "Men",
                "direction": "r",
                "hidden": false,
                "type": "process",
                "fromElsewhere": [],
                "toElsewhere": []
              },
              {
                "id": "customers^Women",
                "title": "Women",
                "direction": "r",
                "hidden": false,
                "type": "process",
                "fromElsewhere": [],
                "toElsewhere": []
              }
            ],
            "order": [
              [
                [
                  "farms^*"
                ]
              ],
              [
                [
                  "customers^Men",
                  "customers^Women"
                ]
              ]
            ],
            "png": "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",
            "rank_sets": [],
            "scale": 2.880434782608696,
            "show_link_info_html": false,
            "svg": "<?xml version=\"1.0\" standalone=\"no\"?><!DOCTYPE svg PUBLIC \"-//W3C//DTD SVG 1.1//EN\" \"http://www.w3.org/Graphics/SVG/1.1/DTD/svg11.dtd\"><svg xmlns=\"http://www.w3.org/2000/svg\" width=\"570\" height=\"300\" viewBox=\"0 0 570 300\" style=\"font-family: &quot;Helvetica Neue&quot;, Helvetica, Arial, sans-serif;\"><g class=\"sankey\" transform=\"translate(130,25)\"><g class=\"groups\"><g class=\"group\" transform=\"translate(309,26.5)\" style=\"display: none;\"><rect x=\"-10\" y=\"-20\" width=\"21\" height=\"242\" style=\"fill: rgb(238, 238, 238); stroke: rgb(187, 187, 187); stroke-width: 0.5;\"/><text x=\"-10\" y=\"-25\" style=\"fill: rgb(153, 153, 153);\"/></g></g><g class=\"links\"><g class=\"link\" style=\"opacity: 0.8;\"><path d=\"M1,66.25 A333.6952932731746 333.6952932731746 0.1572842447112306 0 0 53.26888105199893,62.130969261374425 L247.2563099609704,31.36568971954693 A394.18442370795725 394.18442370795725 0.1572842447112306 0 1 309,26.5 L309,86.98913043478261 A333.6952932731746 333.6952932731746 0.1572842447112306 0 0 256.73111894800104,91.10816117340818 L62.74369003902957,121.87344071523569 A394.18442370795725 394.18442370795725 0.1572842447112306 0 1 1,126.73913043478262 Z\" style=\"fill: rgb(251, 180, 174);\"/><title>farms → Men\n*\n21.0</title><text class=\"label\" dy=\"0.35em\" x=\"5\" y=\"96.49456521739131\"/></g><g class=\"link\" style=\"opacity: 0.8;\"><path d=\"M1,126.73913043478262 A399.9452932731747 399.9452932731747 0.1572842447112306 0 1 63.64605279969916,131.6759305334649 L257.6334817086707,162.44121007529242 A327.9344237079573 327.9344237079573 0.1572842447112306 0 0 309,166.48913043478262 L309,238.5 A399.9452932731747 399.9452932731747 0.1572842447112306 0 1 246.35394720030084,233.56319990131772 L52.366518291329356,202.7979203594902 A327.9344237079573 327.9344237079573 0.1572842447112306 0 0 1,198.75 Z\" style=\"fill: rgb(251, 180, 174);\"/><title>farms → Women\n*\n25.0</title><text class=\"label\" dy=\"0.35em\" x=\"5\" y=\"162.7445652173913\"/></g></g><g class=\"nodes\"><g class=\"node\" transform=\"translate(0,66.25)\"><title>farms</title><line x1=\"0\" x2=\"0\" y1=\"0\" y2=\"132.5\" style=\"display: inline; stroke: rgb(0, 0, 0);\"/><rect class=\"node-body\" width=\"1\" height=\"132.5\" style=\"fill: none;\"/><text class=\"node-value\" dy=\".35em\" text-anchor=\"middle\" transform=\"translate(0.5,66.25) rotate(-90)\" style=\"display: none;\"/><text class=\"node-title\" dy=\".35em\" text-anchor=\"end\" transform=\"translate(-4,66.25)\" style=\"display: inline;\">farms</text><rect class=\"node-click-target\" x=\"-5\" y=\"-5\" width=\"10\" height=\"137.5\" style=\"fill: none; visibility: hidden; pointer-events: all;\"/></g><g class=\"node\" transform=\"translate(309,26.5)\"><title>Men</title><line x1=\"0\" x2=\"0\" y1=\"0\" y2=\"60.48913043478261\" style=\"display: inline; stroke: rgb(0, 0, 0);\"/><rect class=\"node-body\" width=\"1\" height=\"60.48913043478261\" style=\"fill: none;\"/><text class=\"node-value\" dy=\".35em\" text-anchor=\"middle\" transform=\"translate(0.5,30.244565217391305) rotate(-90)\" style=\"display: none;\"/><text class=\"node-title\" dy=\".35em\" text-anchor=\"start\" transform=\"translate(5,30.244565217391305)\" style=\"display: inline;\">Men</text><rect class=\"node-click-target\" x=\"-5\" y=\"-5\" width=\"10\" height=\"65.48913043478261\" style=\"fill: none; visibility: hidden; pointer-events: all;\"/></g><g class=\"node\" transform=\"translate(309,166.48913043478262)\"><title>Women</title><line x1=\"0\" x2=\"0\" y1=\"0\" y2=\"72.01086956521738\" style=\"display: inline; stroke: rgb(0, 0, 0);\"/><rect class=\"node-body\" width=\"1\" height=\"72.01086956521738\" style=\"fill: none;\"/><text class=\"node-value\" dy=\".35em\" text-anchor=\"middle\" transform=\"translate(0.5,36.00543478260869) rotate(-90)\" style=\"display: none;\"/><text class=\"node-title\" dy=\".35em\" text-anchor=\"start\" transform=\"translate(5,36.00543478260869)\" style=\"display: inline;\">Women</text><rect class=\"node-click-target\" x=\"-5\" y=\"-5\" width=\"10\" height=\"77.01086956521738\" style=\"fill: none; visibility: hidden; pointer-events: all;\"/></g></g><g class=\"slice-titles\"/></g></svg>"
          }
        },
        "3dbf96f04bfa4f1e866070b7b3cc6429": {
          "model_module": "@jupyter-widgets/base",
          "model_name": "LayoutModel",
          "model_module_version": "1.2.0",
          "state": {
            "_model_module": "@jupyter-widgets/base",
            "_model_module_version": "1.2.0",
            "_model_name": "LayoutModel",
            "_view_count": null,
            "_view_module": "@jupyter-widgets/base",
            "_view_module_version": "1.2.0",
            "_view_name": "LayoutView",
            "align_content": null,
            "align_items": null,
            "align_self": null,
            "border": null,
            "bottom": null,
            "display": null,
            "flex": null,
            "flex_flow": null,
            "grid_area": null,
            "grid_auto_columns": null,
            "grid_auto_flow": null,
            "grid_auto_rows": null,
            "grid_column": null,
            "grid_gap": null,
            "grid_row": null,
            "grid_template_areas": null,
            "grid_template_columns": null,
            "grid_template_rows": null,
            "height": "300",
            "justify_content": null,
            "justify_items": null,
            "left": null,
            "margin": null,
            "max_height": null,
            "max_width": null,
            "min_height": null,
            "min_width": null,
            "object_fit": null,
            "object_position": null,
            "order": null,
            "overflow": null,
            "overflow_x": null,
            "overflow_y": null,
            "padding": null,
            "right": null,
            "top": null,
            "visibility": null,
            "width": "570"
          }
        },
        "e74e1a440d6d4d6bb383b4fc044b112d": {
          "model_module": "jupyter-sankey-widget",
          "model_name": "SankeyModel",
          "model_module_version": "^0.5.0",
          "state": {
            "_dom_classes": [],
            "_model_module": "jupyter-sankey-widget",
            "_model_module_version": "^0.5.0",
            "_model_name": "SankeyModel",
            "_view_count": null,
            "_view_module": "jupyter-sankey-widget",
            "_view_module_version": "^0.5.0",
            "_view_name": "SankeyView",
            "align_link_types": false,
            "groups": [
              {
                "id": "farms",
                "type": "process",
                "title": "",
                "nodes": [
                  "farms^yes",
                  "farms^no"
                ]
              },
              {
                "id": "customers",
                "type": "process",
                "title": "",
                "nodes": [
                  "customers^Men",
                  "customers^Women"
                ]
              }
            ],
            "layout": "IPY_MODEL_0d46c42fcde54a78b2bd7bc77df23c40",
            "linkLabelFormat": "",
            "linkLabelMinWidth": 5,
            "links": [
              {
                "source": "farms^yes",
                "target": "customers^Men",
                "type": "*",
                "time": "*",
                "value": 10,
                "title": "*",
                "color": "#FBB4AE",
                "opacity": 1,
                "data": {
                  "value": 10
                }
              },
              {
                "source": "farms^yes",
                "target": "customers^Women",
                "type": "*",
                "time": "*",
                "value": 25,
                "title": "*",
                "color": "#FBB4AE",
                "opacity": 1,
                "data": {
                  "value": 25
                }
              },
              {
                "source": "farms^no",
                "target": "customers^Men",
                "type": "*",
                "time": "*",
                "value": 11,
                "title": "*",
                "color": "#FBB4AE",
                "opacity": 1,
                "data": {
                  "value": 11
                }
              }
            ],
            "margins": {
              "top": 25,
              "bottom": 10,
              "left": 130,
              "right": 130
            },
            "node_position_attr": null,
            "nodes": [
              {
                "id": "farms^yes",
                "title": "yes",
                "direction": "r",
                "hidden": false,
                "type": "process",
                "fromElsewhere": [],
                "toElsewhere": []
              },
              {
                "id": "farms^no",
                "title": "no",
                "direction": "r",
                "hidden": false,
                "type": "process",
                "fromElsewhere": [],
                "toElsewhere": []
              },
              {
                "id": "customers^Men",
                "title": "Men",
                "direction": "r",
                "hidden": false,
                "type": "process",
                "fromElsewhere": [],
                "toElsewhere": []
              },
              {
                "id": "customers^Women",
                "title": "Women",
                "direction": "r",
                "hidden": false,
                "type": "process",
                "fromElsewhere": [],
                "toElsewhere": []
              }
            ],
            "order": [
              [
                [
                  "farms^yes",
                  "farms^no"
                ]
              ],
              [
                [
                  "customers^Men",
                  "customers^Women"
                ]
              ]
            ],
            "png": "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",
            "rank_sets": [],
            "scale": 2.880434782608696,
            "show_link_info_html": false,
            "svg": "<?xml version=\"1.0\" standalone=\"no\"?><!DOCTYPE svg PUBLIC \"-//W3C//DTD SVG 1.1//EN\" \"http://www.w3.org/Graphics/SVG/1.1/DTD/svg11.dtd\"><svg xmlns=\"http://www.w3.org/2000/svg\" width=\"570\" height=\"300\" viewBox=\"0 0 570 300\" style=\"font-family: &quot;Helvetica Neue&quot;, Helvetica, Arial, sans-serif;\"><g class=\"sankey\" transform=\"translate(130,25)\"><g class=\"groups\"><g class=\"group\" transform=\"translate(0,26.5)\" style=\"display: none;\"><rect x=\"-10\" y=\"-20\" width=\"21\" height=\"242.00000000000003\" style=\"fill: rgb(238, 238, 238); stroke: rgb(187, 187, 187); stroke-width: 0.5;\"/><text x=\"-10\" y=\"-25\" style=\"fill: rgb(153, 153, 153);\"/></g><g class=\"group\" transform=\"translate(309,26.5)\" style=\"display: none;\"><rect x=\"-10\" y=\"-20\" width=\"21\" height=\"242\" style=\"fill: rgb(238, 238, 238); stroke: rgb(187, 187, 187); stroke-width: 0.5;\"/><text x=\"-10\" y=\"-25\" style=\"fill: rgb(153, 153, 153);\"/></g></g><g class=\"links\"><g class=\"link\" style=\"opacity: 0.8;\"><path d=\"M1,26.5 A0 0 0 0 0 1,26.5 L309,26.5 A0 0 0 0 0 309,26.5 L309,55.30434782608695 A0 0 0 0 0 309,55.30434782608695 L1,55.30434782608695 A0 0 0 0 0 1,55.30434782608695 Z\" style=\"fill: rgb(251, 180, 174);\"/><title>yes → Men\n*\n10.0</title><text class=\"label\" dy=\"0.35em\" x=\"5\" y=\"40.90217391304348\"/></g><g class=\"link\" style=\"opacity: 0.8;\"><path d=\"M1,206.81521739130437 A100.80225333518403 100.80225333518403 0.5618258264736977 0 0 54.7006114744039,191.32028264442047 L238.4198829170977,75.66974551151684 A132.48703594387968 132.48703594387968 0.5618258264736977 0 1 309,55.30434782608695 L309,86.98913043478261 A100.80225333518403 100.80225333518403 0.5618258264736977 0 0 255.2993885255961,102.48406518166648 L71.58011708290229,218.13460231457012 A132.48703594387968 132.48703594387968 0.5618258264736977 0 1 1,238.5 Z\" style=\"fill: rgb(251, 180, 174);\"/><title>no → Men\n*\n11.0</title><text class=\"label\" dy=\"0.35em\" x=\"5\" y=\"222.6576086956522\"/></g><g class=\"link\" style=\"opacity: 0.8;\"><path d=\"M1,55.30434782608696 A180.66469484670606 180.66469484670606 0.42517856208393834 0 1 75.52119701090461,71.38981202653147 L264.1820950592448,156.8151472678462 A108.65382528148868 108.65382528148868 0.42517856208393834 0 0 309,166.48913043478262 L309,238.5 A180.66469484670606 180.66469484670606 0.42517856208393834 0 1 234.47880298909539,222.4145357995555 L45.81790494075524,136.98920055824075 A108.65382528148868 108.65382528148868 0.42517856208393834 0 0 1,127.31521739130434 Z\" style=\"fill: rgb(251, 180, 174);\"/><title>yes → Women\n*\n25.0</title><text class=\"label\" dy=\"0.35em\" x=\"5\" y=\"91.30978260869566\"/></g></g><g class=\"nodes\"><g class=\"node\" transform=\"translate(0,26.5)\"><title>yes</title><line x1=\"0\" x2=\"0\" y1=\"0\" y2=\"100.81521739130436\" style=\"display: inline; stroke: rgb(0, 0, 0);\"/><rect class=\"node-body\" width=\"1\" height=\"100.81521739130436\" style=\"fill: none;\"/><text class=\"node-value\" dy=\".35em\" text-anchor=\"middle\" transform=\"translate(0.5,50.40760869565218) rotate(-90)\" style=\"display: none;\"/><text class=\"node-title\" dy=\".35em\" text-anchor=\"end\" transform=\"translate(-4,50.40760869565218)\" style=\"display: inline;\">yes</text><rect class=\"node-click-target\" x=\"-5\" y=\"-5\" width=\"10\" height=\"105.81521739130436\" style=\"fill: none; visibility: hidden; pointer-events: all;\"/></g><g class=\"node\" transform=\"translate(0,206.81521739130437)\"><title>no</title><line x1=\"0\" x2=\"0\" y1=\"0\" y2=\"31.684782608695656\" style=\"display: inline; stroke: rgb(0, 0, 0);\"/><rect class=\"node-body\" width=\"1\" height=\"31.684782608695656\" style=\"fill: none;\"/><text class=\"node-value\" dy=\".35em\" text-anchor=\"middle\" transform=\"translate(0.5,15.842391304347828) rotate(-90)\" style=\"display: none;\"/><text class=\"node-title\" dy=\".35em\" text-anchor=\"end\" transform=\"translate(-4,15.842391304347828)\" style=\"display: inline;\">no</text><rect class=\"node-click-target\" x=\"-5\" y=\"-5\" width=\"10\" height=\"36.684782608695656\" style=\"fill: none; visibility: hidden; pointer-events: all;\"/></g><g class=\"node\" transform=\"translate(309,26.5)\"><title>Men</title><line x1=\"0\" x2=\"0\" y1=\"0\" y2=\"60.48913043478261\" style=\"display: inline; stroke: rgb(0, 0, 0);\"/><rect class=\"node-body\" width=\"1\" height=\"60.48913043478261\" style=\"fill: none;\"/><text class=\"node-value\" dy=\".35em\" text-anchor=\"middle\" transform=\"translate(0.5,30.244565217391305) rotate(-90)\" style=\"display: none;\"/><text class=\"node-title\" dy=\".35em\" text-anchor=\"start\" transform=\"translate(5,30.244565217391305)\" style=\"display: inline;\">Men</text><rect class=\"node-click-target\" x=\"-5\" y=\"-5\" width=\"10\" height=\"65.48913043478261\" style=\"fill: none; visibility: hidden; pointer-events: all;\"/></g><g class=\"node\" transform=\"translate(309,166.48913043478262)\"><title>Women</title><line x1=\"0\" x2=\"0\" y1=\"0\" y2=\"72.01086956521738\" style=\"display: inline; stroke: rgb(0, 0, 0);\"/><rect class=\"node-body\" width=\"1\" height=\"72.01086956521738\" style=\"fill: none;\"/><text class=\"node-value\" dy=\".35em\" text-anchor=\"middle\" transform=\"translate(0.5,36.00543478260869) rotate(-90)\" style=\"display: none;\"/><text class=\"node-title\" dy=\".35em\" text-anchor=\"start\" transform=\"translate(5,36.00543478260869)\" style=\"display: inline;\">Women</text><rect class=\"node-click-target\" x=\"-5\" y=\"-5\" width=\"10\" height=\"77.01086956521738\" style=\"fill: none; visibility: hidden; pointer-events: all;\"/></g></g><g class=\"slice-titles\"/></g></svg>"
          }
        },
        "0d46c42fcde54a78b2bd7bc77df23c40": {
          "model_module": "@jupyter-widgets/base",
          "model_name": "LayoutModel",
          "model_module_version": "1.2.0",
          "state": {
            "_model_module": "@jupyter-widgets/base",
            "_model_module_version": "1.2.0",
            "_model_name": "LayoutModel",
            "_view_count": null,
            "_view_module": "@jupyter-widgets/base",
            "_view_module_version": "1.2.0",
            "_view_name": "LayoutView",
            "align_content": null,
            "align_items": null,
            "align_self": null,
            "border": null,
            "bottom": null,
            "display": null,
            "flex": null,
            "flex_flow": null,
            "grid_area": null,
            "grid_auto_columns": null,
            "grid_auto_flow": null,
            "grid_auto_rows": null,
            "grid_column": null,
            "grid_gap": null,
            "grid_row": null,
            "grid_template_areas": null,
            "grid_template_columns": null,
            "grid_template_rows": null,
            "height": "300",
            "justify_content": null,
            "justify_items": null,
            "left": null,
            "margin": null,
            "max_height": null,
            "max_width": null,
            "min_height": null,
            "min_width": null,
            "object_fit": null,
            "object_position": null,
            "order": null,
            "overflow": null,
            "overflow_x": null,
            "overflow_y": null,
            "padding": null,
            "right": null,
            "top": null,
            "visibility": null,
            "width": "570"
          }
        },
        "6e01f49aca5946318f89d3a2aa619a6c": {
          "model_module": "jupyter-sankey-widget",
          "model_name": "SankeyModel",
          "model_module_version": "^0.5.0",
          "state": {
            "_dom_classes": [],
            "_model_module": "jupyter-sankey-widget",
            "_model_module_version": "^0.5.0",
            "_model_name": "SankeyModel",
            "_view_count": null,
            "_view_module": "jupyter-sankey-widget",
            "_view_module_version": "^0.5.0",
            "_view_name": "SankeyView",
            "align_link_types": false,
            "groups": [
              {
                "id": "farms",
                "type": "process",
                "title": "",
                "nodes": [
                  "farms^yes",
                  "farms^no"
                ]
              },
              {
                "id": "customers",
                "type": "process",
                "title": "",
                "nodes": [
                  "customers^Men",
                  "customers^Women"
                ]
              }
            ],
            "layout": "IPY_MODEL_8aff444459f94e45bc0db481bb2cb69c",
            "linkLabelFormat": "",
            "linkLabelMinWidth": 5,
            "links": [
              {
                "source": "farms^yes",
                "target": "customers^Men",
                "type": "*",
                "time": "*",
                "value": 10,
                "title": "*",
                "color": "#FBB4AE",
                "opacity": 1,
                "data": {
                  "value": 10
                }
              },
              {
                "source": "farms^yes",
                "target": "customers^Women",
                "type": "*",
                "time": "*",
                "value": 25,
                "title": "*",
                "color": "#FBB4AE",
                "opacity": 1,
                "data": {
                  "value": 25
                }
              },
              {
                "source": "farms^no",
                "target": "customers^Men",
                "type": "*",
                "time": "*",
                "value": 11,
                "title": "*",
                "color": "#FBB4AE",
                "opacity": 1,
                "data": {
                  "value": 11
                }
              }
            ],
            "margins": {
              "top": 25,
              "bottom": 10,
              "left": 130,
              "right": 130
            },
            "node_position_attr": null,
            "nodes": [
              {
                "id": "farms^yes",
                "title": "yes",
                "direction": "r",
                "hidden": false,
                "type": "process",
                "fromElsewhere": [],
                "toElsewhere": []
              },
              {
                "id": "farms^no",
                "title": "no",
                "direction": "r",
                "hidden": false,
                "type": "process",
                "fromElsewhere": [],
                "toElsewhere": []
              },
              {
                "id": "customers^Men",
                "title": "Men",
                "direction": "r",
                "hidden": false,
                "type": "process",
                "fromElsewhere": [],
                "toElsewhere": []
              },
              {
                "id": "customers^Women",
                "title": "Women",
                "direction": "r",
                "hidden": false,
                "type": "process",
                "fromElsewhere": [],
                "toElsewhere": []
              }
            ],
            "order": [
              [
                [
                  "farms^yes",
                  "farms^no"
                ]
              ],
              [
                [
                  "customers^Men",
                  "customers^Women"
                ]
              ]
            ],
            "png": "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",
            "rank_sets": [],
            "scale": 2.880434782608696,
            "show_link_info_html": false,
            "svg": "<?xml version=\"1.0\" standalone=\"no\"?><!DOCTYPE svg PUBLIC \"-//W3C//DTD SVG 1.1//EN\" \"http://www.w3.org/Graphics/SVG/1.1/DTD/svg11.dtd\"><svg xmlns=\"http://www.w3.org/2000/svg\" width=\"570\" height=\"300\" viewBox=\"0 0 570 300\" style=\"font-family: &quot;Helvetica Neue&quot;, Helvetica, Arial, sans-serif;\"><g class=\"sankey\" transform=\"translate(130,25)\"><g class=\"groups\"><g class=\"group\" transform=\"translate(0,26.5)\" style=\"display: none;\"><rect x=\"-10\" y=\"-20\" width=\"21\" height=\"242.00000000000003\" style=\"fill: rgb(238, 238, 238); stroke: rgb(187, 187, 187); stroke-width: 0.5;\"/><text x=\"-10\" y=\"-25\" style=\"fill: rgb(153, 153, 153);\"/></g><g class=\"group\" transform=\"translate(309,26.5)\" style=\"display: none;\"><rect x=\"-10\" y=\"-20\" width=\"21\" height=\"242\" style=\"fill: rgb(238, 238, 238); stroke: rgb(187, 187, 187); stroke-width: 0.5;\"/><text x=\"-10\" y=\"-25\" style=\"fill: rgb(153, 153, 153);\"/></g></g><g class=\"links\"><g class=\"link\" style=\"opacity: 0.8;\"><path d=\"M1,26.5 A0 0 0 0 0 1,26.5 L309,26.5 A0 0 0 0 0 309,26.5 L309,55.30434782608695 A0 0 0 0 0 309,55.30434782608695 L1,55.30434782608695 A0 0 0 0 0 1,55.30434782608695 Z\" style=\"fill: rgb(251, 180, 174);\"/><title>yes → Men\n*\n10.0</title><text class=\"label\" dy=\"0.35em\" x=\"5\" y=\"40.90217391304348\"/></g><g class=\"link\" style=\"opacity: 0.8;\"><path d=\"M1,206.81521739130437 A100.80225333518403 100.80225333518403 0.5618258264736977 0 0 54.7006114744039,191.32028264442047 L238.4198829170977,75.66974551151684 A132.48703594387968 132.48703594387968 0.5618258264736977 0 1 309,55.30434782608695 L309,86.98913043478261 A100.80225333518403 100.80225333518403 0.5618258264736977 0 0 255.2993885255961,102.48406518166648 L71.58011708290229,218.13460231457012 A132.48703594387968 132.48703594387968 0.5618258264736977 0 1 1,238.5 Z\" style=\"fill: rgb(251, 180, 174);\"/><title>no → Men\n*\n11.0</title><text class=\"label\" dy=\"0.35em\" x=\"5\" y=\"222.6576086956522\"/></g><g class=\"link\" style=\"opacity: 0.8;\"><path d=\"M1,55.30434782608696 A180.66469484670606 180.66469484670606 0.42517856208393834 0 1 75.52119701090461,71.38981202653147 L264.1820950592448,156.8151472678462 A108.65382528148868 108.65382528148868 0.42517856208393834 0 0 309,166.48913043478262 L309,238.5 A180.66469484670606 180.66469484670606 0.42517856208393834 0 1 234.47880298909539,222.4145357995555 L45.81790494075524,136.98920055824075 A108.65382528148868 108.65382528148868 0.42517856208393834 0 0 1,127.31521739130434 Z\" style=\"fill: rgb(251, 180, 174);\"/><title>yes → Women\n*\n25.0</title><text class=\"label\" dy=\"0.35em\" x=\"5\" y=\"91.30978260869566\"/></g></g><g class=\"nodes\"><g class=\"node\" transform=\"translate(0,26.5)\"><title>yes</title><line x1=\"0\" x2=\"0\" y1=\"0\" y2=\"100.81521739130436\" style=\"display: inline; stroke: rgb(0, 0, 0);\"/><rect class=\"node-body\" width=\"1\" height=\"100.81521739130436\" style=\"fill: none;\"/><text class=\"node-value\" dy=\".35em\" text-anchor=\"middle\" transform=\"translate(0.5,50.40760869565218) rotate(-90)\" style=\"display: none;\"/><text class=\"node-title\" dy=\".35em\" text-anchor=\"end\" transform=\"translate(-4,50.40760869565218)\" style=\"display: inline;\">yes</text><rect class=\"node-click-target\" x=\"-5\" y=\"-5\" width=\"10\" height=\"105.81521739130436\" style=\"fill: none; visibility: hidden; pointer-events: all;\"/></g><g class=\"node\" transform=\"translate(0,206.81521739130437)\"><title>no</title><line x1=\"0\" x2=\"0\" y1=\"0\" y2=\"31.684782608695656\" style=\"display: inline; stroke: rgb(0, 0, 0);\"/><rect class=\"node-body\" width=\"1\" height=\"31.684782608695656\" style=\"fill: none;\"/><text class=\"node-value\" dy=\".35em\" text-anchor=\"middle\" transform=\"translate(0.5,15.842391304347828) rotate(-90)\" style=\"display: none;\"/><text class=\"node-title\" dy=\".35em\" text-anchor=\"end\" transform=\"translate(-4,15.842391304347828)\" style=\"display: inline;\">no</text><rect class=\"node-click-target\" x=\"-5\" y=\"-5\" width=\"10\" height=\"36.684782608695656\" style=\"fill: none; visibility: hidden; pointer-events: all;\"/></g><g class=\"node\" transform=\"translate(309,26.5)\"><title>Men</title><line x1=\"0\" x2=\"0\" y1=\"0\" y2=\"60.48913043478261\" style=\"display: inline; stroke: rgb(0, 0, 0);\"/><rect class=\"node-body\" width=\"1\" height=\"60.48913043478261\" style=\"fill: none;\"/><text class=\"node-value\" dy=\".35em\" text-anchor=\"middle\" transform=\"translate(0.5,30.244565217391305) rotate(-90)\" style=\"display: none;\"/><text class=\"node-title\" dy=\".35em\" text-anchor=\"start\" transform=\"translate(5,30.244565217391305)\" style=\"display: inline;\">Men</text><rect class=\"node-click-target\" x=\"-5\" y=\"-5\" width=\"10\" height=\"65.48913043478261\" style=\"fill: none; visibility: hidden; pointer-events: all;\"/></g><g class=\"node\" transform=\"translate(309,166.48913043478262)\"><title>Women</title><line x1=\"0\" x2=\"0\" y1=\"0\" y2=\"72.01086956521738\" style=\"display: inline; stroke: rgb(0, 0, 0);\"/><rect class=\"node-body\" width=\"1\" height=\"72.01086956521738\" style=\"fill: none;\"/><text class=\"node-value\" dy=\".35em\" text-anchor=\"middle\" transform=\"translate(0.5,36.00543478260869) rotate(-90)\" style=\"display: none;\"/><text class=\"node-title\" dy=\".35em\" text-anchor=\"start\" transform=\"translate(5,36.00543478260869)\" style=\"display: inline;\">Women</text><rect class=\"node-click-target\" x=\"-5\" y=\"-5\" width=\"10\" height=\"77.01086956521738\" style=\"fill: none; visibility: hidden; pointer-events: all;\"/></g></g><g class=\"slice-titles\"/></g></svg>"
          }
        },
        "8aff444459f94e45bc0db481bb2cb69c": {
          "model_module": "@jupyter-widgets/base",
          "model_name": "LayoutModel",
          "model_module_version": "1.2.0",
          "state": {
            "_model_module": "@jupyter-widgets/base",
            "_model_module_version": "1.2.0",
            "_model_name": "LayoutModel",
            "_view_count": null,
            "_view_module": "@jupyter-widgets/base",
            "_view_module_version": "1.2.0",
            "_view_name": "LayoutView",
            "align_content": null,
            "align_items": null,
            "align_self": null,
            "border": null,
            "bottom": null,
            "display": null,
            "flex": null,
            "flex_flow": null,
            "grid_area": null,
            "grid_auto_columns": null,
            "grid_auto_flow": null,
            "grid_auto_rows": null,
            "grid_column": null,
            "grid_gap": null,
            "grid_row": null,
            "grid_template_areas": null,
            "grid_template_columns": null,
            "grid_template_rows": null,
            "height": "300",
            "justify_content": null,
            "justify_items": null,
            "left": null,
            "margin": null,
            "max_height": null,
            "max_width": null,
            "min_height": null,
            "min_width": null,
            "object_fit": null,
            "object_position": null,
            "order": null,
            "overflow": null,
            "overflow_x": null,
            "overflow_y": null,
            "padding": null,
            "right": null,
            "top": null,
            "visibility": null,
            "width": "570"
          }
        },
        "3c66ac78c699458ea27142016cf11177": {
          "model_module": "jupyter-sankey-widget",
          "model_name": "SankeyModel",
          "model_module_version": "^0.5.0",
          "state": {
            "_dom_classes": [],
            "_model_module": "jupyter-sankey-widget",
            "_model_module_version": "^0.5.0",
            "_model_name": "SankeyModel",
            "_view_count": null,
            "_view_module": "jupyter-sankey-widget",
            "_view_module_version": "^0.5.0",
            "_view_name": "SankeyView",
            "align_link_types": false,
            "groups": [
              {
                "id": "farms",
                "type": "process",
                "title": "",
                "nodes": [
                  "farms^farm1",
                  "farms^farm2",
                  "farms^farm3",
                  "farms^other"
                ]
              },
              {
                "id": "customers",
                "type": "process",
                "title": "",
                "nodes": [
                  "customers^James",
                  "customers^Mary",
                  "customers^Fred",
                  "customers^Susan"
                ]
              }
            ],
            "layout": "IPY_MODEL_f2c30541f0af44d0919422931a497622",
            "linkLabelFormat": "",
            "linkLabelMinWidth": 5,
            "links": [
              {
                "source": "farms^farm1",
                "target": "customers^James",
                "type": "*",
                "time": "*",
                "value": 3,
                "title": "*",
                "color": "#FBB4AE",
                "opacity": 1,
                "data": {
                  "value": 3
                }
              },
              {
                "source": "farms^farm1",
                "target": "customers^Mary",
                "type": "*",
                "time": "*",
                "value": 5,
                "title": "*",
                "color": "#FBB4AE",
                "opacity": 1,
                "data": {
                  "value": 5
                }
              },
              {
                "source": "farms^farm2",
                "target": "customers^Fred",
                "type": "*",
                "time": "*",
                "value": 20,
                "title": "*",
                "color": "#FBB4AE",
                "opacity": 1,
                "data": {
                  "value": 20
                }
              },
              {
                "source": "farms^farm2",
                "target": "customers^Susan",
                "type": "*",
                "time": "*",
                "value": 5,
                "title": "*",
                "color": "#FBB4AE",
                "opacity": 1,
                "data": {
                  "value": 5
                }
              },
              {
                "source": "farms^farm3",
                "target": "customers^Susan",
                "type": "*",
                "time": "*",
                "value": 10,
                "title": "*",
                "color": "#FBB4AE",
                "opacity": 1,
                "data": {
                  "value": 10
                }
              },
              {
                "source": "farms^other",
                "target": "customers^Susan",
                "type": "*",
                "time": "*",
                "value": 3,
                "title": "*",
                "color": "#FBB4AE",
                "opacity": 1,
                "data": {
                  "value": 3
                }
              }
            ],
            "margins": {
              "top": 25,
              "bottom": 10,
              "left": 130,
              "right": 130
            },
            "node_position_attr": null,
            "nodes": [
              {
                "id": "farms^farm1",
                "title": "farm1",
                "direction": "r",
                "hidden": false,
                "type": "process",
                "fromElsewhere": [],
                "toElsewhere": []
              },
              {
                "id": "farms^farm2",
                "title": "farm2",
                "direction": "r",
                "hidden": false,
                "type": "process",
                "fromElsewhere": [],
                "toElsewhere": []
              },
              {
                "id": "farms^farm3",
                "title": "farm3",
                "direction": "r",
                "hidden": false,
                "type": "process",
                "fromElsewhere": [],
                "toElsewhere": []
              },
              {
                "id": "farms^other",
                "title": "other",
                "direction": "r",
                "hidden": false,
                "type": "process",
                "fromElsewhere": [],
                "toElsewhere": []
              },
              {
                "id": "customers^James",
                "title": "James",
                "direction": "r",
                "hidden": false,
                "type": "process",
                "fromElsewhere": [],
                "toElsewhere": []
              },
              {
                "id": "customers^Mary",
                "title": "Mary",
                "direction": "r",
                "hidden": false,
                "type": "process",
                "fromElsewhere": [],
                "toElsewhere": []
              },
              {
                "id": "customers^Fred",
                "title": "Fred",
                "direction": "r",
                "hidden": false,
                "type": "process",
                "fromElsewhere": [],
                "toElsewhere": []
              },
              {
                "id": "customers^Susan",
                "title": "Susan",
                "direction": "r",
                "hidden": false,
                "type": "process",
                "fromElsewhere": [],
                "toElsewhere": []
              }
            ],
            "order": [
              [
                [
                  "farms^farm1",
                  "farms^farm2",
                  "farms^farm3",
                  "farms^other"
                ]
              ],
              [
                [
                  "customers^James",
                  "customers^Mary",
                  "customers^Fred",
                  "customers^Susan"
                ]
              ]
            ],
            "png": "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",
            "rank_sets": [],
            "scale": 2.880434782608696,
            "show_link_info_html": false,
            "svg": "<?xml version=\"1.0\" standalone=\"no\"?><!DOCTYPE svg PUBLIC \"-//W3C//DTD SVG 1.1//EN\" \"http://www.w3.org/Graphics/SVG/1.1/DTD/svg11.dtd\"><svg xmlns=\"http://www.w3.org/2000/svg\" width=\"570\" height=\"300\" viewBox=\"0 0 570 300\" style=\"font-family: &quot;Helvetica Neue&quot;, Helvetica, Arial, sans-serif;\"><g class=\"sankey\" transform=\"translate(130,25)\"><g class=\"groups\"><g class=\"group\" transform=\"translate(0,26.5)\" style=\"display: none;\"><rect x=\"-10\" y=\"-20\" width=\"21\" height=\"241.99999999999997\" style=\"fill: rgb(238, 238, 238); stroke: rgb(187, 187, 187); stroke-width: 0.5;\"/><text x=\"-10\" y=\"-25\" style=\"fill: rgb(153, 153, 153);\"/></g><g class=\"group\" transform=\"translate(309,26.5)\" style=\"display: none;\"><rect x=\"-10\" y=\"-20\" width=\"21\" height=\"242\" style=\"fill: rgb(238, 238, 238); stroke: rgb(187, 187, 187); stroke-width: 0.5;\"/><text x=\"-10\" y=\"-25\" style=\"fill: rgb(153, 153, 153);\"/></g></g><g class=\"links\"><g class=\"link\" style=\"opacity: 0.8;\"><path d=\"M1,26.5 A0 0 0 0 0 1,26.5 L309,26.5 A0 0 0 0 0 309,26.5 L309,35.141304347826086 A0 0 0 0 0 309,35.141304347826086 L1,35.141304347826086 A0 0 0 0 0 1,35.141304347826086 Z\" style=\"fill: rgb(251, 180, 174);\"/><title>farm1 → James\n*\n3.00</title><text class=\"label\" dy=\"0.35em\" x=\"5\" y=\"30.820652173913043\"/></g><g class=\"link\" style=\"opacity: 0.8;\"><path d=\"M1,229.85869565217388 A0 0 0 0 1 1,229.85869565217388 L309,229.8586956521739 A0 0 0 0 0 309,229.8586956521739 L309,238.49999999999997 A0 0 0 0 1 309,238.49999999999997 L1,238.49999999999994 A0 0 0 0 0 1,238.49999999999994 Z\" style=\"fill: rgb(251, 180, 174);\"/><title>other → Susan\n*\n3.00</title><text class=\"label\" dy=\"0.35em\" x=\"5\" y=\"234.1793478260869\"/></g><g class=\"link\" style=\"opacity: 0.8;\"><path d=\"M1,35.141304347826086 A548.1421246923708 548.1421246923708 0.10516279089720904 0 1 58.53796454885263,38.16952213830768 L252.9738181343341,58.692651541133266 A533.7399507793273 533.7399507793273 0.10516279089720904 0 0 309,61.641304347826086 L309,76.04347826086956 A548.1421246923708 548.1421246923708 0.10516279089720904 0 1 251.4620354511474,73.01526047038797 L57.026181865665905,52.49213106756239 A533.7399507793273 533.7399507793273 0.10516279089720904 0 0 1,49.54347826086957 Z\" style=\"fill: rgb(251, 180, 174);\"/><title>farm1 → Mary\n*\n5.00</title><text class=\"label\" dy=\"0.35em\" x=\"5\" y=\"42.34239130434783\"/></g><g class=\"link\" style=\"opacity: 0.8;\"><path d=\"M1,133.65217391304347 A283.63410582444624 283.63410582444624 0.20886468334819597 0 1 59.811359096658734,139.8164074485563 L253.17492289263342,180.80094350936847 A269.23193191140274 269.23193191140274 0.20886468334819597 0 0 309,186.65217391304347 L309,201.05434782608697 A283.63410582444624 283.63410582444624 0.20886468334819597 0 1 250.18864090334128,194.89011429057413 L56.82507710736657,153.90557822976197 A269.23193191140274 269.23193191140274 0.20886468334819597 0 0 1,148.05434782608697 Z\" style=\"fill: rgb(251, 180, 174);\"/><title>farm2 → Susan\n*\n5.00</title><text class=\"label\" dy=\"0.35em\" x=\"5\" y=\"140.85326086956522\"/></g><g class=\"link\" style=\"opacity: 0.8;\"><path d=\"M1,174.55434782608694 A555.3432116488925 555.3432116488925 0.10516279089720904 0 1 59.293855890446,177.62234810846292 L253.72970947592748,198.1454775112885 A526.5388638228055 526.5388638228055 0.10516279089720904 0 0 309,201.05434782608694 L309,229.85869565217388 A555.3432116488925 555.3432116488925 0.10516279089720904 0 1 250.706144109554,226.7906953697979 L56.270290524072536,206.2675659669723 A526.5388638228055 526.5388638228055 0.10516279089720904 0 0 1,203.35869565217388 Z\" style=\"fill: rgb(251, 180, 174);\"/><title>farm3 → Susan\n*\n10.0</title><text class=\"label\" dy=\"0.35em\" x=\"5\" y=\"188.9565217391304\"/></g><g class=\"link\" style=\"opacity: 0.8;\"><path d=\"M1,76.04347826086956 A569.7453855619358 569.7453855619358 0.10516279089720904 0 1 60.8056385736327,79.1910435270343 L255.2414921591142,99.7141729298599 A512.1366899097618 512.1366899097618 0.10516279089720904 0 0 309,102.54347826086958 L309,160.1521739130435 A569.7453855619358 569.7453855619358 0.10516279089720904 0 1 249.1943614263673,157.00460864687875 L54.75850784088579,136.48147924405316 A512.1366899097618 512.1366899097618 0.10516279089720904 0 0 1,133.65217391304347 Z\" style=\"fill: rgb(251, 180, 174);\"/><title>farm2 → Fred\n*\n20.0</title><text class=\"label\" dy=\"0.35em\" x=\"5\" y=\"104.84782608695652\"/></g></g><g class=\"nodes\"><g class=\"node\" transform=\"translate(0,26.5)\"><title>farm1</title><line x1=\"0\" x2=\"0\" y1=\"0\" y2=\"23.043478260869563\" style=\"display: inline; stroke: rgb(0, 0, 0);\"/><rect class=\"node-body\" width=\"1\" height=\"23.043478260869563\" style=\"fill: none;\"/><text class=\"node-value\" dy=\".35em\" text-anchor=\"middle\" transform=\"translate(0.5,11.521739130434781) rotate(-90)\" style=\"display: none;\"/><text class=\"node-title\" dy=\".35em\" text-anchor=\"end\" transform=\"translate(-4,11.521739130434781)\" style=\"display: inline;\">farm1</text><rect class=\"node-click-target\" x=\"-5\" y=\"-5\" width=\"10\" height=\"28.043478260869563\" style=\"fill: none; visibility: hidden; pointer-events: all;\"/></g><g class=\"node\" transform=\"translate(0,76.04347826086956)\"><title>farm2</title><line x1=\"0\" x2=\"0\" y1=\"0\" y2=\"72.01086956521738\" style=\"display: inline; stroke: rgb(0, 0, 0);\"/><rect class=\"node-body\" width=\"1\" height=\"72.01086956521738\" style=\"fill: none;\"/><text class=\"node-value\" dy=\".35em\" text-anchor=\"middle\" transform=\"translate(0.5,36.00543478260869) rotate(-90)\" style=\"display: none;\"/><text class=\"node-title\" dy=\".35em\" text-anchor=\"end\" transform=\"translate(-4,36.00543478260869)\" style=\"display: inline;\">farm2</text><rect class=\"node-click-target\" x=\"-5\" y=\"-5\" width=\"10\" height=\"77.01086956521738\" style=\"fill: none; visibility: hidden; pointer-events: all;\"/></g><g class=\"node\" transform=\"translate(0,174.55434782608694)\"><title>farm3</title><line x1=\"0\" x2=\"0\" y1=\"0\" y2=\"28.804347826086968\" style=\"display: inline; stroke: rgb(0, 0, 0);\"/><rect class=\"node-body\" width=\"1\" height=\"28.804347826086968\" style=\"fill: none;\"/><text class=\"node-value\" dy=\".35em\" text-anchor=\"middle\" transform=\"translate(0.5,14.402173913043484) rotate(-90)\" style=\"display: none;\"/><text class=\"node-title\" dy=\".35em\" text-anchor=\"end\" transform=\"translate(-4,14.402173913043484)\" style=\"display: inline;\">farm3</text><rect class=\"node-click-target\" x=\"-5\" y=\"-5\" width=\"10\" height=\"33.80434782608697\" style=\"fill: none; visibility: hidden; pointer-events: all;\"/></g><g class=\"node\" transform=\"translate(0,229.85869565217388)\"><title>other</title><line x1=\"0\" x2=\"0\" y1=\"0\" y2=\"8.641304347826093\" style=\"display: inline; stroke: rgb(0, 0, 0);\"/><rect class=\"node-body\" width=\"1\" height=\"8.641304347826093\" style=\"fill: none;\"/><text class=\"node-value\" dy=\".35em\" text-anchor=\"middle\" transform=\"translate(0.5,4.320652173913047) rotate(-90)\" style=\"display: none;\"/><text class=\"node-title\" dy=\".35em\" text-anchor=\"end\" transform=\"translate(-4,4.320652173913047)\" style=\"display: inline;\">other</text><rect class=\"node-click-target\" x=\"-5\" y=\"-5\" width=\"10\" height=\"13.641304347826093\" style=\"fill: none; visibility: hidden; pointer-events: all;\"/></g><g class=\"node\" transform=\"translate(309,26.5)\"><title>James</title><line x1=\"0\" x2=\"0\" y1=\"0\" y2=\"8.641304347826086\" style=\"display: inline; stroke: rgb(0, 0, 0);\"/><rect class=\"node-body\" width=\"1\" height=\"8.641304347826086\" style=\"fill: none;\"/><text class=\"node-value\" dy=\".35em\" text-anchor=\"middle\" transform=\"translate(0.5,4.320652173913043) rotate(-90)\" style=\"display: none;\"/><text class=\"node-title\" dy=\".35em\" text-anchor=\"start\" transform=\"translate(5,4.320652173913043)\" style=\"display: inline;\">James</text><rect class=\"node-click-target\" x=\"-5\" y=\"-5\" width=\"10\" height=\"13.641304347826086\" style=\"fill: none; visibility: hidden; pointer-events: all;\"/></g><g class=\"node\" transform=\"translate(309,61.641304347826086)\"><title>Mary</title><line x1=\"0\" x2=\"0\" y1=\"0\" y2=\"14.402173913043477\" style=\"display: inline; stroke: rgb(0, 0, 0);\"/><rect class=\"node-body\" width=\"1\" height=\"14.402173913043477\" style=\"fill: none;\"/><text class=\"node-value\" dy=\".35em\" text-anchor=\"middle\" transform=\"translate(0.5,7.201086956521738) rotate(-90)\" style=\"display: none;\"/><text class=\"node-title\" dy=\".35em\" text-anchor=\"start\" transform=\"translate(5,7.201086956521738)\" style=\"display: inline;\">Mary</text><rect class=\"node-click-target\" x=\"-5\" y=\"-5\" width=\"10\" height=\"19.402173913043477\" style=\"fill: none; visibility: hidden; pointer-events: all;\"/></g><g class=\"node\" transform=\"translate(309,102.54347826086956)\"><title>Fred</title><line x1=\"0\" x2=\"0\" y1=\"0\" y2=\"57.60869565217391\" style=\"display: inline; stroke: rgb(0, 0, 0);\"/><rect class=\"node-body\" width=\"1\" height=\"57.60869565217391\" style=\"fill: none;\"/><text class=\"node-value\" dy=\".35em\" text-anchor=\"middle\" transform=\"translate(0.5,28.804347826086953) rotate(-90)\" style=\"display: none;\"/><text class=\"node-title\" dy=\".35em\" text-anchor=\"start\" transform=\"translate(5,28.804347826086953)\" style=\"display: inline;\">Fred</text><rect class=\"node-click-target\" x=\"-5\" y=\"-5\" width=\"10\" height=\"62.60869565217391\" style=\"fill: none; visibility: hidden; pointer-events: all;\"/></g><g class=\"node\" transform=\"translate(309,186.65217391304347)\"><title>Susan</title><line x1=\"0\" x2=\"0\" y1=\"0\" y2=\"51.84782608695653\" style=\"display: inline; stroke: rgb(0, 0, 0);\"/><rect class=\"node-body\" width=\"1\" height=\"51.84782608695653\" style=\"fill: none;\"/><text class=\"node-value\" dy=\".35em\" text-anchor=\"middle\" transform=\"translate(0.5,25.923913043478265) rotate(-90)\" style=\"display: none;\"/><text class=\"node-title\" dy=\".35em\" text-anchor=\"start\" transform=\"translate(5,25.923913043478265)\" style=\"display: inline;\">Susan</text><rect class=\"node-click-target\" x=\"-5\" y=\"-5\" width=\"10\" height=\"56.84782608695653\" style=\"fill: none; visibility: hidden; pointer-events: all;\"/></g></g><g class=\"slice-titles\"/></g></svg>"
          }
        },
        "f2c30541f0af44d0919422931a497622": {
          "model_module": "@jupyter-widgets/base",
          "model_name": "LayoutModel",
          "model_module_version": "1.2.0",
          "state": {
            "_model_module": "@jupyter-widgets/base",
            "_model_module_version": "1.2.0",
            "_model_name": "LayoutModel",
            "_view_count": null,
            "_view_module": "@jupyter-widgets/base",
            "_view_module_version": "1.2.0",
            "_view_name": "LayoutView",
            "align_content": null,
            "align_items": null,
            "align_self": null,
            "border": null,
            "bottom": null,
            "display": null,
            "flex": null,
            "flex_flow": null,
            "grid_area": null,
            "grid_auto_columns": null,
            "grid_auto_flow": null,
            "grid_auto_rows": null,
            "grid_column": null,
            "grid_gap": null,
            "grid_row": null,
            "grid_template_areas": null,
            "grid_template_columns": null,
            "grid_template_rows": null,
            "height": "300",
            "justify_content": null,
            "justify_items": null,
            "left": null,
            "margin": null,
            "max_height": null,
            "max_width": null,
            "min_height": null,
            "min_width": null,
            "object_fit": null,
            "object_position": null,
            "order": null,
            "overflow": null,
            "overflow_x": null,
            "overflow_y": null,
            "padding": null,
            "right": null,
            "top": null,
            "visibility": null,
            "width": "570"
          }
        },
        "6b13a68e78cb40ee96deb1b94529eb03": {
          "model_module": "jupyter-sankey-widget",
          "model_name": "SankeyModel",
          "model_module_version": "^0.5.0",
          "state": {
            "_dom_classes": [],
            "_model_module": "jupyter-sankey-widget",
            "_model_module_version": "^0.5.0",
            "_model_name": "SankeyModel",
            "_view_count": null,
            "_view_module": "jupyter-sankey-widget",
            "_view_module_version": "^0.5.0",
            "_view_name": "SankeyView",
            "align_link_types": false,
            "groups": [
              {
                "id": "farms",
                "type": "process",
                "title": "",
                "nodes": [
                  "farms^farm1",
                  "farms^farm3",
                  "farms^other"
                ]
              },
              {
                "id": "customers",
                "type": "process",
                "title": "",
                "nodes": [
                  "customers^James",
                  "customers^Mary",
                  "customers^Fred",
                  "customers^Susan"
                ]
              }
            ],
            "layout": "IPY_MODEL_98a0d664a8bd45c9ae6971ca865a5088",
            "linkLabelFormat": "",
            "linkLabelMinWidth": 5,
            "links": [
              {
                "source": "__>customers^*",
                "target": "customers^Fred",
                "type": "*",
                "time": "*",
                "value": 20,
                "title": "*",
                "color": "#FBB4AE",
                "opacity": 1,
                "data": {
                  "value": 20
                }
              },
              {
                "source": "__>customers^*",
                "target": "customers^Susan",
                "type": "*",
                "time": "*",
                "value": 5,
                "title": "*",
                "color": "#FBB4AE",
                "opacity": 1,
                "data": {
                  "value": 5
                }
              },
              {
                "source": "farms^farm1",
                "target": "customers^James",
                "type": "*",
                "time": "*",
                "value": 3,
                "title": "*",
                "color": "#FBB4AE",
                "opacity": 1,
                "data": {
                  "value": 3
                }
              },
              {
                "source": "farms^farm1",
                "target": "customers^Mary",
                "type": "*",
                "time": "*",
                "value": 5,
                "title": "*",
                "color": "#FBB4AE",
                "opacity": 1,
                "data": {
                  "value": 5
                }
              },
              {
                "source": "farms^farm3",
                "target": "customers^Susan",
                "type": "*",
                "time": "*",
                "value": 10,
                "title": "*",
                "color": "#FBB4AE",
                "opacity": 1,
                "data": {
                  "value": 10
                }
              },
              {
                "source": "farms^other",
                "target": "customers^Susan",
                "type": "*",
                "time": "*",
                "value": 3,
                "title": "*",
                "color": "#FBB4AE",
                "opacity": 1,
                "data": {
                  "value": 3
                }
              }
            ],
            "margins": {
              "top": 25,
              "bottom": 10,
              "left": 130,
              "right": 130
            },
            "node_position_attr": null,
            "nodes": [
              {
                "id": "__>customers^*",
                "title": "→",
                "direction": "r",
                "hidden": false,
                "type": "group",
                "fromElsewhere": [],
                "toElsewhere": []
              },
              {
                "id": "farms^farm1",
                "title": "farm1",
                "direction": "r",
                "hidden": false,
                "type": "process",
                "fromElsewhere": [],
                "toElsewhere": []
              },
              {
                "id": "farms^farm3",
                "title": "farm3",
                "direction": "r",
                "hidden": false,
                "type": "process",
                "fromElsewhere": [],
                "toElsewhere": []
              },
              {
                "id": "farms^other",
                "title": "other",
                "direction": "r",
                "hidden": false,
                "type": "process",
                "fromElsewhere": [],
                "toElsewhere": []
              },
              {
                "id": "customers^James",
                "title": "James",
                "direction": "r",
                "hidden": false,
                "type": "process",
                "fromElsewhere": [],
                "toElsewhere": []
              },
              {
                "id": "customers^Mary",
                "title": "Mary",
                "direction": "r",
                "hidden": false,
                "type": "process",
                "fromElsewhere": [],
                "toElsewhere": []
              },
              {
                "id": "customers^Fred",
                "title": "Fred",
                "direction": "r",
                "hidden": false,
                "type": "process",
                "fromElsewhere": [],
                "toElsewhere": []
              },
              {
                "id": "customers^Susan",
                "title": "Susan",
                "direction": "r",
                "hidden": false,
                "type": "process",
                "fromElsewhere": [],
                "toElsewhere": []
              }
            ],
            "order": [
              [
                [
                  "__>customers^*",
                  "farms^farm1",
                  "farms^farm3",
                  "farms^other"
                ]
              ],
              [
                [
                  "customers^James",
                  "customers^Mary",
                  "customers^Fred",
                  "customers^Susan"
                ]
              ]
            ],
            "png": "iVBORw0KGgoAAAANSUhEUgAAAjoAAAEsCAYAAADKLxnbAAAAAXNSR0IArs4c6QAAIABJREFUeF7tnQeYJUd5rr/ZBRGECCYZkUwSXDIsGDAGRDSYJYhoG3NNsEXGIBA5X4PBICSRjGFBMsg2BqMVyxIuGKyHjAGTLTIWOUcjg8TOuL/ZatF7dM6c7tNd3dXVbz8PSJrprq56/5oz7/z1V/eaOCAAAQhAAAIQgECmBNYyHRfDggAEIAABCEAAAkJ0mAQQgAAEIAABCGRLANHJNrQMDAIQgAAEIAABRIc5AAEIQAACEIBAtgQQnWxDy8AgAAEIQAACEEB0mAMQgAAEIAABCGRLANHJNrQMDAIQgAAEIAABRIc5AAEIQAACEIBAtgQQnWxDy8AgAAEIQAACEEB0mAMQgAAEIAABCGRLANHJNrQMDAIQgAAEIAABRIc5AAEIQAACEIBAtgQQnWxDy8AgAAEIQAACEEB0mAMQgAAEIAABCGRLANHJNrQMDAIQgAAEIAABRIc5AAEIQAACEIBAtgQQnWxDy8AgAAEIQAACEEB0mAMQgAAEIAABCGRLANHJNrQMDAIQgAAEIAABRIc5AAEIQAACEIBAtgQQnWxDy8AgAAEIQAACEEB0mAMQgAAEIAABCGRLANHJNrQMDAIQgAAEIAABRIc5AAEIQAACEIBAtgQQnWxDy8AgAAEIQAACEEB0mAMQgAAEIAABCGRLANHJNrQMDAIQgAAEIAABRIc5AAEIQAACEIBAtgQQnWxDy8AgAAEIQAACEEB0mAMQgAAEIAABCGRLANHJNrQMDAIQgAAEIAABRIc5AAEIQAACEIBAtgQQnWxDy8AgAAEIQAACEEB0mAMQgAAEIAABCGRLANHJNrQMDAIQgAAEIAABRIc5AAEIQAACEIBAtgQQnWxDy8AgAAEIQAACEEB0mAMQgAAEIAABCGRLANHJNrQMDAIQgAAEIAABRIc5AAEIQAACEIBAtgQQnWxDy8AgAAEIQAACEEB0mAMQgAAEIAABCGRLANHJNrQMDAIQgAAEIAABRIc5AAEIQAACEIBAtgQQnWxDy8AgAAEIQAACEEB0mAMQgAAEIAABCGRLANHJNrQMDAIQgAAEIAABRIc5AAEIQAACEIBAtgQQnWxDy8AgAAEIQKAGgacX5zxD0hUlfbXG+ZwyMgKIzsgCRnchAAEIQKBTAs+W9CRJV5L0lU5bprEkCCA6SYRh8E4c7h7s27v7sGpP9kkfm9ezg3YeMffrg4+CDkAAApMhcObe3TvmDXa7tOOoXScccvwpe/w5dWoNIIhODUhjPgXRGXP0uuu707Y6a+/JO9s2uaaNTQla07azZcjChBy1Jcv1EMibQCkuFpUNrR8gMRtamys1i4gcvevEQ487Zc8riu9vfrYtOWZF51ySHifpgWE56+eS3ibpYZJ+IOkCkt4p6XmSbi3pXqH9l0p6oaTjKl97g6RHFO2dEc65tKS/kXSbIot0pqQ3Fx+9T5b04/D9q0h6vqRbSTpE0keKj9NnSnrLskHw/cUEEB1mhwl0Jjp1cCJDdShxDgTyIzBPZppKTB0qLUXnaUEuLDPOCFk+7ifpVZL+XNKFJP0k9ONTkt4o6XaF/Ny0+P43JB0k6cTi69eSdAdJT5T0XEmXkPQlSf8j6e8kXaQQp4cHmbl5cd6vJH0ttG9Z8n8/WNJlJDnb/sU6Y+eccxJAdJgVvYvOMuQWoTIjRDZoGS2+D4H0CJRCs03rR7p3MWRmq1G3FJ3PS3JW56qSfh3u876QYblORXS+IOl6IVtz0ZDt8enO+PxC0rmLbM4PQzbo3sV1xxaC9ChJVyjE6b9Cu3eStEfSPSV9qMgifb24zzGSHhu+f3VJ/xaEyNkhjhUIIDorQMvwkl4zOqvyqwrQ9p1HOC3NAQEIJECgKjZ9S8284bcUHUuLsylnSbpyISo3CstRlpBrVETnKYXMeNmrPDaK80+SdN/K1z4ZdnLdVZIF6qeh8LnabWeOXluc92dFBuc7IfNjKdpbZIQ+HKQpgSiPtwuIznhj12XPRyE68wZM9qfLaUBbEKhHwGJT1tKkIDazvd5CdM4XlpYsHOUxW6PjLI2/5mUnH67R8TErOkeFLE3Zzs+KZaZdkvz18ihF5whJ61vQfXeo97lmsaR1fKjRKU+3BP1lpY6nXpA462wCiA6TwQRGKzrL5IfMDxMcAu0JpC42DUTHWZI7bu6X+M3h+pnHhyWl74WsikXI9TH/XhQhf1/S60M2p5rRaSI6zuhYlCw+Xr6aPX4Z6nvKrzur5JofL/25v2V9UPtgTrAFRGeCQZ8z5KxEZ3Z8ZdaHeh8mOwTqE7DcuMYmxYzNslFskdGxMDygKAa+VBAaN/WukEG5WFFE/DuSPhpqYryLyoeLi0+TZBlpIzqWpVuEnVyu4fHhfrjg2UtVnyhk6+/Dbi/XBPnYXsjOt4IENdp5tozRlL6P6Ewp2ovHmrXozA57m9Y263vI9jD5IXAggTHLTXUkW4iOd0+dUAiLC3v/VtIti0eIPVWSd0+50Phykk6X9P6wW+pgSY8My1hewnKWxTujvOuqaUbnhiFD5Lb/OhQ8u21//fKh/z+S5CLnoyV9U9KNJb2kqNt5WdjezpRdgQCiswK0DC+ZlOggPhnOYIa0MoGU5aZ8FEV1cNVndJVfn/dw04N2HuHn0Mw+MNAZEkvD5m6wcFgsvOvJsuPD4vOsyvdfF7I8LwhLWN5i7nocS8qLK+f5a68sanoeU/latRjZX/Yy1MvDlnH/t2tz3K6f0+PDz9fx1nO/jqI8vH3d9yy3tK8c66leiOhMNfIHjnvSonPgh+j+re0sc/GDkTOBlOSm+lytUlh6eMCol6mcRfEDAF07M1so7EzOJUNWxTuwfBwatouX/91mivj++xYUGPv3sp+5423q3y22mv93mxtx7YEFWfCYLgFEZ0HsWeaa7g9FbiMfUm4GkpncQsh4ViRARmdFcJldhujUCCjSUwMSpyRFYKjdUmwASGoaTL4ziM7kp8AmAESn4Tzgg7whME7vlUDf2Rv/PKxr22aRfw/LTr2y5GbjJ4DojD+GXYwA0WlJkWxPS4Bc3ppAX9mbchkKsWkdMhroiQCi0xPoxG+D6HQYIKSnQ5g0tZRAH9kbMjZLw8AJCRNAdBIOTo9dQ3QiwS6XuHhmTyTAE222j+xNKTcsRU10kmU0bEQno2C2GAqi0wJe3Uup66lLivMWEYidvSFzw9zLkQCik2NUm48J0WnOrPUVLHG1RjiJBmJnb5CbSUyjSQ8S0Zl0+M8ePKIz8DxAegYOQIK3j5m9qRYUszSVYPDpUqcEEJ1OcY62MUQnodBR15NQMHruSl/ZG+Sm58Byu0EJIDqD4k/m5ohOMqE4Z0ec7eGVFAkHqIOuxc7eeCs4ctNBoGhilAQQnVGGrfNOIzqdI43TIEtccbgO0SrZmyGoc88pEkB0phj1c44Z0RnhPEB6Rhg0SWRvxhk3ej1eAojOeGPXZc8RnS5pDtAWW9cHgN7glqXc+JINre1ocGmtU3nmTS1MnDRRAojORAM/M2xEJ7N5QLYnjYCSvUkjDvRi2gQQnWnHvxw9opPxPEB6+g1uTLnxSMje9BtP7jZ+AojO+GPYxQgQnS4ojqANpCdekGIKDnITL260nD8BRCf/GNcZIaJTh1Jm51DX0z6gMeWG7E37+NACBPb/HHFAQEJ0mAUi21N/EsQUHLI39ePAmRCoQwDRqUMp/3MQnfxj3GiESM85ccWUG7I3jaYnJ0OgEQFEpxGubE9GdLINbfuBTf2VFDEFh+xN+/lJCxBYRgDRWUZoGt9HdKYR505GOYVXUsSUG7I3nUxDGoFAbQKITm1UWZ+I6GQd3niDy22JK6bgkL2JNw9pGQJbEUB0pjE/fkfSryR9e8FwEZ1pzIOooxyr9MSUG7I3UaccjUOgFgFEpxam0Z90Q0knS/p9SafPGQ2iM/oQpzWAMWxdjyk4ZG/6mY+O4bw7HbTziEMkndpPL7hL6gQQndQj1F3/XiPplpLuKOlTM80iOt1xpqU5BFKp64kpN2RvVpv6VVnZLm2Ky4bWzxaYVd4NdvSuEw897pQ9ryja2vxsmzk+KOnGkl4u6SELev3Pku4l6W2S/nC1kXFVKgQQnVQi0bwfdy+Woh7U4LJLFlmda4fz7yzpzZVrEZ0GIDm1HYEhlrhiCg7Zm8XzYVZi2gpM3Zm3RHT+XZKz3D+X5M/F/5lp9yKSfhS+9v8l3b7ufTkvTQKITppxqdOrQyVdsc6J4ZzbFH8oPV3SqyQ9VtJPEJ0G9Dg1CoGY0hNTbgwDwfnNlCiFxhmZUmZWycR0Nclqio5v5z8YvaxfPR4oaRei01U0hm8H0Rk+Bn304DxhuervJL1wzg3J6PQRBe6xJYGu6npiCg5yI5VSs03rRzqgQwrNoglVQ3R86cGSvijprjPtvE/SuqRLh++XGZ2LS/qrcP4lJH0v/OH4VEn7igzRYyRdP/xB+RxJvxs2gOyV9OzKPc4v6R2Sdks6ho+F+AQQnfiMU7jDHSRdVdJxCzqD6KQQJfpwAIEm2Z6YcjPl7I25ppKlafLjUVN0XhdEwwLzg9C+s+RflvQASU+ZEZ33SLqZpNcWmaBPS7pT+O/7SjpJ0otDXY/bumxRB/R2Sc68u2Tgt4r2fh3u4dKBN0n6gyA8TYbGuSsQQHRWgJbhJYhOhkHNaUiLpCem4Ewxe1MVmxQzNXXndE3RuZukr0t6sCRnu308KWRfLCYfrYiOa3m+U4iLC5zL2khnZn5RZIaeL+lxQXQeLumdQXhcHnA/SSdIcunAu8I9vDHEkuOMUSk/dYfGeSsQQHRWgJbhJYhOhkHNdUhr0mkb2jhYWrtcjDFOSXByEZvZeVBTdLy05CUkb0W/SXjJ9ZeC4Nw7ZHa8tOWlq3MVGfELhwJmlwI4Q76zWOJ6mqRjJR1VEZ3rVHa2uu2fVXZ4nTcUPz+3eLbZE2PMX9o8JwFEh1lhAogO82AMBPwXtJcZ/M/yOGNDG2esac1/WZ+x6iCmIje5ik0L0fnTsBR1lUJULlpIzYcklbtSvYRVio5vcY+iFsf1OOXu1a+EDSGzonPumUyNC5u9Vf1ikm5d1O68VdK1ivY+s+p85bpmBBCdZrxyPRvRyTWy4x/XPLlZOKoNbWzWWqxp7ft1hp674FQLh8e8FFUnltVzGmR0LijppyEzYxG5f5BpP0m+KjrO/ny4yPx4u7k/Lz8bsjvO1lhkyozOnxUbPtxm9bhpsXTlAmfXSlqWrlc83mPugw6bjpPz6xFAdOpxyv0sRCf3CI9vfI0EZ97wFknPFOQm5R1RfUzFBqLj7vxDqKE5n6S/l/SI0Meq6DwqLFFdV9Inw/evJMlLXd7k8eiwdDVPdPx71uc5W+QC5idIelkfHLjHfgKIDjPBBBAd5kEKBFrLzRaD8LLW9ze0dt+Ddh7xsRQG21Ufppq12YpfQ9FxpsXLST6cffnAHNH5Y0n/GIqRXy3J7w98VvG1wyS9u1jiuo+kJ0uaJzpuzs8uc9GyD29Nr5Vx7GqOTL0dRGfqM2D/+BEd5sGQBKILzmz9TiqvpFgVernbzNdPaUmqLq8aouPn3rgA2Ydran4Y5OPKm0j3H87ofD68AsJFxN6OfpdKH7z9/OqS/iS8SuIaW4iOt5l/Mzw7x7u9OHokgOj0CDvhWyE6CQcn067FlBsj28zg1ClQbvK8niFjEXMr/ZDjinHvJaLT5pYuWL6ApG+EhwRuC9vELTF+yOCi4wbFewY/EkRpT5sOcG1zAohOc2Y5XoHo5BjVNMcUU3Bqy80iNClJz1R2SMWYphFFp2l3/TwevzvrpaEI2Q8SPLNpI5zfjgCi045fLlcjOrlEMs1xxJSbRtmbJni6eiVFk3uStdlPy+z3/3PbOeqp9klb1lglVoPlXVyu6fEx771aTaYH565IANFZEVxmlyE6mQU0keHEFJzW2ZumjGJke6ZWSFwKTFViSnFJTFCaTo9F53vLundqud7nq101SjvNCCA6zXjlejaik2tk+x9XTLmJlr1piqmN9EyhkLgUmnVt8ysTlKnENJ02nD8QAURnIPCJ3RbRSSwgI+xOTMHpPXvThP8y6ck5a1NdYso8M9NkSnBuYgQQncQCMlB3EJ2BwI/8tjHlJpnsTZMYlXU961o7bU37/HqBbLZ/k6VpMhM4NyUCiE5K0RiuL4jOcOzHeOeYgpN09maLYJXv3zrgXVxNX0mR0mRAbFKKBn1pQwDRaUMvn2sRnXxiGWskMeVmlNmb8HJRi42P6otG58YgdelBbGL96NDu0AQQnaEjkMb9EZ004pBiL2IKztiyN3OzNisGrXzr+mCvAkBsVowcl42OAKIzupBF6fCm6Px67xsvNfs4+fLDsO7Xo/SORvsmEFNuxpa9KVnUytqsGihne9a09os6T3Je9R6+rnyhqf+dnVBtSHLtmAggOmOKVry+RsvoVJ+bwTt54gWwo5ZjCs6YsjcxOSwNVZdLXNWsDWKzFD0nZEoA0ck0sA2HFU10qv0od6RsaH2HpWdRtqhh3zm9HYGYv9QtNz5qvXOq3TBaXX3+DW0cvKY1s1haa9PqTg0vXkV6yNo0hMzp2RNAdLIPca0B9iI6tXoS0utkf+rSWvm82IKTvNwU7x86YIfUyiT7u7Cs6zlgiYusTX8B4E7jJIDojDNuXfc6KdHx4H7zPJKNI/1AtjIL1PXAJ9ZeVLnZ0MYZfdSZrBizLguJV+xCp5edsaaNk/0uqO07j9h8+jAHBCAwnwCiw8wwgeREZzYs1WUvf7iva+NIQlebQFTBSXhpqpdC4tpRaH/iwjqnZU9nbn9rWoDAeAkgOuONXZc9T1505olP+TXEZ+5UiCo3iWZvssvarMIZ6enyo5G2ciCA6OQQxfZjGJ3ozA65XN6y9Ex8mSuq4CSYvZlM1maVH/MyE+r3ULHrahWCXJMDAUQnhyi2H8PoRaeKoPyLtvzaBJa5osrNKlmF9lNyYQvZZW3CSHsp3ibbE3Fm0nSyBBCdZEPTa8eyEp1Z6fFfs9ulHf56ZtITVXASyt7kmrXxlCy34Pf6A++bIT29I+eGAxFAdAYCn9htsxWdWenxDpUz9+7eYfEZqfRElZtEsjdkbXr+gCiXuNjB1TN4btcLAUSnF8zJ32QSolNGYfZDfd/e3UeOoK4nquAkkL0ha5PIx0T58+HuID6JBIVutCKA6LTCl83FkxKd2SxP9QPd0pPQEldUuUkgexNzfH3/cI7lKdCNuVDQ3BgZFyRGANFJLCADdWeyojNvaav82oDSE1MAhnznVLKvWljx565k6csHq7VZse8rX1bW9rCTa2WEXNgzAUSnZ+CJ3u5w92vf3t2Hlf3zUk61r1N6JYM/yGc/xMu6nohLXFHlZsDsTcxx9f3jlG3Wpg1IxKcNPa7tgwCi0wfljO9hAdhc+gm7mvzvEWWgV5JbFWh2WNcTUwSGyN7kWEjsrd+Tytq0/UGjzqctQa7vkgCi0yVN2joHgTITMnYB8l+tiwozV1jiiio3A2Rvci0knsxyVB8fXVX5ccbU9+Qhhn2Q5x6IDnNgEAJjFaBlzx5ZIj1RBafHnVPZZW0GkMNBfu5SvWn5BnY/2bzsIzVAqUZrfP1CdMYXs2x7XErCWJa+tsryOEiWuW1aP3Jduv2a1i4WIXBn9PgLmqxNhADSZDMCpRDNXlUVJH/vqF0nHHL8KXssTac2uwNn50gA0ckxqpmMaSziMy/LU0pOtYh7QxsXd2g6kJ4+am+yy9qEH4teXrWQyY/gaIdx9K4TDz3ulD2vKAawuaOUY9oEEJ1px39Uo09dfNak0za0cbC0drllYFeQnj6yN7lmbRwO6m2WTcqMvo/oZBTMDoaC6HQAkSaGIWDxSeQ1DueovdnQxg/WtFbu1lkGqHy+zLzlrZjZG7I2yyLD90dJANEZZdiidRrRiYaWhvsiMNC7q2oVFlt4wnJVbemRNj63n93a1SJkIsja9DUxuc9gBBCdwdAneWNEJ8mw0KlVCayw1bvprWoJzrxGl2V5XGi5rm2vqG657WA8ZG2aRpjzR08A0Rl9CDsdAKLTKU4aS4lAB5JQDmdluVkkPGWWp8l7hBqMh1ctpDQR6UvvBBCd3pEnfUNEJ+nw0LmuCKz4JONOBWdmLK69OX3ZFvVF45+zXBezr12FoW47vGqhLinOm0sA0WFiVAkgOsyHSRGokRWJKQwLd041FZ7Zd295F9ea1tz3cqlqbHGd5AsyxxaksfQX0RlLpPrpJ6LTD2fukiCBmV1bUQWn7lOLt3rycvlsHqPc6iWrK2xdHyI6ZG2GoD6ReyI6Ewl0zWEiOjVBcVp+BKpPLvboOniQXxVS623h27R20j7pvX668qpvj09Mevp4FlB+E5URNSaA6DRGlvUFiE7W4WVw8wjMe2pxeV5YAmrzuoa2gnOO7d8rbFFfFPghipTb8mASQ6AxAUSnMbKsL0B0sg4vgysJbCU38yg1rHlp88u8yfbvMiNS95k8W06ASNkesjb82A1OANEZPARJdQDRSSocdKZLAk3lZsG9Yzy1uPVD+5Y9k6cpx5bSQyFxU+CcH5UAohMV7+gaR3RGFzI6vBWBjuRm7i0qWZ6mL4ZskrVpFOAOl7XOvm8N6aGQuFGUOLlvAohO38TTvh+ik3Z86F0NAjHlprx99anFNbao+7LWWZsaQz/glK6zPKHxkNHSaZWXlfKCzKbB4fxeCSA6veJO/maITvIhooPzCNTdat2G3rxXMsy2V9miHi1r03QMXWR5PHbfN8IrKZoOh/Mh0JgAotMYWdYXIDpZhzefwc0+IC/myOoIju9fla116fYpPrCvSZanHLfHVn3f1iLWNTNbMUNF2xCYSwDRYWJUCSA6zIckCfQpNgbQVG62eK7NVsXLg7GeJzyLsjardHKgN8iv0lWumQABRGcCQW4wRESnASxOjUegj6Woeb1fJjhthKuDZ/LEAH76mjbeO7sk1fWNVny3WNfdoL2JEkB0Jhr4BcNGdJgPvRKwOPiG26UdG1rf/PdVn/q7asfryE2bpxHP9qvGLqZVh1LnuoU7pJq+X6vOzeadwxLXquS4blUCiM6q5PK8DtHJM66DjioFmZkFsJXclP3tUm4WBaCnLE+j59ps9X6tricS0tM1UdqbRwDRYV5UCSA6zIe5BMpf/rPfdCam+rUyKzNEZmZZ6LYqrh1qqazsc8MnLy8bqr/f5unMZ7ffV5bHN2yzLFgHCOdMlwCiM93Yzxs5osN8MIFn+P/O2nvyzrHjWCQ3fWZtGjJctXg56qsW+hSekhd1PQ1nDqcvJLBEdD4p6doLLv6UpOt0jPZWkt4l6aaSPtBx2zRXgwCiUwPSBE4ZtejM2z2UsNgsnE41lrU6ydo0mc99LmtV+8USV5Moce4sgSWi81lJly3+tnvyHHI/lnRSx0RL0fl9Se/vuG2aq0EA0akBaQKnjEp0qmLj2PiZL2MUm0XzqlK8XD6EsOkrJ6JM2SGyPB4I0hMlnFk3WkN0ziXpqj1BQHR6Ar3oNojOwAFI5PZJi07uYlOdA7NLb5UnLycyVaShsjwGQF1PMtMg6Y50IDr/JOkjkv5T0tGSvibp/pJ+r9g0+v8kWV7+Q9IbJT138yHi+4+LSHqepDtIuoykN0t6q6S/lURGZ6BZg+jEB3/hUCh6ZvxbrXyHpERnVmzKUQ25JX1lsksurPvQvlTrV4bK8pRYyfbEmpnjbrcD0fm8pO8WtTU3k/Q9Sc8PYuNaGwvOKZKuJ+kIScdKOkrSuSV9QtLVJb1W0lcl3SP8t4EiOgNNK0QnHvhrSnq1pBtWfhDi3W3rlv0Xh3/47rzgtEFFZ1ZschSarbI2TSZFqk8gHlp4zBDpaTKT8j63huj483DecTFJP5Rk0TksZGdcy7NPkmt7finpJk4uhotfIOkxki4dsjwWnEdLOi58/+BQgOziZ0RnoGmH6MQDv0vSAyXdXdKXJLmav+/D8fVOqj2hCM4/aPOO6KJTysyatm2+LHLzF5P0MT+7xv/e90MD+wxE3axN0z6xrLWYWKpC2DTGnL8agRqi42Lkl89p/a+K7MzPguhcStLFJf2qOPe3JX27EJpXFn80vr5ynWXopcXS1gMk3ViSP88uUCx3/aJyjn8P+PcBorNaOFtfhei0RriwgXdIcjHpIrmId+f9Lf91+OG7RLiRq/2jio5/oVtY/E8LTfUZO7nLzGwwm74gs81kSDWTkUKWx1yp62kzu8Z5bQ3RWVaM7IzO6UU25naBwI0kfWgLGs76+PPVzxm75Mx5t5T0bkRnuLmE6HTP3inMf5F0DUmHhB+OZxa2//aQ3Xl8WM7ynd8b0pzOcvgvB2denlis/143FL4dX6ROz1ecd2tJLykucObFa8aWFhfGXa34HH9S+EvCRXNOmVqwfPxR+L7/3X9R+Ie2seiU2YhZUal+fWoSM2/KxMraNJ2eZHmWE0tVDJf3nDPqEuhIdD4q6T7hnleQ9JUiEf3U4nP1dXP64W3pXsa6nyRLlJe6ysNZff9OIKNTN4Adn4fodAxUkjMozqbcMzT9hpAidTrTVm8hOXn/6542peYb4ZkOh0r6pqS3hYr9LxRFcA8tpOa2kixHPpxq/UmxTvyEUCDne70lFMc9KoiV14TL9xuVo1uWXYq+dNU95uFb7DNr03S0qf4yTyXLU/JMlVPTeHP+gQQiiI4/ry0z/gy/a+Vu3l3lP0LvFXZkvUjSXcIfreVp/rx30TKiM9BERXTigZ+VC2dnHinpiqEa33d2pudpkn4rZG4sOj5cNOxtiT5cSGzRcQbnxPC1Y0KV/1OKSv9nh689XNKLi+2O1yoq/T8zMyxEp6M4L3shaEe36ayZVGtVLDyu0fIzkDobbMuGWOJqCTChyyOIjkfnnVX+7H1VUaj8j8Vmk8uFreb+o9RZ9wuGP1zLc78cdl35D1YfiM5AcwTRiQd+Vi78Q+C/Cn4q6fKyBzZmAAAY2UlEQVRBSJz5cfW/MzPemmjR8XMZvCWxPErROU+l0v9h4a8IL115LdnHncJfEdcv/qL4OKLTTWDLeqPUfimvMjqWtZpRS3VLf7NRTPPsGq+AOO+SBwb6c7W6dGWQ/vz2M3VcLuCyBB8uTPYfq+XnsD+TX1MpT/DW9H8IZQW8AmKg6YjoxAM/KzqWmeeEFGf5Q+IfAn+9KjpezrLczIpONVYPKa55WbjOT8314d1VzgIhOi1jOrasTdPhprpck9qyVpVrqsyaxn4q50d+qac/i12L6c9e78iad1yoePaOywi+NRXmKY8T0YkXnVnR2Vs8afOOkh4cCpNdm/OgsDWxKjrenugtjIhOvNgc0HIqhcQ9DfeA25DlaU4d6WnOrO8rIotO38Phfi0JIDotAW5xeVV0zNmPCN9dPE/nbpVrTghV+t6O6Ep9L139RXjmAqITLzZKuZA44rAXNp3qL++UszyGSV3PELN1+T0RneWMpnQGohMv2rMZna8XT0h2OvNPwgOpXJnv4jYff1w8VfM9iE68YCA29dhSvFyP06KzUhXGdqMa39WIzvhiFrPHiE48un5ujh8YePNwCy9b+UVxZX2OXxjnl7/5+Qo/D48b95M3ZzM6rutx3U41Vl7y8lZzL3nVrdFx8V3Zl9lRZ7e9HLFpP7FZ1mrHEOlpx6/N1YhOG3r5XYvo9BtT76xyEZufx+DdVz68tdwPlyr/u98e7b/b6EUHsYk3bVL9hZ36slY1IqlmyuLNmmFbRnSG5Z/a3RGd1CIyTH9GJTqzLwFN6Vksw4Svv7uS5WnPmrqe9gyXtYDoLCM0re8jOtOK96LRJik61ReB5vAcm5ymGlme7qKZKsvuRth/S4hO/8xTviOik3J0+uvboKIzKzQeNlma/oLf5k6pLsmk+OTlOpyRnjqUlp+D6CxnNKUzEJ0pRXvxWKOJTvXln36jubvg7Awyk9/EY1mr25imKpHdjjJOa4hOHK5jbRXRGWvkuu33QtGZfUv57G1LeakKDBLTbXDG1lqqWYkxFS/PizmvpKj/k4Do1Gc1hTMRnSlEmTFCYCACZHnigE9VJuOMtnmriE5zZjlfgejkHF3GBoFECKT6i3nsWZ7NTOre3X5tjNa1sflPDgnRYRZUCSA6zAcIQKBXAqlmeXLY2cfW9f1TGdHp9Uc6+ZshOsmHiA5CIE8CqQqPaW/fecQrcqA+VfFBdHKYvd2NAdHpjiUtQQACKxBIdeklh2Wt2XCkynqFabPlJYhO10TH3R6iM+740XsIZEWALE+/4cxVfBCdfudR6ndDdFKPEP2DwAQJpPoLOMcsTzm9ymUu//fYC5sRnQl+aGwxZESH+QABCCRNINUsTw7Fy8sCX5WfDa3v2NDajmXXpPB9RCeFKKTTB0QnnVjQEwhAYAsCKQqPH6jph2bmUrxcZwKOQX4QnTqRnM45iM50Ys1IIZAFAZa10gxjSgKE6KQ5R4bqFaIzFHnuCwEItCaQYpbHdTwe2JSyPMsCWZUgn+tlsP3/jLMUhugsi8i0vo/oTCvejBYCWRIgyzP+sM7KUDmiUopmR7iVJCE6458PXY4A0emSJm1BAAKDE0g1yzOF4uXBgx86YGk6aOcRh0g6NZU+0Y/hCCA6w7HnzhCAQEQCKQrPFIuXI4aYpiFQiwCiUwsTJ0EAAmMlwLLWWCNHvyHQDQFEpxuOtAIBCIyAQIpZHoqXRzBx6OKoCSA6ow4fnYcABFYhQJZnFWpcA4FxEkB0xhk3eg0BCHREINUsD8XLHQWYZiZPANGZ/BQAAAQgYAIWntRec0DxMnMTAu0JIDrtGdICBCCQEQGWtTIKJkOBgCREh2kAAQhAYAGBVJe13F2evMy0hUA9AohOPU6cBQEITJgAWZ4JB5+hj54AojP6EDIACECgTwJkefqkzb0g0J4AotOeIS1AAAITJEDx8gSDzpBHSQDRGWXY6DQEIJAKAZa1UokE/YDAfAKIDjMDAhCAQEcEWNbqCCTNQKBDAohOhzBH3NTh7vu+vbsPK8fgh5UtG89BO49Yes6yNvg+BHIkQJYnx6gyprESQHTGGrlu+/0MN3fW3pN3dtvs/tb80LOt2l3TtrO/XxUsRCpGNGizbwJkefomzv0gcCABRIcZYQJRRacLxFVZqorRZiaqkn1CjrqgTRsxCKRYvOxx+qWivG4iRsRpMxUCiE4qkRi2H8mLzip46sgRYrQKWa5pQyDVZa1SengQYZvocm2KBBCdFKPSf5+yFJ0mGEspmreMhgw1Icm5TQikuKzl/vOOrSZR5NzUCSA6qUeon/5NXnTqYkaI6pLivCYEUs/yeCxkeppElHNTIoDopBSN4fqC6HTIHhnqEOYEm0o1y1MubSE9E5yUIx8yojPyAHbUfUSnI5BNmimXB6rXUBTahGDe56ZavFyl7kJmxCfveZjD6BCd+FG8sKQzJJ0Z/1Yr3wHRWRld3AvJDsXlO4bWz9y7e8d2ace6No5Mvb+IT+oRmmb/EJ14cb+mpFdLuqGkYyUdFe9Wc1s+qBCsx0m6s6RLSfq0pBdJevucsxGdnoPT9e3IDnVNNM32Ul7WmkesFB8ylWnOp6n0CtGJF+ldkh5YCMbdJX1J0qfi3Wpuy6+RdF9J/yjpe5L+RNIlJN1W0r/OXIHo9BycIW5HdmgI6nHumXLx8lYjnp2DCFCc+UGrBxJAdOLNiHdIOn8hFb8f7xYLW76cpNMlPU/SE8JZ1wqy9SpJf47oDBCVkdxyNjtUPpCRbfZpBnBsWZ5FFOfNO+ZcmnNubL1CdLqP2KUl/Yuka0g6RNKHisdSPDMsGTm78/iwnOU7v1fSo7X/yb4Xl7RH0hMlXbcQlftLOr6QlfMV591a0kuKC5x5uVmRlXl/+P7VitqfJxVt31jSf4a2LFi3kfTO8PUPV4b4M0n+/j0Qne4DP6UWyQ6lF+0xFC+3pTbvdTKzT0r3PY7adcIhx5+y55i29+P6PAggOt3H0ctDfy3pnqHpN0h6uaQLSHp3EJKT/ViKIDXfkHRZSYdK+qakt0m6Q7HU9IViyemhYanJcuTD7fwkZGm8HOV7vaWow/mP4uuPCmJ1cCh+dvv7wnXnCjVCzvB4OeskRKf7wNPigQSQoWFmxJiKl2MROnrXiYced8oe7wjbXJbnmDYBRCde/GeXrpydeaSkK0r6aritMz1PK4qEfytkbiw6PlxA/Obw788NWSBneE4MX/NfKi5ufoqkZ4evPVzSiyV5ieozlWE9vfLD7uvdzuxBjU68eUDLSwggRPGmSC7LWk0JITpNieV9PqITL76zonPBkMX5qaTLByFx5ufqITNz7pDReePM0lIpOuepbFF/WFjK8tLV58MQ7hSWvq4v6eOVYd0yLIX5zeS3mpGj8jREJ948oOUOCCBD7SBOLcuD6LSbL7ldjejEi+is6HiZ6TnF0tW9whKT71wuP/l7pei4RsdyUx6l6FRj9ZBCjl4WBOn74USLjLNAs6JTtuPrvczlZbHzFstmv6rcA9GJNw9ouUcCCNFy2GPdsbV8ZL85A9FpQiv/cxGdeDGeFZ29ku4o6cGhMNm1OQ8qipBfOpPR8UPBXtlSdFycfJ8gNT+vtFUK0qwMITrx5gEtJ0YAGfpNQHKVHkQnsR+6gbuD6MQLQFV0zHld0u5ii/fdKrc8QdL9JF1SkguGXaPzF5L8DJ42GR2LjjM+fyTpnytteWv5A4panosW9UI/IqMTL/i0PH4CUxOinHZtITrj//nrcgSITpc0D2xrNqPz9eIJyRcKD+7zNu+7VJ6W/MdF/cx7OhSd7xaS87nQHRcunxqySUfPkS2fRkYn3jyg5YwJ5CpDYy9iRnQy/qFbYWiIzgrQal7iVy34gYE3D+d72eqfKvU5HwkP9PMzd7y8dFixlPXtORkd1/W4bqcaKy95eau5a3sW1ejctNiy7u2VLnYuD1/jtrxFvXogOjWDymkQWIXAWIWoLGL2mMfwrq0yNojOKrM032sQnX5j64JjP1Dwx8XD/bz7yoe3lvt5N+V/d92ji4RMkpfFzlrQOKLTNXXag0BDAmOQobGID6LTcPJlfjqik3mAaw4P0akJitMgMDSBlIQoVfFBdIaepWndH9FJKx5D9QbRGYo894VABAJDyVAq4oPoRJhUI24S0Rlx8DrsOqLTIUyagsBYCMwTIve9fJGr/73tizWr8rOh9R1uc0Nrm/+MdSA6sciOs11EZ5xx67rXiE7XRGkPAhkSqL5Uc/Zlmqu85X5WgroSIEQnw8nXYkiITgt4GV2K6GQUTIYCgZQIzL5xfN7bxmf768xPeV6ZBTrnOWs7qm1XJQnRSWkGDN8XRGf4GKTQA0QnhSjQBwhAoBMCiE4nGLNpBNHJJpStBoLotMLHxRCAQEoEEJ2UojF8XxCd4WOQSg8O37d3tx9auPRYlEqel1pe2hgnQAACEOiYAKLTMdCRN4fojDyAY+6+CxHL/m+XDtiFUZWprgoUx8yKvkMAAvUJIDr1WU3hTERnClHOaIyL5AgxyijIDAUCLQnUFJ2DJV1ekp9Y73cRVl903LIHXJ4SAUQnpWjQlygESjmqZo36ep5HlAHRKAQgsCWBJaLjdxA+X9JDZxp5U/HuwIeFlytDOCMCiE5GwWQo7QhUn+nhlpChdjy5GgJDEVgiOq+RdN/iHYDHSnpj8YLk35a0U9L9JPlly78n6ddD9Z37dk8A0emeKS1mTIDsUMbBZWjZENhCdM4j6ZeS3izpzjMDfpekW0m6tqRPZwODgQjRYRJAoGMCyFDHQGkOAg0JbCE6FyuWp74v6W2S/nCm2euFTM9rJX28qN85QdIPJT22ct7NJP2NpD8tzv2ypKuEZTAL0iEhI/RMSW8J15xL0uOKGqAHSrqipJ+He3uJ7Ache3RMUR/0SElPlHQbSf8j6RWS3A6ZpYaxn3c6otMBRJqAwCoEEKJVqHENBJYTWLJ09VlJV5f0hiAUH5T0izmtfizU61QzP17icjbo+pI+IelrxRLYhSQdV4jKryQ9WNJlJPlRHV+U9LQgLO+UdGoQIy+RvUrSn0u6g6S3hnv7nA9Iumfon5fXTlo+Ws5YRgDRWUaI70NgQALI0IDwufVoCSwRnSsFgbhxZYDvD+JjAfnv8PVlouPMkHdrOSNTZn0sUP9WZGseHtr7vCRnda5ayc68L2R/rlMRHUvXvTdLA6WLhmxPKUOjjUMqHUd0UokE/YBACwIIUQt4XJodgZrby12Lc+tCTG5RLFXdJUD4XpGx8TO9viFpmeg4o/MdSZcIhc17C3H58Ex2yNLiTM9ZhVxduVi2ulHI/liQrlERHWeKyuUud+WTYWnsbtkFZ4ABIToDQOeWEBiCADI0BHXuOQSBLUTHz8zx83N+ViwrrVf65q89taiPeXxYznpQDdFxHc81JR0fipjL5lzj85fF/34syXU/zw5C4++7RsfHrOjcsNj59dFKfxCdDicOotMhTJqCQA4EEKIcojjtMWwhOveX9GpJN5H0oRlK24OcuLbGWZ15GZ37hGUv1+hYdMrDmZubSjqyKEi+Y6jBcYGxMz4/DbU7/x4KoV8fsjnVjM480flqUQd012lHspvRIzrdcKQVCEyKADI0qXCPbrBbiM4Nws6oefUvZW2MRcT1Mq61uVxYcnLtjA/vxHIxsUXHW9X/Puyoct2ND8vSt8LSl6XHWRrX67w0fP+gou3TwhZ3RKenmYXo9ASa20BgigQQoilGffgxbyE624rn5JwcanL8sECLi+tyvPX7SeEZOt527u3nLyyyMY+W9DxJby92RN0ubAH3AC06/xVeG/GFoi7n6LBDywXOLynqdl4WrjtdkgudvXXcy2PO8ninlZewnAHyDi3vuiKjE3HaIDoR4dI0BCCwnAAytJwRZzQjsKQY+YLFDqinBDmpNmxhcY3OKeGLh4Z/t4T4+Iqk5xRysiuIjpeu/NybvwuiVLZlgfLW8Z+Eup9nVW7yupDleUGxhdyZI4uWpWp2KczLZq7jYemqWejnno3odACRJiAAgfgEEKL4jHO5Q81dV156umxRTHwRSd8OGZlyiaqKwsLjwmXX28w7/HvUO68uIOm7le3p5bnO5FwytO8dWD7cph9GWP53LuiTHAeik2RY6BQEILAKAWRoFWr5XVNTdPIbOCMio8McgAAEIGACCFHe8wDRyTu+TUdHRqcpMc6HAAQmQQAZGm+YEZ3xxi5GzxGdGFRpEwIQmAyBRUK0oTU/i4VjAAKIzgDQE74lopNwcOgaBCCQBwGyQ/3GEdHpl3fqd0N0Uo8Q/YMABCZDwEK0ff9Tec8+NrS+g+xQsymA6DTjlfvZiE7uEWZ8EIBAVgTIDi0PJ6KznNGUzkB0phRtxgoBCEyGwKLskAHkniFCdCYzzWsNFNGphYmTIAABCORJoMwQeXTzls3GKEaITp5zddVRITqrkotz3cWL9578rqQPhneo+C5+461fEsejwOMwp1UIQKAhgXnLZ/uFaP3s+qIhs0aITsOAZn46opNWgG8t6V/Dy94+ELrmd558U9KdI3b18B+9/vUfP+9BB/kdMBwQgAAEOidw0HZda1mj+7R+7WXn+Ptr2tiyrce/+jW3OXb3m/62OPcZddrjnLwJIDppxXco0dn8MDhr78k708JBbyAAAQg0J0BGpzmznK9AdPqN7l9IeoCkG0v6lKTd4W24Z4Z/3l3SYZL8Ft3TwnKVMzp+4dyHipfAPSK8PO79kh4m6ZOV7j9Q0kPDW3DfGd6o67fo+riVpGdLuoekJ0i6l6SbS/p8+D6i0+884G4QgEBEAohORLgjbBrR6S9oFo0nSfqIpL2hFueOkt4iyZkUi8udivqcP5D0tiA6jym+ZtG5vqSfF2/AdSr2opIsNV+RdFVJv5b0VEnPkvSmcL7reXyNxelkSfeU9PrQ7h1CH3wvv2nXB6LT3zzgThCAQGQCiE5kwCNrHtHpJ2CXLTI5XyuyKO8uMjO39ypRuO2LQpbmtqE2Z9HSlaXF//t4uO55kh4n6QqhrW8UAvTiooD5keH755bkrM+FggyVovM9SbeQ9LmZYSM6/cwD7gIBCPRAANHpAfKIboHo9BOsUjScrXlH5ZaXlmRJ+auQlVkkOr6k+rRUFyY7e2P5uaKkfwnCVBUY3/NISVcrsjou8HNG5+GSXjpnyIhOP/OAu0AAAj0QQHR6gDyiWyA6/QTrKEnHBOko62LKO29IOknSfSXVLUb2Utebg+j4mudvMYybFfU6lwqic1NJ5W6u6iWITj/zgLtAAAI9EEB0eoA8olsgOv0E636STpB0k1BUXN7V27l/WiwxHSvJMrSK6FxD0mslufbmS3OG42fwuBbIGZ2rh9qf2dMQnX7mAXeBAAR6IIDo9AB5RLdAdPoJ1vWK5+D8x0wdje/souJdRWHx/w2ysoro7Au7rx4l6fjKcJ5WSM29i8LnG4RiZ4vO/5lTn+NLEJ1+5gF3gQAEeiCA6PQAeUS3QHT6C9aesKvKhcTeaeWaG2dyvHvKAuIt5r8XiohfXuzKemtYnpr3wMDq0pULlL2Ly1kbbx33NvQbhuWsJ4dt62WN0CLROfz2N7jBpd7yjCcf0h8O7gQBCEAgDoFjTt5z2ONefYI/F0+NcwdaHRMBRKe/aFkiXKfjZ+mUh7eRu2DYBck+zh+KlV1L4x1Sl1zwCghLjX+Iy51YF5bkHVyu8/Hha53BeXyxO+uMyvbyRaLTHwXuBAEIQAACEOiRAKLTI+xwq3MVy1WXkfSdIgPzy45v77a9k8tb2V3kzAEBCEAAAhCYNAFEZ9LhZ/AQgAAEIACBvAkgOnnHl9FBAAIQgAAEJk0A0Zl0+Bk8BCAAAQhAIG8CiE7e8WV0EIAABCAAgUkTQHQmHX4GDwEIQAACEMibAKKTd3wZHQQgAAEIQGDSBBCdSYefwUMAAhCAAATyJoDo5B1fRgcBCEAAAhCYNAFEZ9LhZ/AQgAAEIACBvAkgOnnHl9FBAAIQgAAEJk0A0Zl0+Bk8BCAAAQhAIG8CiE7e8WV0EIAABCAAgUkTQHQmHX4GDwEIQAACEMibAKKTd3wZHQQgAAEIQGDSBBCdSYefwUMAAhCAAATyJoDo5B1fRgcBCEAAAhCYNAFEZ9LhZ/AQgAAEIACBvAkgOnnHl9FBAAIQgAAEJk0A0Zl0+Bk8BCAAAQhAIG8CiE7e8WV0EIAABCAAgUkTQHQmHX4GDwEIQAACEMibAKKTd3wZHQQgAAEIQGDSBBCdSYefwUMAAhCAAATyJoDo5B1fRgcBCEAAAhCYNAFEZ9LhZ/AQgAAEIACBvAkgOnnHl9FBAAIQgAAEJk0A0Zl0+Bk8BCAAAQhAIG8CiE7e8WV0EIAABCAAgUkTQHQmHX4GDwEIQAACEMibAKKTd3wZHQQgAAEIQGDSBBCdSYefwUMAAhCAAATyJoDo5B1fRgcBCEAAAhCYNAFEZ9LhZ/AQgAAEIACBvAkgOnnHl9FBAAIQgAAEJk3gfwHaxCNZjckftAAAAABJRU5ErkJggg==",
            "rank_sets": [],
            "scale": 2.880434782608696,
            "show_link_info_html": false,
            "svg": "<?xml version=\"1.0\" standalone=\"no\"?><!DOCTYPE svg PUBLIC \"-//W3C//DTD SVG 1.1//EN\" \"http://www.w3.org/Graphics/SVG/1.1/DTD/svg11.dtd\"><svg xmlns=\"http://www.w3.org/2000/svg\" width=\"570\" height=\"300\" viewBox=\"0 0 570 300\" style=\"font-family: &quot;Helvetica Neue&quot;, Helvetica, Arial, sans-serif;\"><g class=\"sankey\" transform=\"translate(130,25)\"><g class=\"groups\"><g class=\"group\" transform=\"translate(0,125.01086956521739)\" style=\"display: none;\"><rect x=\"-10\" y=\"-20\" width=\"21\" height=\"143.48913043478257\" style=\"fill: rgb(238, 238, 238); stroke: rgb(187, 187, 187); stroke-width: 0.5;\"/><text x=\"-10\" y=\"-25\" style=\"fill: rgb(153, 153, 153);\"/></g><g class=\"group\" transform=\"translate(309,26.5)\" style=\"display: none;\"><rect x=\"-10\" y=\"-20\" width=\"21\" height=\"242\" style=\"fill: rgb(238, 238, 238); stroke: rgb(187, 187, 187); stroke-width: 0.5;\"/><text x=\"-10\" y=\"-25\" style=\"fill: rgb(153, 153, 153);\"/></g></g><g class=\"links\"><g class=\"link\" style=\"opacity: 0.8;\"><path d=\"M1,125.01086956521739 A154.90298256408042 154.90298256408042 0.379787798242021 0 0 58.42615986983593,113.97299802480333 L248.3703064295984,38.15362215898894 A163.54428691190648 163.54428691190648 0.379787798242021 0 1 309,26.5 L309,35.141304347826086 A154.90298256408042 154.90298256408042 0.379787798242021 0 0 251.5738401301641,46.17917588824015 L61.6296935704016,121.99855175405455 A163.54428691190648 163.54428691190648 0.379787798242021 0 1 1,133.65217391304347 Z\" style=\"fill: rgb(251, 180, 174);\"/><title>farm1 → James\n*\n3.00</title><text class=\"label\" dy=\"0.35em\" x=\"5\" y=\"129.33152173913044\"/></g><g class=\"link\" style=\"opacity: 0.8;\"><path d=\"M1,229.85869565217388 A0 0 0 0 1 1,229.85869565217388 L309,229.8586956521739 A0 0 0 0 0 309,229.8586956521739 L309,238.49999999999997 A0 0 0 0 1 309,238.49999999999997 L1,238.49999999999994 A0 0 0 0 0 1,238.49999999999994 Z\" style=\"fill: rgb(251, 180, 174);\"/><title>other → Susan\n*\n3.00</title><text class=\"label\" dy=\"0.35em\" x=\"5\" y=\"234.1793478260869\"/></g><g class=\"link\" style=\"opacity: 0.8;\"><path d=\"M1,84.1086956521739 A161.34911282963563 161.34911282963563 0.3943480336274541 0 1 62.991352803684116,96.49268374289738 L252.54205378607625,175.37359227353477 A146.94693891659213 146.94693891659213 0.3943480336274541 0 0 309,186.65217391304347 L309,201.05434782608697 A161.34911282963563 161.34911282963563 0.3943480336274541 0 1 247.00864719631588,188.6703597353635 L57.457946213923755,109.7894512047261 A146.94693891659213 146.94693891659213 0.3943480336274541 0 0 1,98.51086956521738 Z\" style=\"fill: rgb(251, 180, 174);\"/><title>→ → Susan\n*\n5.00</title><text class=\"label\" dy=\"0.35em\" x=\"5\" y=\"91.30978260869564\"/></g><g class=\"link\" style=\"opacity: 0.8;\"><path d=\"M1,133.65217391304347 A201.2040453650533 201.2040453650533 0.28160387831770484 0 0 56.91394192990272,125.72694003316539 L249.08374134541506,70.13382600977863 A215.6062192780968 215.6062192780968 0.28160387831770484 0 1 309,61.641304347826086 L309,76.04347826086956 A201.2040453650533 201.2040453650533 0.28160387831770484 0 0 253.08605807009727,83.96871214074767 L60.91625865458494,139.56182616413443 A215.6062192780968 215.6062192780968 0.28160387831770484 0 1 1,148.05434782608697 Z\" style=\"fill: rgb(251, 180, 174);\"/><title>farm1 → Mary\n*\n5.00</title><text class=\"label\" dy=\"0.35em\" x=\"5\" y=\"140.85326086956522\"/></g><g class=\"link\" style=\"opacity: 0.8;\"><path d=\"M1,174.55434782608694 A555.3432116488925 555.3432116488925 0.10516279089720904 0 1 59.293855890446,177.62234810846292 L253.72970947592748,198.1454775112885 A526.5388638228055 526.5388638228055 0.10516279089720904 0 0 309,201.05434782608694 L309,229.85869565217388 A555.3432116488925 555.3432116488925 0.10516279089720904 0 1 250.706144109554,226.7906953697979 L56.270290524072536,206.2675659669723 A526.5388638228055 526.5388638228055 0.10516279089720904 0 0 1,203.35869565217388 Z\" style=\"fill: rgb(251, 180, 174);\"/><title>farm3 → Susan\n*\n10.0</title><text class=\"label\" dy=\"0.35em\" x=\"5\" y=\"188.9565217391304\"/></g><g class=\"link\" style=\"opacity: 0.8;\"><path d=\"M1,26.499999999999996 A227.33539786710418 227.33539786710418 0.29680554273757176 0 1 67.48808417604432,36.44009482218142 L259.36055374717506,95.12228679794218 A169.72670221493024 169.72670221493024 0.29680554273757176 0 0 309,102.54347826086958 L309,160.1521739130435 A227.33539786710418 227.33539786710418 0.29680554273757176 0 1 242.5119158239557,150.21207909086206 L50.63944625282494,91.5298871151013 A169.72670221493024 169.72670221493024 0.29680554273757176 0 0 1,84.1086956521739 Z\" style=\"fill: rgb(251, 180, 174);\"/><title>→ → Fred\n*\n20.0</title><text class=\"label\" dy=\"0.35em\" x=\"5\" y=\"55.30434782608695\"/></g></g><g class=\"nodes\"><g class=\"node\" transform=\"translate(0,26.5)\"><title>→</title><line x1=\"0\" x2=\"0\" y1=\"0\" y2=\"72.01086956521739\" style=\"display: inline; stroke: rgb(0, 0, 0);\"/><rect class=\"node-body\" width=\"1\" height=\"72.01086956521739\" style=\"fill: none;\"/><text class=\"node-value\" dy=\".35em\" text-anchor=\"middle\" transform=\"translate(0.5,36.005434782608695) rotate(-90)\" style=\"display: none;\"/><text class=\"node-title\" dy=\".35em\" text-anchor=\"end\" transform=\"translate(-4,36.005434782608695)\" style=\"display: inline;\">→</text><rect class=\"node-click-target\" x=\"-5\" y=\"-5\" width=\"10\" height=\"77.01086956521739\" style=\"fill: none; visibility: hidden; pointer-events: all;\"/></g><g class=\"node\" transform=\"translate(0,125.01086956521739)\"><title>farm1</title><line x1=\"0\" x2=\"0\" y1=\"0\" y2=\"23.043478260869577\" style=\"display: inline; stroke: rgb(0, 0, 0);\"/><rect class=\"node-body\" width=\"1\" height=\"23.043478260869577\" style=\"fill: none;\"/><text class=\"node-value\" dy=\".35em\" text-anchor=\"middle\" transform=\"translate(0.5,11.521739130434788) rotate(-90)\" style=\"display: none;\"/><text class=\"node-title\" dy=\".35em\" text-anchor=\"end\" transform=\"translate(-4,11.521739130434788)\" style=\"display: inline;\">farm1</text><rect class=\"node-click-target\" x=\"-5\" y=\"-5\" width=\"10\" height=\"28.043478260869577\" style=\"fill: none; visibility: hidden; pointer-events: all;\"/></g><g class=\"node\" transform=\"translate(0,174.55434782608694)\"><title>farm3</title><line x1=\"0\" x2=\"0\" y1=\"0\" y2=\"28.804347826086968\" style=\"display: inline; stroke: rgb(0, 0, 0);\"/><rect class=\"node-body\" width=\"1\" height=\"28.804347826086968\" style=\"fill: none;\"/><text class=\"node-value\" dy=\".35em\" text-anchor=\"middle\" transform=\"translate(0.5,14.402173913043484) rotate(-90)\" style=\"display: none;\"/><text class=\"node-title\" dy=\".35em\" text-anchor=\"end\" transform=\"translate(-4,14.402173913043484)\" style=\"display: inline;\">farm3</text><rect class=\"node-click-target\" x=\"-5\" y=\"-5\" width=\"10\" height=\"33.80434782608697\" style=\"fill: none; visibility: hidden; pointer-events: all;\"/></g><g class=\"node\" transform=\"translate(0,229.85869565217388)\"><title>other</title><line x1=\"0\" x2=\"0\" y1=\"0\" y2=\"8.641304347826093\" style=\"display: inline; stroke: rgb(0, 0, 0);\"/><rect class=\"node-body\" width=\"1\" height=\"8.641304347826093\" style=\"fill: none;\"/><text class=\"node-value\" dy=\".35em\" text-anchor=\"middle\" transform=\"translate(0.5,4.320652173913047) rotate(-90)\" style=\"display: none;\"/><text class=\"node-title\" dy=\".35em\" text-anchor=\"end\" transform=\"translate(-4,4.320652173913047)\" style=\"display: inline;\">other</text><rect class=\"node-click-target\" x=\"-5\" y=\"-5\" width=\"10\" height=\"13.641304347826093\" style=\"fill: none; visibility: hidden; pointer-events: all;\"/></g><g class=\"node\" transform=\"translate(309,26.5)\"><title>James</title><line x1=\"0\" x2=\"0\" y1=\"0\" y2=\"8.641304347826086\" style=\"display: inline; stroke: rgb(0, 0, 0);\"/><rect class=\"node-body\" width=\"1\" height=\"8.641304347826086\" style=\"fill: none;\"/><text class=\"node-value\" dy=\".35em\" text-anchor=\"middle\" transform=\"translate(0.5,4.320652173913043) rotate(-90)\" style=\"display: none;\"/><text class=\"node-title\" dy=\".35em\" text-anchor=\"start\" transform=\"translate(5,4.320652173913043)\" style=\"display: inline;\">James</text><rect class=\"node-click-target\" x=\"-5\" y=\"-5\" width=\"10\" height=\"13.641304347826086\" style=\"fill: none; visibility: hidden; pointer-events: all;\"/></g><g class=\"node\" transform=\"translate(309,61.641304347826086)\"><title>Mary</title><line x1=\"0\" x2=\"0\" y1=\"0\" y2=\"14.402173913043477\" style=\"display: inline; stroke: rgb(0, 0, 0);\"/><rect class=\"node-body\" width=\"1\" height=\"14.402173913043477\" style=\"fill: none;\"/><text class=\"node-value\" dy=\".35em\" text-anchor=\"middle\" transform=\"translate(0.5,7.201086956521738) rotate(-90)\" style=\"display: none;\"/><text class=\"node-title\" dy=\".35em\" text-anchor=\"start\" transform=\"translate(5,7.201086956521738)\" style=\"display: inline;\">Mary</text><rect class=\"node-click-target\" x=\"-5\" y=\"-5\" width=\"10\" height=\"19.402173913043477\" style=\"fill: none; visibility: hidden; pointer-events: all;\"/></g><g class=\"node\" transform=\"translate(309,102.54347826086956)\"><title>Fred</title><line x1=\"0\" x2=\"0\" y1=\"0\" y2=\"57.60869565217391\" style=\"display: inline; stroke: rgb(0, 0, 0);\"/><rect class=\"node-body\" width=\"1\" height=\"57.60869565217391\" style=\"fill: none;\"/><text class=\"node-value\" dy=\".35em\" text-anchor=\"middle\" transform=\"translate(0.5,28.804347826086953) rotate(-90)\" style=\"display: none;\"/><text class=\"node-title\" dy=\".35em\" text-anchor=\"start\" transform=\"translate(5,28.804347826086953)\" style=\"display: inline;\">Fred</text><rect class=\"node-click-target\" x=\"-5\" y=\"-5\" width=\"10\" height=\"62.60869565217391\" style=\"fill: none; visibility: hidden; pointer-events: all;\"/></g><g class=\"node\" transform=\"translate(309,186.65217391304347)\"><title>Susan</title><line x1=\"0\" x2=\"0\" y1=\"0\" y2=\"51.84782608695653\" style=\"display: inline; stroke: rgb(0, 0, 0);\"/><rect class=\"node-body\" width=\"1\" height=\"51.84782608695653\" style=\"fill: none;\"/><text class=\"node-value\" dy=\".35em\" text-anchor=\"middle\" transform=\"translate(0.5,25.923913043478265) rotate(-90)\" style=\"display: none;\"/><text class=\"node-title\" dy=\".35em\" text-anchor=\"start\" transform=\"translate(5,25.923913043478265)\" style=\"display: inline;\">Susan</text><rect class=\"node-click-target\" x=\"-5\" y=\"-5\" width=\"10\" height=\"56.84782608695653\" style=\"fill: none; visibility: hidden; pointer-events: all;\"/></g></g><g class=\"slice-titles\"/></g></svg>"
          }
        },
        "98a0d664a8bd45c9ae6971ca865a5088": {
          "model_module": "@jupyter-widgets/base",
          "model_name": "LayoutModel",
          "model_module_version": "1.2.0",
          "state": {
            "_model_module": "@jupyter-widgets/base",
            "_model_module_version": "1.2.0",
            "_model_name": "LayoutModel",
            "_view_count": null,
            "_view_module": "@jupyter-widgets/base",
            "_view_module_version": "1.2.0",
            "_view_name": "LayoutView",
            "align_content": null,
            "align_items": null,
            "align_self": null,
            "border": null,
            "bottom": null,
            "display": null,
            "flex": null,
            "flex_flow": null,
            "grid_area": null,
            "grid_auto_columns": null,
            "grid_auto_flow": null,
            "grid_auto_rows": null,
            "grid_column": null,
            "grid_gap": null,
            "grid_row": null,
            "grid_template_areas": null,
            "grid_template_columns": null,
            "grid_template_rows": null,
            "height": "300",
            "justify_content": null,
            "justify_items": null,
            "left": null,
            "margin": null,
            "max_height": null,
            "max_width": null,
            "min_height": null,
            "min_width": null,
            "object_fit": null,
            "object_position": null,
            "order": null,
            "overflow": null,
            "overflow_x": null,
            "overflow_y": null,
            "padding": null,
            "right": null,
            "top": null,
            "visibility": null,
            "width": "570"
          }
        },
        "84ffc15a22a3466aab8f823af68db03b": {
          "model_module": "jupyter-sankey-widget",
          "model_name": "SankeyModel",
          "model_module_version": "^0.5.0",
          "state": {
            "_dom_classes": [],
            "_model_module": "jupyter-sankey-widget",
            "_model_module_version": "^0.5.0",
            "_model_name": "SankeyModel",
            "_view_count": null,
            "_view_module": "jupyter-sankey-widget",
            "_view_module_version": "^0.5.0",
            "_view_name": "SankeyView",
            "align_link_types": false,
            "groups": [
              {
                "id": "farms",
                "type": "process",
                "title": "",
                "nodes": [
                  "farms^farm1",
                  "farms^farm3",
                  "farms^other"
                ]
              },
              {
                "id": "customers",
                "type": "process",
                "title": "",
                "nodes": [
                  "customers^James",
                  "customers^Mary"
                ]
              }
            ],
            "layout": "IPY_MODEL_9a466b704ee449dfa0db162d28a4bb2b",
            "linkLabelFormat": "",
            "linkLabelMinWidth": 5,
            "links": [
              {
                "source": "farms^farm1",
                "target": "customers^James",
                "type": "*",
                "time": "*",
                "value": 3,
                "title": "*",
                "color": "#FBB4AE",
                "opacity": 1,
                "data": {
                  "value": 3
                }
              },
              {
                "source": "farms^farm1",
                "target": "customers^Mary",
                "type": "*",
                "time": "*",
                "value": 5,
                "title": "*",
                "color": "#FBB4AE",
                "opacity": 1,
                "data": {
                  "value": 5
                }
              },
              {
                "source": "farms^farm3",
                "target": "__farms>^*",
                "type": "*",
                "time": "*",
                "value": 10,
                "title": "*",
                "color": "#FBB4AE",
                "opacity": 1,
                "data": {
                  "value": 10
                }
              },
              {
                "source": "farms^other",
                "target": "__farms>^*",
                "type": "*",
                "time": "*",
                "value": 3,
                "title": "*",
                "color": "#FBB4AE",
                "opacity": 1,
                "data": {
                  "value": 3
                }
              }
            ],
            "margins": {
              "top": 25,
              "bottom": 10,
              "left": 130,
              "right": 130
            },
            "node_position_attr": null,
            "nodes": [
              {
                "id": "farms^farm1",
                "title": "farm1",
                "direction": "r",
                "hidden": false,
                "type": "process",
                "fromElsewhere": [],
                "toElsewhere": []
              },
              {
                "id": "farms^farm3",
                "title": "farm3",
                "direction": "r",
                "hidden": false,
                "type": "process",
                "fromElsewhere": [],
                "toElsewhere": []
              },
              {
                "id": "farms^other",
                "title": "other",
                "direction": "r",
                "hidden": false,
                "type": "process",
                "fromElsewhere": [],
                "toElsewhere": []
              },
              {
                "id": "customers^James",
                "title": "James",
                "direction": "r",
                "hidden": false,
                "type": "process",
                "fromElsewhere": [],
                "toElsewhere": []
              },
              {
                "id": "customers^Mary",
                "title": "Mary",
                "direction": "r",
                "hidden": false,
                "type": "process",
                "fromElsewhere": [],
                "toElsewhere": []
              },
              {
                "id": "__farms>^*",
                "title": "→",
                "direction": "r",
                "hidden": false,
                "type": "group",
                "fromElsewhere": [],
                "toElsewhere": []
              }
            ],
            "order": [
              [
                [
                  "farms^farm1",
                  "farms^farm3",
                  "farms^other"
                ]
              ],
              [
                [
                  "customers^James",
                  "customers^Mary",
                  "__farms>^*"
                ]
              ]
            ],
            "png": "iVBORw0KGgoAAAANSUhEUgAAAjoAAAEsCAYAAADKLxnbAAAAAXNSR0IArs4c6QAAIABJREFUeF7tnQ3YbtWYx/9nlIg+SHUpcSRlSiEymVSHMjTVYdTJ1zRSOHFiEpJQ57gUjUmUUkcp5OuUuvqSKTXls+RjikE0GpQIKY0o8s6639bOPs953vd99rM/nrXv9dvX5XLO++691rp/97pOv+tea689T1wQgAAEIAABCEDAKYF5TuMiLAhAAAIQgAAEICBEh0kAAQhAAAIQgIBbAoiO29QSGAQgAAEIQAACiA5zAAIQgAAEIAABtwQQHbepJTAIQAACEIAABBAd5gAEIAABCEAAAm4JIDpuU0tgEIAABCAAAQggOswBCEAAAhCAAATcEkB03KaWwCAAAQhAAAIQQHSYAxCAAAQgAAEIuCWA6LhNLYFBAAIQgAAEIIDoMAcgAAEIQAACEHBLANFxm1oCgwAEIAABCEAA0WEOQAACEIAABCDglgCi4za1BAYBCEAAAhCAAKLDHIAABCAAAQhAwC0BRMdtagkMAhCAAAQgAAFEhzkAAQhAAAIQgIBbAoiO29QSGAQgAAEIQAACiA5zAAIQgAAEIAABtwQQHbepJTAIQAACEIAABBAd5gAEIAABCEAAAm4JIDpuU0tgEIAABCAAAQggOswBCEAAAhCAAATcEkB03KaWwCAAAQhAAAIQQHSYAxCAAAQgAAEIuCWA6LhNLYFBAAIQgAAEIIDoMAcgAAEIQAACEHBLANFxm1oCgwAEIAABCEAA0WEOQAACEIAABCDglgCi4za1BAYBCEAAAhCAAKLDHIAABCAAAQhAwC0BRMdtagkMAhCAAAQgAAFEhzkAAQhAAAIQgIBbAoiO29QSGAQgAAEIQAACiA5zAAIQgAAEIAABtwQQHbepJTAIQAACEIAABBAd5gAEIAABCEAAAm4JIDpuU0tgEIAABCAAAQggOswBCEAAAhCAAATcEkB03KaWwCAAAQhAAAIQQHSYAxCAAAQgAAEIuCWA6LhNLYFBAAIQgAAEIIDoMAcgAAEIQAACEHBLANFxm1oCgwAEIAABCEAA0WEOQAACEIAABCDglgCi4za1BAYBCEAAAhCAAKLDHIAABCAAAQhAwC0BRMdtagkMAhCAAAQgAAFEhzkAAQhAAAIQgIBbAoiO29RWCmzBokWL5q9YsWJ+pae4GQIQgECCBJYvXz5/8eLFZ0i6IsHhMaSOCSA6HQNPtLulNq6pqakjEx0fw4IABCAwMoFly5Zp6dKly8ID0/+2ceVNANHJO/9F9IgO8wACEHBDANFxk8pGAkF0GsHY+0YQnd6nkAAgAIGCAKLDXCgTQHSYD0YA0WEeQAACbghUFB1bsrd/AzeVdKMbCARyPwFEh8mA6DAHIAABVwQqis5Rkg6X9DhJP3YFgmCmCSA6TAREhzkAAQi4IoDouEpn7WAQndoIXTTA0pWLNBIEBCBgBGqKzmqSDpV0QFzOulPSxZKWSPq1pIdKulTSMZJ2kbRPpH6ipPdJen/pZ2dJel1o7654z8aS/k3SrqGKdI+kCyS9TdJv4+8fL+m9kp4taS1J11g4ki4is+MTQHTGZ+fpSUTHUzaJBQKZE6gpOkdEuTCZsXN4TD72k3SapFdKWkfS7RHxdZI+K+kfgvzsEH5/k6QHSrIzfLaWtJukt0p6j6QNJN0g6Q+STpH0sCBOB0WZ2Sncd7ekn8b2TZbs7wdKepSkzSX9KPO0jh0+ojM2OlcPIjqu0kkwEMibQE3RuV6SVXW2kPTnSPLLscLypJLo/FDSU2K1Zr1Y7bHbreLze0mrh2rOb2I16EXhueOCIB0s6bFBnP43trunpPMlLZJ0Vagi/Sz0c6ykN8XfbynpP6MQWXWIawwCiM4Y0Bw+gug4TCohQSBXAjVFx6TFqil/krRZEJW/i8tRJiFblUTn7UFmbCNzcU2F+8+UtG/pZ9fGN7leIMkE6o648bmcGqscfTzc9/JQwflFrPyYFF0YKkJXR2nKNZWNxI3oNIKx940gOr1PIQFAAAIFgVlE58FxacmEo7gG37qyKo39zJad7LI9OnYNis4hsUpTtPO7sMx0qiT7eXEVovNPkv4yS4Yuj/t9nhiWtD4Q9+gUt5sE/WtpHw+JrkgA0akIzOntiI7TxBIWBHIkMIvoWJVk94E3jm3/zFviktKtsapiImT7Y74eNiH/StKKWM0pV3SqiI5VdEyUTHxs+Wrw+mPc31P83KpKtufn1XG8xf6gHNNZO2ZEpzZCFw0gOi7SSBAQgIARmEV0TBj2D5uBHxmFxm6/LFZQHhE2EduHjb8R98TYW1R22ebi70syGakjOiZLO8c3uWwPj102DtvwbEtV/xVk66PxbS/bE2TXA4Ls/DxK0FPJ7ngEEJ3xuHl7CtHxllHigUDGBGYRHXt76vQgLLax90OSniXpHZLs7SnbaPxoST+R9JX4ttRDJL0+LmPZEpZVWezNKHvrqmpFZ7tYIbK23x03PFvb9vPHxHTdJsk2Ob9Z0s2Stpf0wbBv56T4envGWR0/dERnfHaenkR0PGWTWCCQOYFZRMcqJCYNtiRUXCYW9taTyY5dJj7vLP3+07HK8+9xCcteMbf9OCYpJ5Tus599OOzpeWPpZ+XNyPZjWzY7Ob4ybn+3vTnWrp3TY5edr2OvntvnKIrLXl+3PotX2jPPbvXwEZ3qzDw+geh4zCoxQSBTAiO8dWXLVFZFsQMAbe/M4EZhq+RsGKsq9gaWXRvF18WLv9eha/3fO8MGY/vvsp25Y6+p/zK8av5/dTriWT4BwRy4jwCiw0yAAATcEBhBdNzESiBzE6CiMzejunesGw+UsuO+U70QnVQzw7ggAIHKBBCdyshcP4DotJdeOw/hI3Gjme2oL5+t0F6vw1u21yfthM2FM3S8dJttttn42muvtaPGR7lmO4rcjjjnggAEIDAxAscff/xml1122dXnn3/+JyY2CDpOhgCi014q7OAo+yjcXvH7JsVGt/Z6XLVly+8e8Yhx2+n/zJlEx34+NTV1ZEuDs9cny9eVA3+f/v28efMG72tpODQLAQhAAAK5EEB02sv0JeErtWvOIhft9Xxfy/b6op0XYZva7Jqk6IwTayE9SNE49HgGAhCAAASmCSA6zU+EjSWdHQ+WWit+qG1ZOA/h87G6Yydw2rkJdn0pfPvkDZK+KWn9WHmxL90+OZzl8Ip4FLgdWb5LPEvB9tLsGKXFfv+E+N0UO2vhe7EtEyy7Xhx/b3+2ypKdDTGpik7zlP/a4qAQXUFlqE3ctA0BCECgXwQQnebzZRUUq6bYuQx22cFUdm6CvSpoZyaYkJwTT7w0qblJ0ibx1UU7IMrOU7BvrNjZDq8NUvOceDy5tWXt2FkKh4Xf2VHl1tdFYe/Nt+Kx4iZW9lrkXQNhzVVd8roZeRUJmrZ7lsian/W0CAEIQCBRAohOe4kZlAv7UJsdMGUHQd0Yu7VKzxGSHi7JKjcmOnbZpuEL4p+L77BYBeeM+LNj4+bm8tdzD4qHV20t6buIzkiJNREqlsaoBI2EjJsgAAEI9IsAotNevgZFZ+1YxbGPxdlBVSYkVvmxt6GsMrN6FB07BXPv0rAK0VkjLFMVr6gviUtZtnR1fbx3z7j0ta2kbyM6tRKLANXCx8MQgAAE0iGA6LSXi0HRMZk5Oixd7SPJlpjsKpafyqJjy1kmN8VViE45V6+Jx5jbc/ZlXbvs7SqrAiE67eW0LEDWC1Wg9ljTMgQgAIFGCCA6jWAc2sig6FwYv3NyYNyYbHtzFodNyPaF3LLo2DdY7HspiE57uWmjZapAbVClTQhAAAI1CSA6NQHO8nhZdIyzfUvl3PDhuBeWnrGv6NrXdO2bKqvFpatXhQ++2Rk8iE57uemyZQSoS9r0BQEIQGCAAKLT3pQYrOjYh+PWCW9TvTR++fb5pdOSXyLpi4hOe8lIsGWWwRJMCkOCAAT8EUB02supnZtjBwbuFLvYXdKnSvtzrglvWh0Tz9y5U9LmYSnrliA7gxUd29dj+3bKubIlL3vVvMoenQeVxjIYtdfXy9vLbnstcy5Qe2xpGQIQyJAAotNt0u3NKjtQ8LfhcD97+8oue7X83tLfux3Rfb0hOpOgXr1PlsGqM+MJCEAgcwKITuYTIIaP6PR7HqwkQBYKhyL2O6GMHgIQaI4AotMcyz63hOj0OXszj519QD7zSlQQgEAFAohOBViOb0V0HCd3htBYBssv50QMgSwJIDpZpn2VoBEd5kFBAAFiLkAAAq4IIDqu0jl2MIjO2OiyeZBlsGxSTaAQ8EUA0fGVz3GjQXTGJcdzRoAqEPMAAhBIlgCik2xqOh0YotMp7mw6Q4CySTWBQiBdAohOurnpcmSITpe06YtlMOYABCDQGQFEpzPUSXeE6CSdnqwGRxUoq3QTLATaJ4DotM+4Dz0gOn3IUt5jRIDyzj/RQ2BsAojO2OhcPYjouEpnVsGwDJZVugkWAtUJIDrVmXl8AtHxmNW8Y+LjqHnnn+ghcD8BRIfJYAQQHeZBTgRYBssp28SaPQFEJ/spMA0A0WEeQGDgPCADwsdRmRYQ6D8BRKf/OWwiAkSnCYq04ZUA+4C8Zpa4siCA6GSR5jmDRHTmRMQNEBhKgGUwJgYEEieA6CSeoI6Gh+h0BJpusiGAAGWTagJNnQCik3qGuhkfotMNZ3qBAMtgzAEIdEwA0ekYeKLdITqJJoZhZUWAKlBW6SbYrgggOl2RdtDP1NTUglnCGPa7nQfun+15B4QIAQKtEECAWsFKo7kQQHRyyXSCcZbEaVCACkFCjBLMG0NKhgDLYMmkgoGkTADRSTk7jG2awAxCZDKECDFHIDCcAFUgZgYEIgFEh6nQewJDRIiKUO+zSgAtEUCAWgJLs+kSQHTSzQ0ja4hAFKGi+kMlqCGuNOOKwCrfBrPoOBnaVY6zDQbRyTb1BD5EgAwKy2FMDQisSmClShASxBTpEwFEp0/ZYqydEBgQIOuTKlAn5OmkxwQGK0IWyvTPqAr1OKtOho7oOEkkYXRDgGWwbjjTi1sChRAVAV45JNKV7kGU3M6FzgJDdDpDTUeeCSBAnrNLbD0iMC1J++yzj84666xlRVWpR+NnqC0QQHRagEqTECgIsAzGXIBA9wSWLVumpUuXmuhMn/rOlTcBRCfv/BP9BAlQBZogfLp2TQDRcZ3eysEhOpWR8QAE2iWAALXLl9b9E0B0/Oe4SoSIThVa3AuBCRJgGWyC8Om6VwQQnV6lq/XBIjqtI6YDCLRLYIaToTkPqF3stJ4wAUQn4eRMYGiIzgSg0yUEuiLAMlhXpOknJQKITkrZmPxYEJ3J54ARQKBzApwK3TlyOuyQAKLTIewedIXo9CBJDBECXRFgH1BXpOmnTQKITpt0+9c2otO/nDFiCEyEAMtgE8FOp2MQQHTGgOb4EUTHcXIJDQJdEECAuqBMH1UIzCE6X5O0vaSTJb1mhnY/YwcsS7pY0j9W6Zt70yOA6KSXE0YEARcEWAZzkcZeBjGH6Hxd0naS7pS0oaQ/DAT5MEm3xZ/9h6Tn9RICg76fAKLDZIAABDonQBWoc+RZdTii6BiTvSSdMwDnAEmnIjp+pgyi4yeXRAKB3hNAgHqfwiQCGEF0bJwPkfQjSS8YGPSXJf1F0sbx90VFZ31J74r3byDpVkmnSXpH+N+9oUL0RknbSjpS0tGSni7pFkkXSjqq1Meaki6RdK6kY5MA5nwQiI7zBBMeBDwQYBnMQxa7i2FE0fl0FA0TmF/H0W0q6X8k7S/p7QOi80VJO0r6eKgEfUfSnvHv+0o6U9IJcV+PtbVJ2Af0eUkbhYrRNpIeHtr7c+xjoaTzJD03Ck93YDLtCdHJNPGEDQEvBKgCeclkc3GMKDovlPQzSQdKOiX2fnisvpiYfKMkOraX5xdBXJaHKs3ieK9VZn4fKkPvlXRoFJ2DJF0ahed2SftJOl3SrkGKLovPfSxKjlWMCvlpLnhaWoUAosOkgAAEXBJAgFymdaSgRhQdW1qyJaS1JD1Dkv338IYoOC+KlR1b2rKlq9UkrRs3MK8haYtw3x5hiesIScdJOqQkOk+SdF0cqLX9u9IbXg+Km5/fI+mtIwXDTbUJIDq1EdIABCDQJwIsg/UpW+ONtYLo/HNcinp8EJX1gtRcJcmWli4YEB0byN5xP44tRdn1Y0m21DUoOqsPVGpsY7O9qv4ISbuEvTufk7R1aO+740XHU1UJIDpViXE/BCDgkgAfR/WT1gqis7akO2JlxkTkFZJsz87dA6Jj1Z+rQ+XHXjdfKum/Y3XHqjUmMkVF5+WSrM3ytUNYurINzrtFWXpKEKmn+qGdfiSITvo5YoQQgMCECbAMNuEEVOy+guhYy5+Ie2geLOmjkl4Xu7NNycXS1cGxcvNkSdfG3z8uLnW9P8jSG+LS1TDRKZbErFpkG5gPk3RSxZC4vQYBRKcGPB6FAATyJsDHUdPMf0XRsUqLLSfZZdWXrw4RnZdI+mTcjPwRSfMlvTP8bHNJlwchepmkt0kaJjrW3JvipmX7s72a/qs0yfkcFaLjM69EBQEITJAA+4AmCD/sKh5BdOzcG9uAbJftqflNlI/Nwjk4UyXRuT5+AsI2Edvr6M8vRWavn28p6aXxUxJbzSI69pr5zfHsHHvbi6tDAohOh7DpCgIQgADLYO3PgRY/6mkblh8q6aZ4SODfxIMFTWLskMGZrqdJuiaK0vntE6CHMgFEh/kAAQhAIAECCFBzSWhRdKoO0s7jsW9nnRgOCbRNyHaQ4D1VG+H+egQQnXr8eBoCEIBAqwRYBquONyHRsbe4bE+PXcO+q1U9OJ6oTADRqYyMByAAAQikQYAq0PA8JCQ69sq6vallb3DdmMasyW8UiE5+OSdiCEDAOYHcBSgh0XE+0/oRHqLTjzwxSghAAAK1CeRyKCKiU3uquGoA0XGVToKBAAQgMB6BGSTIGlswXouTewrRmRz7FHtGdFLMCmOCAAQgkBiBISJkI9w5DjMpGUJ0Eps8Ex4OojPhBNA9BCAAAU8EZhCishQV4bYmR4iOpxlVPxZEpz5DDy3YPzhXlP6BWiWmefPmXeEhUGKAAATSJDDk358qIlRUlqaDO/vss7Vo0aIrw5/tA5xcmRNAdDKfADH86X8MpqamjmwAx6AQ2T82g9dK9yBRDVCnCQhAAAIQGEoA0WFiGIEmRacu0UKCyoI0/TOEqC5anocABCCQHwFEJ7+cD4s4JdEZNSNDhQgZGhUf90EAAhDIgwCik0ee54qyj6IzV0yDIkRVaC5i/B4CEICAQwKIjsOkjhGSR9GZC4OJT7E8dgWVoLlw8XsIQAAC/SSA6PQzb02POkfRmYlhWYDsHiSo6dlGexCAAAQ6JIDodAg74a4QndGSQxVoNE7cBQEIQCAZAohOMqmY6EAQnXr4EaB6/HgaAhCAQGsEEJ3W0PaqYUSnnXSxDNYOV1qFAAQgMDIBRGdkVK5vRHS6Ty9VoO6Z0yMEIJAhAUQnw6QPCRnRSWceIEDp5IKRQAACDgggOg6S2EAIiE4DEFtugmWwlgHTPAQg4JMAouMzr1WjQnSqEkvn/lUORuRMoHSSw0ggAIHJE0B0Jp+DFEaA6KSQhebHwDJY80xpEQIQ6BkBRKdnCWtpuIhOS2ATbXYlAbIxUgVKNFMMCwIQqE0A0amN0EUDiI6LNNYOgn1AtRHSAAQgkBoBRCe1jExmPIjOZLj3qVeWwfqULcYKAQjcTwDRYTIYAUSHeTAuAQRoXHI8BwEIdEIA0ekEc/KdIDrJp6h3A2QZrHcpY8AQ8EkA0fGZ16pRITpViXF/HQJUgerQ41kIQKASAUSnEi63NyM6blPbq8AQoF6li8FCoB8EEJ1+5KntUSI6bROm/ToEWAarQ49nIZA5AUQn8wkQw0d0mAd9JUAVqK+ZY9wQ6IgAotMR6MS7QXQSTxDDq0wAAaqMjAcg4JMAotN+XteVdJeke9rvauweEJ2x0fFgzwiwDNazhDFcCNQlgOjUJTjz80+U9BFJ20k6TtIh7XU1tOUHBsE6VNJCSY+U9B1Jx0v6/JC7EZ2Ok0N3yRHg46jJpYQBQaAZAohOMxyHtXKqpAOCYOwl6QZJ17XX1dCWPyZpX0mflHSrpJdK2kDScyR9YeAJRKfj5NBdrwiwDNardDFYCKxMANFpb0ZcImnNIBXPbK+LGVt+tKSfSDpG0mHxrq2jbJ0m6ZWIzgSyQpfeCPBxVG8ZJR6XBBCd5tO6saSzJW0laS1JV4WPQy+LS0ZW3XlLXM6ynr8k6Q2SvilpfUnnS3qrpCcHUXmFpA8EWXlwuG8XSR8MD1jlZcdQlflK/P0Twt6fw0Pb20v6XmzLBGtXSZfGn19dCvF3kuz3eyM6zSeeFiEQCbAPiKkAgYQIIDrNJ8OWh94taVFs+ixJJ0t6qKTLo5CcI+kBUWpukrSJpI0k3SzpYkm7haWmH4Ylp9fGpSaTI7usndtjlcaWo6yvi8I+nG+Fnx8cxeohcfOztX9vfG61uEfIKjy2nHUmotN84mkRAiMQYBlsBEjcAoEmCSA6TdJcua3BpSurzrxe0qaSboy3WqXniLBJ+OGxcmOiY5dtIL4g/vk9sQpkFZ4z4s+OjeLydklHxZ8dJOkESbZE9d3SUI4Mf57egxOft3YGL/botDcPaBkCoxBAgEahxD0QGIMAojMGtBEfGRSdtWMV5w5Jj4lCYpWfLWNlZvVY0fnswNJSITprlF5RXxKXsmzp6vo4nj3j0te2kr5dGuOz4lLYHpKeLaksR8VtiM6ISeU2CHRMgGWwjoHTnT8CiE57OR0UHVtmOjosXe0Tl5is52L5yX5XiI7t0TG5Ka5CdMq5ek2Qo5OiIP0q3mgiY1WgQdEp2rHnbZnLlsUeFJbN7i71gei0Nw9oGQJtEaAK1BZZ2nVFANFpL52DonOhpN0lHRg3JtvenMVhE/KJAxWdV0v6cE3Rsc3JL4tSc2eprUKQBmUI0WlvHtAyBLomgAB1TZz+kiaA6LSXnrLoGOe/SDo3vOL9wlKXp0vaT9KGkmzDsO3ReZUkO4OnTkXHRMcqPi+W9JlSW/Zq+f5hL896Yb/QbVR02ks+LUMgQQIsgyWYFIbUPgFEpz3GgxWdn4UTkteJB/fZa97PL52W/JKwf+aLDYrOL4Pk/CCGZhuX7R84qya9eYhs2W1UdNqbB7QMgdQJcCp06hlifLUIIDq18M36sH1qwQ4M3CneZaLxqdL+nGvigX525o4tL20elrJuGVLRsX09tm+nnCtb8rJXzW1vz0x7dHYIr6wvj5udi4HaM9aWvaJevhCd9uYBLUOgzwRWkSALZt68ecXP+xwbY8+EAKLTbaJtw7EdKPjbcLifvX1ll71abufdFH9vekQPi5UkWxb70wyNIzpNU6c9CORBYFCELOrpnyFDeUyAPkSJ6PQhS+2PEdFpnzE9QCBnAsOE6H4pKsAgRzlPkfZiR3TaY9unlhGdPmWLsUIgHwKjLJFdOYhj2bJlWrp0qT07yvP50Mw0UkQn08QPhI3oMA8gAAE3BKLo2MnzxanwbmIjkOoEEJ3qzDw+geh4zCoxQSBTAohOpomfIWxEh/lgBBAd5gEEIOCGAKLjJpWNBILoNIKx940gOr1PIQFAAAIFAUSHuVAmgOgwH6joMAcgAAFXBBAdV+msHQyiUxuhiwao6LhII0FAAAJGANFhHlDRYQ4MEkB0mBMQgIAbAoiOm1Q2EggVnUYw9r4RRKf3KSQACECgIIDoMBeo6DAHqOgwByAAAbcEEB23qR0rMCo6Y2Fz9xAVHXcpJSAI5EsA0ck398MiR3SYD0YA0WEeQAACbgggOm5S2UggiE4jGHvfCKLT+xQSAAQgUBBAdJgLZQKIDvOBig5zAAIQcEUA0XGVztrBIDq1EbpogIqOizQSBAQgYAQQHeYBFR3mwCABRIc5AQEIuCGA6LhJZSOBUNFpBGPvG0F0ep9CAoAABAoCiA5zgYoOc4CKDnMAAhBwSwDRcZvasQKjojMWNncPUdFxl1ICgkC+BBCdfHM/LHJEh/lgBBAd5gEEIOCGAKLjJpWNBILoNIKx940gOr1PIQFAAAIFAUSHuVAmgOgwH6joMAcgAAFXBBAdV+msHQyiUxuhiwao6LhII0FAAAJGANFhHlDRYQ4MElggacHU1NTOpV/Yz7ggAAEI9I4AotO7lLU6YCo6reLNo/GpqalBKRomSUhUHtOBKCEwcQKIzsRTkNQAEJ2k0pHfYEqSVJajQoqoKuU3JYgYArUJIDq1EbpqANFxlU6/wUQhGpQhRMhvyokMAmMTQHTGRufyQUTHZVrzCmpIVYiKUF5TgGghsBIBRIcJUSaA6DAfXBOYQYKoBLnOOsHlTgDRyX0GrBw/osN8yJbAwHKYVYEQoGxnA4F7IoDoeMpm/VgQnfoMacEZgSECZBEiQc7yTDh+CSA6fnM7TmSIzjjUeCZLAmyIzjLtBN1DAohOD5PW4pARnRbh0nQ+BFgGyyfXRJo+AUQn/Rx1OUJEp0va9JUdAQQou5QTcAIEEJ0EkpDQEBCdhJLBUPIhwDJYPrkm0u4JIDrdM0+5R0Qn5ewwtiwJUAXKMu0E3SABRKdBmA6aQnQcJJEQ8iCAAOWRZ6KsTwDRqc/QUwuIjqdsEkuWBFgGyzLtBD0LAUSH6VEmgOgwHyDglACnQjtNLGHNSQDRmRNRVjcgOlmlm2AhcB8BlsGYCZ4JNCQ68yXdLekWz6xyiA3RySHLxAiBEQmwDDYiKG5LmkBDorOdpHMkPVPST5IOmMHNSgDRYYJAAAJzEkCA5kTEDQkRaEh0LKKPSXqWpN0lXZdQiAylAgFEpwIsboUABFYlwDIYsyI1ArOIzl5hKWpxhfFuGKo628T7F0q6oMKz3JoIAUQnkUQwDAh4I8DHUb1ltD/xzCI6G4UqzaYVItk1bGk7UtJpkt4k6fYKz3JrIgQQnUQSwTAgkAsBlsFyyfTk4mzAc103AAAIfUlEQVRo6WqNuFx1iqT3TS4aeq5LANGpS5DnIQCBxgiwDNYYyqwbakh0dpO0haT3Zw3TQfCIjoMkEgIEvBNAgLxnuNn4GhKdZgdFaxMjgOhMDD0dQwACdQmwDFaXoM/nER2feR03KkRnXHI8BwEIJE2AKlDS6Wl1cIhOq3h71zii07uUMWAIQKAOAQSoDr1+PIvo9CNPXY0S0emKNP1AAAJJE2AZLOn0VBocolMJl/ubER33KSZACECgDgE+jlqH3mSeRXQmwz3VXhGdVDPDuCAAgeQJsAyWZooQnTTzMqlRITqTIk+/EICAWwKcCj3Z1CI6k+WfWu+ITmoZYTwQgIBbAuwD6ia1iE43nPvSC6LTl0wxTghAwDUBlsGaSy+i0xxLDy0hOh6ySAwQgIBbAghQ9dQiOtWZeX4C0fGcXWKDAATcEmAZbObUIjpup/1YgSE6Y2HjIQhAAALpEsi9CoTopDs3JzEyRGcS1OkTAhCAwAQI5HImEKIzgcmVcJeITsLJYWgQgAAEuiTg5bV4RKfLWZN+X4hO+jlihBCAAASSIDCkImTj2jkObkESg5SE6KSSiTTGgeikkQdGAQEIQMANgRmEqIivEKPi740LEqLjZio1Egii0wjG3jeyYOHChRufd9556/U+EgKAAAT6TmCzOQJ4/FwBLlmyZLOTTjrpE+G+pXPdy+/9E0B0/Od4lAin/zGYmpo6cpSbuQcCEIBAygSo6KScne7Hhuh0zzzFHhGdFLPCmCAAgbEIIDpjYXP7EKLjNrWVAkN0KuHiZghAIGUCiE7K2el+bIhO98xn63F9SU+X9DVJt8Ubvy7p55Je0OJQEZ0W4dI0BCDQLQFEp1veqfeG6KSVoV0kfUHSDpK+Gof2TUk3S1rY4lARnRbh0jQEINAtAUSnW96p94bopJUhRCetfDAaCECghwQQnR4mrcUhIzotwh3S9Ksk7S9pe0nXSTpX0tGS7on/v5ekzSX9UNL343KVVXRukXSVpNdJ2kDSVyQtkXRtqY8DJL1W0rahInSppFMkfTb+/tmSjpK0t6TDJO0jaSdJ18ffU9Hpdh7QGwQg0CIBRKdFuD1sGtHpLmkmGodLukbShXEvzu6SLpK0RxSXPcP+nOdKujiKzhslmeiYvNwp6UOS7Kwbk5ofS9pC0p8lvUPSOyWdF++3/Tz2jInTOZIWSVoR290tjsH6+iWi090EoCcIQKAbAohON5z70gui002mNgmVnJ+GKsrloTLzPEl/it0eH6s0z4l7c2ZaujJpsf99Oz53jKRDJT02tnVTEKATwgbm18ffrx6rPutEGSpE59Z4XPsPBsKmotPNPKAXCECgAwKITgeQe9QFotNNsgrRsGrNJaUuN5ZkkvKuWJWZSXTskaeWnrONyVa9MfnZVNLZUZjKAmN9vlrSE0JVZ5tY0TlI0olDQkZ0upkH9AIBCHRAANHpAHKPukB0uknWIZKOjdJR7Ispep6SdKakfSWNuhnZlrouiKJjz7x3ljB2DPt1HhlFp/w2V/kRRKebeUAvEIBABwQQnQ4g96gLRKebZO0n6XRJz4ibiote15Z0h6TjJJkMjSM6W0n6uCTbe3PDkHDsDB7bC2R7dLaMe38Gb0N0upkH9AIBCHRAANHpAHKPukB0uknWU8I5ON8a2EdjPdum4lPDxuJ/ibIyjujcG9++OljSB0rhHBGk5kVh4/PT4mZnE52/lTS4P8ceQXS6mQf0AgEIdEAA0ekAco+6QHS6S9b54Y0oe9PJNhLbm1a258YqOfb2lAmIvWL+93ET8cnhrazPxeWpYQcGlpeubIOyvcVlVRt7ddxeQ98uLme9Lb62XuwRQnS6yzc9QQACEyKA6EwIfKLdIjrdJWatuE/HztIpLnuN3DYM24Zku9aMm5VtL429IbWhpGGfgDCpMbkp3sRaV5K9wWX7fOyyZ62C85bwdtZdpdfLEZ3u8k1PEIDAhAggOhMCn2i3iE73iVktLFc9StIvQgXmjw13b23bm1z2Krttch71YulqVFLcBwEIJE8A0Uk+RZ0OENHpFHeynSE6yaaGgUEAAlUJIDpVifm+H9Hxnd9Ro0N0RiXFfRCAQPIEEJ3kU9TpABGdTnEn29mCRYsWzV+xYsX8ZEfIwCAAAQiMSGD58uXzFy9efIakK0Z8hNscE0B0HCeX0CAAAQhAAAK5E0B0cp8BxA8BCEAAAhBwTADRcZxcQoMABCAAAQjkTgDRyX0GED8EIAABCEDAMQFEx3FyCQ0CEIAABCCQOwFEJ/cZQPwQgAAEIAABxwQQHcfJJTQIQAACEIBA7gQQndxnAPFDAAIQgAAEHBNAdBwnl9AgAAEIQAACuRNAdHKfAcQPAQhAAAIQcEwA0XGcXEKDAAQgAAEI5E4A0cl9BhA/BCAAAQhAwDEBRMdxcgkNAhCAAAQgkDsBRCf3GUD8EIAABCAAAccEEB3HySU0CEAAAhCAQO4EEJ3cZwDxQwACEIAABBwTQHQcJ5fQIAABCEAAArkTQHRynwHEDwEIQAACEHBMANFxnFxCgwAEIAABCOROANHJfQYQPwQgAAEIQMAxAUTHcXIJDQIQgAAEIJA7AUQn9xlA/BCAAAQgAAHHBBAdx8klNAhAAAIQgEDuBBCd3GcA8UMAAhCAAAQcE0B0HCeX0CAAAQhAAAK5E0B0cp8BxA8BCEAAAhBwTADRcZxcQoMABCAAAQjkTgDRyX0GED8EIAABCEDAMQFEx3FyCQ0CEIAABCCQOwFEJ/cZQPwQgAAEIAABxwQQHcfJJTQIQAACEIBA7gQQndxnAPFDAAIQgAAEHBNAdBwnl9AgAAEIQAACuRNAdHKfAcQPAQhAAAIQcEwA0XGcXEKDAAQgAAEI5E4A0cl9BhA/BCAAAQhAwDGB/wcbwZ20nTvp5gAAAABJRU5ErkJggg==",
            "rank_sets": [],
            "scale": 6.309523809523809,
            "show_link_info_html": false,
            "svg": "<?xml version=\"1.0\" standalone=\"no\"?><!DOCTYPE svg PUBLIC \"-//W3C//DTD SVG 1.1//EN\" \"http://www.w3.org/Graphics/SVG/1.1/DTD/svg11.dtd\"><svg xmlns=\"http://www.w3.org/2000/svg\" width=\"0.08648736767712328\" height=\"0.04551966719848594\" viewBox=\"0 0 570 300\" style=\"font-family: &quot;Helvetica Neue&quot;, Helvetica, Arial, sans-serif;\"><g class=\"sankey\" transform=\"translate(130,25)\"><g class=\"groups\"><g class=\"group\" transform=\"translate(0,26.5)\" style=\"display: none;\"><rect x=\"-10\" y=\"-20\" width=\"21\" height=\"242\" style=\"fill: rgb(0, 0, 0); stroke: rgb(187, 187, 187); stroke-width: 0.999924;\"/><text x=\"-10\" y=\"-25\" style=\"fill: rgb(0, 0, 0);\"/></g><g class=\"group\" transform=\"translate(309,26.5)\" style=\"display: none;\"><rect x=\"-10\" y=\"-20\" width=\"21\" height=\"120.22619047619048\" style=\"fill: rgb(0, 0, 0); stroke: rgb(187, 187, 187); stroke-width: 0.999924;\"/><text x=\"-10\" y=\"-25\" style=\"fill: rgb(0, 0, 0);\"/></g></g><g class=\"links\"><g class=\"link\" style=\"opacity: 0.99997;\"><path d=\"M1,26.500000000000004 A0 0 0 0 0 1,26.500000000000004 L309,26.500000000000004 A0 0 0 0 0 309,26.500000000000004 L309,45.42857142857143 A0 0 0 0 0 309,45.42857142857143 L1,45.42857142857143 A0 0 0 0 0 1,45.42857142857143 Z\" style=\"fill: rgb(255, 255, 255);\"/><title>farm1 → James\n*\n3.00</title><text class=\"label\" dy=\"0.35em\" x=\"5\" y=\"35.964285714285715\"/></g><g class=\"link\" style=\"opacity: 0.99997;\"><path d=\"M1,219.57142857142858 A0 0 0 0 0 1,219.57142857142858 L309,219.57142857142858 A0 0 0 0 0 309,219.57142857142858 L309,238.50000000000003 A0 0 0 0 0 309,238.50000000000003 L1,238.50000000000003 A0 0 0 0 0 1,238.50000000000003 Z\" style=\"fill: rgb(255, 255, 255);\"/><title>other → →\n*\n3.00</title><text class=\"label\" dy=\"0.35em\" x=\"5\" y=\"229.0357142857143\"/></g><g class=\"link\" style=\"opacity: 0.99997;\"><path d=\"M1,45.42857142857143 A379.7136680143755 379.7136680143755 0.1572842447112306 0 1 60.477040723538124,50.11563864814738 L254.4644696325096,80.88091818997485 A348.1660489667565 348.1660489667565 0.1572842447112306 0 0 309,85.17857142857142 L309,116.72619047619045 A379.7136680143755 379.7136680143755 0.1572842447112306 0 1 249.52295927646188,112.0391232566145 L55.535530367490395,81.27384371478703 A348.1660489667565 348.1660489667565 0.1572842447112306 0 0 1,76.97619047619048 Z\" style=\"fill: rgb(255, 255, 255);\"/><title>farm1 → Mary\n*\n5.00</title><text class=\"label\" dy=\"0.35em\" x=\"5\" y=\"61.202380952380956\"/></g><g class=\"link\" style=\"opacity: 0.99997;\"><path d=\"M1,116.72619047619044 A395.487477538185 395.487477538185 0.1572842447112306 0 1 62.94779590156198,121.60796468625608 L256.93522481053344,152.37324422808362 A332.3922394429469 332.3922394429469 0.1572842447112306 0 0 309,156.47619047619048 L309,219.57142857142856 A395.487477538185 395.487477538185 0.1572842447112306 0 1 247.052204098438,214.68965436136293 L53.06477518946652,183.9243748195354 A332.3922394429469 332.3922394429469 0.1572842447112306 0 0 1,179.82142857142853 Z\" style=\"fill: rgb(255, 255, 255);\"/><title>farm3 → →\n*\n10.0</title><text class=\"label\" dy=\"0.35em\" x=\"5\" y=\"148.27380952380952\"/></g></g><g class=\"nodes\"><g class=\"node\" transform=\"translate(0,26.5)\"><title>farm1</title><line x1=\"0\" x2=\"0\" y1=\"0\" y2=\"50.47619047619048\" style=\"display: inline; stroke: rgb(0, 0, 0);\"/><rect class=\"node-body\" width=\"1\" height=\"50.47619047619048\" style=\"fill: none;\"/><text class=\"node-value\" dy=\".35em\" text-anchor=\"middle\" transform=\"translate(0.5,25.23809523809524) rotate(-90)\" style=\"display: none;\"/><text class=\"node-title\" dy=\".35em\" text-anchor=\"end\" transform=\"translate(-4,25.23809523809524)\" style=\"display: inline;\">farm1</text><rect class=\"node-click-target\" x=\"-5\" y=\"-5\" width=\"10\" height=\"55.47619047619048\" style=\"fill: none; visibility: hidden; pointer-events: all;\"/></g><g class=\"node\" transform=\"translate(0,116.72619047619048)\"><title>farm3</title><line x1=\"0\" x2=\"0\" y1=\"0\" y2=\"63.0952380952381\" style=\"display: inline; stroke: rgb(0, 0, 0);\"/><rect class=\"node-body\" width=\"1\" height=\"63.0952380952381\" style=\"fill: none;\"/><text class=\"node-value\" dy=\".35em\" text-anchor=\"middle\" transform=\"translate(0.5,31.54761904761905) rotate(-90)\" style=\"display: none;\"/><text class=\"node-title\" dy=\".35em\" text-anchor=\"end\" transform=\"translate(-4,31.54761904761905)\" style=\"display: inline;\">farm3</text><rect class=\"node-click-target\" x=\"-5\" y=\"-5\" width=\"10\" height=\"68.0952380952381\" style=\"fill: none; visibility: hidden; pointer-events: all;\"/></g><g class=\"node\" transform=\"translate(0,219.57142857142858)\"><title>other</title><line x1=\"0\" x2=\"0\" y1=\"0\" y2=\"18.928571428571416\" style=\"display: inline; stroke: rgb(0, 0, 0);\"/><rect class=\"node-body\" width=\"1\" height=\"18.928571428571416\" style=\"fill: none;\"/><text class=\"node-value\" dy=\".35em\" text-anchor=\"middle\" transform=\"translate(0.5,9.464285714285708) rotate(-90)\" style=\"display: none;\"/><text class=\"node-title\" dy=\".35em\" text-anchor=\"end\" transform=\"translate(-4,9.464285714285708)\" style=\"display: inline;\">other</text><rect class=\"node-click-target\" x=\"-5\" y=\"-5\" width=\"10\" height=\"23.928571428571416\" style=\"fill: none; visibility: hidden; pointer-events: all;\"/></g><g class=\"node\" transform=\"translate(309,26.5)\"><title>James</title><line x1=\"0\" x2=\"0\" y1=\"0\" y2=\"18.92857142857143\" style=\"display: inline; stroke: rgb(0, 0, 0);\"/><rect class=\"node-body\" width=\"1\" height=\"18.92857142857143\" style=\"fill: none;\"/><text class=\"node-value\" dy=\".35em\" text-anchor=\"middle\" transform=\"translate(0.5,9.464285714285715) rotate(-90)\" style=\"display: none;\"/><text class=\"node-title\" dy=\".35em\" text-anchor=\"start\" transform=\"translate(5,9.464285714285715)\" style=\"display: inline;\">James</text><rect class=\"node-click-target\" x=\"-5\" y=\"-5\" width=\"10\" height=\"23.92857142857143\" style=\"fill: none; visibility: hidden; pointer-events: all;\"/></g><g class=\"node\" transform=\"translate(309,85.17857142857143)\"><title>Mary</title><line x1=\"0\" x2=\"0\" y1=\"0\" y2=\"31.54761904761905\" style=\"display: inline; stroke: rgb(0, 0, 0);\"/><rect class=\"node-body\" width=\"1\" height=\"31.54761904761905\" style=\"fill: none;\"/><text class=\"node-value\" dy=\".35em\" text-anchor=\"middle\" transform=\"translate(0.5,15.773809523809526) rotate(-90)\" style=\"display: none;\"/><text class=\"node-title\" dy=\".35em\" text-anchor=\"start\" transform=\"translate(5,15.773809523809526)\" style=\"display: inline;\">Mary</text><rect class=\"node-click-target\" x=\"-5\" y=\"-5\" width=\"10\" height=\"36.54761904761905\" style=\"fill: none; visibility: hidden; pointer-events: all;\"/></g><g class=\"node\" transform=\"translate(309,156.47619047619048)\"><title>→</title><line x1=\"0\" x2=\"0\" y1=\"0\" y2=\"82.02380952380952\" style=\"display: inline; stroke: rgb(0, 0, 0);\"/><rect class=\"node-body\" width=\"1\" height=\"82.02380952380952\" style=\"fill: none;\"/><text class=\"node-value\" dy=\".35em\" text-anchor=\"middle\" transform=\"translate(0.5,41.01190476190476) rotate(-90)\" style=\"display: none;\"/><text class=\"node-title\" dy=\".35em\" text-anchor=\"start\" transform=\"translate(5,41.01190476190476)\" style=\"display: inline;\">→</text><rect class=\"node-click-target\" x=\"-5\" y=\"-5\" width=\"10\" height=\"87.02380952380952\" style=\"fill: none; visibility: hidden; pointer-events: all;\"/></g></g><g class=\"slice-titles\"/></g></svg>"
          }
        },
        "9a466b704ee449dfa0db162d28a4bb2b": {
          "model_module": "@jupyter-widgets/base",
          "model_name": "LayoutModel",
          "model_module_version": "1.2.0",
          "state": {
            "_model_module": "@jupyter-widgets/base",
            "_model_module_version": "1.2.0",
            "_model_name": "LayoutModel",
            "_view_count": null,
            "_view_module": "@jupyter-widgets/base",
            "_view_module_version": "1.2.0",
            "_view_name": "LayoutView",
            "align_content": null,
            "align_items": null,
            "align_self": null,
            "border": null,
            "bottom": null,
            "display": null,
            "flex": null,
            "flex_flow": null,
            "grid_area": null,
            "grid_auto_columns": null,
            "grid_auto_flow": null,
            "grid_auto_rows": null,
            "grid_column": null,
            "grid_gap": null,
            "grid_row": null,
            "grid_template_areas": null,
            "grid_template_columns": null,
            "grid_template_rows": null,
            "height": "300",
            "justify_content": null,
            "justify_items": null,
            "left": null,
            "margin": null,
            "max_height": null,
            "max_width": null,
            "min_height": null,
            "min_width": null,
            "object_fit": null,
            "object_position": null,
            "order": null,
            "overflow": null,
            "overflow_x": null,
            "overflow_y": null,
            "padding": null,
            "right": null,
            "top": null,
            "visibility": null,
            "width": "570"
          }
        },
        "30c35955b0c94478a08a2cf770ab8503": {
          "model_module": "jupyter-sankey-widget",
          "model_name": "SankeyModel",
          "model_module_version": "^0.5.0",
          "state": {
            "_dom_classes": [],
            "_model_module": "jupyter-sankey-widget",
            "_model_module_version": "^0.5.0",
            "_model_name": "SankeyModel",
            "_view_count": null,
            "_view_module": "jupyter-sankey-widget",
            "_view_module_version": "^0.5.0",
            "_view_name": "SankeyView",
            "align_link_types": false,
            "groups": [
              {
                "id": "farms",
                "type": "process",
                "title": "",
                "nodes": [
                  "farms^farm1",
                  "farms^farm3",
                  "farms^other"
                ]
              },
              {
                "id": "customers",
                "type": "process",
                "title": "",
                "nodes": [
                  "customers^James",
                  "customers^Mary"
                ]
              }
            ],
            "layout": "IPY_MODEL_6208bfec1b8c4ea89006cbd13dcd2e32",
            "linkLabelFormat": "",
            "linkLabelMinWidth": 5,
            "links": [
              {
                "source": "farms^farm1",
                "target": "customers^James",
                "type": "*",
                "time": "*",
                "value": 3,
                "title": "*",
                "color": "#FBB4AE",
                "opacity": 1,
                "data": {
                  "value": 3
                }
              },
              {
                "source": "farms^farm1",
                "target": "customers^Mary",
                "type": "*",
                "time": "*",
                "value": 5,
                "title": "*",
                "color": "#FBB4AE",
                "opacity": 1,
                "data": {
                  "value": 5
                }
              },
              {
                "source": "farms^farm3",
                "target": "exports^*",
                "type": "*",
                "time": "*",
                "value": 10,
                "title": "*",
                "color": "#FBB4AE",
                "opacity": 1,
                "data": {
                  "value": 10
                }
              },
              {
                "source": "farms^other",
                "target": "exports^*",
                "type": "*",
                "time": "*",
                "value": 3,
                "title": "*",
                "color": "#FBB4AE",
                "opacity": 1,
                "data": {
                  "value": 3
                }
              }
            ],
            "margins": {
              "top": 25,
              "bottom": 10,
              "left": 130,
              "right": 130
            },
            "node_position_attr": null,
            "nodes": [
              {
                "id": "farms^farm1",
                "title": "farm1",
                "direction": "r",
                "hidden": false,
                "type": "process",
                "fromElsewhere": [],
                "toElsewhere": []
              },
              {
                "id": "farms^farm3",
                "title": "farm3",
                "direction": "r",
                "hidden": false,
                "type": "process",
                "fromElsewhere": [],
                "toElsewhere": []
              },
              {
                "id": "farms^other",
                "title": "other",
                "direction": "r",
                "hidden": false,
                "type": "process",
                "fromElsewhere": [],
                "toElsewhere": []
              },
              {
                "id": "customers^James",
                "title": "James",
                "direction": "r",
                "hidden": false,
                "type": "process",
                "fromElsewhere": [],
                "toElsewhere": []
              },
              {
                "id": "customers^Mary",
                "title": "Mary",
                "direction": "r",
                "hidden": false,
                "type": "process",
                "fromElsewhere": [],
                "toElsewhere": []
              },
              {
                "id": "exports^*",
                "title": "exports here",
                "direction": "r",
                "hidden": false,
                "type": "group",
                "fromElsewhere": [],
                "toElsewhere": []
              }
            ],
            "order": [
              [
                [
                  "farms^farm1",
                  "farms^farm3",
                  "farms^other"
                ]
              ],
              [
                [
                  "customers^James",
                  "customers^Mary",
                  "exports^*"
                ]
              ]
            ],
            "png": "iVBORw0KGgoAAAANSUhEUgAAAjoAAAEsCAYAAADKLxnbAAAAAXNSR0IArs4c6QAAIABJREFUeF7tnQnUJUV5ht+J4M6iKB5FFBHRgKCiGAwCo2gMYdEIg0tCRFAHBQ2iIqLCjBEiMQQFQRw3EnHJgBA2MSIEXFGiBjQqSjRREMUViago/ql3rCY9Pff//7t13+qqp8/xOHNvd1V9z1dneM5XVX2XiAsCEIAABCAAAQhkSmBJpnERFgQgAAEIQAACEBCiwySAAAQgAAEIQCBbAohOtqklMAhAAAIQgAAEEB3mAAQgAAEIQAAC2RJAdLJNLYFBAAIQgAAEIIDoMAcgAAEIQAACEMiWAKKTbWoJDAIQgAAEIAABRIc5AAEIQAACEIBAtgQQnWxTS2AQgAAEIAABCCA6zAEIQAACEIAABLIlgOhkm1oCgwAEIAABCEAA0WEOQAACEIAABCCQLQFEJ9vUEhgEIAABCEAAAogOcwACEIAABCAAgWwJIDrZppbAIAABCEAAAhBAdJgDEIAABCAAAQhkSwDRyTa1BAYBCEAAAhCAAKLDHIAABCAAAQhAIFsCiE62qSUwCEAAAhCAAAQQHeYABCAAAQhAAALZEkB0sk0tgUEAAhCAAAQggOgwByAAAQhAAAIQyJYAopNtagkMAhCAAAQgAAFEhzkAAQhAAAIQgEC2BBCdbFNLYBCAAAQgAAEIIDrMAQhAAAIQgAAEsiWA6GSbWgKDAAQgAAEIQADRYQ5AAAIQgAAEIJAtAUQn29QSGAQgAAEIQAACiA5zAAIQgAAEIACBbAkgOtmmlsAgAAEIQAACEEB0mAMQgAAEIAABCGRLANHJNrUEBgEIQAACEIAAosMcgAAEIAABCEAgWwKITrapJTAIQAACEIAABBAd5gAEIAABCEAAAtkSQHSyTS2BQQACEIAABCCA6DAHIAABCEAAAhDIlgCik21qCQwCEIAABCAAAUSHOQABCEAAAhCAQLYEEJ1sU0tgEIAABCAAAQggOswBCEAAAhCAAASyJYDoZJtaAoMABCAAAQhAANFhDkAAAhCAAAQgkC0BRCfb1BIYBCAAAQhAAAKIDnMAAhCAAAQgAIFsCSA62aaWwCAAAQhAAAIQQHSYAxCAAAQgAAEIZEsA0ck2tQQGAQhAAAIQgACiwxyAAAQgAAEIQCBbAohOtqkdKbCly5Yt22L16tVbjPQUN0MAAhBIkMCqVau2WL58+RmSLk9weAypYwKITsfAE+1uhcc1Nzd3bKLjY1gQgAAEhiawcuVKrVixYmV4YM2/bVxlE0B0ys5/FT2iwzyAAASyIYDoZJPKqQSC6EwFY+8bQXR6n0ICgAAEKgKIDnOhTgDRYT6YAKLDPIAABLIhMKLoeMne/wZuKenb2UAgkDsIIDpMBkSHOQABCGRFYETROU7S0ZIeKulbWYEgmDUEEB0mAqLDHIAABLIigOhklc6Jg0F0JkaYRQMsXWWRRoKAAARMYELRWU/SkZIOjstZt0i6WNKhkn4k6Z6SLpF0gqTdJe0fqZ8q6R8kvaX22VmSXhrauzXes5mkv5P0lFBFuk3SBZJeK+mn8fuHSXqzpCdL2kDSVQ5H0kVkdnwCiM747HJ6EtHJKZvEAoHCCUwoOsdEubDM+D08lo8DJb1b0gskbSTpZxHxNZI+LOlPgvzsHL6/XtKdJfkdPttJ2kPSayS9SdKmkq6T9EtJ75B0ryBOh0WZ2TXc92tJ34ntW5b890MkPVDS1pK+WXhaxw4f0RkbXVYPIjpZpZNgIFA2gQlF51pJruo8XNJvI8lPxQrLo2qi8w1Jj4nVmk1itce3u+LzC0nrh2rOj2M16FnhuZOCIB0u6SFBnP47tru3pPMlLZN0ZagifTf0c6KkV8bvt5H0b1GIXB3iGoMAojMGtAwfQXQyTCohQaBUAhOKjqXF1ZTfSNoqiMofxeUoS8i2NdF5XZAZb2Surrlw/5mSDqh9dnU8yfUMSRaom+PG53pqXDl6X7jveaGC8/1Y+bEUXRgqQp+L0lRqKqcSN6IzFYy9bwTR6X0KCQACEKgILCA6d4tLSxaO6mqeunKVxp952cmX9+j4aorOEbFKU7Xz87DM9C5J/ry6KtH5c0m/WyBDl8X9Po8MS1pvjXt0qtstQX9d28dDokckgOiMCCzT2xGdTBNLWBAokcACouMqyZ6NE8feP/PquKR0U6yqWIS8P+bzYRPyDyWtjtWcekVnFNFxRceiZPHx8lXz+lXc31N97qqS9/y8KI632h9UYjonjhnRmRhhFg0gOlmkkSAgAAETWEB0LAwHhc3A949C49svjRWU+4RNxP5h43+Pe2J8isqXNxd/TZJlZBLRsSztFk9yeQ+PL4/DG569VPUfQbb+MZ728p4gX3cKsvO9KEGPJbvjEUB0xuOW21OITm4ZJR4IFExgAdHx6an3BmHxxt63S3qSpNdL8ukpbzR+kKT/kfTpeFrqHpJeFpexvITlKotPRvnU1agVnR1jhcht/23c8Oy2/fmDY7p+IsmbnF8l6QZJO0l6W9i3c1o83l5wVscPHdEZn11OTyI6OWWTWCBQOIEFRMcVEkuDl4Sqy2LhU0+WHV8WnzfUvv9QrPL8fVzC8hFz78expJxSu8+fvTPs6XlF7bP6ZmR/7GWz0+ORcf/de3Pcrt/T48vv1/HRc/8cRXX5+Lr7rI60F57d0cNHdEZnluMTiE6OWSUmCBRKYIhTV16mchXFLwD03pnmRmFXcu4Xqyo+geXrAfG4ePX3Sei6/9vn2WDs/y77nTs+pv6DcNT8fyfpiGf5CQjmwO8JIDrMBAhAIBsCQ4hONrESyOIEqOgszmjSOzaOL5Ty675TvRCdVDPDuCAAgZEJIDojI8v6AUSnvfT6fQjviRvNvKO+/m6F9nod3LKPT/oNm/vM0/GK7bfffrOrr77arxof5lroVeR+xTkXBCAAgZkROPnkk7e69NJLP3f++ee/f2aDoONkCCA67aXCL47yj8LtG3/fpNro1l6P67bs/O4VXzHunf5PnE90/Pnc3NyxLQ3Oxyfr1xWNv6/5fsmSJc37WhoOzUIAAhCAQCkEEJ32Mv2x8Cu1d19ALtrr+fct+/ii3xfhTW2+Zik648RaSQ9SNA49noEABCAAgTUEEJ3pT4TNJJ0dXyy1QfyhtpXhfQgfjdUdv4HT703w9cnw2ycvl/QFSfeNlRf/0u2jw7scnh9fBe5Xlu8e36XgvTS7RGnx94+Iv5vidy18NbZlwfL17Pi9/+zKkt8NMauKzvQp/3+LTSG6nMpQm7hpGwIQgEC/CCA608+XKyiupvi9DL78Yiq/N8FHBf3OBAvJOfGNl5aa6yVtHo8u+gVRfp+Cf2PF73Z4SZCap8bXk7stt+N3KRwVvvOryt3XRWHvzRfja8UtVj4WeWsjrMWqS7luRl5HgtbYPUtk05/1tAgBCEAgUQKITnuJacqFf6jNL5jyi6C+Hbt1pecYSfeW5MqNRceXNw1fEP9c/Q6LKzhnxM9OjJub67+ee1h8edV2kr6C6AyVWItQtTRGJWgoZNwEAQhAoF8EEJ328tUUnQ1jFcc/FucXVVlIXPnxaShXZtaPouO3YO5XG1YlOncJy1TVEfVD41KWl66ujffuHZe+dpD0JURnosQiQBPh42EIQAAC6RBAdNrLRVN0LDPHh6Wr/SV5iclXtfxUFx0vZ1luqqsSnXquXhxfY+7n/Mu6vny6ylUgRKe9nNYFyL1QBWqPNS1DAAIQmAoBRGcqGAc20hSdC+PvnBwSNyZ7b87ysAnZv5BbFx3/Bot/LwXRaS83bbRMFagNqrQJAQhAYEICiM6EABd4vC465uzfUjk3/HDcM2vP+Fd0/Wu6/k2V9eLS1QvDD775HTyITnu56bJlBKhL2vQFAQhAoEEA0WlvSjQrOv7huI3Caarnxl++fXrtbcnPkfQJRKe9ZCTYMstgCSaFIUEAAvkRQHTay6nfm+MXBu4au9hT0gdr+3OuCietTojv3LlF0tZhKevGIDvNio739XjfTj1XXvLyUfNR9ujctTaWZtS5Hi9vL7vttcx7gdpjS8sQgECBBBCdbpPuk1V+oeBPw8v9fPrKl4+W3177e7cj+n1viM4sqI/eJ8tgozPjCQhAoHACiE7hEyCGj+j0ex6sJUAOhZci9juhjB4CEJgeAURneiz73BKi0+fszT929gHlmVeiggAERiCA6IwAK+NbEZ2MkztPaCyDlZdzIoZAkQQQnSLTvk7QiA7zoCKAADEXIACBrAggOlmlc+xgEJ2x0RXzIMtgxaSaQCGQFwFEJ698jhsNojMuOZ4zAapAzAMIQCBZAohOsqnpdGCITqe4i+kMASom1QQKgXQJIDrp5qbLkSE6XdKmL5bBmAMQgEBnBBCdzlAn3RGik3R6ihocVaCi0k2wEGifAKLTPuM+9IDo9CFLZY8RASo7/0QPgbEJIDpjo8vqQUQnq3QWFQzLYEWlm2AhMDoBRGd0Zjk+gejkmNWyY+LHUcvOP9FD4A4CiA6TwQQQHeZBSQRYBisp28RaPAFEp/gpsAYAosM8gEDjfUAGwo+jMi0g0H8CiE7/cziNCBCdaVCkjVwJsA8o18wSVxEEEJ0i0rxokIjOooi4AQIDCbAMxsSAQOIEEJ3EE9TR8BCdjkDTTTEEEKBiUk2gqRNAdFLPUDfjQ3S64UwvEGAZjDkAgY4JIDodA0+0O0Qn0cQwrKIIUAUqKt0E2xUBRKcr0hn0Mzc3t3SBMAZ9t1vj/oWez4AQIUCgFQIIUCtYabQUAohOKZlOMM6aODUFqBIkxCjBvDGkZAiwDJZMKhhIygQQnZSzw9jWEJhHiCxDiBBzBAKDCVAFYmZAIBJAdJgKvScwQISoCPU+qwTQEgEEqCWwNJsuAUQn3dwwsikRiCJUVX+oBE2JK81kRWCd3wZzdLwZOqscFxsMolNs6gl8gAAZCsthTA0IrEtgrUoQEsQU6RMBRKdP2WKsnRBoCJD7pArUCXk66TGBZkXIoaz5jKpQj7OaydARnUwSSRjdEGAZrBvO9JItgUqIqgCvGBDpWvcgStnOhc4CQ3Q6Q01HORNAgHLOLrH1iMAaSdp///111llnrayqSj0aP0NtgQCi0wJUmoRARYBlMOYCBLonsHLlSq1YscKis+at71xlE0B0ys4/0c+QAFWgGcKn66wJIDpZp3fk4BCdkZHxAATaJYAAtcuX1vMngOjkn+NRIkR0RqHFvRCYIQGWwWYIn657RQDR6VW6Wh8sotM6YjqAQLsE5nkzNO8Dahc7rSdMANFJODkzGBqiMwPodAmBrgiwDNYVafpJiQCik1I2Zj8WRGf2OWAEEOicAG+F7hw5HXZIANHpEHYPukJ0epAkhgiBrgiwD6gr0vTTJgFEp026/Wsb0elfzhgxBGZCgGWwmWCn0zEIIDpjQMv4EUQn4+QSGgS6IIAAdUGZPkYhsIjofFbSTpJOl/Tiedr9Z79gWdLFkv5slL65Nz0CiE56OWFEEMiCAMtgWaSxl0EsIjqfl7SjpFsk3U/SLxtB3kvST+Jn/yrpT3sJgUHfQQDRYTJAAAKdE6AK1DnyojocUnTMZF9J5zTgHCzpXYhOPlMG0cknl0QCgd4TQIB6n8IkAhhCdDzOe0j6pqRnNAb9KUm/k7RZ/L6q6NxX0hvj/ZtKuknSuyW9Pvzv9lAheoWkHSQdK+l4SY+XdKOkCyUdV+vj7pI+JulcSScmASzzQSA6mSeY8CCQAwGWwXLIYncxDCk6H4qiYYH5URzdlpL+S9JBkl7XEJ1PSNpF0vtCJejLkvaOfz9A0pmSTon7etzW5mEf0EclPSBUjLaXdO/Q3m9jH/tIOk/S06LwdAem0J4QnUITT9gQyIUAVaBcMjm9OIYUnWdK+q6kQyS9I/Z+dKy+WEz+vSY63svz/SAuq0KVZnm815WZX4TK0JslHRlF5zBJl0Th+ZmkAyW9V9JTghRdGp/7pyg5rhhV8jO94GlpHQKIDpMCAhDIkgAClGVahwpqSNHx0pKXkDaQ9ARJ/u/hdVFwnhUrO17a8tLVepI2jhuY7yLp4eG+vcIS1zGSTpJ0RE10HiXpmjhQt/3z2gmvu8bNz2+S9JqhguGmiQkgOhMjpAEIQKBPBFgG61O2xhvrCKLzl3Ep6mFBVDYJUnOlJC8tXdAQHQ9kv7gfx0tRvr4lyUtdTdFZv1Gp8cZmH1W/j6Tdw96dj0jaLrT3lfGi46lRCSA6oxLjfghAIEsC/DhqPmkdQXQ2lHRzrMxYRJ4vyXt2ft0QHVd/PhcqPz5uvkLSf8bqjqs1FpmqovM8SW6zfu0clq68wXmPKEuPCSL12Hxopx8JopN+jhghBCAwYwIsg804ASN2P4LouOX3xz00d5P0j5JeGrvzpuRq6erwWLl5tKSr4/cPjUtdbwmy9PK4dDVIdKolMVeLvIH5KEmnjRgSt09AANGZAB6PQgACZRPgx1HTzP+IouNKi5eTfLn68pkBovMcSR+Im5HfI2kLSW8In20t6bIgRH8h6bWSBomOm3tl3LTsP/to+g/TJJfnqBCdPPNKVBCAwAwJsA9ohvDDruIhRMfvvfEGZF/eU/PjKB9bhffgzNVE59r4ExDeROzj6E+vRebj59tIem78KYltFxAdHzO/Ib47x6e9uDokgOh0CJuuIAABCLAM1v4caPFHPb1h+Z6Sro8vCfyD+GJBS4xfMjjf9ThJV0VROr99AvRQJ4DoMB8gAAEIJEAAAZpeEloUnVEH6ffx+LezTg0vCfQmZL9I8LZRG+H+yQggOpPx42kIQAACrRJgGWx0vAmJjk9xeU+Pr0G/qzV6cDwxMgFEZ2RkPAABCEAgDQJUgQbnISHR8ZF1n9TyCa5vpzFryhsFolNezokYAhDInEDpApSQ6GQ+0/oRHqLTjzwxSghAAAITEyjlpYiIzsRTJasGEJ2s0kkwEIAABMYjMI8EubGl47U4u6cQndmxT7FnRCfFrDAmCEAAAokRGCBCHuFucZhJyRCik9jkmfFwEJ0ZJ4DuIQABCOREYB4hqktRFW5rcoTo5DSjJo8F0ZmcYQ4t+B+cy2v/QK0T05IlSy7PIVBigAAE0iQw4N+fUUSoqiytCe7ss8/WsmXLrgh/9g9wchVOANEpfALE8Nf8YzA3N3fsFHA0hcj/2DSvte5BoqZAnSYgAAEIQGAgAUSHiWEC0xSdSYlWElQXpDWfIUSTouV5CEAAAuURQHTKy/mgiFMSnWEzMlCIkKFh8XEfBCAAgTIIIDpl5HmxKPsoOovF1BQhqkKLEeN7CEAAAhkSQHQyTOoYIeUoOothsPhUy2OXUwlaDBffQwACEOgnAUSnn3mb9qhLFJ35GNYFyPcgQdOebbQHAQhAoEMCiE6HsBPuCtEZLjlUgYbjxF0QgAAEkiGA6CSTipkOBNGZDD8CNBk/noYABCDQGgFEpzW0vWoY0WknXSyDtcOVViEAAQgMTQDRGRpV1jciOt2nlypQ98zpEQIQKJAAolNg0geEjOikMw8QoHRywUggAIEMCCA6GSRxCiEgOlOA2HITLIO1DJjmIQCBPAkgOnnmddSoEJ1RiaVz/zovRuSdQOkkh5FAAAKzJ4DozD4HKYwA0UkhC9MfA8tg02dKixCAQM8IIDo9S1hLw0V0WgKbaLNrCZDHSBUo0UwxLAhAYGICiM7ECLNoANHJIo0TB8E+oIkR0gAEIJAaAUQntYzMZjyIzmy496lXlsH6lC3GCgEI3EEA0WEymACiwzwYlwACNC45noMABDohgOh0gjn5ThCd5FPUuwGyDNa7lDFgCORJANHJM6+jRoXojEqM+ychQBVoEno8CwEIjEQA0RkJV7Y3IzrZprZXgSFAvUoXg4VAPwggOv3IU9ujRHTaJkz7kxBgGWwSejwLgcIJIDqFT4AYPqLDPOgrAapAfc0c44ZARwQQnY5AJ94NopN4ghjeyAQQoJGR8QAE8iSA6LSf140l3Srptva7GrsHRGdsdDzYMwIsg/UsYQwXApMSQHQmJTj/84+U9B5JO0o6SdIR7XU1sOU7B8E6UtI+ku4v6cuSTpb00QF3IzodJ4fukiPAj6MmlxIGBIHpEEB0psNxUCvvknRwEIx9JV0n6Zr2uhrY8j9JOkDSByTdJOm5kjaV9FRJH288geh0nBy66xUBlsF6lS4GC4G1CSA67c2Ij0m6e5CKJ7bXxbwtP0jS/0g6QdJR8a7tomy9W9ILEJ0ZZIUucyPAj6PmllHiyZIAojP9tG4m6WxJ20raQNKV4cehV8YlI1d3Xh2Xs9zzJyW9XNIXJN1X0vmSXiPp0UFUni/prUFW7hbu213S28IDrrzsEqoyn47fPyLs/Tk6tL2TpK/GtixYT5F0Sfz8c7UQfy7J3++H6Ew/8bQIgUiAfUBMBQgkRADRmX4yvDz0t5KWxabPknS6pHtKuiwKyTmS7hSl5npJm0t6gKQbJF0saY+w1PSNsOT0krjUZDny5XZ+Fqs0Xo5yXxeFfThfDJ8fHsXqHnHzs9u/PT63Xtwj5AqPl7PORHSmn3hahMAQBFgGGwISt0BgmgQQnWnSXLut5tKVqzMvk7SlpG/HW13pOSZsEr53rNxYdHx5A/EF8c9vilUgV3jOiJ+dGMXldZKOi58dJukUSV6i+kptKMeGP6/ZgxOfdzvNiz067c0DWobAMAQQoGEocQ8ExiCA6IwBbchHmqKzYazi3CzpwVFIXPnZJlZm1o8VnQ83lpYq0blL7Yj6oXEpy0tX18bx7B2XvnaQ9KXaGJ8Ul8L2kvRkSXU5qm5DdIZMKrdBoGMCLIN1DJzu8iOA6LSX06boeJnp+LB0tX9cYnLP1fKTv6tEx3t0LDfVVYlOPVcvDnJ0WhSkH8YbLTKuAjVFp2rHz3uZy8tidw3LZr+u9YHotDcPaBkCbRGgCtQWWdrNigCi0146m6JzoaQ9JR0SNyZ7b87ysAn51EZF50WS3jmh6Hhz8l9Eqbml1lYlSE0ZQnTamwe0DIGuCSBAXROnv6QJIDrtpacuOub8O0nnhiPez6x1+V5JB0q6nyRvGPYenRdK8jt4JqnoWHRc8Xm2pH+uteWj5QeFvTybhP1CP6Gi017yaRkCCRJgGSzBpDCk9gkgOu0xblZ0vhvekLxRfHGfj3k/vfa25OeE/TOfmKLo/CBIztdjaN647H/gXE161QDZ8m1UdNqbB7QMgdQJ8Fbo1DPE+CYigOhMhG/Bh/1TC35h4K7xLovGB2v7c66KL/TzO3e8vLR1WMq6cUBFx/t6vG+nnisvefmouff2zLdHZ+dwZH1V3OxcDdTPuC0fUa9fiE5784CWIdBnAutIkINZsmRJ9XmfY2PshRBAdLpNtDcc+4WCPw0v9/PpK18+Wu733VR/n/aI7hUrSV4W+808jSM606ZOexAog0BThBz1ms+QoTImQB+iRHT6kKX2x4jotM+YHiBQMoFBQnSHFFVgkKOSp0h7sSM67bHtU8uITp+yxVghUA6BYZbIrmjiWLlypVasWOFnh3m+HJqFRoroFJr4RtiIDvMAAhDIhkAUHb95vnorfDaxEcjoBBCd0Znl+ASik2NWiQkChRJAdApN/DxhIzrMBxNAdJgHEIBANgQQnWxSOZVAEJ2pYOx9I4hO71NIABCAQEUA0WEu1AkgOswHKjrMAQhAICsCiE5W6Zw4GERnYoRZNEBFJ4s0EgQEIGACiA7zgIoOc6BJANFhTkAAAtkQQHSySeVUAqGiMxWMvW8E0el9CgkAAhCoCCA6zAUqOswBKjrMAQhAIFsCiE62qR0rMCo6Y2HL7iEqOtmllIAgUC4BRKfc3A+KHNFhPpgAosM8gAAEsiGA6GSTyqkEguhMBWPvG0F0ep9CAoAABCoCiA5zoU4A0WE+UNFhDkAAAlkRQHSySufEwSA6EyPMogEqOlmkkSAgAAETQHSYB1R0mANNAogOcwICEMiGAKKTTSqnEggVnalg7H0jiE7vU0gAEIBARQDRYS5Q0WEOUNFhDkAAAtkSQHSyTe1YgVHRGQtbdg9R0ckupQQEgXIJIDrl5n5Q5IgO88EEEB3mAQQgkA0BRCebVE4lEERnKhh73wii0/sUEgAEIFARQHSYC3UCiA7zgYoOcwACEMiKAKKTVTonDgbRmRhhFg1Q0ckijQQBAQiYAKLDPKCiwxxoElgqaenc3NxutS/8GRcEIACB3hFAdHqXslYHTEWnVbxlND43N9eUokGShESVMR2IEgIzJ4DozDwFSQ0A0UkqHeUNpiZJdTmqpIiqUnlTgoghMDEBRGdihFk1gOhklc58g4lC1JQhRCjflBMZBMYmgOiMjS7LBxGdLNNaVlADqkJUhMqaAkQLgbUIIDpMiDoBRIf5kDWBeSSISlDWWSe40gkgOqXPgLXjR3SYD8USaCyHuQqEABU7Gwg8JwKITk7ZnDwWRGdyhrSQGYEBAuQIkaDM8kw4+RJAdPLN7TiRITrjUOOZIgmwIbrItBN0DwkgOj1MWotDRnRahEvT5RBgGaycXBNp+gQQnfRz1OUIEZ0uadNXcQQQoOJSTsAJEEB0EkhCQkNAdBJKBkMphwDLYOXkmki7J4DodM885R4RnZSzw9iKJEAVqMi0E/QUCWQgOo+Q9FBJF02A5fOSvifpGRO0kcWjiE4WaSSIEgggQCVkmRinQSAD0Vkh6VhJfxD+f25MJl+QdIOkfcZ8PpvHEJ1sUkkgpRJgGazUzBP3fAQQnTVkEJ04QRAd/q2AQKYEeCt0poklrEUJDCE6B0t6iaQdJF0i6R2SPizpXpLOkfQLScsk/TJ29iZJfqnoAZL+W9InJX1A0jaS9pK0kaSPSzpS0nW1AT5R0usk/bGkm+M9R0n6QbznFXEMrt4cL+mxsf1HStpU0lWS/iV+9yeSVkraSdIt4d1el4fxvVrS1+YBYtG5UdKVkl4a2/u0pEMlXV17xmP7G0lPDtWfL0YOjvd38bPjJO0nyePeX9Kukq6VNB+20QX9AAANhklEQVTDRfPT9Q2ITtfE6Q8CCRBgGSyBJDCE1ggsIjqvD0tCb5B0Xqx6eA+LhWffKDkvDlJwWpSL10raQ9JHgsycJOkISetJ+k0c/E2SzpB0tygTFhBLyndqz/meVZLuI+mQIFj+u/fg/FTSKVEefiRp8yAxH40SZJnYXtJ7JH1G0hWSvinpG/Gze0epul7Sg6OUNHladByXx/T20NcmUU6+JenhQcB+G0Xm0ig4FqrHBAn681qslr3Vki6O8Vi89g57f160CMPWcjtOw4jOONR4BgKZEmAZLNPEFhbWAqKzmSTLgQXjZRHL+pJc6XBVxgLg/y56E7AF52lhU/D7JFlEHhcrPHXR8YZhi4Mvy4mF5GRJh0v6eqgU3V/Sw2oVHMvU2bGCckwcx2GxquRqyc9iW809Os8OY/tg3G9zQbznwCBYJwQJ+aNYBZpPdCw7X4pf+n5XnR4Sn/nPUKn5laQnSLot3vP3QY5caTKrnaPoWM5c0XJMwzBMasYhOkmlg8FAIE0CCFCaeWFUgwksIDqVaHgpx//Rri5XLlylcKXFyzIPiN9vEG/YLizffCX+uRIdV3Ke3xiBTzpZmJ4UNwJ7OcpVofr1X7GqY7mwcFl0HiXpmtpNTdHZKlZ0LBwWkcvi8pOrMvNdruj48nJYdXljsitZlh8va/l/74wyU92ztaRTQ1XqIEn/G7/zGP2Zr2EZJjM9EZ1kUsFAINBPAiyD9TNvOY96AdF5paQ3LxD7LpI+Fb/3UpUrM16ucdWkOv1UiY6XwN7YaMvVn78MS12Pl2TpeUFYknp3457z42/nbVgTHVeV6tIy6NSVl9hckbGI+PKS1N/FJTbvp2legzYjez+RK0IWnTvH/Tvz4bCgebnMS1eu7HgJzdcoDJOYZohOEmlgEBDIjwA/jppfTvsS0QKiYwmxjHhZqr5puArN7525VdK2sYLjCoo3BXvfzunxpkp03hI2GL+8wcR7eVxBsRhYErxZ2DJSvyxA94h9uKLzPEmWnvq10PHyLeMykoXDm6G9QfrMMUTHy2RedrOwfWjA895D5A3KFh33U216HpZhMtMF0UkmFQwEAmUQYBmsjDzPMsoFRMcbfH3iyJWat9bG6P0yz4r7cG4Pe3M+G/fWeM+Ol3p2jJUUy0slOpagLWonsyxEPk3liomXd34cNv9+Ny5LVdUaC4P3xXiTsU8tDSs6XjqybFUnrjx0j83LbxYpC1XzWqyi46Uyy4yXweovFbQEvi1ukrZUWXT+sLbUNwzD6rTaLKfBHX0jOkmkgUFAAAImwDIY82AaBBY5dXVhWI7aMx6X9tFrS4yXs7xU4z01PsJt8fHm4LPiKaovxyUsH8X2VZ268hFv75m5U3zBn5eElsZNya72/EMUH0uVT0r57w+s7QWaT3QsLj7i7U3BXkpzxcfH4C1RbsMbiF3J8RH5apyjio43KPsU2Ylxec3H5R8UN0r7dNfu8Yh9U3Tcz2IMp5HGqbWB6EwNJQ1BAAJtEUCA2iKbZ7uLiM7G8WSURcGXKzP+j7nlwpuRXQk5N2wOfmaNjt+F43fN+B6LhkXHyz0+dWVRqtrxO2p8qsqX32rsTc9+rtrU/NWwSfmFtf0u84mOj6j7SLelqNr0bHGyhFVtuQ/vEfI7eAbt0Rn0ExAWPEtKdRLLgvaqcOLq6Fq7ZmHR86bs6nh5vaLjfhdi6KW/pC5EJ6l0MBgIQGAUAiyDjUKrnHuHeGGgYXgJykel/c6bUX5moVq6sgxYYnyE3P8t9f6e+S7345cQVsfHx02G+3Z/liifmKqOhI/bXvWcx+8x/lDSr0dobFyGI3Qx+a2IzuQMaQECEEiQAFWgBJPS0ZCGFJ1xR9MUnXHb4bmOCCA6HYGmGwhAIA0CCFAaeWhzFIhOm3T71zai07+cMWIIQKAFAiyDtQB1Rk22LDqOyqeRfGLJ/+NKnACik3iCGB4EIDBbAvw46mz5j9N7B6IzzrB4ZkYEEJ0ZgadbCECg/wRYBkszh4hOmnmZ1agQnVmRp18IQCBbArwVerapRXRmyz+13hGd1DLCeCAAgWwJsA+om9QiOt1w7ksviE5fMsU4IQCBrAmwDDa99CI602OZQ0uITg5ZJAYIQCBbAgjQ6KlFdEZnlvMTiE7O2SU2CEAgWwIsg82fWkQn22k/VmCIzljYeAgCEIBAugRKrwIhOunOzVmMDNGZBXX6hAAEIDADAqW8EwjRmcHkSrhLRCfh5DA0CEAAAl0SyOVYPKLT5axJvy9EJ/0cMUIIQAACSRAYUBHyuHaLg1uaxCDDT4kjOqlkIo1xIDpp5IFRQAACEMiGwDxCVMVXiVH196kLEqKTzVSaSiCIzlQw9r6Rpfvss89m55133ia9j4QAIACBvhPYapEAHrZYgIceeuhWp5122vvDfSsWu5fv8yeA6OSf42EiXPOPwdzc3LHD3Mw9EIAABFImQEUn5ex0PzZEp3vmKfaI6KSYFcYEAQiMRQDRGQtbtg8hOtmmdqTAEJ2RcHEzBCCQMgFEJ+XsdD82RKd75gv1eF9Jj5f0WUk/iTd+XtL3JD2jxaEiOi3CpWkIQKBbAohOt7xT7w3RSStDu0v6uKSdJX0mDu0Lkm6QtE+LQ0V0WoRL0xCAQLcEEJ1ueafeG6KTVoYQnbTywWggAIEeEkB0epi0FoeM6LQId0DTL5R0kKSdJF0j6VxJx0u6Lf7/vpK2lvQNSV+Ly1Wu6Nwo6UpJL5W0qaRPSzpU0tW1Pg6W9BJJO4SK0CWS3iHpw/H7J0s6TtJ+ko6StL+kXSVdG7+notPtPKA3CECgRQKITotwe9g0otNd0iwaR0u6StKFcS/OnpIukrRXFJe9w/6cp0m6OIrOKyRZdCwvt0h6uyS/68ZS8y1JD5f0W0mvl/QGSefF+72fx89YnM6RtEzS6tjuHnEM7usHiE53E4CeIACBbgggOt1w7ksviE43mdo8VHK+E6ool4XKzJ9K+k3s9uRYpXlq3Jsz39KVpcX/+1J87gRJR0p6SGzr+iBAp4QNzC+L368fqz4bRRmqROem+Lr2rzfCpqLTzTygFwhAoAMCiE4HkHvUBaLTTbIq0XC15mO1LjeTZEl5Y6zKzCc6fuSxtee8MdnVG8vPlpLOjsJUFxj3+SJJjwhVne1jRecwSacOCBnR6WYe0AsEINABAUSnA8g96gLR6SZZR0g6MUpHtS+m6nlO0pmSDpA07GZkL3VdEEXHz7x5gTB2Cft17h9Fp36aq/4IotPNPKAXCECgAwKITgeQe9QFotNNsg6U9F5JT4ibiqteN5R0s6STJFmGxhGdbSW9T5L33lw3IBy/g8d7gbxHZ5u496d5G6LTzTygFwhAoAMCiE4HkHvUBaLTTbIeE96D88XGPhr37E3F7wobi/8qyso4onN7PH11uKS31sI5JkjNs8LG58fFzc4WnT+U1Nyf40cQnW7mAb1AAAIdEEB0OoDcoy4Qne6SdX44EeWTTt5I7JNW3nPjSo5PT1lAfMT8j+Mm4tPDqayPxOWpQS8MrC9deYOyT3G5auOj4z6GvmNcznptPLZe7RFCdLrLNz1BAAIzIoDozAh8ot0iOt0lZoO4T8fv0qkuHyP3hmFvSPZ197hZ2XtpfELqfpIG/QSEpcZyU53E2liST3B5n48vP+sKzqvD6axba8fLEZ3u8k1PEIDAjAggOjMCn2i3iE73iVkvLFc9UNL3QwXmV1Pu3m37JJePsnuT87AXS1fDkuI+CEAgeQKITvIp6nSAiE6nuJPtDNFJNjUMDAIQGJUAojMqsbzvR3Tyzu+w0SE6w5LiPghAIHkCiE7yKep0gIhOp7iT7WzpsmXLtli9evUWyY6QgUEAAhAYksCqVau2WL58+RmSLh/yEW7LmACik3FyCQ0CEIAABCBQOgFEp/QZQPwQgAAEIACBjAkgOhknl9AgAAEIQAACpRNAdEqfAcQPAQhAAAIQyJgAopNxcgkNAhCAAAQgUDoBRKf0GUD8EIAABCAAgYwJIDoZJ5fQIAABCEAAAqUTQHRKnwHEDwEIQAACEMiYAKKTcXIJDQIQgAAEIFA6AUSn9BlA/BCAAAQgAIGMCSA6GSeX0CAAAQhAAAKlE0B0Sp8BxA8BCEAAAhDImACik3FyCQ0CEIAABCBQOgFEp/QZQPwQgAAEIACBjAkgOhknl9AgAAEIQAACpRNAdEqfAcQPAQhAAAIQyJgAopNxcgkNAhCAAAQgUDoBRKf0GUD8EIAABCAAgYwJIDoZJ5fQIAABCEAAAqUTQHRKnwHEDwEIQAACEMiYAKKTcXIJDQIQgAAEIFA6AUSn9BlA/BCAAAQgAIGMCSA6GSeX0CAAAQhAAAKlE0B0Sp8BxA8BCEAAAhDImACik3FyCQ0CEIAABCBQOgFEp/QZQPwQgAAEIACBjAkgOhknl9AgAAEIQAACpRNAdEqfAcQPAQhAAAIQyJgAopNxcgkNAhCAAAQgUDoBRKf0GUD8EIAABCAAgYwJIDoZJ5fQIAABCEAAAqUTQHRKnwHEDwEIQAACEMiYAKKTcXIJDQIQgAAEIFA6AUSn9BlA/BCAAAQgAIGMCSA6GSeX0CAAAQhAAAKlE0B0Sp8BxA8BCEAAAhDImMD/AYBr8sNBBYmKAAAAAElFTkSuQmCC",
            "rank_sets": [],
            "scale": 6.309523809523809,
            "show_link_info_html": false,
            "svg": "<?xml version=\"1.0\" standalone=\"no\"?><!DOCTYPE svg PUBLIC \"-//W3C//DTD SVG 1.1//EN\" \"http://www.w3.org/Graphics/SVG/1.1/DTD/svg11.dtd\"><svg xmlns=\"http://www.w3.org/2000/svg\" width=\"0.01879269024311918\" height=\"0.009890889601641674\" viewBox=\"0 0 570 300\" style=\"font-family: &quot;Helvetica Neue&quot;, Helvetica, Arial, sans-serif;\"><g class=\"sankey\" transform=\"translate(130,25)\"><g class=\"groups\"><g class=\"group\" transform=\"translate(0,26.5)\" style=\"display: none;\"><rect x=\"-10\" y=\"-20\" width=\"21\" height=\"242\" style=\"fill: rgb(0, 0, 0); stroke: rgb(187, 187, 187); stroke-width: 0.999984;\"/><text x=\"-10\" y=\"-25\" style=\"fill: rgb(0, 0, 0);\"/></g><g class=\"group\" transform=\"translate(309,26.5)\" style=\"display: none;\"><rect x=\"-10\" y=\"-20\" width=\"21\" height=\"120.22619047619048\" style=\"fill: rgb(0, 0, 0); stroke: rgb(187, 187, 187); stroke-width: 0.999984;\"/><text x=\"-10\" y=\"-25\" style=\"fill: rgb(0, 0, 0);\"/></g></g><g class=\"links\"><g class=\"link\" style=\"opacity: 0.999993;\"><path d=\"M1,26.5 A0 0 0 0 0 1,26.5 L308.99999999999994,26.5 A0 0 0 0 0 308.99999999999994,26.5 L308.99999999999994,45.42857142857143 A0 0 0 0 0 308.99999999999994,45.42857142857143 L1,45.42857142857143 A0 0 0 0 0 1,45.42857142857143 Z\" style=\"fill: rgb(255, 255, 255);\"/><title>farm1 → James\n*\n3.00</title><text class=\"label\" dy=\"0.35em\" x=\"5\" y=\"35.964285714285715\"/></g><g class=\"link\" style=\"opacity: 0.999993;\"><path d=\"M1,219.57142857142856 A0 0 0 0 0 1,219.57142857142856 L308.99999999999994,219.57142857142856 A0 0 0 0 0 308.99999999999994,219.57142857142856 L308.99999999999994,238.5 A0 0 0 0 0 308.99999999999994,238.5 L1,238.5 A0 0 0 0 0 1,238.5 Z\" style=\"fill: rgb(255, 255, 255);\"/><title>other → exports here\n*\n3.00</title><text class=\"label\" dy=\"0.35em\" x=\"5\" y=\"229.0357142857143\"/></g><g class=\"link\" style=\"opacity: 0.999993;\"><path d=\"M1,45.42857142857143 A379.71366801437557 379.71366801437557 0.15728424471123104 0 1 60.47704072353829,50.11563864814738 L254.4644696325094,80.88091818997485 A348.16604896675653 348.16604896675653 0.15728424471123104 0 0 308.99999999999994,85.17857142857142 L308.99999999999994,116.72619047619045 A379.71366801437557 379.71366801437557 0.15728424471123104 0 1 249.52295927646168,112.0391232566145 L55.535530367490544,81.27384371478703 A348.16604896675653 348.16604896675653 0.15728424471123104 0 0 1,76.97619047619048 Z\" style=\"fill: rgb(255, 255, 255);\"/><title>farm1 → Mary\n*\n5.00</title><text class=\"label\" dy=\"0.35em\" x=\"5\" y=\"61.202380952380956\"/></g><g class=\"link\" style=\"opacity: 0.999993;\"><path d=\"M1,116.72619047619045 A395.48747753818503 395.48747753818503 0.15728424471123104 0 1 62.947795901562145,121.60796468625608 L256.93522481053327,152.37324422808362 A332.39223944294696 332.39223944294696 0.15728424471123104 0 0 308.99999999999994,156.47619047619048 L308.99999999999994,219.57142857142856 A395.48747753818503 395.48747753818503 0.15728424471123104 0 1 247.0522040984378,214.68965436136293 L53.06477518946667,183.9243748195354 A332.39223944294696 332.39223944294696 0.15728424471123104 0 0 1,179.82142857142853 Z\" style=\"fill: rgb(255, 255, 255);\"/><title>farm3 → exports here\n*\n10.0</title><text class=\"label\" dy=\"0.35em\" x=\"5\" y=\"148.27380952380952\"/></g></g><g class=\"nodes\"><g class=\"node\" transform=\"translate(0,26.5)\"><title>farm1</title><line x1=\"0\" x2=\"0\" y1=\"0\" y2=\"50.47619047619048\" style=\"display: inline; stroke: rgb(0, 0, 0);\"/><rect class=\"node-body\" width=\"1\" height=\"50.47619047619048\" style=\"fill: none;\"/><text class=\"node-value\" dy=\".35em\" text-anchor=\"middle\" transform=\"translate(0.5,25.23809523809524) rotate(-90)\" style=\"display: none;\"/><text class=\"node-title\" dy=\".35em\" text-anchor=\"end\" transform=\"translate(-4,25.23809523809524)\" style=\"display: inline;\">farm1</text><rect class=\"node-click-target\" x=\"-5\" y=\"-5\" width=\"10\" height=\"55.47619047619048\" style=\"fill: none; visibility: hidden; pointer-events: all;\"/></g><g class=\"node\" transform=\"translate(0,116.72619047619048)\"><title>farm3</title><line x1=\"0\" x2=\"0\" y1=\"0\" y2=\"63.0952380952381\" style=\"display: inline; stroke: rgb(0, 0, 0);\"/><rect class=\"node-body\" width=\"1\" height=\"63.0952380952381\" style=\"fill: none;\"/><text class=\"node-value\" dy=\".35em\" text-anchor=\"middle\" transform=\"translate(0.5,31.54761904761905) rotate(-90)\" style=\"display: none;\"/><text class=\"node-title\" dy=\".35em\" text-anchor=\"end\" transform=\"translate(-4,31.54761904761905)\" style=\"display: inline;\">farm3</text><rect class=\"node-click-target\" x=\"-5\" y=\"-5\" width=\"10\" height=\"68.0952380952381\" style=\"fill: none; visibility: hidden; pointer-events: all;\"/></g><g class=\"node\" transform=\"translate(0,219.57142857142858)\"><title>other</title><line x1=\"0\" x2=\"0\" y1=\"0\" y2=\"18.928571428571416\" style=\"display: inline; stroke: rgb(0, 0, 0);\"/><rect class=\"node-body\" width=\"1\" height=\"18.928571428571416\" style=\"fill: none;\"/><text class=\"node-value\" dy=\".35em\" text-anchor=\"middle\" transform=\"translate(0.5,9.464285714285708) rotate(-90)\" style=\"display: none;\"/><text class=\"node-title\" dy=\".35em\" text-anchor=\"end\" transform=\"translate(-4,9.464285714285708)\" style=\"display: inline;\">other</text><rect class=\"node-click-target\" x=\"-5\" y=\"-5\" width=\"10\" height=\"23.928571428571416\" style=\"fill: none; visibility: hidden; pointer-events: all;\"/></g><g class=\"node\" transform=\"translate(309,26.5)\"><title>James</title><line x1=\"0\" x2=\"0\" y1=\"0\" y2=\"18.92857142857143\" style=\"display: inline; stroke: rgb(0, 0, 0);\"/><rect class=\"node-body\" width=\"1\" height=\"18.92857142857143\" style=\"fill: none;\"/><text class=\"node-value\" dy=\".35em\" text-anchor=\"middle\" transform=\"translate(0.5,9.464285714285715) rotate(-90)\" style=\"display: none;\"/><text class=\"node-title\" dy=\".35em\" text-anchor=\"start\" transform=\"translate(5,9.464285714285715)\" style=\"display: inline;\">James</text><rect class=\"node-click-target\" x=\"-5\" y=\"-5\" width=\"10\" height=\"23.92857142857143\" style=\"fill: none; visibility: hidden; pointer-events: all;\"/></g><g class=\"node\" transform=\"translate(309,85.17857142857143)\"><title>Mary</title><line x1=\"0\" x2=\"0\" y1=\"0\" y2=\"31.54761904761905\" style=\"display: inline; stroke: rgb(0, 0, 0);\"/><rect class=\"node-body\" width=\"1\" height=\"31.54761904761905\" style=\"fill: none;\"/><text class=\"node-value\" dy=\".35em\" text-anchor=\"middle\" transform=\"translate(0.5,15.773809523809526) rotate(-90)\" style=\"display: none;\"/><text class=\"node-title\" dy=\".35em\" text-anchor=\"start\" transform=\"translate(5,15.773809523809526)\" style=\"display: inline;\">Mary</text><rect class=\"node-click-target\" x=\"-5\" y=\"-5\" width=\"10\" height=\"36.54761904761905\" style=\"fill: none; visibility: hidden; pointer-events: all;\"/></g><g class=\"node\" transform=\"translate(309,156.47619047619048)\"><title>exports here</title><line x1=\"0\" x2=\"0\" y1=\"0\" y2=\"82.02380952380952\" style=\"display: inline; stroke: rgb(0, 0, 0);\"/><rect class=\"node-body\" width=\"1\" height=\"82.02380952380952\" style=\"fill: none;\"/><text class=\"node-value\" dy=\".35em\" text-anchor=\"middle\" transform=\"translate(0.5,41.01190476190476) rotate(-90)\" style=\"display: none;\"/><text class=\"node-title\" dy=\".35em\" text-anchor=\"start\" transform=\"translate(5,41.01190476190476)\" style=\"display: inline;\">exports here</text><rect class=\"node-click-target\" x=\"-5\" y=\"-5\" width=\"10\" height=\"87.02380952380952\" style=\"fill: none; visibility: hidden; pointer-events: all;\"/></g></g><g class=\"slice-titles\"/></g></svg>"
          }
        },
        "6208bfec1b8c4ea89006cbd13dcd2e32": {
          "model_module": "@jupyter-widgets/base",
          "model_name": "LayoutModel",
          "model_module_version": "1.2.0",
          "state": {
            "_model_module": "@jupyter-widgets/base",
            "_model_module_version": "1.2.0",
            "_model_name": "LayoutModel",
            "_view_count": null,
            "_view_module": "@jupyter-widgets/base",
            "_view_module_version": "1.2.0",
            "_view_name": "LayoutView",
            "align_content": null,
            "align_items": null,
            "align_self": null,
            "border": null,
            "bottom": null,
            "display": null,
            "flex": null,
            "flex_flow": null,
            "grid_area": null,
            "grid_auto_columns": null,
            "grid_auto_flow": null,
            "grid_auto_rows": null,
            "grid_column": null,
            "grid_gap": null,
            "grid_row": null,
            "grid_template_areas": null,
            "grid_template_columns": null,
            "grid_template_rows": null,
            "height": "300",
            "justify_content": null,
            "justify_items": null,
            "left": null,
            "margin": null,
            "max_height": null,
            "max_width": null,
            "min_height": null,
            "min_width": null,
            "object_fit": null,
            "object_position": null,
            "order": null,
            "overflow": null,
            "overflow_x": null,
            "overflow_y": null,
            "padding": null,
            "right": null,
            "top": null,
            "visibility": null,
            "width": "570"
          }
        },
        "61e84848aedc4858b8dc89b7c790d4a6": {
          "model_module": "jupyter-sankey-widget",
          "model_name": "SankeyModel",
          "model_module_version": "^0.5.0",
          "state": {
            "_dom_classes": [],
            "_model_module": "jupyter-sankey-widget",
            "_model_module_version": "^0.5.0",
            "_model_name": "SankeyModel",
            "_view_count": null,
            "_view_module": "jupyter-sankey-widget",
            "_view_module_version": "^0.5.0",
            "_view_name": "SankeyView",
            "align_link_types": false,
            "groups": [
              {
                "id": "farms",
                "type": "process",
                "title": "",
                "nodes": [
                  "farms^farm1",
                  "farms^farm3",
                  "farms^other"
                ]
              },
              {
                "id": "customers",
                "type": "process",
                "title": "",
                "nodes": [
                  "customers^James",
                  "customers^Mary"
                ]
              }
            ],
            "layout": "IPY_MODEL_3a3dff9c549145a3a447afe4a3e84eb4",
            "linkLabelFormat": "",
            "linkLabelMinWidth": 5,
            "links": [
              {
                "source": "farms^farm1",
                "target": "customers^James",
                "type": "*",
                "time": "*",
                "value": 3,
                "title": "*",
                "color": "#FBB4AE",
                "opacity": 1,
                "data": {
                  "value": 3
                }
              },
              {
                "source": "farms^farm1",
                "target": "customers^Mary",
                "type": "*",
                "time": "*",
                "value": 5,
                "title": "*",
                "color": "#FBB4AE",
                "opacity": 1,
                "data": {
                  "value": 5
                }
              },
              {
                "source": "farms^farm3",
                "target": "exports^*",
                "type": "*",
                "time": "*",
                "value": 10,
                "title": "*",
                "color": "#FBB4AE",
                "opacity": 1,
                "data": {
                  "value": 10
                }
              },
              {
                "source": "farms^other",
                "target": "exports^*",
                "type": "*",
                "time": "*",
                "value": 3,
                "title": "*",
                "color": "#FBB4AE",
                "opacity": 1,
                "data": {
                  "value": 3
                }
              }
            ],
            "margins": {
              "top": 25,
              "bottom": 10,
              "left": 130,
              "right": 130
            },
            "node_position_attr": null,
            "nodes": [
              {
                "id": "farms^farm1",
                "title": "farm1",
                "direction": "r",
                "hidden": false,
                "type": "process",
                "fromElsewhere": [],
                "toElsewhere": []
              },
              {
                "id": "farms^farm3",
                "title": "farm3",
                "direction": "r",
                "hidden": false,
                "type": "process",
                "fromElsewhere": [],
                "toElsewhere": []
              },
              {
                "id": "farms^other",
                "title": "other",
                "direction": "r",
                "hidden": false,
                "type": "process",
                "fromElsewhere": [],
                "toElsewhere": []
              },
              {
                "id": "exports^*",
                "title": "exports here",
                "direction": "r",
                "hidden": false,
                "type": "group",
                "fromElsewhere": [],
                "toElsewhere": []
              },
              {
                "id": "customers^James",
                "title": "James",
                "direction": "r",
                "hidden": false,
                "type": "process",
                "fromElsewhere": [],
                "toElsewhere": []
              },
              {
                "id": "customers^Mary",
                "title": "Mary",
                "direction": "r",
                "hidden": false,
                "type": "process",
                "fromElsewhere": [],
                "toElsewhere": []
              }
            ],
            "order": [
              [
                [
                  "farms^farm1",
                  "farms^farm3",
                  "farms^other"
                ]
              ],
              [
                [
                  "exports^*",
                  "customers^James",
                  "customers^Mary"
                ]
              ]
            ],
            "png": "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",
            "rank_sets": [],
            "scale": 6.309523809523809,
            "show_link_info_html": false,
            "svg": "<?xml version=\"1.0\" standalone=\"no\"?><!DOCTYPE svg PUBLIC \"-//W3C//DTD SVG 1.1//EN\" \"http://www.w3.org/Graphics/SVG/1.1/DTD/svg11.dtd\"><svg xmlns=\"http://www.w3.org/2000/svg\" width=\"0.23370736897116193\" height=\"0.12300387840587469\" viewBox=\"0 0 570 300\" style=\"font-family: &quot;Helvetica Neue&quot;, Helvetica, Arial, sans-serif;\"><g class=\"sankey\" transform=\"translate(130,25)\"><g class=\"groups\"><g class=\"group\" transform=\"translate(0,26.5)\" style=\"display: none;\"><rect x=\"-10\" y=\"-20\" width=\"21\" height=\"242\" style=\"fill: rgb(0, 0, 0); stroke: rgb(187, 187, 187); stroke-width: 0.999795;\"/><text x=\"-10\" y=\"-25\" style=\"fill: rgb(0, 0, 0);\"/></g><g class=\"group\" transform=\"translate(309,148.27380952380952)\" style=\"display: none;\"><rect x=\"-10\" y=\"-20\" width=\"21\" height=\"120.22619047619048\" style=\"fill: rgb(0, 0, 0); stroke: rgb(187, 187, 187); stroke-width: 0.999795;\"/><text x=\"-10\" y=\"-25\" style=\"fill: rgb(0, 0, 0);\"/></g></g><g class=\"links\"><g class=\"link\" style=\"opacity: 0.999918;\"><path d=\"M1,26.5 A147.02694294699015 147.02694294699015 0.46347341715982315 0 1 66.7295397133903,42.010595820850185 L252.82517795953316,135.01789804508718 A125.65449858944457 125.65449858944457 0.46347341715982315 0 0 309,148.27380952380952 L309,167.20238095238096 A144.583070018016 144.583070018016 0.46347341715982315 0 1 244.36301270944966,151.94960131459936 L58.26737446330678,58.94229909036237 A128.0983715184187 128.0983715184187 0.46347341715982315 0 0 1,45.42857142857143 Z\" style=\"fill: rgb(255, 255, 255);\"/><title>farm1 → James\n*\n3.00</title><text class=\"label\" dy=\"0.35em\" x=\"5\" y=\"35.964285714285715\"/></g><g class=\"link\" style=\"opacity: 0.999918;\"><path d=\"M1,219.57142857142858 A119.5106554052286 119.5106554052286 0.49038639601915324 0 0 57.28554890255159,205.48721074295665 L243.79972270619496,105.91017018326993 A138.43922683380003 138.43922683380003 0.49038639601915324 0 1 309,89.5952380952381 L309,108.52380952380952 A119.5106554052286 119.5106554052286 0.49038639601915324 0 0 252.7144510974484,122.60802735228147 L66.20027729380503,222.18506791196822 A138.43922683380003 138.43922683380003 0.49038639601915324 0 1 1,238.50000000000003 Z\" style=\"fill: rgb(255, 255, 255);\"/><title>other → exports here\n*\n3.00</title><text class=\"label\" dy=\"0.35em\" x=\"5\" y=\"229.0357142857143\"/></g><g class=\"link\" style=\"opacity: 0.999918;\"><path d=\"M1,45.42857142857143 A128.0983715184187 128.0983715184187 0.5937958173789004 0 1 72.67246156674351,67.3560851816198 L254.97878166851987,190.4250986179118 A96.55075247079965 96.55075247079965 0.5937958173789004 0 0 309,206.95238095238096 L309,238.5 A128.0983715184187 128.0983715184187 0.5937958173789004 0 1 237.32753843325648,216.57248624695163 L55.02121833148014,93.50347281065963 A96.55075247079965 96.55075247079965 0.5937958173789004 0 0 1,76.97619047619048 Z\" style=\"fill: rgb(255, 255, 255);\"/><title>farm1 → Mary\n*\n5.00</title><text class=\"label\" dy=\"0.35em\" x=\"5\" y=\"61.202380952380956\"/></g><g class=\"link\" style=\"opacity: 0.999918;\"><path d=\"M1,116.72619047619047 A139.69661431335962 139.69661431335962 0.34954482662189124 0 0 48.84192667460024,108.2785536928586 L239.54983486302962,38.76308826586249 A202.7918524085977 202.7918524085977 0.34954482662189124 0 1 309,26.500000000000004 L309,89.5952380952381 A139.69661431335962 139.69661431335962 0.34954482662189124 0 0 261.15807332539976,98.04287487856998 L70.45016513697038,167.55834030556608 A202.7918524085977 202.7918524085977 0.34954482662189124 0 1 1,179.82142857142856 Z\" style=\"fill: rgb(255, 255, 255);\"/><title>farm3 → exports here\n*\n10.0</title><text class=\"label\" dy=\"0.35em\" x=\"5\" y=\"148.27380952380952\"/></g></g><g class=\"nodes\"><g class=\"node\" transform=\"translate(0,26.5)\"><title>farm1</title><line x1=\"0\" x2=\"0\" y1=\"0\" y2=\"50.47619047619048\" style=\"display: inline; stroke: rgb(0, 0, 0);\"/><rect class=\"node-body\" width=\"1\" height=\"50.47619047619048\" style=\"fill: none;\"/><text class=\"node-value\" dy=\".35em\" text-anchor=\"middle\" transform=\"translate(0.5,25.23809523809524) rotate(-90)\" style=\"display: none;\"/><text class=\"node-title\" dy=\".35em\" text-anchor=\"end\" transform=\"translate(-4,25.23809523809524)\" style=\"display: inline;\">farm1</text><rect class=\"node-click-target\" x=\"-5\" y=\"-5\" width=\"10\" height=\"55.47619047619048\" style=\"fill: none; visibility: hidden; pointer-events: all;\"/></g><g class=\"node\" transform=\"translate(0,116.72619047619048)\"><title>farm3</title><line x1=\"0\" x2=\"0\" y1=\"0\" y2=\"63.0952380952381\" style=\"display: inline; stroke: rgb(0, 0, 0);\"/><rect class=\"node-body\" width=\"1\" height=\"63.0952380952381\" style=\"fill: none;\"/><text class=\"node-value\" dy=\".35em\" text-anchor=\"middle\" transform=\"translate(0.5,31.54761904761905) rotate(-90)\" style=\"display: none;\"/><text class=\"node-title\" dy=\".35em\" text-anchor=\"end\" transform=\"translate(-4,31.54761904761905)\" style=\"display: inline;\">farm3</text><rect class=\"node-click-target\" x=\"-5\" y=\"-5\" width=\"10\" height=\"68.0952380952381\" style=\"fill: none; visibility: hidden; pointer-events: all;\"/></g><g class=\"node\" transform=\"translate(0,219.57142857142858)\"><title>other</title><line x1=\"0\" x2=\"0\" y1=\"0\" y2=\"18.928571428571416\" style=\"display: inline; stroke: rgb(0, 0, 0);\"/><rect class=\"node-body\" width=\"1\" height=\"18.928571428571416\" style=\"fill: none;\"/><text class=\"node-value\" dy=\".35em\" text-anchor=\"middle\" transform=\"translate(0.5,9.464285714285708) rotate(-90)\" style=\"display: none;\"/><text class=\"node-title\" dy=\".35em\" text-anchor=\"end\" transform=\"translate(-4,9.464285714285708)\" style=\"display: inline;\">other</text><rect class=\"node-click-target\" x=\"-5\" y=\"-5\" width=\"10\" height=\"23.928571428571416\" style=\"fill: none; visibility: hidden; pointer-events: all;\"/></g><g class=\"node\" transform=\"translate(309,26.5)\"><title>exports here</title><line x1=\"0\" x2=\"0\" y1=\"0\" y2=\"82.02380952380952\" style=\"display: inline; stroke: rgb(0, 0, 0);\"/><rect class=\"node-body\" width=\"1\" height=\"82.02380952380952\" style=\"fill: none;\"/><text class=\"node-value\" dy=\".35em\" text-anchor=\"middle\" transform=\"translate(0.5,41.01190476190476) rotate(-90)\" style=\"display: none;\"/><text class=\"node-title\" dy=\".35em\" text-anchor=\"start\" transform=\"translate(5,41.01190476190476)\" style=\"display: inline;\">exports here</text><rect class=\"node-click-target\" x=\"-5\" y=\"-5\" width=\"10\" height=\"87.02380952380952\" style=\"fill: none; visibility: hidden; pointer-events: all;\"/></g><g class=\"node\" transform=\"translate(309,148.27380952380952)\"><title>James</title><line x1=\"0\" x2=\"0\" y1=\"0\" y2=\"18.928571428571416\" style=\"display: inline; stroke: rgb(0, 0, 0);\"/><rect class=\"node-body\" width=\"1\" height=\"18.928571428571416\" style=\"fill: none;\"/><text class=\"node-value\" dy=\".35em\" text-anchor=\"middle\" transform=\"translate(0.5,9.464285714285708) rotate(-90)\" style=\"display: none;\"/><text class=\"node-title\" dy=\".35em\" text-anchor=\"start\" transform=\"translate(5,9.464285714285708)\" style=\"display: inline;\">James</text><rect class=\"node-click-target\" x=\"-5\" y=\"-5\" width=\"10\" height=\"23.928571428571416\" style=\"fill: none; visibility: hidden; pointer-events: all;\"/></g><g class=\"node\" transform=\"translate(309,206.95238095238096)\"><title>Mary</title><line x1=\"0\" x2=\"0\" y1=\"0\" y2=\"31.547619047619037\" style=\"display: inline; stroke: rgb(0, 0, 0);\"/><rect class=\"node-body\" width=\"1\" height=\"31.547619047619037\" style=\"fill: none;\"/><text class=\"node-value\" dy=\".35em\" text-anchor=\"middle\" transform=\"translate(0.5,15.773809523809518) rotate(-90)\" style=\"display: none;\"/><text class=\"node-title\" dy=\".35em\" text-anchor=\"start\" transform=\"translate(5,15.773809523809518)\" style=\"display: inline;\">Mary</text><rect class=\"node-click-target\" x=\"-5\" y=\"-5\" width=\"10\" height=\"36.54761904761904\" style=\"fill: none; visibility: hidden; pointer-events: all;\"/></g></g><g class=\"slice-titles\"/></g></svg>"
          }
        },
        "3a3dff9c549145a3a447afe4a3e84eb4": {
          "model_module": "@jupyter-widgets/base",
          "model_name": "LayoutModel",
          "model_module_version": "1.2.0",
          "state": {
            "_model_module": "@jupyter-widgets/base",
            "_model_module_version": "1.2.0",
            "_model_name": "LayoutModel",
            "_view_count": null,
            "_view_module": "@jupyter-widgets/base",
            "_view_module_version": "1.2.0",
            "_view_name": "LayoutView",
            "align_content": null,
            "align_items": null,
            "align_self": null,
            "border": null,
            "bottom": null,
            "display": null,
            "flex": null,
            "flex_flow": null,
            "grid_area": null,
            "grid_auto_columns": null,
            "grid_auto_flow": null,
            "grid_auto_rows": null,
            "grid_column": null,
            "grid_gap": null,
            "grid_row": null,
            "grid_template_areas": null,
            "grid_template_columns": null,
            "grid_template_rows": null,
            "height": "300",
            "justify_content": null,
            "justify_items": null,
            "left": null,
            "margin": null,
            "max_height": null,
            "max_width": null,
            "min_height": null,
            "min_width": null,
            "object_fit": null,
            "object_position": null,
            "order": null,
            "overflow": null,
            "overflow_x": null,
            "overflow_y": null,
            "padding": null,
            "right": null,
            "top": null,
            "visibility": null,
            "width": "570"
          }
        },
        "ad83aa8f21fd413cba7a66f88bb5eef5": {
          "model_module": "jupyter-sankey-widget",
          "model_name": "SankeyModel",
          "model_module_version": "^0.5.0",
          "state": {
            "_dom_classes": [],
            "_model_module": "jupyter-sankey-widget",
            "_model_module_version": "^0.5.0",
            "_model_name": "SankeyModel",
            "_view_count": null,
            "_view_module": "jupyter-sankey-widget",
            "_view_module_version": "^0.5.0",
            "_view_name": "SankeyView",
            "align_link_types": false,
            "groups": [
              {
                "id": "farms",
                "type": "process",
                "title": "",
                "nodes": [
                  "farms^farm1",
                  "farms^farm3",
                  "farms^other"
                ]
              },
              {
                "id": "exports",
                "type": "group",
                "title": "exports here",
                "nodes": [
                  "exports^apples",
                  "exports^bananas"
                ]
              },
              {
                "id": "customers",
                "type": "process",
                "title": "",
                "nodes": [
                  "customers^James",
                  "customers^Mary"
                ]
              }
            ],
            "layout": "IPY_MODEL_b2ecb7a3f9d94becb96b65c521273fa4",
            "linkLabelFormat": "",
            "linkLabelMinWidth": 5,
            "links": [
              {
                "source": "farms^farm1",
                "target": "customers^James",
                "type": "*",
                "time": "*",
                "value": 3,
                "title": "*",
                "color": "#FBB4AE",
                "opacity": 1,
                "data": {
                  "value": 3
                }
              },
              {
                "source": "farms^farm1",
                "target": "customers^Mary",
                "type": "*",
                "time": "*",
                "value": 5,
                "title": "*",
                "color": "#FBB4AE",
                "opacity": 1,
                "data": {
                  "value": 5
                }
              },
              {
                "source": "farms^farm3",
                "target": "exports^apples",
                "type": "*",
                "time": "*",
                "value": 10,
                "title": "*",
                "color": "#FBB4AE",
                "opacity": 1,
                "data": {
                  "value": 10
                }
              },
              {
                "source": "farms^other",
                "target": "exports^bananas",
                "type": "*",
                "time": "*",
                "value": 3,
                "title": "*",
                "color": "#FBB4AE",
                "opacity": 1,
                "data": {
                  "value": 3
                }
              }
            ],
            "margins": {
              "top": 25,
              "bottom": 10,
              "left": 130,
              "right": 130
            },
            "node_position_attr": null,
            "nodes": [
              {
                "id": "farms^farm1",
                "title": "farm1",
                "direction": "r",
                "hidden": false,
                "type": "process",
                "fromElsewhere": [],
                "toElsewhere": []
              },
              {
                "id": "farms^farm3",
                "title": "farm3",
                "direction": "r",
                "hidden": false,
                "type": "process",
                "fromElsewhere": [],
                "toElsewhere": []
              },
              {
                "id": "farms^other",
                "title": "other",
                "direction": "r",
                "hidden": false,
                "type": "process",
                "fromElsewhere": [],
                "toElsewhere": []
              },
              {
                "id": "exports^apples",
                "title": "apples",
                "direction": "r",
                "hidden": false,
                "type": "group",
                "fromElsewhere": [],
                "toElsewhere": []
              },
              {
                "id": "exports^bananas",
                "title": "bananas",
                "direction": "r",
                "hidden": false,
                "type": "group",
                "fromElsewhere": [],
                "toElsewhere": []
              },
              {
                "id": "customers^James",
                "title": "James",
                "direction": "r",
                "hidden": false,
                "type": "process",
                "fromElsewhere": [],
                "toElsewhere": []
              },
              {
                "id": "customers^Mary",
                "title": "Mary",
                "direction": "r",
                "hidden": false,
                "type": "process",
                "fromElsewhere": [],
                "toElsewhere": []
              }
            ],
            "order": [
              [
                [
                  "farms^farm1",
                  "farms^farm3",
                  "farms^other"
                ]
              ],
              [
                [
                  "exports^apples",
                  "exports^bananas",
                  "customers^James",
                  "customers^Mary"
                ]
              ]
            ],
            "png": "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",
            "rank_sets": [],
            "scale": 6.309523809523809,
            "show_link_info_html": false,
            "svg": "<?xml version=\"1.0\" standalone=\"no\"?><!DOCTYPE svg PUBLIC \"-//W3C//DTD SVG 1.1//EN\" \"http://www.w3.org/Graphics/SVG/1.1/DTD/svg11.dtd\"><svg xmlns=\"http://www.w3.org/2000/svg\" width=\"0.030737300155669965\" height=\"0.016177526397721034\" viewBox=\"0 0 570 300\" style=\"font-family: &quot;Helvetica Neue&quot;, Helvetica, Arial, sans-serif;\"><g class=\"sankey\" transform=\"translate(130,25)\"><g class=\"groups\"><g class=\"group\" transform=\"translate(0,26.5)\" style=\"display: none;\"><rect x=\"-10\" y=\"-20\" width=\"21\" height=\"242\" style=\"fill: rgb(0, 0, 0); stroke: rgb(187, 187, 187); stroke-width: 0.999973;\"/><text x=\"-10\" y=\"-25\" style=\"fill: rgb(0, 0, 0);\"/></g><g class=\"group\" transform=\"translate(309,26.5)\" style=\"display: inline;\"><rect x=\"-10\" y=\"-20\" width=\"21\" height=\"138.52380952380952\" style=\"fill: rgb(0, 0, 0); stroke: rgb(187, 187, 187); stroke-width: 0.999973;\"/><text x=\"-10\" y=\"-25\" style=\"fill: rgb(0, 0, 0);\">exports here</text></g><g class=\"group\" transform=\"translate(309,161.52380952380952)\" style=\"display: none;\"><rect x=\"-10\" y=\"-20\" width=\"21\" height=\"106.97619047619048\" style=\"fill: rgb(0, 0, 0); stroke: rgb(187, 187, 187); stroke-width: 0.999973;\"/><text x=\"-10\" y=\"-25\" style=\"fill: rgb(0, 0, 0);\"/></g></g><g class=\"links\"><g class=\"link\" style=\"opacity: 0.999989;\"><path d=\"M1,26.5 A147.02694294699015 147.02694294699015 0.5147498492122282 0 1 73.38388246936344,45.55235362942728 L251.80498682242404,146.4693584537091 A116.17514358767666 116.17514358767666 0.5147498492122282 0 0 309,161.52380952380952 L309,180.45238095238096 A135.1037150162481 135.1037150162481 0.5147498492122282 0 1 242.48612687651155,162.94508804711404 L64.06502252345098,62.0280832228322 A128.0983715184187 128.0983715184187 0.5147498492122282 0 0 1,45.42857142857143 Z\" style=\"fill: rgb(255, 255, 255);\"/><title>farm1 → James\n*\n3.00</title><text class=\"label\" dy=\"0.35em\" x=\"5\" y=\"35.964285714285715\"/></g><g class=\"link\" style=\"opacity: 0.999989;\"><path d=\"M1,219.57142857142858 A143.572835448031 143.572835448031 0.39770029425140807 0 0 56.60563643800231,208.36615816450612 L246.06334402850882,128.7778057959837 A162.50140687660243 162.50140687660243 0.39770029425140807 0 1 309,116.0952380952381 L309,135.02380952380952 A143.572835448031 143.572835448031 0.39770029425140807 0 0 253.3943635619977,146.229079930732 L63.93665597149119,225.81743229925442 A162.50140687660243 162.50140687660243 0.39770029425140807 0 1 1,238.50000000000003 Z\" style=\"fill: rgb(255, 255, 255);\"/><title>other → bananas\n*\n3.00</title><text class=\"label\" dy=\"0.35em\" x=\"5\" y=\"229.0357142857143\"/></g><g class=\"link\" style=\"opacity: 0.999989;\"><path d=\"M1,45.42857142857143 A128.0983715184187 128.0983715184187 0.5937958173789004 0 1 72.67246156674351,67.3560851816198 L254.97878166851987,190.4250986179118 A96.55075247079965 96.55075247079965 0.5937958173789004 0 0 309,206.95238095238096 L309,238.5 A128.0983715184187 128.0983715184187 0.5937958173789004 0 1 237.32753843325648,216.57248624695163 L55.02121833148014,93.50347281065963 A96.55075247079965 96.55075247079965 0.5937958173789004 0 0 1,76.97619047619048 Z\" style=\"fill: rgb(255, 255, 255);\"/><title>farm1 → Mary\n*\n5.00</title><text class=\"label\" dy=\"0.35em\" x=\"5\" y=\"61.202380952380956\"/></g><g class=\"link\" style=\"opacity: 0.999989;\"><path d=\"M1,116.72619047619047 A139.69661431335962 139.69661431335962 0.34954482662189124 0 0 48.84192667460024,108.2785536928586 L239.54983486302962,38.76308826586249 A202.7918524085977 202.7918524085977 0.34954482662189124 0 1 309,26.500000000000004 L309,89.5952380952381 A139.69661431335962 139.69661431335962 0.34954482662189124 0 0 261.15807332539976,98.04287487856998 L70.45016513697038,167.55834030556608 A202.7918524085977 202.7918524085977 0.34954482662189124 0 1 1,179.82142857142856 Z\" style=\"fill: rgb(255, 255, 255);\"/><title>farm3 → apples\n*\n10.0</title><text class=\"label\" dy=\"0.35em\" x=\"5\" y=\"148.27380952380952\"/></g></g><g class=\"nodes\"><g class=\"node\" transform=\"translate(0,26.5)\"><title>farm1</title><line x1=\"0\" x2=\"0\" y1=\"0\" y2=\"50.47619047619048\" style=\"display: inline; stroke: rgb(0, 0, 0);\"/><rect class=\"node-body\" width=\"1\" height=\"50.47619047619048\" style=\"fill: none;\"/><text class=\"node-value\" dy=\".35em\" text-anchor=\"middle\" transform=\"translate(0.5,25.23809523809524) rotate(-90)\" style=\"display: none;\"/><text class=\"node-title\" dy=\".35em\" text-anchor=\"end\" transform=\"translate(-4,25.23809523809524)\" style=\"display: inline;\">farm1</text><rect class=\"node-click-target\" x=\"-5\" y=\"-5\" width=\"10\" height=\"55.47619047619048\" style=\"fill: none; visibility: hidden; pointer-events: all;\"/></g><g class=\"node\" transform=\"translate(0,116.72619047619048)\"><title>farm3</title><line x1=\"0\" x2=\"0\" y1=\"0\" y2=\"63.0952380952381\" style=\"display: inline; stroke: rgb(0, 0, 0);\"/><rect class=\"node-body\" width=\"1\" height=\"63.0952380952381\" style=\"fill: none;\"/><text class=\"node-value\" dy=\".35em\" text-anchor=\"middle\" transform=\"translate(0.5,31.54761904761905) rotate(-90)\" style=\"display: none;\"/><text class=\"node-title\" dy=\".35em\" text-anchor=\"end\" transform=\"translate(-4,31.54761904761905)\" style=\"display: inline;\">farm3</text><rect class=\"node-click-target\" x=\"-5\" y=\"-5\" width=\"10\" height=\"68.0952380952381\" style=\"fill: none; visibility: hidden; pointer-events: all;\"/></g><g class=\"node\" transform=\"translate(0,219.57142857142858)\"><title>other</title><line x1=\"0\" x2=\"0\" y1=\"0\" y2=\"18.928571428571416\" style=\"display: inline; stroke: rgb(0, 0, 0);\"/><rect class=\"node-body\" width=\"1\" height=\"18.928571428571416\" style=\"fill: none;\"/><text class=\"node-value\" dy=\".35em\" text-anchor=\"middle\" transform=\"translate(0.5,9.464285714285708) rotate(-90)\" style=\"display: none;\"/><text class=\"node-title\" dy=\".35em\" text-anchor=\"end\" transform=\"translate(-4,9.464285714285708)\" style=\"display: inline;\">other</text><rect class=\"node-click-target\" x=\"-5\" y=\"-5\" width=\"10\" height=\"23.928571428571416\" style=\"fill: none; visibility: hidden; pointer-events: all;\"/></g><g class=\"node\" transform=\"translate(309,26.5)\"><title>apples</title><line x1=\"0\" x2=\"0\" y1=\"0\" y2=\"63.0952380952381\" style=\"display: inline; stroke: rgb(0, 0, 0);\"/><rect class=\"node-body\" width=\"1\" height=\"63.0952380952381\" style=\"fill: none;\"/><text class=\"node-value\" dy=\".35em\" text-anchor=\"middle\" transform=\"translate(0.5,31.54761904761905) rotate(-90)\" style=\"display: none;\"/><text class=\"node-title\" dy=\".35em\" text-anchor=\"start\" transform=\"translate(5,31.54761904761905)\" style=\"display: inline;\">apples</text><rect class=\"node-click-target\" x=\"-5\" y=\"-5\" width=\"10\" height=\"68.0952380952381\" style=\"fill: none; visibility: hidden; pointer-events: all;\"/></g><g class=\"node\" transform=\"translate(309,116.0952380952381)\"><title>bananas</title><line x1=\"0\" x2=\"0\" y1=\"0\" y2=\"18.928571428571416\" style=\"display: inline; stroke: rgb(0, 0, 0);\"/><rect class=\"node-body\" width=\"1\" height=\"18.928571428571416\" style=\"fill: none;\"/><text class=\"node-value\" dy=\".35em\" text-anchor=\"middle\" transform=\"translate(0.5,9.464285714285708) rotate(-90)\" style=\"display: none;\"/><text class=\"node-title\" dy=\".35em\" text-anchor=\"start\" transform=\"translate(5,9.464285714285708)\" style=\"display: inline;\">bananas</text><rect class=\"node-click-target\" x=\"-5\" y=\"-5\" width=\"10\" height=\"23.928571428571416\" style=\"fill: none; visibility: hidden; pointer-events: all;\"/></g><g class=\"node\" transform=\"translate(309,161.52380952380952)\"><title>James</title><line x1=\"0\" x2=\"0\" y1=\"0\" y2=\"18.928571428571416\" style=\"display: inline; stroke: rgb(0, 0, 0);\"/><rect class=\"node-body\" width=\"1\" height=\"18.928571428571416\" style=\"fill: none;\"/><text class=\"node-value\" dy=\".35em\" text-anchor=\"middle\" transform=\"translate(0.5,9.464285714285708) rotate(-90)\" style=\"display: none;\"/><text class=\"node-title\" dy=\".35em\" text-anchor=\"start\" transform=\"translate(5,9.464285714285708)\" style=\"display: inline;\">James</text><rect class=\"node-click-target\" x=\"-5\" y=\"-5\" width=\"10\" height=\"23.928571428571416\" style=\"fill: none; visibility: hidden; pointer-events: all;\"/></g><g class=\"node\" transform=\"translate(309,206.95238095238096)\"><title>Mary</title><line x1=\"0\" x2=\"0\" y1=\"0\" y2=\"31.547619047619037\" style=\"display: inline; stroke: rgb(0, 0, 0);\"/><rect class=\"node-body\" width=\"1\" height=\"31.547619047619037\" style=\"fill: none;\"/><text class=\"node-value\" dy=\".35em\" text-anchor=\"middle\" transform=\"translate(0.5,15.773809523809518) rotate(-90)\" style=\"display: none;\"/><text class=\"node-title\" dy=\".35em\" text-anchor=\"start\" transform=\"translate(5,15.773809523809518)\" style=\"display: inline;\">Mary</text><rect class=\"node-click-target\" x=\"-5\" y=\"-5\" width=\"10\" height=\"36.54761904761904\" style=\"fill: none; visibility: hidden; pointer-events: all;\"/></g></g><g class=\"slice-titles\"/></g></svg>"
          }
        },
        "b2ecb7a3f9d94becb96b65c521273fa4": {
          "model_module": "@jupyter-widgets/base",
          "model_name": "LayoutModel",
          "model_module_version": "1.2.0",
          "state": {
            "_model_module": "@jupyter-widgets/base",
            "_model_module_version": "1.2.0",
            "_model_name": "LayoutModel",
            "_view_count": null,
            "_view_module": "@jupyter-widgets/base",
            "_view_module_version": "1.2.0",
            "_view_name": "LayoutView",
            "align_content": null,
            "align_items": null,
            "align_self": null,
            "border": null,
            "bottom": null,
            "display": null,
            "flex": null,
            "flex_flow": null,
            "grid_area": null,
            "grid_auto_columns": null,
            "grid_auto_flow": null,
            "grid_auto_rows": null,
            "grid_column": null,
            "grid_gap": null,
            "grid_row": null,
            "grid_template_areas": null,
            "grid_template_columns": null,
            "grid_template_rows": null,
            "height": "300",
            "justify_content": null,
            "justify_items": null,
            "left": null,
            "margin": null,
            "max_height": null,
            "max_width": null,
            "min_height": null,
            "min_width": null,
            "object_fit": null,
            "object_position": null,
            "order": null,
            "overflow": null,
            "overflow_x": null,
            "overflow_y": null,
            "padding": null,
            "right": null,
            "top": null,
            "visibility": null,
            "width": "570"
          }
        },
        "399bcdab95c744afb3999818564f04d1": {
          "model_module": "jupyter-sankey-widget",
          "model_name": "SankeyModel",
          "model_module_version": "^0.5.0",
          "state": {
            "_dom_classes": [],
            "_model_module": "jupyter-sankey-widget",
            "_model_module_version": "^0.5.0",
            "_model_name": "SankeyModel",
            "_view_count": null,
            "_view_module": "jupyter-sankey-widget",
            "_view_module_version": "^0.5.0",
            "_view_name": "SankeyView",
            "align_link_types": false,
            "groups": [
              {
                "id": "farms",
                "type": "process",
                "title": "",
                "nodes": [
                  "farms^farm1",
                  "farms^farm3",
                  "farms^other"
                ]
              },
              {
                "id": "exports",
                "type": "group",
                "title": "exports here",
                "nodes": [
                  "exports^apples",
                  "exports^bananas"
                ]
              },
              {
                "id": "customers",
                "type": "process",
                "title": "",
                "nodes": [
                  "customers^James",
                  "customers^Mary"
                ]
              }
            ],
            "layout": "IPY_MODEL_37ec4a091c4e462a800e1442da585917",
            "linkLabelFormat": "",
            "linkLabelMinWidth": 5,
            "links": [
              {
                "source": "farms^farm1",
                "target": "customers^James",
                "type": "*",
                "time": "*",
                "value": 3,
                "title": "*",
                "color": "#FBB4AE",
                "opacity": 1,
                "data": {
                  "value": 3
                }
              },
              {
                "source": "farms^farm1",
                "target": "customers^Mary",
                "type": "*",
                "time": "*",
                "value": 5,
                "title": "*",
                "color": "#FBB4AE",
                "opacity": 1,
                "data": {
                  "value": 5
                }
              },
              {
                "source": "farms^farm3",
                "target": "exports^apples",
                "type": "*",
                "time": "*",
                "value": 10,
                "title": "*",
                "color": "#FBB4AE",
                "opacity": 1,
                "data": {
                  "value": 10
                }
              },
              {
                "source": "farms^other",
                "target": "exports^bananas",
                "type": "*",
                "time": "*",
                "value": 3,
                "title": "*",
                "color": "#FBB4AE",
                "opacity": 1,
                "data": {
                  "value": 3
                }
              }
            ],
            "margins": {
              "top": 25,
              "bottom": 10,
              "left": 130,
              "right": 130
            },
            "node_position_attr": null,
            "nodes": [
              {
                "id": "farms^farm1",
                "title": "farm1",
                "direction": "r",
                "hidden": false,
                "type": "process",
                "fromElsewhere": [],
                "toElsewhere": []
              },
              {
                "id": "farms^farm3",
                "title": "farm3",
                "direction": "r",
                "hidden": false,
                "type": "process",
                "fromElsewhere": [],
                "toElsewhere": []
              },
              {
                "id": "farms^other",
                "title": "other",
                "direction": "r",
                "hidden": false,
                "type": "process",
                "fromElsewhere": [],
                "toElsewhere": []
              },
              {
                "id": "exports^apples",
                "title": "apples",
                "direction": "r",
                "hidden": false,
                "type": "group",
                "fromElsewhere": [],
                "toElsewhere": []
              },
              {
                "id": "exports^bananas",
                "title": "bananas",
                "direction": "r",
                "hidden": false,
                "type": "group",
                "fromElsewhere": [],
                "toElsewhere": []
              },
              {
                "id": "customers^James",
                "title": "James",
                "direction": "r",
                "hidden": false,
                "type": "process",
                "fromElsewhere": [],
                "toElsewhere": []
              },
              {
                "id": "customers^Mary",
                "title": "Mary",
                "direction": "r",
                "hidden": false,
                "type": "process",
                "fromElsewhere": [],
                "toElsewhere": []
              }
            ],
            "order": [
              [
                [],
                [
                  "farms^farm1",
                  "farms^farm3",
                  "farms^other"
                ]
              ],
              [
                [
                  "exports^apples",
                  "exports^bananas"
                ],
                [
                  "customers^James",
                  "customers^Mary"
                ]
              ]
            ],
            "png": "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",
            "rank_sets": [],
            "scale": 3.8970588235294117,
            "show_link_info_html": false,
            "svg": "<?xml version=\"1.0\" standalone=\"no\"?><!DOCTYPE svg PUBLIC \"-//W3C//DTD SVG 1.1//EN\" \"http://www.w3.org/Graphics/SVG/1.1/DTD/svg11.dtd\"><svg xmlns=\"http://www.w3.org/2000/svg\" width=\"0.15485147134727498\" height=\"0.08150077439330261\" viewBox=\"0 0 570 300\" style=\"font-family: &quot;Helvetica Neue&quot;, Helvetica, Arial, sans-serif;\"><g class=\"sankey\" transform=\"translate(130,25)\"><g class=\"groups\"><g class=\"group\" transform=\"translate(0,117.69117647058823)\" style=\"display: none;\"><rect x=\"-10\" y=\"-20\" width=\"21\" height=\"160.94117647058826\" style=\"fill: rgb(0, 0, 0); stroke: rgb(187, 187, 187); stroke-width: 0.999864;\"/><text x=\"-10\" y=\"-25\" style=\"fill: rgb(0, 0, 0);\"/></g><g class=\"group\" transform=\"translate(309,10.13235294117647)\" style=\"display: inline;\"><rect x=\"-10\" y=\"-20\" width=\"21\" height=\"111.05882352941175\" style=\"fill: rgb(0, 0, 0); stroke: rgb(187, 187, 187); stroke-width: 0.999864;\"/><text x=\"-10\" y=\"-25\" style=\"fill: rgb(0, 0, 0);\">exports here</text></g><g class=\"group\" transform=\"translate(309,117.69117647058823)\" style=\"display: none;\"><rect x=\"-10\" y=\"-20\" width=\"21\" height=\"160.94117647058823\" style=\"fill: rgb(0, 0, 0); stroke: rgb(187, 187, 187); stroke-width: 0.999864;\"/><text x=\"-10\" y=\"-25\" style=\"fill: rgb(0, 0, 0);\"/></g></g><g class=\"links\"><g class=\"link\" style=\"opacity: 0.999946;\"><path d=\"M1,117.69117647058823 A0 0 0 0 0 1,117.69117647058823 L309,117.69117647058823 A0 0 0 0 0 309,117.69117647058823 L309,129.38235294117646 A0 0 0 0 0 309,129.38235294117646 L1,129.38235294117646 A0 0 0 0 0 1,129.38235294117646 Z\" style=\"fill: rgb(255, 255, 255);\"/><title>farm1 → James\n*\n3.00</title><text class=\"label\" dy=\"0.35em\" x=\"5\" y=\"123.53676470588235\"/></g><g class=\"link\" style=\"opacity: 0.999946;\"><path d=\"M1,236.94117647058826 A108.15101042845679 108.15101042845679 0.5808575669511361 0 0 60.34689987700257,219.20358612833994 L243.23767157826506,99.15503242654033 A119.84218689904502 119.84218689904502 0.5808575669511361 0 1 309,79.49999999999999 L309,91.19117647058822 A108.15101042845679 108.15101042845679 0.5808575669511361 0 0 249.65310012299744,108.92876681283657 L66.76232842173492,228.97732051463615 A119.84218689904502 119.84218689904502 0.5808575669511361 0 1 1,248.6323529411765 Z\" style=\"fill: rgb(255, 255, 255);\"/><title>other → bananas\n*\n3.00</title><text class=\"label\" dy=\"0.35em\" x=\"5\" y=\"242.78676470588238\"/></g><g class=\"link\" style=\"opacity: 0.999946;\"><path d=\"M1,129.38235294117646 A167.33895671476137 167.33895671476137 0.3843264377581863 0 1 63.74119746009629,141.5895315585474 L253.56451729876417,218.36130932449325 A147.8536625971143 147.8536625971143 0.3843264377581863 0 0 309,229.1470588235294 L309,248.63235294117646 A167.33895671476137 167.33895671476137 0.3843264377581863 0 1 246.2588025399037,236.42517432380552 L56.43548270123581,159.65339655785968 A147.8536625971143 147.8536625971143 0.3843264377581863 0 0 1,148.86764705882354 Z\" style=\"fill: rgb(255, 255, 255);\"/><title>farm1 → Mary\n*\n5.00</title><text class=\"label\" dy=\"0.35em\" x=\"5\" y=\"139.125\"/></g><g class=\"link\" style=\"opacity: 0.999946;\"><path d=\"M1,173.41911764705884 A92.15256680789574 92.15256680789574 0.5993412897405352 0 0 52.98314257571462,157.35760456584381 L235.03359950030548,32.98615227556387 A131.12315504318985 131.12315504318985 0.5993412897405352 0 1 309,10.132352941176467 L309,49.10294117647058 A92.15256680789574 92.15256680789574 0.5993412897405352 0 0 257.0168574242854,65.16445425768559 L74.96640049969452,189.53590654796557 A131.12315504318985 131.12315504318985 0.5993412897405352 0 1 1,212.38970588235293 Z\" style=\"fill: rgb(255, 255, 255);\"/><title>farm3 → apples\n*\n10.0</title><text class=\"label\" dy=\"0.35em\" x=\"5\" y=\"192.9044117647059\"/></g></g><g class=\"nodes\"><g class=\"node\" transform=\"translate(0,117.69117647058823)\"><title>farm1</title><line x1=\"0\" x2=\"0\" y1=\"0\" y2=\"31.176470588235304\" style=\"display: inline; stroke: rgb(0, 0, 0);\"/><rect class=\"node-body\" width=\"1\" height=\"31.176470588235304\" style=\"fill: none;\"/><text class=\"node-value\" dy=\".35em\" text-anchor=\"middle\" transform=\"translate(0.5,15.588235294117652) rotate(-90)\" style=\"display: none;\"/><text class=\"node-title\" dy=\".35em\" text-anchor=\"end\" transform=\"translate(-4,15.588235294117652)\" style=\"display: inline;\">farm1</text><rect class=\"node-click-target\" x=\"-5\" y=\"-5\" width=\"10\" height=\"36.176470588235304\" style=\"fill: none; visibility: hidden; pointer-events: all;\"/></g><g class=\"node\" transform=\"translate(0,173.41911764705884)\"><title>farm3</title><line x1=\"0\" x2=\"0\" y1=\"0\" y2=\"38.970588235294116\" style=\"display: inline; stroke: rgb(0, 0, 0);\"/><rect class=\"node-body\" width=\"1\" height=\"38.970588235294116\" style=\"fill: none;\"/><text class=\"node-value\" dy=\".35em\" text-anchor=\"middle\" transform=\"translate(0.5,19.485294117647058) rotate(-90)\" style=\"display: none;\"/><text class=\"node-title\" dy=\".35em\" text-anchor=\"end\" transform=\"translate(-4,19.485294117647058)\" style=\"display: inline;\">farm3</text><rect class=\"node-click-target\" x=\"-5\" y=\"-5\" width=\"10\" height=\"43.970588235294116\" style=\"fill: none; visibility: hidden; pointer-events: all;\"/></g><g class=\"node\" transform=\"translate(0,236.94117647058826)\"><title>other</title><line x1=\"0\" x2=\"0\" y1=\"0\" y2=\"11.691176470588232\" style=\"display: inline; stroke: rgb(0, 0, 0);\"/><rect class=\"node-body\" width=\"1\" height=\"11.691176470588232\" style=\"fill: none;\"/><text class=\"node-value\" dy=\".35em\" text-anchor=\"middle\" transform=\"translate(0.5,5.845588235294116) rotate(-90)\" style=\"display: none;\"/><text class=\"node-title\" dy=\".35em\" text-anchor=\"end\" transform=\"translate(-4,5.845588235294116)\" style=\"display: inline;\">other</text><rect class=\"node-click-target\" x=\"-5\" y=\"-5\" width=\"10\" height=\"16.691176470588232\" style=\"fill: none; visibility: hidden; pointer-events: all;\"/></g><g class=\"node\" transform=\"translate(309,10.13235294117647)\"><title>apples</title><line x1=\"0\" x2=\"0\" y1=\"0\" y2=\"38.970588235294116\" style=\"display: inline; stroke: rgb(0, 0, 0);\"/><rect class=\"node-body\" width=\"1\" height=\"38.970588235294116\" style=\"fill: none;\"/><text class=\"node-value\" dy=\".35em\" text-anchor=\"middle\" transform=\"translate(0.5,19.485294117647058) rotate(-90)\" style=\"display: none;\"/><text class=\"node-title\" dy=\".35em\" text-anchor=\"start\" transform=\"translate(5,19.485294117647058)\" style=\"display: inline;\">apples</text><rect class=\"node-click-target\" x=\"-5\" y=\"-5\" width=\"10\" height=\"43.970588235294116\" style=\"fill: none; visibility: hidden; pointer-events: all;\"/></g><g class=\"node\" transform=\"translate(309,79.49999999999999)\"><title>bananas</title><line x1=\"0\" x2=\"0\" y1=\"0\" y2=\"11.691176470588232\" style=\"display: inline; stroke: rgb(0, 0, 0);\"/><rect class=\"node-body\" width=\"1\" height=\"11.691176470588232\" style=\"fill: none;\"/><text class=\"node-value\" dy=\".35em\" text-anchor=\"middle\" transform=\"translate(0.5,5.845588235294116) rotate(-90)\" style=\"display: none;\"/><text class=\"node-title\" dy=\".35em\" text-anchor=\"start\" transform=\"translate(5,5.845588235294116)\" style=\"display: inline;\">bananas</text><rect class=\"node-click-target\" x=\"-5\" y=\"-5\" width=\"10\" height=\"16.691176470588232\" style=\"fill: none; visibility: hidden; pointer-events: all;\"/></g><g class=\"node\" transform=\"translate(309,117.69117647058823)\"><title>James</title><line x1=\"0\" x2=\"0\" y1=\"0\" y2=\"11.691176470588232\" style=\"display: inline; stroke: rgb(0, 0, 0);\"/><rect class=\"node-body\" width=\"1\" height=\"11.691176470588232\" style=\"fill: none;\"/><text class=\"node-value\" dy=\".35em\" text-anchor=\"middle\" transform=\"translate(0.5,5.845588235294116) rotate(-90)\" style=\"display: none;\"/><text class=\"node-title\" dy=\".35em\" text-anchor=\"start\" transform=\"translate(5,5.845588235294116)\" style=\"display: inline;\">James</text><rect class=\"node-click-target\" x=\"-5\" y=\"-5\" width=\"10\" height=\"16.691176470588232\" style=\"fill: none; visibility: hidden; pointer-events: all;\"/></g><g class=\"node\" transform=\"translate(309,229.1470588235294)\"><title>Mary</title><line x1=\"0\" x2=\"0\" y1=\"0\" y2=\"19.485294117647072\" style=\"display: inline; stroke: rgb(0, 0, 0);\"/><rect class=\"node-body\" width=\"1\" height=\"19.485294117647072\" style=\"fill: none;\"/><text class=\"node-value\" dy=\".35em\" text-anchor=\"middle\" transform=\"translate(0.5,9.742647058823536) rotate(-90)\" style=\"display: none;\"/><text class=\"node-title\" dy=\".35em\" text-anchor=\"start\" transform=\"translate(5,9.742647058823536)\" style=\"display: inline;\">Mary</text><rect class=\"node-click-target\" x=\"-5\" y=\"-5\" width=\"10\" height=\"24.485294117647072\" style=\"fill: none; visibility: hidden; pointer-events: all;\"/></g></g><g class=\"slice-titles\"/></g></svg>"
          }
        },
        "37ec4a091c4e462a800e1442da585917": {
          "model_module": "@jupyter-widgets/base",
          "model_name": "LayoutModel",
          "model_module_version": "1.2.0",
          "state": {
            "_model_module": "@jupyter-widgets/base",
            "_model_module_version": "1.2.0",
            "_model_name": "LayoutModel",
            "_view_count": null,
            "_view_module": "@jupyter-widgets/base",
            "_view_module_version": "1.2.0",
            "_view_name": "LayoutView",
            "align_content": null,
            "align_items": null,
            "align_self": null,
            "border": null,
            "bottom": null,
            "display": null,
            "flex": null,
            "flex_flow": null,
            "grid_area": null,
            "grid_auto_columns": null,
            "grid_auto_flow": null,
            "grid_auto_rows": null,
            "grid_column": null,
            "grid_gap": null,
            "grid_row": null,
            "grid_template_areas": null,
            "grid_template_columns": null,
            "grid_template_rows": null,
            "height": "300",
            "justify_content": null,
            "justify_items": null,
            "left": null,
            "margin": null,
            "max_height": null,
            "max_width": null,
            "min_height": null,
            "min_width": null,
            "object_fit": null,
            "object_position": null,
            "order": null,
            "overflow": null,
            "overflow_x": null,
            "overflow_y": null,
            "padding": null,
            "right": null,
            "top": null,
            "visibility": null,
            "width": "570"
          }
        },
        "82d00844cb17493a9ca0fdb09e48f2f2": {
          "model_module": "jupyter-sankey-widget",
          "model_name": "SankeyModel",
          "model_module_version": "^0.5.0",
          "state": {
            "_dom_classes": [],
            "_model_module": "jupyter-sankey-widget",
            "_model_module_version": "^0.5.0",
            "_model_name": "SankeyModel",
            "_view_count": null,
            "_view_module": "jupyter-sankey-widget",
            "_view_module_version": "^0.5.0",
            "_view_name": "SankeyView",
            "align_link_types": false,
            "groups": [
              {
                "id": "Activity",
                "type": "process",
                "title": "",
                "nodes": [
                  "Activity^Reading",
                  "Activity^Swimming",
                  "Activity^Sleeping",
                  "Activity^Travelling",
                  "Activity^Working out"
                ]
              },
              {
                "id": "Job",
                "type": "process",
                "title": "",
                "nodes": [
                  "Job^Student",
                  "Job^Trainee",
                  "Job^Administrator",
                  "Job^Manager",
                  "Job^Pensioner"
                ]
              }
            ],
            "layout": "IPY_MODEL_eff1955b5eeb42afb69912faa41f3a38",
            "linkLabelFormat": "",
            "linkLabelMinWidth": 5,
            "links": [
              {
                "source": "Activity^Reading",
                "target": "Job^Administrator",
                "type": "*",
                "time": "*",
                "value": 1.5,
                "title": "*",
                "color": "#FBB4AE",
                "opacity": 1,
                "data": {
                  "value": 1.5
                }
              },
              {
                "source": "Activity^Reading",
                "target": "Job^Manager",
                "type": "*",
                "time": "*",
                "value": 2,
                "title": "*",
                "color": "#FBB4AE",
                "opacity": 1,
                "data": {
                  "value": 2
                }
              },
              {
                "source": "Activity^Reading",
                "target": "Job^Pensioner",
                "type": "*",
                "time": "*",
                "value": 3,
                "title": "*",
                "color": "#FBB4AE",
                "opacity": 1,
                "data": {
                  "value": 3
                }
              },
              {
                "source": "Activity^Reading",
                "target": "Job^Student",
                "type": "*",
                "time": "*",
                "value": 2.5,
                "title": "*",
                "color": "#FBB4AE",
                "opacity": 1,
                "data": {
                  "value": 2.5
                }
              },
              {
                "source": "Activity^Reading",
                "target": "Job^Trainee",
                "type": "*",
                "time": "*",
                "value": 1,
                "title": "*",
                "color": "#FBB4AE",
                "opacity": 1,
                "data": {
                  "value": 1
                }
              },
              {
                "source": "Activity^Swimming",
                "target": "Job^Administrator",
                "type": "*",
                "time": "*",
                "value": 4.5,
                "title": "*",
                "color": "#FBB4AE",
                "opacity": 1,
                "data": {
                  "value": 4.5
                }
              },
              {
                "source": "Activity^Swimming",
                "target": "Job^Manager",
                "type": "*",
                "time": "*",
                "value": 2,
                "title": "*",
                "color": "#FBB4AE",
                "opacity": 1,
                "data": {
                  "value": 2
                }
              },
              {
                "source": "Activity^Swimming",
                "target": "Job^Pensioner",
                "type": "*",
                "time": "*",
                "value": 9,
                "title": "*",
                "color": "#FBB4AE",
                "opacity": 1,
                "data": {
                  "value": 9
                }
              },
              {
                "source": "Activity^Swimming",
                "target": "Job^Student",
                "type": "*",
                "time": "*",
                "value": 4.5,
                "title": "*",
                "color": "#FBB4AE",
                "opacity": 1,
                "data": {
                  "value": 4.5
                }
              },
              {
                "source": "Activity^Swimming",
                "target": "Job^Trainee",
                "type": "*",
                "time": "*",
                "value": 2,
                "title": "*",
                "color": "#FBB4AE",
                "opacity": 1,
                "data": {
                  "value": 2
                }
              },
              {
                "source": "Activity^Sleeping",
                "target": "Job^Administrator",
                "type": "*",
                "time": "*",
                "value": 9,
                "title": "*",
                "color": "#FBB4AE",
                "opacity": 1,
                "data": {
                  "value": 9
                }
              },
              {
                "source": "Activity^Sleeping",
                "target": "Job^Manager",
                "type": "*",
                "time": "*",
                "value": 7.5,
                "title": "*",
                "color": "#FBB4AE",
                "opacity": 1,
                "data": {
                  "value": 7.5
                }
              },
              {
                "source": "Activity^Sleeping",
                "target": "Job^Pensioner",
                "type": "*",
                "time": "*",
                "value": 9,
                "title": "*",
                "color": "#FBB4AE",
                "opacity": 1,
                "data": {
                  "value": 9
                }
              },
              {
                "source": "Activity^Sleeping",
                "target": "Job^Student",
                "type": "*",
                "time": "*",
                "value": 8,
                "title": "*",
                "color": "#FBB4AE",
                "opacity": 1,
                "data": {
                  "value": 8
                }
              },
              {
                "source": "Activity^Sleeping",
                "target": "Job^Trainee",
                "type": "*",
                "time": "*",
                "value": 6,
                "title": "*",
                "color": "#FBB4AE",
                "opacity": 1,
                "data": {
                  "value": 6
                }
              },
              {
                "source": "Activity^Travelling",
                "target": "Job^Administrator",
                "type": "*",
                "time": "*",
                "value": 1.5,
                "title": "*",
                "color": "#FBB4AE",
                "opacity": 1,
                "data": {
                  "value": 1.5
                }
              },
              {
                "source": "Activity^Travelling",
                "target": "Job^Manager",
                "type": "*",
                "time": "*",
                "value": 1.5,
                "title": "*",
                "color": "#FBB4AE",
                "opacity": 1,
                "data": {
                  "value": 1.5
                }
              },
              {
                "source": "Activity^Travelling",
                "target": "Job^Pensioner",
                "type": "*",
                "time": "*",
                "value": 3,
                "title": "*",
                "color": "#FBB4AE",
                "opacity": 1,
                "data": {
                  "value": 3
                }
              },
              {
                "source": "Activity^Travelling",
                "target": "Job^Student",
                "type": "*",
                "time": "*",
                "value": 1,
                "title": "*",
                "color": "#FBB4AE",
                "opacity": 1,
                "data": {
                  "value": 1
                }
              },
              {
                "source": "Activity^Travelling",
                "target": "Job^Trainee",
                "type": "*",
                "time": "*",
                "value": 3,
                "title": "*",
                "color": "#FBB4AE",
                "opacity": 1,
                "data": {
                  "value": 3
                }
              },
              {
                "source": "Activity^Working out",
                "target": "Job^Administrator",
                "type": "*",
                "time": "*",
                "value": 7.5,
                "title": "*",
                "color": "#FBB4AE",
                "opacity": 1,
                "data": {
                  "value": 7.5
                }
              },
              {
                "source": "Activity^Working out",
                "target": "Job^Manager",
                "type": "*",
                "time": "*",
                "value": 11,
                "title": "*",
                "color": "#FBB4AE",
                "opacity": 1,
                "data": {
                  "value": 11
                }
              },
              {
                "source": "Activity^Working out",
                "target": "Job^Pensioner",
                "type": "*",
                "time": "*",
                "value": 0,
                "title": "*",
                "color": "#FBB4AE",
                "opacity": 1,
                "data": {
                  "value": 0
                }
              },
              {
                "source": "Activity^Working out",
                "target": "Job^Student",
                "type": "*",
                "time": "*",
                "value": 8,
                "title": "*",
                "color": "#FBB4AE",
                "opacity": 1,
                "data": {
                  "value": 8
                }
              },
              {
                "source": "Activity^Working out",
                "target": "Job^Trainee",
                "type": "*",
                "time": "*",
                "value": 12,
                "title": "*",
                "color": "#FBB4AE",
                "opacity": 1,
                "data": {
                  "value": 12
                }
              }
            ],
            "margins": {
              "left": 100,
              "right": 100
            },
            "node_position_attr": null,
            "nodes": [
              {
                "id": "Activity^Reading",
                "title": "Reading",
                "direction": "r",
                "hidden": false,
                "type": "process",
                "fromElsewhere": [],
                "toElsewhere": []
              },
              {
                "id": "Activity^Swimming",
                "title": "Swimming",
                "direction": "r",
                "hidden": false,
                "type": "process",
                "fromElsewhere": [],
                "toElsewhere": []
              },
              {
                "id": "Activity^Sleeping",
                "title": "Sleeping",
                "direction": "r",
                "hidden": false,
                "type": "process",
                "fromElsewhere": [],
                "toElsewhere": []
              },
              {
                "id": "Activity^Travelling",
                "title": "Travelling",
                "direction": "r",
                "hidden": false,
                "type": "process",
                "fromElsewhere": [],
                "toElsewhere": []
              },
              {
                "id": "Activity^Working out",
                "title": "Working out",
                "direction": "r",
                "hidden": false,
                "type": "process",
                "fromElsewhere": [],
                "toElsewhere": []
              },
              {
                "id": "Job^Student",
                "title": "Student",
                "direction": "r",
                "hidden": false,
                "type": "process",
                "fromElsewhere": [],
                "toElsewhere": []
              },
              {
                "id": "Job^Trainee",
                "title": "Trainee",
                "direction": "r",
                "hidden": false,
                "type": "process",
                "fromElsewhere": [],
                "toElsewhere": []
              },
              {
                "id": "Job^Administrator",
                "title": "Administrator",
                "direction": "r",
                "hidden": false,
                "type": "process",
                "fromElsewhere": [],
                "toElsewhere": []
              },
              {
                "id": "Job^Manager",
                "title": "Manager",
                "direction": "r",
                "hidden": false,
                "type": "process",
                "fromElsewhere": [],
                "toElsewhere": []
              },
              {
                "id": "Job^Pensioner",
                "title": "Pensioner",
                "direction": "r",
                "hidden": false,
                "type": "process",
                "fromElsewhere": [],
                "toElsewhere": []
              }
            ],
            "order": [
              [
                [
                  "Activity^Reading",
                  "Activity^Swimming",
                  "Activity^Sleeping",
                  "Activity^Travelling",
                  "Activity^Working out"
                ]
              ],
              [
                [
                  "Job^Student",
                  "Job^Trainee",
                  "Job^Administrator",
                  "Job^Manager",
                  "Job^Pensioner"
                ]
              ]
            ],
            "png": "iVBORw0KGgoAAAANSUhEUgAAAfQAAAGQCAYAAABYs5LGAAAAAXNSR0IArs4c6QAAIABJREFUeF7tfQXcLk1d9nUI6U4FpEOQLsmPkG4lpOuluxvOQbpbQF66pAUUaVC6BJEQEKQ7pJE43143Mzfz7LO7EzuzO7v3Nb+f8p7nnp24Znav+eccgIoQEAJCQAgIASGweAQOLH4GmoAQEAJCQAgIASEAEbo2gRAQAkJACAiBFSAgQl/BImoKQkAICAEhIARE6NoDQkAICAEhIARWgIAIfQWLqCkIASEgBISAEBChaw8IASEgBISAEFgBAiL0FSyipiAEhIAQEAJCQISuPSAEhIAQEAJCYAUIiNBXsIiaghAQAkJACAgBEbr2gBAQAkJACAiBFSAgQl/BImoKQkAICAEhIARE6NoDQkAICAEhIARWgIAIfQWLqCkIASEgBISAEBChaw8IASEgBISAEFgBAiL0FSyipiAEhIAQEAJCQISuPSAEhIAQEAJCYAUIiNBXsIiaghAQAkJACAgBEbr2gBAQAkJACAiBFSAgQl/BImoKQkAICAEhIARE6NoDQkAICAEhIARWgIAIfQWLqCkIASEgBISAEBChaw8IASEgBISAEFgBAiL0FSyipiAEhIAQEAJCQISuPSAEhIAQEAJCYAUIiNBXsIiaghAQAkJACAgBEbr2gBAQAkJACAiBFSAgQl/BImoKQkAICAEhIARE6NoDQkAICAEhIARWgIAIfQWLqCkIASEgBISAEBChaw8IASEgBISAEFgBAiL0FSyipiAEhIAQEAJCQISuPSAEhIAQEAJCYAUIiNBXsIiaghAQAkJACAgBEbr2gBAQAkJACAiBFSAgQl/BImoKQkAICAEhIARE6NoDQkAICAEhIARWgIAIfQWLqCkIASEgBISAEBChaw8IASEgBISAEFgBAiL0FSyipiAEhIAQEAJCQISuPSAEhIAQEAJCYAUIiNBXsIiaghAQAkJACAgBEbr2gBAQAkJACAiBFSAgQl/BImoKQkAICAEhIARE6NoDQkAICAEhIARWgIAIfQWLqCkIASEgBISAEBChaw8IASEgBISAEFgBAiL0FSyipiAEhIAQEAJCQIRe1x44yOEcPnz4IXUNS6MRAkJACPwBgUOHDuHgwYOHmr9svlkqdSAgQq9jHewoROh1rYdGIwSEQAcCIvQ6t0WthH4yAN/pgexzAJ4F4CkAflMY1mMC+AWA+wF4FIDXATgFgIsU6leEXghYNSsEhEA+BETo+bDM2VLthP5eAP/gTPg0AG4K4OQOyebEo92WJfT7A3ikOUicEMD1CnVqCf2BAH7t9PHbQv2pWSEgBIRANAIPechDjvnQhz70Yc2DUrlHo1fugdoJ/WkA7tSaPsn82wA+DeAc5aDZtNwm9MLd/f7lSLChv6s1sHc7/978duDAgXad0nNR+0JACMyIwOHDhy/V6r797//nGV67/ra6JPQZF3ag6yUSOqfzX2ZOZzX/S+IlGV4HANX1bwLwCACfML8fDcC9AdwSwBkA/MTUuQOA75k6RzV1/gbAuQB8zLT5egBWQn8cgOMDuDWA4wJ4q5HcLw3g2gBODeAVANx2Wf/hAK5sxvZKAO8xY7l4a21SCT12d1ly30P8Iv1YGFVfCEyLgEPSlmxdUu4l4NyjFKHnRjRPe0sk9LM1Ku/PNLbsv2vs7Len8AngbQAuA4AS/Q8B3AbAsQCcD8AXADy4qUePTBIwyezMAG4G4EgARxgo2d5tAbwDAInuogCuYH6zhP7PTR8nBXAhACcA8CPzO+36LzN/v5LT7tEBfMCMg31Rs3ATQ/wbwTkzoVui5ovN/+Y87Asf87LbZzm8d4no87xsakUIDCHQIutZiDp0hUTooUhNW692Qqda/V8MJBzrqRpV+3WNhE3HtE81Uvi1Gon6NUZCfrWpS1s7f3uBUdlToqeUToneOtJRSj4egHMDOKMh/teadn5nyPaZRhofInQ67/H5n5q+P2ps/BwDpXZK5Dwo0JGPhVL8V505uSteSkLfQ9BOhy7J8wPiI323HZH9tO+qelsBAj2k7Xvvqpu5CL26JdkMqHZC5xipHreFBMxC4r0BgF8ab3fa2SlNk4htocr9tMYr/SSNE92vjKPZmRp1+4UBPMkQK+3w1wfwUgCXNRK6bYMHgM86KvcuCf3RzTju6/T7eAB3N9g+G8CtjC2e/dvyouYAcaNICd2Vvjdk6hCwax8P/ThsyfnAgQN7HFvMR8dV6fnapPZDBF/nO65RTYzAWkh7CDYR+sSbKrC72gm97RRHWznt0SRMK/WSZKnm7itUe5/TPGfr2UMCJWUS+r0APMao4qmit+UY5tAwJKFzLE90nmE7bI/Ycmzsm9K6WxgCd59IQg9c0g3R20IiJtmGqt03xNwmeNtYBNH3HhZCJ6F6QqB2BHaBuPvWQIRe5+5cGqETRUrbdGSz9u/nGDU87eVd5VuN2vwbAP7XHAI+1Ditfdc4r5HM+X+0pz8PwAUBfMRp5JSNPf6bHgl9iNBfCODGzWGChwo3Zv4lRsOQ24Y+tMusFO3WGcpIZ0nZa0M/fPiwlfCH1PaS4uv8BmhUHgR2mbhF6Mt6PZZI6ESYzmUfbDzRr24c454O4PzGM52/HwXAG01ymqcakr5j42XOeix/ZBzrqLInoZ/XPPuERsV/D2cJ+QyfT5XQ72qk92s0jnH0lmexYXcbYbi1XYZs6K6K3X2s7+++nbghbErjMYTcJ727nbUk+b5DQ/CBwTcR/S4EciCwYuLuClmlw+zpDG4fd/A7TweW9DNyy48OHTp0KaV+zbHr8raxVEKnwxslXm40ho9RAmdGN5IxJfK/NtL4JQB8BcCXATBJDTO+HQfAnY2anqr3izX1P2mc72iHZ7IEes1T4ifBs6QSOj3hrQPcgxpV/M8aTcHdGu3A2U27MYTuW/m2h7vP7t1ujxL0Rhp3CL6PjAdV810DDTg0SIL3rbB+z4LACojbJWgberr9mxuV0opF5zch1Pw2iHWgyp3fWvoxUUPJ7+APsiygGulFoFZCt2r1rsQynAxTsFLqZfgZbd50XqMKnuTMQu94/tsSMsn0oQ4KLzdSO+PKGTfOzG8kX3q1Mw7dlr8FwGfp9EbnN9cpjg56PzaHA0rxtrTt43TCe0ZzoLicqcD+vlTQhj603UOl+S1hO9J2nzp9exCIec9KHBpi+lfd9SOwUOJu54joJGp39UqR9tAO8RD6sRvB6bFGe+o2848mR8fXzR+ZM4QhwO/PRPb/anyeLp9xd+ceY8ah7W+qVkJPnTRPhCRmSuztwt+Yh52byXqc/0kT1vZ95998ho5wf2xOlGNTrrI/xs3Tbm9TuVKzQHPA6Tsy3ZUKW3OxiPWIP+Sq2Q0R90ruISr5rsUVwadueT23QOJ2SdtL2O0VdubL9zBWE5dlw3gI3foO0VmYocT0Rbqq8VX6sMnxwe8go4qoDaUg9r4MA2Mo8s+btnISeu4xZphmfxNrI/SiYCU0zkxw/2ake2oIGFZHJzmGs/FldLUGbJ4v56UOHz4cEhOeMJzORyhhcyw+6X2Pmt2R3LvIfc8hIGWgHoKXF30KqAt/Zg3EnZKkKUBLNvnKDhC6jQx6g/Fxcsf2dpMAjJk4aebMTZYi9Ml3wm51SOc8quAZxuYWJpu5hZOMJgiVDtWafS7XASCY3Dukdo6lTe7RtvYe6X1z0DG/dR0gRPBBO2gZlRZM3Ha/j7o3oUYCb++cAUJnJk1GETH9NtNdu4XOxxRomIeDabrp63SWJuKHmTaZ/fOaRiVPE+glnQeZPvvNjb8UTaQ2eRgTitEfiX5SXzO/sU1XQvelBGeKbh4qntz0Re0ovzFfND5TvBSMuUy6xljtiyQJfZqlocrJXiTDDUMbevbS8i5n+2OI3jqpDYW27ZPEB1Tyo6V2C1jAB08e9Nl3V/4Gd524I/ZzfvBHtuhRudNpmY6/FFyojaSNnA7BbiGZXs0kBCP5k9Dp1NyVo+NExsZOZ2b6K9HPiam2eRAg8TKDKAUkFqb3pso9JCW47YvPPd9ERTGEmZFI9H26Ys8YR6JX7nERejlsq2k5wD49NFYrtdv/7ao7C7FHfBBF8DPuRhH3fvANJvawPIsdfMyW8BA6U2G/uIkc+gunD0YZkeDprGzTZHep3H2ETgdjEjlDj6m6590dLDc0fVpCD0kJbvtyQ5qvYnycqEngHHKbBcbA7n1WhO6FaF0VAmPE+ybtk9r7iJ3t7VPHpzrQ+VZEIXI+hMr8LuIexrUGZ7ZcKx8YtkbCJSFSU8ioJBbefcGcIVSTpxA6PeUZhkwVuZssi7dl0hmaN2xSQn+KucdjKCW4JXRqAOxFWzbCiunEGWUlQs+1adROeQQSpfdFELsjwdtMdtni6suvTL09iLjD12ZNJO7OeoDQGXPOiCKG9Lp3a/BvDAFmymuq4XkjZgqh00ueKvybGzW5Oyw3bC0kJThzjrRTcFv1vgg9fJurZo0IGHKPsbvnIvZt1ropcAk4xGRx5ptiLiX7EHGno+uo1BenTg+Z9QChk2if2zix8TZMXh3tFkrRVJF/3kjpoYTO5DT/Y3J+0N7O59spt9kPb9Wk9E4J3ZcSnL5MdHrrI3Rrr5eEHrIhVKdeBDwhaV0DHyL2Tme4HlKdhUh3PUROxJ3nXVw7iQdK6BcAQCna3rXhPmbV2TaZVxdZ2iRgf+pk2bR3bZBkmfyLuUNI6kxKY3OF2PTd1oZ+e5Pquy8lONv02evpgCdCz/N6qJUaEIiU2lOJfTL7ug/TAB+DxYbIibh9qx//+y6ReCChM1T3NcZmzhAzXnpFu/kZTDgY7eoMZ6OkfVGTkpskTRU5Y9cZusbrsWkrpw2bzzFcjZk5rdR8b5Pbg+3zWYbKMfSM3umW0H0pwRmzHkLoXWOM3ygTPSGnuImAXno3AWpqO0XXUaUrLr3z9raecLdsoW6p+C8xRE7Enbra4c+tiMh9CaU6QfE4xTFu/IEd+TfonU4VN1N3szBF7FtMpjiSPjNrHs2oy29q6vC+jVuaFN2W0HloeIBpn0TPQqmfWTl5OybDzVh8KcGpcuf9Hi4PntCYBWxfXWMM3ygT1xShTwz40rvzpH7dc4g3/4jKJFcrsduJ1UTwIu5p36aAtZ92QP7e2pe4ZLmYhd0Gerkza9xpGumZjmYkWqbdPuwf9qYGn2Eab9rE+54hsbN9HgZ4OVdfGUoJHjicZVQToS9jnaobZSCx84NCiZ2OQW1i3/zWlwqzdmJ3CN53F/zoW+RE3PNu/wVI45a4Xe2YvVmtiFNeIKHPu3A72LsIfQcXPeeUA4k92rbeIsxqbOw+7AJME72OfyJuH7rT/V65NL4lcHsgnvrQIUKfbi/G9CRCj0FLdXsRCCB22s4vnSJ51+QRH7sFAgie4Tgsp4tte8L6eyTAlAtGJhzrqK6mJsbAwfYROB+f5cY1EXrgyk1cTYQ+MeBr7i7wY9gnrXsd4FIOA3PiLYl7TvTj+g7cu3GNptfuTFVck9ZAhJ6+uCWfFKGXRHdH2w6Q1knq/Gh1SReLI3YR9zI3eoUk3nlbW2Xj3Cy2CL3OPS9Cr3NdFj+qAFIfcpjzkjoBmlpiF3EvfltuJlARQe5TpVuEKxpj56KL0Ot8F0Toda7LakYVQOyX7vGCDyL1EsS+QOL+uLlcIst93KvZfM5EKiLIXhKv7LAxuA1E6HW+JSL0OtdlVaMKIPVku7oLVKzEvkDitg50vBnqPB2bZHSI3Ko2Xn3S+FCYpg3tLBJmlntdRei5Ec3Tngg9D45qJQABD7FvJPLDhw+/00jstsXBePWubjv6oQTLaxVJiNmSawRMObVKkFd5gAf9LLnxUyed67nKpPFeEl+SRN5eGxF6rt2atx0Rel481ZoHgUBSZ7KWduz5pX3hUi2J26aO3JlwsF0n+EqIvNNDvf1aVDLW5O+VCD0ZuqIPitCLwqvGAyVot5qV1LtI3f5m1ZI2Gxafr1lVGSRx594tu0DwFRFjkCapovGO2m4i9FHwFXtYhF4MWjU8hIBHUrdJaJ4PwEraSwB0FuIOAcaJYWb1rvz6i7pFriJiDCJyo15vm5NClq7KOiL0Kpdlzy0zdY5Qo1otAuajzI/c0kq1xB0KZECSkiDVcWh/OeotkcQNkXdpm3JAkrsNu6/fbRp2L3fZ9uUzfeUelNoLR0ASejhWqjkSgQV6lS+euEOXrGaCXzCR1+q57hL35r9F0qFvSt31ROh1r8/iRtdD2pxHrTZuer63HeeCY+AXt0CBA3bs74wK6Fq7oiFySyVxC29AqGbgSmSpNhj7nqUHNVIFAiL0KpZhWYNwSNsS9ZJCwahO3COVLPnyl6l2zlQOdisg8hqk8urMJVPt013vR4S+6zvAmX8HUfNXS9Y1S9nuKiarE2MT0+zy1slJ8AHq/qmgDnZw6xrQzFK5pPCpdknF/YjQK16c1KG1iNk246pNXZJeClG34SimKhexx++8FIJfujTuqNfnlMpHHULiV1pP1IyACL2u1aE37LsOHz7cFVbUNdJa7dIlUX3BgQMHbsYOerzks9m/RexpyxgYIjf3QTILEbb2CNuc4p3MMva01dVTNSMgQq9rdUjoJKpQQq9r9ONG01aVM1f5E3ua3JM1ritd7IEDB3jpS5YiYh8HY0WSOCeSjQxb+87u35KEnm3s41ZUT9eKgAi9rpXZBUIPtnF74tTbpJ6ULjZm+UXsMWj9vm4lZJ6VCDvmVFoyzzr++FXUE0tBQIRe10qtidCDiXtoCQYcjTbZ5NxnpyLcjn42XsW8XKau7TTPaCoh8azSuEVyYhV7NvPRPDtBvU6NgAh9asSH+1saoWchbd8SVEzqHLprHtnJ280cspvTOcwOo5g020Hm7LOEil1E7vso6PdOBETodW2MWgjdTfm4Jw3kXBmlBkh938dvKkndqJR7L5Gpa2uVGU1F0jgn6L2RLwWFCVXsxQ4jKfPWM8tDQIRe15qVIPR2PmZL0FYluUVgLrIOXYIO5zf7aBepU3Jq54nfp6YP7dtXb8pDhG8sU/xeGZG3p5xNU9Ly47AJW3I7rYrIp9i0O9CHCL2uRbaE3lbjMea6q3y8449df9tTrXbiHlqSJgLgcM/vndJZzyGgiCS3dom9IhLfEmBgiNzmEBvr49ChYmc7uclc6vW6vsGLHo0Iva7lKyGhx86w64YlV6q37e2rN8VBIcbz3Q50Dul5jj5jFzq0fiVEHpTONCDrXGg77lWnNm99TjKXVB66AVUvGAERejBUk1SsgdBzT3RI5b/vcBByKIhxkpuT1JcssVdC4oRwFPHFEnzHgZGRFNbZL9e7Iak8F5JqZ6/2dQI8jgPgtACODuCrAH4wQZ9L7cIS+jV6JvAjz8RKeNzOjWWXgx7HxLm2U9huCKAvqcxcUvOSLn9ZC5H3bdqAW+S2jx44cOBA5vzsow4nc7+I6r9+BEpK6McG8FgAt2/B8I8A7gDg64nw3AXAkwAcD8BPE9tIfex1AE4B4CKpDXieS5XQ+6Tgzd99Um9H7ve+g8GScsD3HQR4VepNW+swicQ014HCt1fXTuJD8w/IQe+DL/T3SfZY6GBUb50IlCT0FwK4sUnf+WoApwRwVQDMw/1hABcF8JsEWG8B4D4Azgvg5wnPj3nkWc1h4oQArjemkYFnUwk9dDhu3Lh9hhJtl908tM199QIPCDXf4tZ3GNhoANwJp2BXC7HvMpHbNezAoIS9XGSe/DXRgzEIlCL0YwD4JYA3ALh6a0BvB3AZAOcC8MmYwe5A3dKE7oPQOgxFewT7Go75vecaV7eJWg8DPn+B7e88CMxB7CLxP2yjDi92Em/fusRs4e1huVGQbdpMeVjPCIFYBEoR+kkbtfp3AbwJwJVbg6JkTcn9RQB+C4BS75MBvNzU48f6UQD+HsBzzd9I/qz3AKPyvjOTSAA4GoC3Ang0gMsCuK6p/3QATzCqefu3VwK4k5HqqR14PIC7NQeP+5oDBu379wfwWfPbVRpzwXcAPMb8m00/rmn3+ABu3fz3cU3fjzRjuTaAUwN4hTEpfM+MhfUfbnA4GQCO4z2NP8EtAVy8hc3chN61f4K8gmM3Xs76Hs/3FzRaIRv2V+tBoAsORha4RLDnMBCLn4h8L2ItMt9K0Blt5sVyHsSuvervDgKlCJ0Ifqoht7MbAns2gPcD+FkL2j8CQOJ7G4C/Mr+R/Eis7mHgHoZM/wTADY1tnjb0owKwjmL/AYCq/cs3RHsxAF8DwPaf3/z9nACuBOB+5rDA//5n098/Nb99sBnHHQGcHMBPGhvrlwC8FsD1AZzFtPc+8wwPKxdqTAkncPr+HICXmb+z7SOb/o8wjoAfAHA+87dvA7iJIX5238a/RkLvehusWjK7uj711Rsgde+Htecj3ibUmg8DQ/4ChPTcAHh73VylGmewjoPNNidBRjK3OFeh8Zpr0dXv9AiUJPQzAngxgL9wpvVeQ/AkPOvQZm3t9IKnTZ3SKwmZhYT866aNfzEESme0e3YQOgnV2tRPYg4JfJ5SNA8RbPv75pBA+7cldJL9zU1fNA3QYe8dRtrnn9nmxwDcrvEBeGYPoVOK51ztfD5qDganAUCpnRL5bY2GgW1Siqc2YMmE3t6pVUjxKeFsdiJj1N8eE8GSHAlzf4GqIXJOrE/Fbn5z487H4GAPV32OpdUdhsdMVs/WhUBJQrczpbqc6nB+2Gw4Fknw/EaKtqRH4qeUTUc3qsGpdr9gQ4r/2TjB/aL5+70NkXcR+gONWnv7fTaHCar2bfmEkbyv6RD6JZux/ZupwHGyDiVrHjhYTmwOAlTxP7WH0Knu53htoSr/7kb6pmbiVs1cjtloB37l1KG54UYLltB9uzhb6k1fR+3fY3K+dzw7abpYQyTuh7/93wz3pFf+kgrNG9Ru8LC8KTXYkPtU7GYNcpH5Hue3gBh4di8pfkm7u/KxliJ0SsSMP/8xgN85GPBvDzJe6iS72xiv8R8aUqR0zv+j6ptE/ojmEPDv5gPx50aN30XoJNAnOv2w3+cYYh0idB4YPmIqUC3PA8W1GvUkw9NYTmTi5ocIvd03be73MmRNtT7bpbTuFh5W6KmfQ+Xel9mNB6ga4tInJ/eYnO9d72fH87NJmn2aA8e+TlU6QzmXRPxBUQQ5DgJdXuxuCtiBvRL76fZ6sgekqd1D8GYA1Zi1YgFR/ekRKEXoVGPToY0qctqQ3UK7Nwn880ZK528kPnrGU7XOsLZzAHiJORRQ5c24Yaq1WZZE6G1zgsWBc7tBJkIf2jXb039HJasKnpr0JyH4gQ91UB73HiINerbEa9wzHq7v1OtXYnqhbQ4dBCwZbtoy3uquxmXfoWxKMu+bYESim/a7LKIP3TU7VK8UoV/AxJpb5zAXUmvjpje4jeem1zi92LlpKSVT4qCqmuprep1TJUaJdmmEflejOaCp4fVm/NQ+0Dlu891p7bWpnOL2kWrEhyXn61GM3FNyvrcnNsaunhMk25ZnTiW67GuTFwAxeoA5GdyyJMdBCgk5tBpZD3ktKT5Uy7aP7O2hZspNob7mR6AUoR+liTN/jbGZ0/P8eSYE7AzGg532aoaz0ZOdhSrpr5j/pk2dz9BDnp7yLK6te0kSOj3hrQMcTQ100GOoHOcWS+g+acz3+9Bu2+eok/hhGbOjs5P7GM93h0Rnv++8kpCzUWaHBecWGNrTPNRM4ivQeh85plCyt+PvTCplf8xh3hjz8uvZPAiUInSOjvHXdFajPdkt9EintG3t1PY3eoczvOtUTZz3NwDwUGBD0uicZrPKuYTO8dNebm3cti3+jXHsDHezxXWKu6I5TLA/2uhZqOan3T7Uhs6wua6+2/bxMzU+Ac8AcDnTDzUTDIvLZUNv74S2l63P67ZrJ3WS64Qkn43cx3i+z0nqlZA4IRhF5Dk+UxFRBLWZH3yJhtpku/l3LLl2vJe23Zx47JnLq171KlznOtfhe6qkOTk2eaY2ShK6HSJt45TA6WD2TZPDve9O60zTqqYZ5n0/W6ON+JAJv+PAeDB5Y6OyPL05RLiDLalyb9sfQ6+CHCTXCXJhjyb3MZ7vDqnbG7fcj6Q3xj12J1ZC5FWEIcZg1w5J4wU9HQeBXGr2mKHlqtvn/Np3oHf/7uYgcP+b+QlsicpTcOjQIRw8eJDv5uabpVIHAlMQeh0znWcUzATHsDiGtj3UePwzlI4e/iRU/m0qQu968RlexHHwxQxR4fnInWRnb0HLKR3YsSeT+1jPd4fYu0KcRtlRKyFxTnF2aTzlNW2tbae3eUYHOKrZGU7olhJ7PQWKyZ4RoU8GdVRHIvQouKIr02xAFXzb7MBkM7xkpn1bXEkJ3Td4a0e39XwS/EbdNqQeLCy9R5P7WM93h9Sz2NUrIfLFSePOOrS1Jp0Hq4xkHnRwi/QXsNNZ1KFAhO77nM7zuwh9Gtx50xxt9CxfNDb0rp7nJHR3PDHkviEEN7a3a2I1kHsOz/expF4JiS9WGu/Bv1ezMDWZ5/ycBN5ayC7b2Qjbw8h+WBCh51zpfG2J0PNhmaOlWgg9ldy9yTXYsOPE49MCpGA6qDnI4fmeQuoVEbkdftBapSxA6WeGsr65fS+ZzEtiGHFQ4DBsaJ9rb8cRRxyBI488kqmyZUMvuViRbYvQIwErXL1GQt9D7pTEzQd1yOYerA6fg9xzeL47pN6VLnZDlhWR+EaCNf4N7UPUYojdl/VtV8m8R8Vf9A4BSeiFmSCxeRF6InCFHqud0LfSnROuYu2YXZAEE/vUknsOz/dCBJJza3WqomtLmBMy4aGLVdrPr00ydwjbqs7nyvK4hVqEHrJrp68jQp8e86Eel0LoLrEzbtZK7X0q9Chin4rcjYd/l30xWmqtKItbkKd6j09D9DpN8fqEqtjNvsl10UqQA1yu+bdIe3bC9s1LhO5DaJ7fRejz4N7X69IIPVYdn0QYhdXyfWsR9EGvTa2ekJQki8d+idcoRsW+FDJfGnH3rav/Am/YAAAgAElEQVQIvcSOH9+mCH08hjlbWDKhb6V2R2Ln37qk9mgJ2DZe2Fu+vZZ9YVCl4+1D91SQNB7SWG1q+JbGY3CemQ9VQQe5QEyt9se+A9m9zUPGUaKOCL0EquPbFKGPxzBnC2sgdOKxDWXzEHAysRuJzHrYlvCW36zrgeZ04hwmurLF5Vz/0LayEXm7wxqIvSvrWx8wmU0dyWTuaJGqV5eHbrKheiL0HCjmb0OEnh/TMS2uhdD3SOsO+fba2H1x7D5QC0vuKfnwfUOO/b0YiXcNZC5iD8n61jpg0WaeowSTuaM2X53kHQqkCD0UqWnridCnxTukt0s1H9N2vS5VXUiq1pD+pqizlcSHQsZCEtSEDLYwuYcMIWedSYl8Lom9Q9IeJNiMknmIOp+w7Cx5d23mHkK3F1b59j9TYr/XV6n1Oy/S4gVeVwDwlshnd6a6CH0FS90T1lKjvS6E2Eep4XsIyf0gL2HFZyXxQAyTHBwDtAHeC29ykjkvcWlJ/CLv7jdkz/XMPYR+NAC3paXKNMHrsu8K4A0A3uo0yxsnvx35IvLKbabMviWA90Q+uzPVRegrXmrHrlcToe0h7Nzx4EPLuQDJvSoi7yH2tmZo1AEsRsXO8WQkczZHMl+z5N13fatLzlxPXtIUlYgmUOV+USOJ38FcIb3ir20dUxOh17EOk42iIlILkdaD8sSngBeQ7S6l2dRnvFJpasMlnsthX+/wTPfasDOTeQlopmzTkjXJeEvcbthiT4gcxzhaezeC0C8D4OEArg3gvgCuC+CSAH4A4GEArtmQ/8kBfKe5dvtIAA9q/u+3AP4MwHMB3MVcR/08AJ9r/v3DRtq/HQBK8FTj8/DwCWchKNHfHgBV9tQSPAvAq53fj9n8N32XrgPgZADeBOARrTamXNdRfYnQR8G37IcrIPfJpfXMIU45N8AoSTfnQELbSiX2mKxvdiw7SOZewu7QoEwWTjmC0EmcVLmTOK8E4MONbfxqRp1+CQAvAvBJ8zf+m9dNv7ipf2EAH3Bs6LSnk6R/AuDvAJzEqON5+dVZAfzGHAZ4RTVzzrM+Dwt85q+bA8BrjGngbQB4yHiaORzcprnu+lim3hdC34Va6onQa1mJmccxM7kXJ/aKiHx7eUxHitJFSeoO2QYnp4nJ+rYjZL6HuEMTA83taZ+B0CmBU83/2YaQT9HY3r8F4NkASKgsx26unf4ZgMcCuPcAoZOg/90882hT9/QAfg3gaw3RP7WR/u9sfj+6keJPYEj/WobYqS2wUvtpGmn9UwB47/2dZv4sR3cvQo+GbP0PzKSODiX1YDtzRSTe3jTtOP12OJ9X/VzjLhyS2GOzvq2QzPdJ3KHk3cKiCpt/BkK/Y6PifrqZG53pTmik7WMYsr0qgAcDeCKAu/cQOh8/v/MuXN1I4yR5OuS9ypAyDw22UENwawBnM+p5kjY953/n1KHK/bTmoFHjq9Y7JhH6opZr2sHOILXvk1BTnOYqJvKuBdzjPexUWJwK3iOx25+9B7KW7bdY0qCCb5MlbxsJ0HZOC+q6JYWPtnt3dJqcXyEDoV8MwPucMVFKpr2ctnAWqs5JykOE/nUAJHFbeAigRz0J/bJGuu/Dmur8+xu1f18dSvRU3S+miNAXs1TzDnSAWEsMbJ+E6iP2hZF4KGZLJ3XO0yXkfU6OHY5bJYgrFO+UelnI2zkMuelic2HRd2hMme/mmQyEfnYAnzEDuFBDrB8E8Obm3zTfUOVN2/iPATxnQEIfIvRzGHs87fRdtvBvAHiKccrjAaCr8FDhSu7JeE31oAh9KqRX0s+ExL6PzDxJaXJ9/GpbqUWSuueARcl1SYmR7J5Isnf7NlQmSdyStsWW3RZ7JzIQOr3WrSqcseqUxM/jeJef0RDxkwDcrUflPkTo9IyntzvbfrKzBlTjXw/ABQDc3Kj9qbb/mKlzlOa3Nxov+5v51q6230Xota3IQsYzEbF3klnG+65zos2Y5vZlHLnaLxa+l2uAbjsr8UgvQt4dOFGDkUK87vjY7KQHpMyEfn0ALzVOcQxNOx0AeqefpQlpeweAGxqbdtvLfYjQ6ShHYr6KCY/jsxc0avgHmNC04zb2dErqv2g0Avcwjnn0gGdyHKrkF5fARoRe4ou2Q21OQOxuvHotl6N0rfAe+39B/4NsGdpybtPW5SQpBJVzOLFtFSdvO6CRpqGN/4E5AExK4G1AIwmdceLPNG3YsDVXQmcs+Msbb/VrOP08sAlvo1r+BibOnATtEvqHDBkzFM0WkjdJ3Hq+09GOanWGvrHQs54hc/dpvOF/bv7GEDfGu9Omz/Jp8+8nxG6iGuqL0GtYhYWPYQJSrwGhrTPXkOrfTSXqfMRL3Qo3C7mv4GaxjcaDCVliPc1TN+IIIrckzq5TpfnUYfc+F0josf0ylpxSM8PNqDKn+vtUACiJj7Fl04ue7XyFyQZ7BnWcRu3PcDZK7IstIvTFLl19A18psXd6Zfuc9PpWZ2mS+9zxzhl2+Za82dZUBO4c5mK1Snuc7GoicXctChF6huXe7SZE6Lu9/kVmvwJi94ZWEbgBW36QI1tt5C7yzvc6JORyaEviHEy1pgsRer69krMlEXpONNXWFoGFknoQkbvLPEDqUclhEgggdLd1quVXQN7u/KvJsBe5790EQ7GSfOj6F6knQi8C6+hGReijIVQDA+rlJXykokm8Reic4zt7MIgidUdNS5t7Caen5EQiFe/yKsg8gcipxXnXCNv6rEsiQp8V/t7OReh1rsuqRhX5sZty7lnIYCBMa3T7BSX3KXEu1VeQaaNU58bs0pXHvq/LEMfKksPN1rYIPRuUWRsSoWeFU411IVB5XHIWUoj1fE/ZKSL3PaiNPiylrEFLixKalta9kCfmADBmiEWfFaEXhTe5cRF6MnR6cAiByuKSQySj0cSe6vkespNWYPPOnn7U4DZ63ULwTyDyPaacSpMhxUx9T10RejJ0RR8UoReFd7caz5TCMhdog7bxUuQ71vPdqHHbGeeq9XbuWax9+c0zml02Tn6tHPH8d1Fijxh/m8hXIZG311mEnuszlbcdEXpePHeytcoce4Kd3GYg9a5LZyxZ839LOMKV3pPey0kiyNA3VjdrYFeynuyJdiLG3ibyJTiE+vDu/V2Engxd0QdF6EXhXWfjlUni+4SHAwcO2I990ALkJnaPz4CVMJdI3hbPDYl3ZcVrAx5BiL616svr3yUBj5bWI8a9U0RuF0mE7tuu8/wuQp8H90X1ukD7bbTDlGPz73J0iiaICEJY1F7oGGyvVJwRAy/+PX15nxtxANmnCco43+r3hAi9ziUSode5LrOOaoEE3oVXNKmzkVRpvTInwLn2z5bcM5JbFCmnEnvEeLuIfCgXwVxrUbRfEXpReJMbF6EnQ7eeB1dC4NlI3UfsvNTDufGK1ZfktLbnZjEz9tDwq6k3fRSZu4MLJfYxRO7ZJ1NjVaI/u1fctnmpDQyh8/euOiXGojYDEBChB4C0lioOcVsHrKWRUcpSBDvJdahfl+7Y1BUqtockK84RkEzmIcRuiCjk9rK+y3mWvjcIU/twt4Fu6gtsUl5qPdONgAh9ZTtjR0k7ZBW9aVjXeC1oD2FvzBEt6XRrovD4E4RgPbZOFjK3g0i8BKf3IBgh1Y/FIefz3miEnJ2prXkQEKHPg3tfrzz12/zOXWpceka3y5LUvT60QxLA+NoY+n1L6iswM2wu9rBSlk+q8iQ26SXQGcg9K5k7pB5q5x4i8iVJ5dv94dsbY14oPVsXAiL0utZjE251+PDhWm2aJdCaWhIqlbGsBDa2zSjy7htIj2QZ7Dw4AbkHjyUU7MgcCb1anIVI5Zt3idiIxEN3yLrqidDrWs9dIfTgD89CPqQ5d1EW8u4aUKoHf09blFatxJpz/mxrm/s8teFIIne72achqDxta7KPSCq2eq5eBEToda3Nmgl9a8OLlR52iNSLqJuN1sdNwOJ1lgt5LSZalyhyjyByn3ln069JMVubWUskHrJBd7COCL2uRV8boSeTeHtZKpeSQnbRHqekAaLISuodBLdpv8dZLrjvici8jWsvuacQecceqznvumziIW/ZjtcRode1AdZC6KMkiBU4rO0joq50tAOHFK9Hfsi2bZF2X/jVO1tx9F479kxk3knu5o/J4Wc95oTDIfhOVGfUuzTRGNVNJQiI0CtZCDOMJRN60odnBeS9Lxwo1FbtiQEfRep9IWk9BNYlmXb2XwmZx7y1wfsyQsqP6T+1bvC4UzvQc+tDQIRe15ouidCDHdssxB0x8rXZJn27ITiW1xBf1wUsG9WpldgHSN0rKfeQczu0KkiNHpJZLSOZW/Vx6WiOoLkTx4xz8+0h3+8ich9C+r0XARF6XZujVkIPJrIO8rYf7dWS99AWCpHWB+pEkXqIij1hrNbmnsu+3M5U13UNaq63MsihrhL/DBF5rlXf4XZE6HUtfi2EHkzgK5C62zsgikRDt4+P2H2/+/qJUbEnkHqu2P1BiTkxo5sPGvt7VzhaDYliROShK6h6XgRE6F6IJq0wB6Fb8u7NOtYibQJiM9YtTeoOXcySpN6rhje4dmHqI0LXsS1YzdwHRqH87lHjKig1W3U/p19a5e/bb1GY+BrT70JAhF7XHihF6PtIm9O28eA7SNghq16E1NnxkDQeQ+odTlyjHOnaoGQk1WDiqswxLWSfpNQJxiOlcT2zuwiI0Ota+xhCtyTdNYPNFYcdxc0FvzbpOpdauA1bVpJ0G09wxHJz0e9JFMPLVnJu5YSx9XUfRF6RRF5qrXNC2NWW1OulEd7x9kXodW2APkJvk/fayDhlFToTbWSUKt0xVUPqBw4cONCaYxBhxgA8JZlHEvmUDnUxkIXUzb5OIZ2qzm4hIEKva71jJPS6Rl52NFvyZje+1LEZCWkSUmcniWPOftBIHEfX6vvs/jEOaV4yLOxQl2t3e+eRqyO1s5sIiNDrWncR+u/zZwdfC9q3fBmJye2i+Ac5YtyLJPMxEnnoq1oRuffF2xffR6FYqd66EBCh17Weu0boWch7R0k9KylEHCR8b0znuKYgcndgGefjm2/f721/B9Zre9Xbq05tLH5qX3pOCGwQEKHXtRHWSuje0LhSy1Dow56VTAcOJO086+2qWcaR0e9gbKx3bfNJ2Za9jm8DmoM92QNTOtUzQkCEXt8eWAOhByelmQr+JZJ6R9a3PkfIUar3jGRul9O9zS3k0hQ+l8X7O1ILUGr7BZGzJ3SRfiKS2kut0IrblYRe1+IuhdBdr/uNvdvnqDY3zEsi9a6sb57xJ5F6ATK3yxwaVpaFyNlpofUdu2295O6x9welrh07SD2/HgRE6HWtZS2Evo+wLUy1E/fQchb66GdRE9txD4WkecYfNY6MZL6xA0dmXctG5IbMfaaJWt7yQZu5b303KlVJ7rWsZZXjEKHXtSylCb0dz24T0Gz/vmTCDlnKGtKado0z9GKVgEOJl9gzkrlNZjOpat05/MSEvoVsjynr9JK72Qt2bl1j8kr+U05EfdWDgAi9nrXgSCyhX8MZ1o96htiXDW4Paa+doFOWrzZSj71YJYTU+8wgGcmchNSVl76PgHjQGMpuGLWUARhEtTdz5c4kSUb7EHIbndWSVG/6mhnn1XcvQq9riUtL6Jyt76Pad1DofTbnh3qq5ShE6tH531OzvgUSczuz2pyq6SQ7f482Y855THG5SydBO5K77yC1HaNU9FN9UeroR4RexzrYUUxB6FPPuE/N3x7HLJqFQGKMwSyI1HNcrHK4EVMDBxYjTQc2OVitSEKVCrzYu8Ly+M76CDYHpvtI3nGoC+nfPYhs3rUlHsRzALnmNmol9JMA+FMAvwTwFQA/W/MiOHNbI6HnXrrsB4QSpN58L3tVzLEq9j4AC2kZxqzXHme3HrW418bfI5W7l9GMGWPqs14Ng5lvCLmmjsF9bg9Bk5wdCZ71Yq6GdfNE2D72afJ0AMixbGXbqI3QzwDgaQCu1Jr2EwHcB8Cvzd9fD+DEAC5eFp59rb8OwCkAXKRQvyL0QsD2NOt+tM4D4ISZu99HAqkq9spJ3ZdMZV+GtBhVcIEDV8wyJ3nkz5R+touY3blmO2wcOnQIBw8epNZA8fIxu6lw3ZoI/VgA/hMASf2OAD4K4M8B3LCx+9Lj87EA7m3w+OeG+E8K4EKF8Wk3/yzz0b9eoX5F6IWAnbHZFwD4HwCnM6pZ/i/L3QB8nP8xVvKZ0UEsiOx6VOVe00SNKvaUfTQTufcN1Ur2ltztIYDf2ND8ARChp+yE8s/UROgXA/AeAHcHQInclhMA+Kr5B/+bdsO5CL30iojQSyO8nPZjTQs3A3DTiaYXROTtsfRI2p2q7BkPKXbYXhV7KtaVEXzSNEToSbAVf6gmQmeoFlXalMIpjbvlOkbNTcL7cQehH7OpzN9Y72QA3gTgEQA+4TRyUQB/C+AyAD4G4NUAHgXgdwDOC+AZjfT9JAA3BnBJAN81/dwPwE9NO48DcHwAtwZwXABvBfDI5nYwxuNeG8CpAbyiefYOjZbhe+YZ1n84gCubsb3SHFxu2WEyEKEX3/LqYAQCSUTu9hdiV1+iij0V06WSuwg9dcXLPlcTof8JgK+b6T66Ube/yqgkf9MBgSuhcw5vM0RN+/sPAdwGAFX45wPwBfPb2w2R89BAAr+W0QRQI0ACt+Fa/wHgtQD+DMB1AXzYHCZ+2zpIUFtgY8Q/B+BlxgRA+/+RAI5oiPzoAD5gxsG/fRvATQzxc1pt/EXoZfe7Ws+DQKz2YNOrNS30kbpR+YYmqckzk72tJDns5RpIy6ktm7071/jcdkToJVAd32ZNhM7ZXBHA3zuEx7/9I4CXAHgNAJIqi0voJGb+RgmZUjfLaRpp/VMAaL+8k/lveszTme3/TB1K2/do+jsVgDMZQqfkfolGS/BzU+eBRqr/a9OH268l9O8AOKMjxdP2f3IzBo6JEvltAdD+zkIp3poQROjj97BaEAI5ECimYh8zuFpJXoQ+ZlXLPVsboXOmlGppT6eTBtXjJFiWNzeOclcznu4usT7FkPYVjPrcokWV+2kbafvcjcT+TXNQoDrclrM0KvCnN2Fxt2jU7P9tCP3mjfPS8506VJf/L4CnArhzj4RObcJ9nWceb/wAiO2zG63DrRrVPk0Cv3LqvKjRHNxIEnq5ja2WhUAgAnRMfMGBAwdobltEGRGelm1+IvRsUGZtqCZCp4qcZE4buVuoin8uABI2SZDSukvo/O92mJv7PA8H7x1A7QHGpk2VO9Vc/9qqy/FQxXj1HkJvO/E9pombv5cha47tnEZad5ul7Z5heJLQs25nNSYEsiLQlVWxK5Pi7DHbLZInCPyWsfRduzsKKBH6KPiKPVwTob/QOKT9kRNvbidOKZsnaZIlidAl9OcYWzft5V2FXvG0oz8IwMs7KtDmfg4jof+VsZ/bakczY6HUTum9S+U+ROh2TjyouL4APJTcQIRebF+rYSFQIwKhBwR37J2pmmNDHQ3huwQ/ivBF6DVur/0S4pyjZFzuEwypv7g1kKsAeKNji3aJ9fZGdX5+4/TGR49i6tO+TW9ykvY7mkPBNZ12KdXTiY6Ob8cxhE4bPO3etth+LWnHEvpdjeMdPfiZDIeF9nU6x7FIQp9zx6lvIbA+BHx3NYTMmFoImy+hXX/z97vc5S6nfcpTnkIfJSWWCUF0ojo1SehMFPPvxmmMkvi/GOe0C5jQMEJCSZoOZS6xMnzsG43k/gvj5PYtAHRioyMa7e82tp22bXqav9SklWUIG73TL9vycn+mcWSj8xoJn4W2eB4KYgndjaGnhoApbHlwObsIfaIdrm6EgBDIjoAk9OyQZmmwJkLnhM5sYrYZT+4WxnvTI/2T5o/txDJnNWRNeznLp82/KfGzHNXYte8P4Hjmb3SQezCA/3IInQltmJmOUjQLQ9hot+/ql+3Qvk5nOTrN2dK2j9ODnjHul3P6/VKADd2etPvSkbox9u3NsMlAZjOROT+G2NOsKq7dZsizWTalGhECQqBuBEToda5PbYRuUSJZUiqm7ZkSuU3S4kORqnNKxZTYuwrnyzA1Jo1xvc5tHDpJixI9L4ahRN53F7lvHPZ35n0/W5NU5kOOXwBt6TQfnN5oHNy2SsahD17AEGuTcwft2OdCDwHtQ4MOC6E7SvWEQAUIiNArWISOIdRK6FOj5RL60H3gsePi5TH/1iS5YWjbQ01YHTPRMZyNCTT4t6kIPWTsbdJnvu0cNrmQvvfU6TkkdBF/l0ZBB4RoxPWAEAhHIJDQ6VTMZGHUeNJniWbUkMJII+YNuXxI5Z46dzGZPykc2kyfvuboQP0w40Dtq0utL/Om0Gz7eV9lz+/Z2hKh/x7pUoRO5zyq4BnG5hYmm2H8e3ujlZTQR+65TeiePezMRvSpk+g4IPSRvrQHqSDruZ1BIJDQScjMH8JCE2fopVbUkjK51xhC5/eVEVHMCmoThfnWh8nIGDXl3iXS9wzDrNkuU4PzGz+mZGtLhP77ZSCgf2wS0NC5Lnc5paNe/2JziQZt6F2lZkLvw2RL9DFXYuYGuFR77bvLec/5wNr1+R+UGp7aFQKzIBBI6AzP/UvjiMyIHzo+fz9gwDkIPaCbUVWykbDhnyyHAxH6qDXN/vASCb0LBEt6i5Pk3cm0yNyb57uCG8Kyb0g1KAQ6X3D/fegnahyGf2DMjbw/4/0AGGL8d632mLqbkT+MSPpac+kVU3LTKdpK6LxUixFKrMOMnMweSr8qOjh/1vzG8GKGKDM6inVZrm8clnlxFlX/IRdp8SDBLJ5M083oKWYbpVaBJgMKYhw7x8fQZl4idkHTL39jZBX7ZD4UmlP5LEOpmRacWgJGVVETTBMA1fQ0t/LA09cW/cCYwpzSPw9FPEDQFEGO+IiZI7HgxV9sg9hcV4Re1/u6FkJvo7ooKb7jHm4vmdsJV0jqjHjgfQjtwtwI56lr+2s0S0EgQELnjZQkRpIa9+CXDfnx37b8jbnUigT3D8ZhmapyFhIwVe60vTOqieWfmn9/sHGSvqMh2Z8YbScv0yKZMp03I53e15gz72lu7SSB0kbtu0iL7dOGTiJm9lCq3pnDhGHMTEzGgwfb5uVaJFteVUx/KN7/wflR9c7QZOY1oRM3yZg+AzzEkPBZmKCMach5cdcZnP/raosO4Z8xBwBGUdE8y3lzPvTNYvZTHnxoyuDtosTpwyL0ut6gtRJ6F8obKb42Nb0h83eaASddF1oRqVNDQgmls7Tm6tbZPhfoe8APUl8ikrreMI0mCwIBhM7InpMYCZV9kihJesz6yXBgkiyJnJlBz2WiiliPYcNMLNYmdJutk3WYhpuHVCYLYx4RFkrBJNfbGRLuIvShi7TahM77PUiiHC8LCZbETZ8AJhrrUrmTeEm6HDuJnYcIZh9lwjJmBuWNnCyUuFmHd5Mw4mmoLdblTaEsfMdoruUNnrxozBI650Vz32dF6Fm2d7ZGdonQ26DNTvBte/kQGfpWvAJSHyRzO/6BcXqf79Bk+GDR7ytBwEPoTAD2n0b9TZUwCyVzkthjjbqaocGU2vnNc/1SSPSUgJlnw5XQqa5mxBALDwD8nZIuk4WxnNjY521ekC5CH7pIi224EjoPEDyokoypGqdETOK0ZYiE7aGFdVmP4dQMg6YPAa/lJulTRU+pn+aIrrZ4oKC/wYVaW4Y5TXhooUngykZCZ3u8aGxf6tGVbLfFTmOXCX1Wgj98+DClcuv5HqxiH9ppM5K6l4zdcQ+MsxeHGedmh241DzczH153SozGcMMtFbmQ+ZPoIfRHtm6gdHunmpzERlsz7ertGy5Z1w1bsyp32qut7ZgXXlHKt4TIZ6zNfojQh+7daBM6Dwi0x3N/2cI9xfaZaGyI0N27O2i/p337Ns614PQVYCbSPkKnoP07o6mgWt8tNkU685vwYEOVuzUziNAz7/OxzYnQuxEsZoPvUDtnvRd7BuKLInMLd+tA467CPlIfqDt2/4c8v88M0oNx1KFMeQ9CoP9DnQFCt7HnVDfzamu3UMqmKpoqc9qHGb/dJlnWZ/ZOSu+uhD41odtxH9s4v1GivpNx3KN9vI/QKdXz2m1bOD8eDBgKR20C50wypoZhSELnfR9Mhc5Yd7dY08XJmjBiHmpJ6EwlTjxF6HHbuHhtEXoYxFkIPqeKfWjYA7bqsNmG10oi81BSr0DFHqsxiCL1cJj9NQN9D2xDi0u3PEDoVqK+g0l57YLFNNgkNDqx0XucKmX+m2rl35qK1hbetqFPSehMLkN7OR3i3Jh0e3smpXcmvmmHmtGG3iZ0XspFzR8zmFKlz0LHOl5sY2/37DocUBVPx1VmTP2Kee6YBi/6HTALqbWhU41Pj38Ruv/VnLRGDKH3ZXCzyV9GXY846azHd2YJPjhMroSKvW8aExHhKDLn2D0HD2I8ZwY+r+akZ/yjcRm/PfO3kJBuOXYQ7UPGnjsl7nnPe57y8Y9/PL3Y27et0VudUjhzb9hbJd2+6SxHcubvJD/atWmnJnlSFf9k48E+J6HTy50hbFRl38pIyrT5c4x0lGMoGm39TONNuz4zf3IODJtrEzoxosc/Dzh02uPcreaCkjvvE2Ea8nZbf25ShtNxkAlyeHjg/zJUzZopROixu3ri+jGE7huam9mNdd0DgPth5os754faN4+U33sJvoNcvUSRMgCHIBmTWhrfbKQ1oTYhFNboSIMOk0B0G6GDq7WeR0Mw2qegR0In6dP56w1Grd4FD4mNt1jSkYtx3SRPZtJ0L82iSprhXVQ38/8YlkWbO1XQLNbpLtSGTpt0yEVarlMc79qgFM34eFtIyCRsOvyxUHpnwhwWah/4321CZ3gax8+QOhY61tGeTqJnfDv9Adheuy06xdHDnfXYBgv9D6jCZ0gdiwi91hfQjCsnoQ9NtTPxi/kIrJHs3cMNCZal2Ed+IphN6eEAACAASURBVIncXd9shM5GZ7D79+3VZJV5zxyKHd6m/K44ZG3f1cm1cQFhazGQMEU27dIkuxKZOmPG0q5LZzuG3/GgEpLlrqsvzo8aCR4YeFBhofqcbdt/D42R9aiW77t0bPuswtbGLHX+Z6ci9PbIvTbpFtkvXaqPVtGHLPUMRF6S1F2v/5Dpl6iTTOgDB5NRbZaYZLvNgoTdNtNZ81xXDgEbf9055SOOOAJHHnkkY8HbKvcpIFIfPQiI0OvaGnMRehcK3rjwFZH8qFS1MxN5e+1GS6Eze7F37sXUBEQ5POBLfSJaxJ0qZbsk3Q7XY+Kmd/X0w2klm4IyS+ilIN65dkXodS15TYS+R/rjTWshH1WH5JcsxXsPM0YC5Acx1EZuDw1W5V9y5yWRegUHkyGMNlqVkD3YI/Ha7H/258kk9ZHEve9KY06g71rj1vs3irSHNqgIveTrm962CD0duxJP1kro7bnywxvkUd6S4qcgsxLrsofgI4lvQxwz2KWjSH2G8Q1qFlKS3QwtfM+aZfU9cA55/E+710OkYJe0N//dR9juHKci706Vif9ylhLvodr0ICBCr2uLLIXQLWpJUpP5WLsfvbpWIc9othLgjGQZJIXOrGIfdE4sQOxdvgFRhx+7PRzJO4W87SGxL/x03y5s9RdyUMizkztakYReDNpRDYvQR8GX/eGlEboLQJCauguxlRH8HhKdkcwt1EPJWGJMBtk3O3N4h6jQh0g9VFPUkmz5nrW1RYNjSSDvJKm7QwK3B99ZCXyfik4Seon3YXSbIvTREGZtYMmEvofcQz7UfcgtnODb8f81mBm60rd2kVrWzexpLFoqzimtDznLjSDvaKm7jVFNUvjQ+klCn/JVCe9LhB6O1RQ110LoW+mQ/zGS3CmZWOmkBnKcYh+U6MM1AcwZkjY6/j8XsSdqT6zkPZq87SIvhcT3nNgloZd4R0e3KUIfDWHWBtZG6Nmk9tbHTwSftu1IQnNGHwSp2EOmlqKGn1Py7ppTpHNlCCyT1ZGEPhnUUR2J0KPgKl55zYS+ldrHSOwOsbsqYys1VWVnHLlbpgxzGznUoMejVewhrQ4QO9N28k7rUIc13g7m5ivP7gHP+SyZxCWhh+zIeeuI0OfFv937LhD6aGIfulhlJXHwW7V0hbnVY9+Y0Sp2X4cGo6570fse7VSbl0oXu5I9uQdLSei+XTnP7yL0eXAf6vVSzYel6/cu6TM1u1RNsw5Ww3ZIN16pbwUf07nV5GP2SvDahnaSoDZn0/9jbvH6uC++O2dmubVI411rI0IP3bHT1hOhT4t38d4WnI7VFzbUVrGzfnAMr6PubGcMK74mO9rBaJV1Annb/fBlc+tVG/qgA8ZYUl8Ykffld7fY7XvHYt+7Hd3/s0xbhD4L7NN3uqCMbb4Qq6CPsovwwj6w02+Ocj0Gr9UI8u71Nh/jDZ9C6pXvs9Fx8eW2iVrOhYAIPReSC2zHifee0/O5D7lNetlWrvRggnAk8tBc6xtbr0Lksm/krgNaO0rB58yYHCo2ktQ5rrZGZ5/mITH8LTvQToPJeJUclNouj4AIvTzGi+mh4oQuUY5VkZJSSOpRrqFi4Id38qUHLqq5G4BrmMeLkffQ8EYSe2e6WHP4m3tfbMlbqvDFfGqLDVSEXgzaZTdcmTNZkGSek8j7Vs8QQ40ajbk2nOuRf1cAT4wYyOSSZCqxVyaFW21S0CUuEeuhqgtHQIS+8AWcaviVfNA6iX0KIrc4V4LDVMvu64ex3qcNlLwZ5/1xY9aYlYhGkPpcGfYkhft2on7fICBC10aIQsCR3OdUNdorSWMuF4lS23eBIjIP3ioMEztdR+3Rnu/BIwioGELskYfFgF6Dq0gKD4ZKFS0CInTthWQEKra5u3MaTeRsTGTeu01ikrSwkSDzSfKmjHzQc0Dl3Hw2/8geB6tn2as5B6S2loWACH1Z61XtaCskvGwfx4xzs+lcl2yDj0nS0qeirorUKziwZdur1X4gNLBJEBChTwLz7nSSkfxSQcv6ccw4n77wLUqASyV4e1UsVemdSX5aaXrdNfVm+UvdACnPzaBaz7pPU+asZ9aHgAh9fWtaxYwyEmHsfLJJfxnnEDSmyiILYnHfqNPNQ1uC9+Sin53UReQpy6xnakVAhF7ryqxkXBlJMRaRIBLtazTjuJPHMSDdxmIxV31L8Oy/y4lyNic5EflcW0L9lkRAhF4SXbW9QWDmG8OiCbUSMndz1695J01K6jMQ+UZzkePK4DVvAs0tDwIi9Dw4qpUOBDo+ntbmOkfIW9BHVWQ+y1YOWpsxI5uYyPu844vPcwxGenb5CIjQl7+GVc6ggxj3fMwyEmfM/DcHij5pKeOYoj7czsUkzLLG+O0TxkxqRXXtRSvUTmQpMxD59hbAnv0kZ7gsK6tGuhAQoWtfZEWgRyrfd9VpRvJMGf/m4hfXMzvjeHzXwMZeTJIyv7U8k0zwExO5i3fowTXq0LeWBdU8yiIgQi+L7860HkLkM35k+9bBZpzLZa9uf8xF3vneAGuuYdrYXgl+4j1mQ/W6ks+I2POtvVoKRECEHgiUqnUjsFAiL7GczGv+fMeb25dhjGRgVevnKTGglbe5h+BnIHKfap3w7zHxeLRAkthXvmGnmJ4IfQqUV9hHASJ3b+3KJTHXgvy+9KgZVfypc6Q6ew7nxNTx1vBcyFW7XZiGSuuco4i9hpVe6BhE6AtduDmG3SMF7fnIJUhKvR/JCkgvBWbvlaAzz2vNB6eU9Qp5JsqRLeTSF3YqiT0EetWJQUCEHoPWjtadmsjbMM9MgEOrzrzm/D/rvNWZ/tQ2kHDYyb3jutLPrk0bkhOzKCJ3OzZ7ti+l7x5nPxF7ziXb7bZE6Lu9/r2zHyAfV8Jznb58NmPb19iPZC1q4qi0pRUcSnrHW8HYansLk/do5GE0itjZthLU1LZV6hqPCL2u9Zh1NA6JcxwuQbdJPOVCkSwfyUqubF0SmQfhLlLfvnpFbNgefGOc5zjQImOc9eOjzrMgIELPAuMyG3ESmlDqbUvYe2zBEd7bbTCCCCUWwRkJKDhVaY0q9iGcZ8Q0dvmnqJ8cAx+AMav0aZq2ORIC12NfToUpwFEfdSIgQq9zXYqNynOjlyXxd5uQmy6iDxlbERLvUGfyEEIbMG2VUxdfApm5bdNRWgQLXiCJxGLtu6Qltr056mcl+EBNk5snYegQYPHIOsY5QFaf4xAQoY/Dr+qnW+TNsXbZuTfka37jf6eSONsvRuSBc5ljPWpzNBu9BoUu0+kK3QohqTnWNKTPLOTp7Osh35BtXxEHrn1X2YZMSnWWjYAIfcHr56jMLVm7kuqQk1rbGzvUoa0LrdEE0iN5Wzt930HEfcw1D9wMwE0nXtbtx3PkgWjssLPZVguR+j5zRQRBjcWm9POjCd7jGW/Hv7W3B9bf8xz/Ice60lthvvZF6PNh39UzSexdjjqOdfrUyWNIeOyss5F4guTtjfPm5A43II6d5MKez0bmdt6lSN1ohMZogmpfmg3pppJnoNTO5m0//N92muEQjLbjNJU375Z7x0FII6pTDwIi9HrWgiPZ5KhuyCg1NMt9sXPObEuiqS+7o01IlbyDPzSHDx9+Z495IScmtbSV7XDVN6Edw7PEurrEuedSIF9ngbb2thROIYAHir44eF+3bnvtupuDyqFDh3Dw4EHOq63tC21b9QogMAehHw/AjwPmcnEA7w2ol7vK6wGcGAD7vwCADzfjuFzz77cBeB2AUwC4SO5OTXtjCT3nsKxtPZhIbect73n+OUSbECR5+ya4Y+STXSoXqft2WLbft9J16CE5ktw5UNuH1fKRjFOFhT0TN4ROM0O2q26zIbvDDc1B6EcDcFtqdgzuZwBwVwBvAPBWZy1eAeDbM6zNPwM4KYALAbgwgA8AuAKAtwB4lrlQ43qFxjUXoSeRaYfUHULc7ocmq4pPZF5oV5pmK8fX7uHQPVgWrPjWo9T0nmgVX+8uVq6EHYydCN0H8Ty/z0Ho7Zle1EjidwDwjHlg2NPrEKGXHt5UhB4kHQw43YW++PZjYcPgoqX9UMArJ5vQaYTUK65iHxpEpU5se0L0RpJdyBpMVWefjbtPmi80514Tngh9qi0Q10+thH4ZAA8HcG0A9wVwXQCXBPADAA8DcM2G/E8O4DsAjgTwIADHMFI01fT3cWA4GQCq0Sld83rLYxo10XUA8Lc3AXgEgE+YZ4YI/XEAjg/g1gCOazQKj2zsVZc2Yz01AGoWeDj5nmmP9TmXK5v+XgngPQBuadT67orlJPRBMu0ga47DquZCCduOfTLi7treO0Tmk6nYF0bqvpwA3M8p2Q3jvqbT1Xbft43Gq030DsHb9zr2nR6cjQh9usWO6alWQifZkhhJtlcyduyrASAZXgLAiwB8EgD/xn/fGMCLDXHzb8duSP0XBogbmfoXbOp/1NjCeWB4GoAfArgNgGM1z54PwBcaVfsQobu/naAxFfzI9PE5AC8zanqOl4eMIxoiP7pR2bNt/o0mhJsAIPGztPH3ETpfZHuHNp+3h5CPO4vOu7V5YYhL0PbnMS+1q5orLnGHbOIKMrGFDDNXnSrI3E6mQkk9GB/HFj3WaSzX2uZsp032G8JvdWC/A8nzF6HnXLJ8bdVO6JTAuek+a5zRvgXg2YaEiQKJ+2cAHgvg3gDsQeCqAP7JwPQaAOduCP9MRrLnvyn5v9r8fprmuU8BeAGAOyUQOsd4RgA/Ne3x0EDtAdtlPzyE0GeAGgIWkvlXEwk938rvb6k6wh6abOaQKmpYapXgZlWxe9ZgymiCLQ4DIYljsuPZA/CYQ2/J9zN32+333RUAvBiI0HMvR572aif0OzZq6qebqdKZjtLpT4x6/awASNwPBvDExnP+7g7BWwn5OIZoWedvG+/1pxjSppPb7xwIqXI/rTk0xErojzZmAdvc481YiC0PH7cyav5fOf1Rw0DNQayEHrPqXS/svtN6qIdtTMel6+YmcxeDyiTPYKmzNOZu+xNrRvYdaDzrn0TqrflZz+0sHuFTrs1UfYnQp0I6rp/aCf1iAN7nTIkSL+3l5zJ/+yIAeslbQuefn9eo4/8awEkadfcVjRr+bAD+y0jfVIn3FarIaW/v83LvUrnzIMH+bXlMozW4lyFr1j+nkdbdPh9l7Px9hM4TslWb+1aU6nZX5T5Yf4kE3kEmlAzHlkHJtwK7fHVkPjGRc31TrnwNvjwndAMlhIuFNr3YeiL0OpeudkI/O4DPGOgYRvbBJgb8zc2/eYKmmpzSOmPan2OkYlb9S+OsdlkANwBw3iYk7vymDdajgx1t2l2FB4Q3ZiT0Fxr7Pg8Kv3E6fIkZW0kJPeeO8yWP2CSb6Cn7nk09VGSUzAc/+hVI6Rvv5lpSdM5A5HYr+Zzd+i7AyU7qrUPlzkvwIvScn9d8bdVO6H9m7OecMWPVKQnT6cs6g9F2TUe2JwG4m4GFqvmvN1I8beU3NCp5/s5ye6PCJ8F/zPztKIbEaQtnHvBYlfuQhG7HfA0j+bNL2tdtfH0fobM+i3W689q08m2J2VvqOzx8OVOO9t6P/YzE1Qf6rFJ6JXikkvok2LW8yXdGRS9Cn/072TmAJRH69QG81Niln9uEoJ0OwEObv52lCWl7hyFvOs2xMLzsHua/6Zz2NfPfDDX7hvGA5++sT/U8ndboLc9wspyETk946wBHUwEd+HjwoOaBJVVC7yI9V0rm7zz4BKviA7O5uZuoxhzzoW9ZF37cT/y/Gssk5GQnXgmRu+vgI/U+57xJceOAd4XgReg1fib2E8oco7SJZW4H4JlmANZb3ZXQGT/+cgBWemXVBxpypGrdfZ4S+EdMuAY9mN1CZzo6zdE+z/Jp8+8nmH+HErpNYXvnxl7/VKeDtn2c3vVMmMP0sSwMx/uSx4ae+6QfnKCi1AZoxb273QxpH3hooCMkDycqTQrtkmr4ConcXXOfmaTvMp7RTnJjN94aw+RE6GN3RZnna5DQY2dGZzdK2pS6f9tI6VSZn8qo2V3PdV+79ICnBE2JvVRh3nc65H0IwK9NJ7Sl005/+iak7Rytjn1x6CXGuSdutSRhxA4+o82cDoYMS2wXSuQ8ILqx/bHDnLN+n3kiyqfBHJiIQ+2mHZ+5pM9ZcnZSdzfJGqR4D6G/H8BfGAGNglZX+Qfjz8RcI0y6pZIBgSUSeoZpT9YEL3j5tyZxDUPbaB7ggYNJcBjORimcf3PLHITeB8b2ju9UJ7YxKGck804SqMDxbQw8u/xsCqkXdZLLsRhLk+I9hE4Bhom86LRMocYm+bJQnchk/eS/6eTMaCSVDAiI0DOAONAEtQdUwTOMzS1MNnMLJxmN/W0jITnq6S479VxSVFD+9xxwisyjUKQ0Tg0E8yh0lbn2S9QkEirTF6XLR4Tz7TJZVU/qbQw60reyShXrGUjoHC99lOig7BamvWbEkQg9YeMPPSJCzwxoT3OndNTrDI2jDT1rad18ZttOTu0YMLitXT6nmr4kmVduIw6AfLCK174urcTm4NPO7xBrnih2wVDoBmgRPR8r+Z53DiuA0PkczZqfNxk63XbofExtJU2l/N1K6Lxbo++uDppXeUcGw5Gf3DRGbSYPN/ye3h8AVfi28BDB+zyoJWChlpQHQGbxZCHv0SmaIcysQy0B/aDok8XDBv2qWOjfxYRkTBXOqChmF6WAxrH33TfCfCezFRH6bNBP23EH4adexNI38I2Kfgy5FybzvpjlaReifG/7iH1iIt/Tf8sZkmGhNy0Pwaw9+CJQ2oPr9IMYY+YaONyz7ywSfiCh04mZmTNJ1PayKiYC+2+joSSBuoT+r567OqzDMefBi7ZsqDFDgel8zHbpBM2oJ5IyNQNHBXA/43PFiCcWOkCT4EnkTFzGZGO0+bPYZGYk7LcbIn+dyWdyLSeJWd99I3Nc+b3dUyL0Wd/9ejrPbMOLToyyYjLvvYKy8OpbH4jcERO9B7qQw1yhwwUdHvmBbxdmjewKRWT9tZkofMmf2thQM9GFzVDoptVunPvQoUPnOXjwIPeYTbLjtk8bOstfmbBd9y4LStO8ffLEJhLJEjpt7b67OiyhuynBr2KcjO0FXZTeGXnEg4PVhHKcTP/NPqk1YCgxDxuMjmJ0BG/qpBRPad0SOhOX/bIh/Ys0GoD/M/Ox4dDULLAeI5bc+0YKv9L+5kXofox2skZGT1wvuWf8yO+xk1agYt9KqxnnWNt+9Kr62wMuhEWXZoLSaBbP9xFhl13rlUVKnnMjBErozO75lkZKZ4gviZF8w0RgDCm+npGoLaGH3NVhCZ1OdTbpFqOeKP3zYi3eoMnrqimV/685tDH1Nq+4Zu4PSvKXNzdz2rwjFkZr1ydRU43/zcYk8PeGtG0d5jzh3SLW/4mE7h4u5lySTd8i9NmXYDkDyCDF7yP3jB/3NpnPrWLvJLqM851740QTuTvgQjjEkHp1TnIDhwYLXcpBoC8BVN/+CeojgtDt9dVnNvdrfKBRY1+9Scf9hhahczy+uzq67sCwHvOW0EnavGyL9nEeJFgoRfPv/D+afXjfhivBsw7V7sxBQkKnvZ7j7CsPMKYCEnr7vpFZ30sR+qzwL7vzDJdW5FJH10TmQdedFiK00hsqaG6hgyiEQYwPQXWkHordmHqtg0MfgQ8eBA4dOnSpAJU7JXRKzJSWqfLmpVc3NzZ13j5Jm7eV0EPu6hgidJvgizk+qIanmv9fjO38NkayJqHzhk5mGr2wyQ9ioeStmAwnJkFTOqeUzuyeVM23yw+NUxwJ3b1vZMyyZHlWhJ4FRjWSgdxTQdx+lGtSsYdMxjFrTGXnDhlWV52sRO52UAGpj9I0pAJa4rkeonaJOUj6DhlbhITO5ngZFS/NOpZJ8ERpmsUl9JC7OnyETpU7PdBfa+z3dir0paBkTjs9HeOo8qdjnE0PTnU/beh0jCOh8xIwkjad667p4EEpnn1Q+qeET0J3s5mGQFe0jgi9KLy72fiEROWSeZUq9pAdUIjUQrr21SlG5DORejU5333AD/3uELc9CGYj6tBxRRK6VWezeVdF7RJ6yF0dJH2Go7m8ZVXuVkKnwxszgNLhjTdxMgMiL9BiYR+UuCm5X8Go3j9pVP02pbgdH5+hhz7ThPMOkT81IWyfM6FzXenJQ+ErVk+EXgxaNUwECpJ7LWSejfQqIvZscwp9CzJGObhddqnf+0i9qvSwzrvD/yRhTx5rPrR2AYROOzQd4Vh4ffT3mzjy75rwMpt3n4TOuG2mfg25q4OkyhA0l7eYtpnStCV0qttf5tjPP2wydb7KZK6jCYCpwymh/42pR3s5pfhnmau2GXNOxzomBKNXvrXFUyKn6YBjFqGHvtyqtz4EMn+wNx/qpanYQ1d1ZmKfjdgy7xELd1fkQxbP99D1DKnnHHxz54cI6T66TsHLWXLc1cEDBEPLSPS037MwZI2HDNruaT+npM0wOR4kmJqW6neGpdHOzoOHLTw8sC3+jc9WXSShV7086xhcZoJyb46b0/Zc1PZaiNxCNtToBEEhnfTVKTTvUFKfxEmuBpX5mDXiswUJfezQfM8f21xj/VaT5Ige8FSz05mOqYQv6Wug5t9F6DWvzsLHVoEEXQLBouroijAremDxLczhw4f7VOO+R/t+D42EyE7qayDwNqgLJnROhTHwbe/1/zDObrOmbk3d3K46YWwbel4I7EMgs1ReC8LFSK4iIt/37Q7JAFdigQqQOoe5NSkM7NFR69wi8Mkd1kqsxcoIndOhpH4+Yx//slHB82rrRRdJ6ItevjoHX+hDPPdkR33k+wZfMZFXQeyF9pJL6qM933eBwFdI6HN/T4r0L0IvAutuNlpIKqdNd04P3yIq9gUR+ezEXmhfhZB6r4Ogs37EZ5VS+NBXbOEq99V+oEXoq13a6SZWkJzshRNzfTCzS+UFsZpuwQFvfv7cgylE6m60xKDn+y5K4SL03Lu4fHsi9PIYr7aHwuSUKy1sKv5ZybwwVqlzHPsctSd0Iou96Sup3xlJPWm8a35IEnqdqytCr3Ndqh9VoY8r5z23VJ5VxT4xkduQvqnD+bIefoY2f6F9ZyX13J711b/HqQMUoaciV/Y5EXpZfFfXuvmglrRpzymZZyOmGYicY98chiZYo759nQ2/GUh9de9qyQmJ0Euim962CD0du516spBkVCOGoxKrTEymg9qEGdesOLHPOLca9+zkYxKhTw55UIci9CCYdrPShFLmnFL50OIGE9PEBBNlFph4bC6ewfilvGEzzitluKt6RoRe53KK0Otcl1lHNSGRW5v5XF7soTj3enVPTCqjCHLisVpsR2k8fAs005x8w1r97yL0OpdYhF7nukw+qh2Mq90QTWNyjnUgs8+lPJu6rqOIvN3pTCSYdQ7unGaaT+pa1v6cL2Lh3ZyAIXTW9dWvfb6rGp8IfVXLGTeZHY2t3aeuNoQwJUGHLlRpEpxjzqPntKP7NnTPtOu5hLshY5eEpwo5TB28notDQIQeh9fia7euaaxd1Z0bby+ZTOzU1jc/7zhzATOjdBs8RxG4d7UtaW+1RyJqL2arrCBCX+Wy/mFSO07g7uoGEwgfmtiPwI4zaow5t25txL6DJqCQ5dxD3CLtEMh2q44IfUXr7UgylLxLxoqHolaD93qUR/gMZB49vlDwU+rNSexGFUyfhl3THPWpyakinywTX8p+0TN1ISBCr2s99o3GIen2b5a0+fdd/wBmUV1PLJVXReRtAGck9srfyCLD20rekrqL4LszjYrQ61rqg0ZCjPW8rmsWdYwmWH09MZETHUpdl64DpuFRiNiLrJJN0Svpuwi8u9uoCL2utRehj1+PYMl3BiJvz27Sy01Soa04CiB1SlM/JwKfGvEd7U+EXtfCi9DHrUeQVF4BkbdnOfl1pCkwS1qPRq33PvXolvSAEAhAQIQeANKEVUTo6WB7yXxiIk+9+axoZrV0eP/wpIg9GMXFmFaCZ6SKVSMgQq9reZZA6HNfb9ol3W5vGutazhmIfM94Rqisq1PJKyY8+oMRbAKKblkPCIEWAiL0urbEEgi9JsQGpfK5ibzncME1jg0pnFUlr5jwLFveq0HK0osa2WkEROh1LX9thF5DHHnfCvV+IGsk8gFyj41oKK6SlxSe/FHwvS8i9WRo9WAIAiL0EJSmq1MboU838/CeelWYSyHy9lRrUMlLCg/fgBlqitgzgKgm9iMgQq9rV4jQh9ej80O4VCKfUyWvlMAb9Of0BxGp1/XtXcVoROh1LaMIvXs9OqXyNRF5aZW81OhbhDd7if+yWdkMNu+c6VMgYp8J+DV2K0Kva1VLE7rPxlcXGr8fzb7Qn7UTeWaVPB3wWHY5PXCQp/nhw4dJ6nPgJFKv8cuzwDGJ0OtatLGE7qoQl0je7dXYk5hj14h8QGrnT7HOdHXt9GlHE0yYM5I6EQke57TwqbelICBCr2ulQgh9DUTtQ32PVD7xHeVB0pxvAlP8PjP5TDHF3H0EEWYFuAaNMzc4am/5CIjQ61rDEEKva8T5R7OVyifOSLYIIpc3epYN5yXMifde36S848yChhpZDQIi9LqWcpcJffvxmvhjWvVHU85sRV9QX2Iivo81mDaq3qNFV0iNRyEgQo+Cq3jlXST0rWQsIv/9/pIUXvw9a3cwlKSoFlLnmEXsk2+NZXUoQq9rvXaJ0EXkZu8pJnwDhHXoZEgZPc2nlox78+ZPeNDkGELmXTxbYF2fRY0mFAEReihS09TbFULffDzNx2uqMKFqpBup0bcv076YcPc1m5BI3W5rSF4U87WpZl/HDFp1yyAgQi+Da2qrayf0qYl81ktNWuTkSp1THWJS92Gp57ZSuE3q4utoRFpcX9O+3/uIfa5Yde94TQVGiFicfc/o95UhIEKva0HXSOhbKWxCiXx2j3VJ4WFSeOjrN5O0zuHtI/YZxxIK12bc/H8HDhzYHMTalAAAE7VJREFUfFNUdgMBEXpd67wmQt8pIheB7yHwd5sMf9klxRnJdA+xzziOlC/WRlNVak1SBqRnyiAgQi+Da2qrayB0+/GIvfM7FTM+N4tELm/0ziWbRDKciVD3zW2mcdg9n2q6se+oXUCp6cd8fSp6VoRe0WI0Q1kyoa+eyCWFR78sxcl9JkJdsrQ+tIhtorcHhz3PyEYf/R5M9oAIfTKogzpaGqFbtTolhVVK5JLCN/u2HVLGv4WEV7mbvpg3thP2FzumoJdyoJKbDMk6PaZKzWPHspW2p7hg5tChQzh48CAPbLLR51q5DO3EEPp7AJwLwAkB/M7p+zkAbgngdgCe6fz9lAC+af7G31LK3QA8AcBxAPy8o4HzAfgogCsAeEtKBzM8czYAZwTwTx19L4HQ7cedNrkpSdwSCz+i2W2zdi0UE76XwIewTpSOi0ntiePJ8QmYK8th39iL3/cgQs+xbfK3EUPoj25I9d4A/gzAZ52hfBvAyQG8EsB1nb9fA8DrAFwfwMsTh37PhswfC+B4AH7a0QYPGOyXBwoeOJZQbOapozApWGvAtRM6P8ZTk3hRIpcafbsDB2PCh16sERJyEXKfm9hn7H+y758IfTKoozqKIfSrAHgjgJsCeKHp5cwAPgfgawBOAOBEAH5rfrMHgFMB+EbUqP5Q2Ufoic3O+thSCL2Gq1iLOLtJjR4uhce+KSPixrOr5Gck1s1cZuw/dNmSJXkReijE09aLIfQTA/h+S4VOyZgq9xsBeDEAqsD/3UzhQ4bkz2r+fSsAtwDwFwD+A8BrATwCwP+Z318G4MONlP9pAPdq6n4FwKdaEvpRzb8vAuChAP4HwHMB3AUA+3ueOWD80JgAKMG/F8AdAHzCgfZq5m9U1bNP2t6ofXg2AI6jrwzN4bgA3grgKa027tTM96+asJFLA3g7gD83Gg32Sw0GMbClBgk9NP1kyZ2alcglhY+XwlMWO5HQskvtieNImbL7zHYeM/U/dvzugX5fWyL0sfCWeT6G0DkCkuIxG8KyJE3yowRO9foPANy1kdKfDIDk9pPG3v4kALSDP7wh7vsb8qSUf6Hmvynx0458VTO1/2pImOr7SwD4jiFu/mRV7rSh00ZPUr1fM45HAbgwgA84NnTa03moYN9/B+AkRh3/RTPm3zRzuFbjC/Aac3Cguv7szcHhOmYM9wVAzUJX8c2BGoofAbh7c5B5otPAY8wBhVg/FcAljS8CDyLvA3DkTIRuT+ft/y2z08JazULkIvA9BD57/HEtKvmZiHXpxN755orQwz5oU9eKJfTHNWR5DwAnbaRiSsEkMBIgyY4S8rcAXN1Io+8AcM3m3x8z0jb/fUUAvzaTpCRL6fVyAN7W2NpJ6Gcx7T3AqO6typ2OeCTGWzcHhzsbYmQzfYTuagqs6v/0AL5s7P9Ha6Tj8xjiZzt0vOPBo4/QTxMwB0rcPkJnXzWo3JNVbYU26Ggilxp9szLRqVULrWdvs3Or5Ef0PxYqVw0/hx/K2PHveV6EnhXObI3FEjrJ+h8b8r5yIyl/3UjsFzOSJk+iD25UyH9k1NcPM8R/mUYKfkWHJzole9reWe9BhtD/GMDJGgn8V2aGltD5PB3uXgTgJs7suwidP5/fqWPHTJKnFoFqemoLHunUocaBjn59hE4J3jcHHnbmJPTaSDpkkyYTuaTwPVK4lQKLef+HLGZsHUOuseSWRSU/k7ROiJZiXx9cThF67G6fpn4soVMy/67JE/w9IymTwCl1k7hpI6aNnC8diZnEShX04xtPd4ZrUQp3C728aXu/sfmNEvTlnQqW0PknquHpTc+QL6rQWboInQcNkrgtVOm/wajij9EcLN5v+mO/tlh1eR+hh8zhjjMT+jQ7Jk8vSQ5QksI34FcvhcdukTlV8nMSewunqWPoY5dpT30R+ij4ij0cS+gcCB3VqFr/mRmVJc9jm79R2v5bozonQd7MOKvRkY32bluO36i5/9fYm0mYJPuPALhhB6FTOv+qIWM6ntGZjYeBWEJn6Bu98nlQ4CHDFobi0Rmvj9BD5sBDTJeETkc72v0t1jWo3IttqIGGo6VxxYSvk8CHNt8IlXjSIdGOZUZi5xDsLYRz3AOf9C0QoSfBVvyhFEK39mYOjlLp051RUkK/oIkbt8lezmvs6HQIo/3bFushTxU6VelDhG7j0OlwxzZs6FwsoZO0qWH4vDkM0EmOhep3knkfoYfM4R+MqYCOezaRztGNKv8MO0zowUQuNfr23UiOCS/+xZiwg0SV/CZ9aeotY3MT+0LC3SBCn/BFiOgqhdDp6MaQM5ZzAvhPp7/7GO9z/okSOL3NWV7fZHRjqBgd1OjZTlU8PcGpOqd0zNC1EEJnmyTjYxkHutN2eLkPqdwZUmfHSF+AVzU+ASRraghYhrzcQ+ZA7QUd6Bh29wXj9McIABaLte2fzoVMhkNnQltqCFuL2D69VWNJ3Kob506bmWPuKW2sTo2eAkLfM3Oo5OcmdgeLWB+DnND3tiVCnwTm6E5SCJ12bIaXkaxpe3aznVmJmbHfF3dGQwmbKm6qnm15k/Fap2McSwihsx4PBiRX2sCf1iJ0kiOT2PDQYYtNiGM93zlnEjhD7E5tDhUkcjq92bC7LiBD5sA5v9rY+tnGm02o3gMdQmccOufOvp/feN7ffCWEHkRKksK3qy0pPPpzBUypkk/UECTMavCRjROgKdWQuwg99zLnaS+F0Mf0zHAxEhlt8L8c09CIZ3nooO2eXu20+zO+nXHxHzQx6kz2MlR8c2DyG2oOqNq3GorQ4S5NQveSuAh8D4HPHhMeuhGXUC+RcKNV8jNL6+5SuOQ+qxOdh9CZr4RJvdqFIczUzLoOyaW32hLv+0jGZGpCTx5oxgdttjbGxFMFT/s2c83TC5+x6syGN1dZAqEPSpYi8D0Ezn8UvUxmro1aU79TqeQrIvbNvjL3KvCQODm5ewjdmh6ZT4SFvkTUXjKpFws1qDR5TlGWeN9HMi67SOiuytsCR0n6BiZXfTKYGR6skdDdqzPRvn1Lnuh7Vl1q9AwvwZgmplDJV0bsFi6bsnmSC5QCCJ2aTJtR1I6RWTJ5AKEPFtNhq2RGYBcJnRBSLc5McfaKV9rvbRheZoijmquF0DuJyZG+p77/PArECSt7TQ4TjkVdtRAorZKvlNhdgqfN3ZasDqeJhM7vLiOLeJfHuc3ALmrCnJnHhCp5+iAxrTev6Lb3YzAKiXdhXNuYbOnvxPs5mAuFhRlH6f9EbSvzlTC1N52Pf2ycrt37Plifjsvs4y+Ng/W/Nn/kt5dh0yxs+7ImjTn/TuzowM2EZIxmsoXJ0ZjBlO3QsZv5TqiVYBZV5mGhrxfTlJNr6CvFKC2OpVjZVUIvBujIhucg9H0SeAdxc1pZPwgjcZrrcRH4XMiP7DeRfL1Z6UZoBEbOaPTjg5ev+FpPJHQmHWNiLxIf85fYZGQkcvouMeKIanna2em4bBN+cTjMH8K7Q+jvdCVzB8YR5mIwhj3TAfkthjyZqIzEydDodmgzSfgzJrSaodTMTcLwazo90yxAh26SPQ8ELHRc5iGBuUjoEH6mJjHZf5v/ZiTTLwA8y9w0ynaYApyaCF5mxogrOkBzvBz/7U3yNR+8yb+L0JOhK/JgSUJ304K6zjWWrO1pXsS9d2mlRi+y1edpdAQBDyauGdHuPEDs3+N8733po7e/BxA6s4qS4FgomVMSv54hQptHhLZ2Okcz6Zi9ddPeF0LipdaUybpIqMwQSvJl4SVcJFdK2ryE67aGQCkZszCZF0Oj+X9tQieJc1yUqulPxXK6JrfJl0zEFMdiCd3Ns2KjpXhYoFMfDx3UCtDviunEWWwEFlOF8+ItEjoLDy88xBQvIvTiEEd1MIbQXcK2LyftVSRq+792MCLt/mWRFB61ZZdbuYRKfuHEHryYAYTOWyy7CoUJXn1NQv5mc1vn35uQYVuXF3QxWRmv2qbq3F4AxtBiWxgCTQme/GWzeFLK53NUn1NytqVN6JSu6fhMSd8tzzAJwajmZ7ZTSugnMv2zHm/upIqf6n2GS9NMy2gpquHdwkym1BhwvCR0mhBoKpikiNAngTm4kxRCbxN5cGequEVAUviOb4bcKvm1E3sAoTMJGFXqtlACJ8HZ7JyWaPt2Hm3RJGjfhVd0vrt3Y7e+i5P/g/Zupvem851L6CRb2ubt/SFu37xtk1lQGe1EezcJ3eVHkjsv9yKhc1xsp6/wZlFK8pyvvep7kjdMhD4JzMGdpBB6cOOquIfAFROuDbEPgRFEvMnH3hEFsnmn5wgtK7m8AYTe5eXuDomqahIvpWGGDbcL1eckfx+h2+eo1meIGlOOU2qmTfzMRrLmHSI2FTmTojFcmWHLbnmEIV86s/Ew0Efo9vpu3i3CeHuq3duFZgQSPgmdV35TCzFJEaFPAnNwJyL0YKiiKkqNHgWXKhOB3Cr5RC1AlYuRgdBJwCRtSrNuZk86kFGlzQu5qDr3EfpLmiu4eXigfd4WquuPbLzWedMm1eQuodP5jum4mfzrK+aBY5qU4rw59BSODb1LQreETk97mjPpWW8jpHj9N781tK/Tw52Ezuyoz5lqEUXoUyEd1o8IPQynkFpSo4egpDpBCCSScaeXfOJBIWicU1XKQOgcqr2WmuT70sYz/U9NCBs9whk2Zr3cWY8kaQtDxXhfBvnL3l5JRzaSNbN/PthE5dBpjs51LqHz8jCmCGcflMKZKZT/S/MAVe30ardOcUOEbtuhVzzD6nioINnz7zws8L4REfpUG7LSfkTo6QsjKTwdOz0ZiMBIlTwTM1kVPDUAdE5dzJWpLkQBqV8p9bYTy7RRppROYrYqcv5OyZeETKczqs0ZS26lYvu8S7jsxzrR2d/pFU8P9Vd2eLmzDj3cGWpG6ZqFicV4aLCStFW/u4R+QqNRcMdCz3fersl05izUNtBLn6FqNseJJPTAd2uN1UTo4asqAg/HSjULIDBC0t6XT37EQaHAzPxNZr6chcRJSZr3X/zK33tnDUrmJFHar3lXyJDTmm2Ajm6UpHmh15jCEL3fGsIf087oZ6VyHw1h1gZE6MNwSo2edbupsVwIJKrk2f0iyT0zoedahp1vR4Re1xYQoe9dD0nhde1PjcaDwEhJe0Purrf8yPaKrZcIvRi0oxoWoY+CL/vDIvTfSyzWmciNsc8OthoUAiURyEDGluA3tveaLkISoZfcOelti9DTsSvx5C4S+j6ppASwalMIzIlARgc4m7bZTdPK8KlJsz+K0OfcTf19i9DrWpddIHQReF17TqOZGIGM5L61wXdMoegd6SL0iTdNYHci9ECgJqq2RkIXgU+0edTN8hDITO4uAPa9s9L7qNvV2siK0OvcayL0utZlDYQuG3hde0qjWRACjt29pBrdquvd/yVKwWp7EXqdm0qEXte6LI3Qt17ohLGdx7ouaDUaIbA8BGpyhHPRE6HXuZdE6HWtS62Ebol7E1Ij8q5r02g0u4OAQ/CcdFE7+RCqIvQ695wIva51mZvQRdx17QeNRgh4EXDU9KxbUlW/HYsI3bsss1QQoc8Ce2+nJQndjeneStqStuvaABqNEMiFgJHm2Zy1jZPs3X8ndyVCT4au6IMi9KLwRjfeR+hDCVZIzu2yrS+7dvQa6AEhsBMIdBB+e972AOD+fXM4EKHXuUVE6HWui0YlBISAEBACQiAKARF6FFyqLASEgBAQAkKgTgRE6HWui0YlBISAEBACQiAKARF6FFyqLASEgBAQAkKgTgRE6HWui0YlBISAEBACQiAKARF6FFyqLASEgBAQAkKgTgRE6HWui0YlBISAEBACQiAKARF6FFyqLASEgBAQAkKgTgRE6HWui0YlBISAEBACQiAKARF6FFyqLASEgBAQAkKgTgRE6HWui0YlBISAEBACQiAKARF6FFyqLASEgBAQAkKgTgRE6HWui0YlBISAEBACQiAKARF6FFyqLASEgBAQAkKgTgRE6HWui0YlBISAEBACQiAKARF6FFyqLASEgBAQAkKgTgRE6HWui0YlBISAEBACQiAKARF6FFyqLASEgBAQAkKgTgRE6HWui0YlBISAEBACQiAKARF6FFyqLASEgBAQAkKgTgRE6HWui0YlBISAEBACQiAKARF6FFyqLASEgBAQAkKgTgRE6HWui0YlBISAEBACQiAKARF6FFyqLASEgBAQAkKgTgRE6HWui0YlBISAEBACQiAKARF6FFyqLASEgBAQAkKgTgRE6HWui0YlBISAEBACQiAKARF6FFyqLASEgBAQAkKgTgRE6HWui0YlBISAEBACQiAKARF6FFyqLASEgBAQAkKgTgRE6HWui0YlBISAEBACQiAKARF6FFyqLASEgBAQAkKgTgRE6HWui0YlBISAEBACQiAKARF6FFyqLASEgBAQAkKgTgRE6HWui0YlBISAEBACQiAKARF6FFyqLASEgBAQAkKgTgRE6HWui0YlBISAEBACQiAKARF6FFyqLASEgBAQAkKgTgRE6HWui0YlBISAEBACQiAKARF6FFyqLASEgBAQAkKgTgRE6HWui0YlBISAEBACQiAKARF6FFyqLASEgBAQAkKgTgRE6HWui0YlBISAEBACQiAKARF6FFyqLASEgBAQAkKgTgRE6HWui0YlBISAEBACQiAKARF6FFyqLASEgBAQAkKgTgRE6HWui0YlBISAEBACQiAKARF6FFyqLASEgBAQAkKgTgT+P56s0QVIwLtLAAAAAElFTkSuQmCC",
            "rank_sets": [],
            "scale": 1.5833333333333333,
            "show_link_info_html": false,
            "svg": "<?xml version=\"1.0\" standalone=\"no\"?><!DOCTYPE svg PUBLIC \"-//W3C//DTD SVG 1.1//EN\" \"http://www.w3.org/Graphics/SVG/1.1/DTD/svg11.dtd\"><svg xmlns=\"http://www.w3.org/2000/svg\" width=\"0.07187400000000001\" height=\"0.05749920000000001\" viewBox=\"0 0 500 400\" style=\"font-family: &quot;Helvetica Neue&quot;, Helvetica, Arial, sans-serif;\"><g class=\"sankey\" transform=\"translate(100,10)\"><g class=\"groups\"><g class=\"group\" transform=\"translate(0,38)\" style=\"display: none;\"><rect x=\"-10\" y=\"-20\" width=\"21\" height=\"333.99999999999994\" style=\"fill: rgb(0, 0, 0); stroke: rgb(187, 187, 187); stroke-width: 0.999928;\"/><text x=\"-10\" y=\"-25\" style=\"fill: rgb(0, 0, 0);\"/></g><g class=\"group\" transform=\"translate(299,38)\" style=\"display: none;\"><rect x=\"-10\" y=\"-20\" width=\"21\" height=\"334\" style=\"fill: rgb(0, 0, 0); stroke: rgb(187, 187, 187); stroke-width: 0.999928;\"/><text x=\"-10\" y=\"-25\" style=\"fill: rgb(0, 0, 0);\"/></g></g><g class=\"links\"><g class=\"link\" style=\"opacity: 0.999971;\"><path d=\"M1,341.99999999999994 A0 0 0 0 0 1,341.99999999999994 L298.99999999999994,341.99999999999994 A0 0 0 0 0 298.99999999999994,341.99999999999994 L298.99999999999994,341.99999999999994 A0 0 0 0 0 298.99999999999994,341.99999999999994 L1,341.99999999999994 A0 0 0 0 0 1,341.99999999999994 Z\" style=\"fill: rgb(255, 255, 255);\"/><title>Working out → Pensioner\n*\n0.00</title><text class=\"label\" dy=\"0.35em\" x=\"5\" y=\"342\"/></g><g class=\"link\" style=\"opacity: 0.999971;\"><path d=\"M1,41.74999999999999 A223.36885826115918 223.36885826115918 0.2536034822873814 0 1 57.0418625820521,48.894538446693794 L243.45992502628604,97.21109898565892 A221.36885826115918 221.36885826115918 0.2536034822873814 0 0 298.99999999999994,104.29166666666666 L298.99999999999994,106.29166666666666 A223.36885826115918 223.36885826115918 0.2536034822873814 0 1 242.95813741794785,99.14712821997286 L56.54007497371388,50.83056768100773 A221.36885826115918 221.36885826115918 0.2536034822873814 0 0 1,43.74999999999999 Z\" style=\"fill: rgb(255, 255, 255);\"/><title>Reading → Trainee\n*\n1.00</title><text class=\"label\" dy=\"0.35em\" x=\"5\" y=\"42.75\"/></g><g class=\"link\" style=\"opacity: 0.999971;\"><path d=\"M1,236.49999999999997 A101.37959186711122 101.37959186711122 0.6531509188857366 0 0 62.60754593812971,215.6333383405472 L236.17707047620962,82.81998241300518 A103.37959186711122 103.37959186711122 0.6531509188857366 0 1 298.99999999999994,61.541666666666664 L298.99999999999994,63.541666666666664 A101.37959186711122 101.37959186711122 0.6531509188857366 0 0 237.39245406187024,84.40832832611942 L63.82292952379033,217.22168425366146 A103.37959186711122 103.37959186711122 0.6531509188857366 0 1 1,238.49999999999997 Z\" style=\"fill: rgb(255, 255, 255);\"/><title>Travelling → Student\n*\n1.00</title><text class=\"label\" dy=\"0.35em\" x=\"5\" y=\"237.49999999999997\"/></g><g class=\"link\" style=\"opacity: 0.999971;\"><path d=\"M1,43.541666666666664 A124.81569753187316 124.81569753187316 0.4963571053807381 0 1 60.44040844580046,58.60402167921398 L240.6906269355683,156.22425231218972 A122.44069753187316 122.44069753187316 0.4963571053807381 0 0 298.99999999999994,170.99999999999997 L298.99999999999994,173.37499999999997 A124.81569753187316 124.81569753187316 0.4963571053807381 0 1 239.5595915541995,158.31264498745264 L59.309373064431654,60.69241435447692 A122.44069753187316 122.44069753187316 0.4963571053807381 0 0 1,45.916666666666664 Z\" style=\"fill: rgb(255, 255, 255);\"/><title>Reading → Administrator\n*\n1.50</title><text class=\"label\" dy=\"0.35em\" x=\"5\" y=\"44.72916666666667\"/></g><g class=\"link\" style=\"opacity: 0.999971;\"><path d=\"M1,243.04166666666666 A281.89266069887833 281.89266069887833 0.19690139360043024 0 0 56.14709570419662,237.59478725461705 L243.38827938512722,200.242770420959 A284.26766069887833 284.26766069887833 0.19690139360043024 0 1 298.99999999999994,194.75 L298.99999999999994,197.125 A281.89266069887833 281.89266069887833 0.19690139360043024 0 0 243.8529042958033,202.5718794120496 L56.61172061487273,239.92389624570765 A284.26766069887833 284.26766069887833 0.19690139360043024 0 1 1,245.41666666666666 Z\" style=\"fill: rgb(255, 255, 255);\"/><title>Travelling → Administrator\n*\n1.50</title><text class=\"label\" dy=\"0.35em\" x=\"5\" y=\"244.22916666666666\"/></g><g class=\"link\" style=\"opacity: 0.999971;\"><path d=\"M1,245.41666666666663 A1001.1874999999999 1001.1874999999999 0.03984611530249538 0 1 40.882876849474954,246.21136066971238 L259.21173263428057,254.91552448991771 A998.8124999999999 998.8124999999999 0.03984611530249538 0 0 298.99999999999994,255.70833333333331 L298.99999999999994,258.0833333333333 A1001.1874999999999 1001.1874999999999 0.03984611530249538 0 1 259.117123150525,257.28863933028754 L40.788267365719406,248.58447551008223 A998.8124999999999 998.8124999999999 0.03984611530249538 0 0 1,247.79166666666663 Z\" style=\"fill: rgb(255, 255, 255);\"/><title>Travelling → Manager\n*\n1.50</title><text class=\"label\" dy=\"0.35em\" x=\"5\" y=\"246.60416666666666\"/></g><g class=\"link\" style=\"opacity: 0.999971;\"><path d=\"M1,45.91666666666667 A99.8498459475134 99.8498459475134 0.7034332835054028 0 1 65.58685491304223,69.61843379282182 L236.4614711371098,214.54991751779454 A96.68317928084674 96.68317928084674 0.7034332835054028 0 0 298.99999999999994,237.49999999999997 L298.99999999999994,240.66666666666666 A99.8498459475134 99.8498459475134 0.7034332835054028 0 1 234.41314508695768,216.9648995405115 L63.538528862890125,72.03341581553876 A96.68317928084674 96.68317928084674 0.7034332835054028 0 0 1,49.08333333333334 Z\" style=\"fill: rgb(255, 255, 255);\"/><title>Reading → Manager\n*\n2.00</title><text class=\"label\" dy=\"0.35em\" x=\"5\" y=\"47.50000000000001\"/></g><g class=\"link\" style=\"opacity: 0.999971;\"><path d=\"M1,99.74999999999999 A117.24904149418488 117.24904149418488 0.5427269338733045 0 1 61.55596327095664,116.5982793275975 L240.079534537079,224.27342632154168 A114.08237482751822 114.08237482751822 0.5427269338733045 0 0 298.99999999999994,240.66666666666666 L298.99999999999994,243.83333333333334 A117.24904149418488 117.24904149418488 0.5427269338733045 0 1 238.4440367290433,226.9850540057358 L59.920465462920916,119.30990701179165 A114.08237482751822 114.08237482751822 0.5427269338733045 0 0 1,102.91666666666664 Z\" style=\"fill: rgb(255, 255, 255);\"/><title>Swimming → Manager\n*\n2.00</title><text class=\"label\" dy=\"0.35em\" x=\"5\" y=\"101.33333333333333\"/></g><g class=\"link\" style=\"opacity: 0.999971;\"><path d=\"M1,89.45833333333333 A805.3161810776943 805.3161810776943 0.06828159954388568 0 1 55.945557597656475,91.33494779394576 L244.27049948627425,104.21409810164765 A802.1495144110276 802.1495144110276 0.06828159954388568 0 0 298.99999999999994,106.08333333333331 L298.99999999999994,109.24999999999997 A805.3161810776943 805.3161810776943 0.06828159954388568 0 1 244.05444240234348,107.37338553938754 L55.7295005137257,94.49423523168565 A802.1495144110276 802.1495144110276 0.06828159954388568 0 0 1,92.62499999999999 Z\" style=\"fill: rgb(255, 255, 255);\"/><title>Swimming → Trainee\n*\n2.00</title><text class=\"label\" dy=\"0.35em\" x=\"5\" y=\"91.04166666666666\"/></g><g class=\"link\" style=\"opacity: 0.999971;\"><path d=\"M1,38 A0 0 0 0 0 1,38 L298.99999999999994,38 A0 0 0 0 0 298.99999999999994,38 L298.99999999999994,41.95833333333333 A0 0 0 0 0 298.99999999999994,41.95833333333333 L1,41.95833333333333 A0 0 0 0 0 1,41.95833333333333 Z\" style=\"fill: rgb(255, 255, 255);\"/><title>Reading → Student\n*\n2.50</title><text class=\"label\" dy=\"0.35em\" x=\"5\" y=\"39.979166666666664\"/></g><g class=\"link\" style=\"opacity: 0.999971;\"><path d=\"M1,49.083333333333336 A92.86722376593657 92.86722376593657 0.873575204360115 0 1 72.1947471875807,82.32145998310519 L231.4467426236507,272.4619468011622 A88.11722376593657 88.11722376593657 0.873575204360115 0 0 298.99999999999994,304 L298.99999999999994,308.75 A92.86722376593657 92.86722376593657 0.873575204360115 0 1 227.80525281241924,275.51187335022814 L68.55325737634925,85.37138653217117 A88.11722376593657 88.11722376593657 0.873575204360115 0 0 1,53.833333333333336 Z\" style=\"fill: rgb(255, 255, 255);\"/><title>Reading → Pensioner\n*\n3.00</title><text class=\"label\" dy=\"0.35em\" x=\"5\" y=\"51.458333333333336\"/></g><g class=\"link\" style=\"opacity: 0.999971;\"><path d=\"M1,247.79166666666666 A164.69659117373078 164.69659117373078 0.35774307586090326 0 1 58.67033784264982,258.2186909214434 L242.992927333638,327.12370064096774 A159.94659117373078 159.94659117373078 0.35774307586090326 0 0 298.99999999999994,337.25 L298.99999999999994,342 A164.69659117373078 164.69659117373078 0.35774307586090326 0 1 241.3296621573501,331.5729757452233 L57.00707266636196,262.66796602569895 A159.94659117373078 159.94659117373078 0.35774307586090326 0 0 1,252.54166666666666 Z\" style=\"fill: rgb(255, 255, 255);\"/><title>Travelling → Pensioner\n*\n3.00</title><text class=\"label\" dy=\"0.35em\" x=\"5\" y=\"250.16666666666666\"/></g><g class=\"link\" style=\"opacity: 0.999971;\"><path d=\"M1,238.29166666666663 A126.98685299756013 126.98685299756013 0.4683895493187331 0 0 58.32819852518288,224.61473595343764 L239.52741458305078,132.93852242019952 A131.73685299756013 131.73685299756013 0.4683895493187331 0 1 298.99999999999994,118.75 L298.99999999999994,123.5 A126.98685299756013 126.98685299756013 0.4683895493187331 0 0 241.67180147481704,137.17693071322898 L60.47258541694915,228.8531442464671 A131.73685299756013 131.73685299756013 0.4683895493187331 0 1 1,243.04166666666663 Z\" style=\"fill: rgb(255, 255, 255);\"/><title>Travelling → Trainee\n*\n3.00</title><text class=\"label\" dy=\"0.35em\" x=\"5\" y=\"240.66666666666666\"/></g><g class=\"link\" style=\"opacity: 0.999971;\"><path d=\"M1,92.625 A180.6359907120743 180.6359907120743 0.3245292430331461 0 1 58.598068391651736,102.05402923537731 L243.6738278991857,164.31788907966737 A173.5109907120743 173.5109907120743 0.3245292430331461 0 0 298.99999999999994,173.375 L298.99999999999994,180.5 A180.6359907120743 180.6359907120743 0.3245292430331461 0 1 241.4019316083482,171.07097076462267 L56.32617210081423,108.80711092033262 A173.5109907120743 173.5109907120743 0.3245292430331461 0 0 1,99.75 Z\" style=\"fill: rgb(255, 255, 255);\"/><title>Swimming → Administrator\n*\n4.50</title><text class=\"label\" dy=\"0.35em\" x=\"5\" y=\"96.1875\"/></g><g class=\"link\" style=\"opacity: 0.999971;\"><path d=\"M1,82.33333333333331 A332.41573142414865 332.41573142414865 0.16503007490878074 0 0 55.60992031166275,77.81693875176747 L243.21957045715968,46.571532332836306 A339.54073142414865 339.54073142414865 0.16503007490878074 0 1 298.99999999999994,41.958333333333336 L298.99999999999994,49.083333333333336 A332.41573142414865 332.41573142414865 0.16503007490878074 0 0 244.39007968833718,53.599727914899184 L56.78042954284028,84.84513433383036 A339.54073142414865 339.54073142414865 0.16503007490878074 0 1 1,89.45833333333331 Z\" style=\"fill: rgb(255, 255, 255);\"/><title>Swimming → Student\n*\n4.50</title><text class=\"label\" dy=\"0.35em\" x=\"5\" y=\"85.89583333333333\"/></g><g class=\"link\" style=\"opacity: 0.999971;\"><path d=\"M1,158.3333333333333 A273.9999363327675 273.9999363327675 0.20007514059571285 0 0 55.45556195423887,152.86748586566446 L242.65637980206503,114.90535682171405 A283.4999363327675 283.4999363327675 0.20007514059571285 0 1 298.99999999999994,109.25 L298.99999999999994,118.75 A273.9999363327675 273.9999363327675 0.20007514059571285 0 0 244.54443804576107,124.21584746766884 L57.343620197934904,162.17797651161922 A283.4999363327675 283.4999363327675 0.20007514059571285 0 1 1,167.8333333333333 Z\" style=\"fill: rgb(255, 255, 255);\"/><title>Sleeping → Trainee\n*\n6.00</title><text class=\"label\" dy=\"0.35em\" x=\"5\" y=\"163.08333333333331\"/></g><g class=\"link\" style=\"opacity: 0.999971;\"><path d=\"M1,182.08333333333331 A230.91821862348175 230.91821862348175 0.25047861700861906 0 1 58.237160548608735,189.2893905874007 L244.7062680191604,236.99784852869044 A219.04321862348175 219.04321862348175 0.25047861700861906 0 0 298.99999999999994,243.83333333333331 L298.99999999999994,255.70833333333331 A230.91821862348175 230.91821862348175 0.25047861700861906 0 1 241.7628394513912,248.50227607926593 L55.293731980839546,200.7938181379762 A219.04321862348175 219.04321862348175 0.25047861700861906 0 0 1,193.95833333333331 Z\" style=\"fill: rgb(255, 255, 255);\"/><title>Sleeping → Manager\n*\n7.50</title><text class=\"label\" dy=\"0.35em\" x=\"5\" y=\"188.02083333333331\"/></g><g class=\"link\" style=\"opacity: 0.999971;\"><path d=\"M1,312.7083333333333 A126.64671953857243 126.64671953857243 0.4542189923117508 0 0 56.567594588708076,299.8668597261625 L238.22212291724009,211.17055137279118 A138.52171953857243 138.52171953857243 0.4542189923117508 0 1 298.99999999999994,197.125 L298.99999999999994,209 A126.64671953857243 126.64671953857243 0.4542189923117508 0 0 243.43240541129188,221.84147360717083 L61.777877082759844,310.53778196054213 A138.52171953857243 138.52171953857243 0.4542189923117508 0 1 1,324.5833333333333 Z\" style=\"fill: rgb(255, 255, 255);\"/><title>Working out → Administrator\n*\n7.50</title><text class=\"label\" dy=\"0.35em\" x=\"5\" y=\"318.6458333333333\"/></g><g class=\"link\" style=\"opacity: 0.999971;\"><path d=\"M1,145.66666666666666 A146.07237201610585 146.07237201610585 0.38454220615286583 0 0 55.79683222195954,134.99903993243797 L239.45146012405442,60.676003387540405 A158.73903868277253 158.73903868277253 0.38454220615286583 0 1 298.99999999999994,49.08333333333334 L298.99999999999994,61.75 A146.07237201610585 146.07237201610585 0.38454220615286583 0 0 244.2031677780404,72.41762673422868 L60.54853987594554,146.74066327912627 A158.73903868277253 158.73903868277253 0.38454220615286583 0 1 1,158.33333333333334 Z\" style=\"fill: rgb(255, 255, 255);\"/><title>Sleeping → Student\n*\n8.00</title><text class=\"label\" dy=\"0.35em\" x=\"5\" y=\"152\"/></g><g class=\"link\" style=\"opacity: 0.999971;\"><path d=\"M1,281.04166666666663 A87.50844776714514 87.50844776714514 0.7776470253815809 0 0 62.39633932687606,255.88879561784125 L228.71666764958772,92.1270303985555 A100.1751144338118 100.1751144338118 0.7776470253815809 0 1 298.99999999999994,63.33333333333334 L298.99999999999994,76 A87.50844776714514 87.50844776714514 0.7776470253815809 0 0 237.60366067312387,101.15287104882539 L71.28333235041221,264.9146362681111 A100.1751144338118 100.1751144338118 0.7776470253815809 0 1 1,293.70833333333326 Z\" style=\"fill: rgb(255, 255, 255);\"/><title>Working out → Student\n*\n8.00</title><text class=\"label\" dy=\"0.35em\" x=\"5\" y=\"287.37499999999994\"/></g><g class=\"link\" style=\"opacity: 0.999971;\"><path d=\"M1,102.91666666666667 A102.71546558704452 102.71546558704452 0.7497983604256874 0 1 70.99968679870088,130.4622531873783 L235.71180342388124,283.84545293337453 A92.86722376593657 92.86722376593657 0.7497983604256874 0 0 298.99999999999994,308.75 L298.99999999999994,323 A107.11722376593657 107.11722376593657 0.7497983604256874 0 1 226.00055369940645,294.27397769907793 L61.28843707422607,140.89077795308165 A88.46546558704452 88.46546558704452 0.7497983604256874 0 0 1,117.16666666666667 Z\" style=\"fill: rgb(255, 255, 255);\"/><title>Swimming → Pensioner\n*\n9.00</title><text class=\"label\" dy=\"0.35em\" x=\"5\" y=\"110.04166666666667\"/></g><g class=\"link\" style=\"opacity: 0.999971;\"><path d=\"M1,167.83333333333331 A1007.1249999999999 1007.1249999999999 0.05130214743428074 0 1 52.64501410235096,169.15837402563477 L248.08572086198657,179.1937075562926 A992.8749999999999 992.8749999999999 0.05130214743428074 0 0 298.99999999999994,180.49999999999997 L298.99999999999994,194.74999999999997 A1007.1249999999999 1007.1249999999999 0.05130214743428074 0 1 247.35498589764896,193.42495930769851 L51.91427913801336,183.3896257770407 A992.8749999999999 992.8749999999999 0.05130214743428074 0 0 1,182.08333333333331 Z\" style=\"fill: rgb(255, 255, 255);\"/><title>Sleeping → Administrator\n*\n9.00</title><text class=\"label\" dy=\"0.35em\" x=\"5\" y=\"174.95833333333331\"/></g><g class=\"link\" style=\"opacity: 0.999971;\"><path d=\"M1,193.9583333333333 A129.7083730222796 129.7083730222796 0.5018898969664569 0 1 63.400522020948195,209.95462747390397 L243.4549138933221,308.7610881023165 A115.45837302227962 115.45837302227962 0.5018898969664569 0 0 298.99999999999994,323 L298.99999999999994,337.25 A129.7083730222796 129.7083730222796 0.5018898969664569 0 1 236.59947797905176,321.2537058594293 L56.545086106677836,222.44724523101686 A115.45837302227962 115.45837302227962 0.5018898969664569 0 0 1,208.2083333333333 Z\" style=\"fill: rgb(255, 255, 255);\"/><title>Sleeping → Pensioner\n*\n9.00</title><text class=\"label\" dy=\"0.35em\" x=\"5\" y=\"201.08333333333331\"/></g><g class=\"link\" style=\"opacity: 0.999971;\"><path d=\"M1,324.5833333333333 A201.57644110275686 201.57644110275686 0.2691792787460656 0 0 54.60731125111791,317.32446165773604 L240.7608941510152,265.96938816415616 A218.99310776942355 218.99310776942355 0.2691792787460656 0 1 298.99999999999994,258.08333333333326 L298.99999999999994,275.4999999999999 A201.57644110275686 201.57644110275686 0.2691792787460656 0 0 245.39268874888202,282.7588716755972 L59.23910584898474,334.113945169177 A218.99310776942355 218.99310776942355 0.2691792787460656 0 1 1,341.99999999999994 Z\" style=\"fill: rgb(255, 255, 255);\"/><title>Working out → Manager\n*\n11.0</title><text class=\"label\" dy=\"0.35em\" x=\"5\" y=\"333.29166666666663\"/></g><g class=\"link\" style=\"opacity: 0.999971;\"><path d=\"M1,293.7083333333333 A100.1751144338118 100.1751144338118 0.6437838207137794 0 0 61.127722817195426,273.6563148247652 L230.9992917387016,146.1775835964528 A113.29181303549571 113.29181303549571 0.6437838207137794 0 1 298.99999999999994,123.49999999999997 L298.99999999999994,142.49999999999997 A94.29181303549571 94.29181303549571 0.6437838207137794 0 0 242.4035885042575,161.37436007316427 L72.53201958275133,288.85309130147664 A119.1751144338118 119.1751144338118 0.6437838207137794 0 1 1,312.7083333333333 Z\" style=\"fill: rgb(255, 255, 255);\"/><title>Working out → Trainee\n*\n12.0</title><text class=\"label\" dy=\"0.35em\" x=\"5\" y=\"303.2083333333333\"/></g></g><g class=\"nodes\"><g class=\"node\" transform=\"translate(0,38)\"><title>Reading</title><line x1=\"0\" x2=\"0\" y1=\"0\" y2=\"15.833333333333329\" style=\"display: inline; stroke: rgb(0, 0, 0);\"/><rect class=\"node-body\" width=\"1\" height=\"15.833333333333329\" style=\"fill: none;\"/><text class=\"node-value\" dy=\".35em\" text-anchor=\"middle\" transform=\"translate(0.5,7.916666666666664) rotate(-90)\" style=\"display: none;\"/><text class=\"node-title\" dy=\".35em\" text-anchor=\"end\" transform=\"translate(-4,7.916666666666664)\" style=\"display: inline;\">Reading</text><rect class=\"node-click-target\" x=\"-5\" y=\"-5\" width=\"10\" height=\"20.83333333333333\" style=\"fill: none; visibility: hidden; pointer-events: all;\"/></g><g class=\"node\" transform=\"translate(0,82.33333333333333)\"><title>Swimming</title><line x1=\"0\" x2=\"0\" y1=\"0\" y2=\"34.83333333333333\" style=\"display: inline; stroke: rgb(0, 0, 0);\"/><rect class=\"node-body\" width=\"1\" height=\"34.83333333333333\" style=\"fill: none;\"/><text class=\"node-value\" dy=\".35em\" text-anchor=\"middle\" transform=\"translate(0.5,17.416666666666664) rotate(-90)\" style=\"display: none;\"/><text class=\"node-title\" dy=\".35em\" text-anchor=\"end\" transform=\"translate(-4,17.416666666666664)\" style=\"display: inline;\">Swimming</text><rect class=\"node-click-target\" x=\"-5\" y=\"-5\" width=\"10\" height=\"39.83333333333333\" style=\"fill: none; visibility: hidden; pointer-events: all;\"/></g><g class=\"node\" transform=\"translate(0,145.66666666666666)\"><title>Sleeping</title><line x1=\"0\" x2=\"0\" y1=\"0\" y2=\"62.54166666666666\" style=\"display: inline; stroke: rgb(0, 0, 0);\"/><rect class=\"node-body\" width=\"1\" height=\"62.54166666666666\" style=\"fill: none;\"/><text class=\"node-value\" dy=\".35em\" text-anchor=\"middle\" transform=\"translate(0.5,31.27083333333333) rotate(-90)\" style=\"display: none;\"/><text class=\"node-title\" dy=\".35em\" text-anchor=\"end\" transform=\"translate(-4,31.27083333333333)\" style=\"display: inline;\">Sleeping</text><rect class=\"node-click-target\" x=\"-5\" y=\"-5\" width=\"10\" height=\"67.54166666666666\" style=\"fill: none; visibility: hidden; pointer-events: all;\"/></g><g class=\"node\" transform=\"translate(0,236.70833333333331)\"><title>Travelling</title><line x1=\"0\" x2=\"0\" y1=\"0\" y2=\"15.833333333333343\" style=\"display: inline; stroke: rgb(0, 0, 0);\"/><rect class=\"node-body\" width=\"1\" height=\"15.833333333333343\" style=\"fill: none;\"/><text class=\"node-value\" dy=\".35em\" text-anchor=\"middle\" transform=\"translate(0.5,7.916666666666671) rotate(-90)\" style=\"display: none;\"/><text class=\"node-title\" dy=\".35em\" text-anchor=\"end\" transform=\"translate(-4,7.916666666666671)\" style=\"display: inline;\">Travelling</text><rect class=\"node-click-target\" x=\"-5\" y=\"-5\" width=\"10\" height=\"20.833333333333343\" style=\"fill: none; visibility: hidden; pointer-events: all;\"/></g><g class=\"node\" transform=\"translate(0,281.04166666666663)\"><title>Working out</title><line x1=\"0\" x2=\"0\" y1=\"0\" y2=\"60.958333333333314\" style=\"display: inline; stroke: rgb(0, 0, 0);\"/><rect class=\"node-body\" width=\"1\" height=\"60.958333333333314\" style=\"fill: none;\"/><text class=\"node-value\" dy=\".35em\" text-anchor=\"middle\" transform=\"translate(0.5,30.479166666666657) rotate(-90)\" style=\"display: none;\"/><text class=\"node-title\" dy=\".35em\" text-anchor=\"end\" transform=\"translate(-4,30.479166666666657)\" style=\"display: inline;\">Working out</text><rect class=\"node-click-target\" x=\"-5\" y=\"-5\" width=\"10\" height=\"65.95833333333331\" style=\"fill: none; visibility: hidden; pointer-events: all;\"/></g><g class=\"node\" transform=\"translate(299,38)\"><title>Student</title><line x1=\"0\" x2=\"0\" y1=\"0\" y2=\"38\" style=\"display: inline; stroke: rgb(0, 0, 0);\"/><rect class=\"node-body\" width=\"1\" height=\"38\" style=\"fill: none;\"/><text class=\"node-value\" dy=\".35em\" text-anchor=\"middle\" transform=\"translate(0.5,19) rotate(-90)\" style=\"display: none;\"/><text class=\"node-title\" dy=\".35em\" text-anchor=\"start\" transform=\"translate(5,19)\" style=\"display: inline;\">Student</text><rect class=\"node-click-target\" x=\"-5\" y=\"-5\" width=\"10\" height=\"43\" style=\"fill: none; visibility: hidden; pointer-events: all;\"/></g><g class=\"node\" transform=\"translate(299,104.5)\"><title>Trainee</title><line x1=\"0\" x2=\"0\" y1=\"0\" y2=\"38\" style=\"display: inline; stroke: rgb(0, 0, 0);\"/><rect class=\"node-body\" width=\"1\" height=\"38\" style=\"fill: none;\"/><text class=\"node-value\" dy=\".35em\" text-anchor=\"middle\" transform=\"translate(0.5,19) rotate(-90)\" style=\"display: none;\"/><text class=\"node-title\" dy=\".35em\" text-anchor=\"start\" transform=\"translate(5,19)\" style=\"display: inline;\">Trainee</text><rect class=\"node-click-target\" x=\"-5\" y=\"-5\" width=\"10\" height=\"43\" style=\"fill: none; visibility: hidden; pointer-events: all;\"/></g><g class=\"node\" transform=\"translate(299,171)\"><title>Administrator</title><line x1=\"0\" x2=\"0\" y1=\"0\" y2=\"38\" style=\"display: inline; stroke: rgb(0, 0, 0);\"/><rect class=\"node-body\" width=\"1\" height=\"38\" style=\"fill: none;\"/><text class=\"node-value\" dy=\".35em\" text-anchor=\"middle\" transform=\"translate(0.5,19) rotate(-90)\" style=\"display: none;\"/><text class=\"node-title\" dy=\".35em\" text-anchor=\"start\" transform=\"translate(5,19)\" style=\"display: inline;\">Administrator</text><rect class=\"node-click-target\" x=\"-5\" y=\"-5\" width=\"10\" height=\"43\" style=\"fill: none; visibility: hidden; pointer-events: all;\"/></g><g class=\"node\" transform=\"translate(299,237.5)\"><title>Manager</title><line x1=\"0\" x2=\"0\" y1=\"0\" y2=\"38\" style=\"display: inline; stroke: rgb(0, 0, 0);\"/><rect class=\"node-body\" width=\"1\" height=\"38\" style=\"fill: none;\"/><text class=\"node-value\" dy=\".35em\" text-anchor=\"middle\" transform=\"translate(0.5,19) rotate(-90)\" style=\"display: none;\"/><text class=\"node-title\" dy=\".35em\" text-anchor=\"start\" transform=\"translate(5,19)\" style=\"display: inline;\">Manager</text><rect class=\"node-click-target\" x=\"-5\" y=\"-5\" width=\"10\" height=\"43\" style=\"fill: none; visibility: hidden; pointer-events: all;\"/></g><g class=\"node\" transform=\"translate(299,304)\"><title>Pensioner</title><line x1=\"0\" x2=\"0\" y1=\"0\" y2=\"38\" style=\"display: inline; stroke: rgb(0, 0, 0);\"/><rect class=\"node-body\" width=\"1\" height=\"38\" style=\"fill: none;\"/><text class=\"node-value\" dy=\".35em\" text-anchor=\"middle\" transform=\"translate(0.5,19) rotate(-90)\" style=\"display: none;\"/><text class=\"node-title\" dy=\".35em\" text-anchor=\"start\" transform=\"translate(5,19)\" style=\"display: inline;\">Pensioner</text><rect class=\"node-click-target\" x=\"-5\" y=\"-5\" width=\"10\" height=\"43\" style=\"fill: none; visibility: hidden; pointer-events: all;\"/></g></g><g class=\"slice-titles\"/></g></svg>"
          }
        },
        "eff1955b5eeb42afb69912faa41f3a38": {
          "model_module": "@jupyter-widgets/base",
          "model_name": "LayoutModel",
          "model_module_version": "1.2.0",
          "state": {
            "_model_module": "@jupyter-widgets/base",
            "_model_module_version": "1.2.0",
            "_model_name": "LayoutModel",
            "_view_count": null,
            "_view_module": "@jupyter-widgets/base",
            "_view_module_version": "1.2.0",
            "_view_name": "LayoutView",
            "align_content": null,
            "align_items": null,
            "align_self": null,
            "border": null,
            "bottom": null,
            "display": null,
            "flex": null,
            "flex_flow": null,
            "grid_area": null,
            "grid_auto_columns": null,
            "grid_auto_flow": null,
            "grid_auto_rows": null,
            "grid_column": null,
            "grid_gap": null,
            "grid_row": null,
            "grid_template_areas": null,
            "grid_template_columns": null,
            "grid_template_rows": null,
            "height": "400",
            "justify_content": null,
            "justify_items": null,
            "left": null,
            "margin": null,
            "max_height": null,
            "max_width": null,
            "min_height": null,
            "min_width": null,
            "object_fit": null,
            "object_position": null,
            "order": null,
            "overflow": null,
            "overflow_x": null,
            "overflow_y": null,
            "padding": null,
            "right": null,
            "top": null,
            "visibility": null,
            "width": "500"
          }
        },
        "7dcc349396164059b95465ce699e6750": {
          "model_module": "jupyter-sankey-widget",
          "model_name": "SankeyModel",
          "model_module_version": "^0.5.0",
          "state": {
            "_dom_classes": [],
            "_model_module": "jupyter-sankey-widget",
            "_model_module_version": "^0.5.0",
            "_model_name": "SankeyModel",
            "_view_count": null,
            "_view_module": "jupyter-sankey-widget",
            "_view_module_version": "^0.5.0",
            "_view_name": "SankeyView",
            "align_link_types": false,
            "groups": [
              {
                "id": "Activity",
                "type": "process",
                "title": "",
                "nodes": [
                  "Activity^Reading",
                  "Activity^Swimming",
                  "Activity^Sleeping",
                  "Activity^Travelling",
                  "Activity^Working out"
                ]
              },
              {
                "id": "Job",
                "type": "process",
                "title": "",
                "nodes": [
                  "Job^Student",
                  "Job^Trainee",
                  "Job^Administrator",
                  "Job^Manager",
                  "Job^Pensioner"
                ]
              }
            ],
            "layout": "IPY_MODEL_c85799c1b71d4b6fbc748487ed4eeb24",
            "linkLabelFormat": "",
            "linkLabelMinWidth": 5,
            "links": [
              {
                "source": "Activity^Reading",
                "target": "Job^Administrator",
                "type": "Administrator",
                "time": "*",
                "value": 1.5,
                "title": "Administrator",
                "color": "#66C2A5",
                "opacity": 1,
                "data": {
                  "value": 1.5
                }
              },
              {
                "source": "Activity^Reading",
                "target": "Job^Manager",
                "type": "Manager",
                "time": "*",
                "value": 2,
                "title": "Manager",
                "color": "#FC8D62",
                "opacity": 1,
                "data": {
                  "value": 2
                }
              },
              {
                "source": "Activity^Reading",
                "target": "Job^Pensioner",
                "type": "Pensioner",
                "time": "*",
                "value": 3,
                "title": "Pensioner",
                "color": "#8DA0CB",
                "opacity": 1,
                "data": {
                  "value": 3
                }
              },
              {
                "source": "Activity^Reading",
                "target": "Job^Student",
                "type": "Student",
                "time": "*",
                "value": 2.5,
                "title": "Student",
                "color": "#E78AC3",
                "opacity": 1,
                "data": {
                  "value": 2.5
                }
              },
              {
                "source": "Activity^Reading",
                "target": "Job^Trainee",
                "type": "Trainee",
                "time": "*",
                "value": 1,
                "title": "Trainee",
                "color": "#A6D854",
                "opacity": 1,
                "data": {
                  "value": 1
                }
              },
              {
                "source": "Activity^Swimming",
                "target": "Job^Administrator",
                "type": "Administrator",
                "time": "*",
                "value": 4.5,
                "title": "Administrator",
                "color": "#66C2A5",
                "opacity": 1,
                "data": {
                  "value": 4.5
                }
              },
              {
                "source": "Activity^Swimming",
                "target": "Job^Manager",
                "type": "Manager",
                "time": "*",
                "value": 2,
                "title": "Manager",
                "color": "#FC8D62",
                "opacity": 1,
                "data": {
                  "value": 2
                }
              },
              {
                "source": "Activity^Swimming",
                "target": "Job^Pensioner",
                "type": "Pensioner",
                "time": "*",
                "value": 9,
                "title": "Pensioner",
                "color": "#8DA0CB",
                "opacity": 1,
                "data": {
                  "value": 9
                }
              },
              {
                "source": "Activity^Swimming",
                "target": "Job^Student",
                "type": "Student",
                "time": "*",
                "value": 4.5,
                "title": "Student",
                "color": "#E78AC3",
                "opacity": 1,
                "data": {
                  "value": 4.5
                }
              },
              {
                "source": "Activity^Swimming",
                "target": "Job^Trainee",
                "type": "Trainee",
                "time": "*",
                "value": 2,
                "title": "Trainee",
                "color": "#A6D854",
                "opacity": 1,
                "data": {
                  "value": 2
                }
              },
              {
                "source": "Activity^Sleeping",
                "target": "Job^Administrator",
                "type": "Administrator",
                "time": "*",
                "value": 9,
                "title": "Administrator",
                "color": "#66C2A5",
                "opacity": 1,
                "data": {
                  "value": 9
                }
              },
              {
                "source": "Activity^Sleeping",
                "target": "Job^Manager",
                "type": "Manager",
                "time": "*",
                "value": 7.5,
                "title": "Manager",
                "color": "#FC8D62",
                "opacity": 1,
                "data": {
                  "value": 7.5
                }
              },
              {
                "source": "Activity^Sleeping",
                "target": "Job^Pensioner",
                "type": "Pensioner",
                "time": "*",
                "value": 9,
                "title": "Pensioner",
                "color": "#8DA0CB",
                "opacity": 1,
                "data": {
                  "value": 9
                }
              },
              {
                "source": "Activity^Sleeping",
                "target": "Job^Student",
                "type": "Student",
                "time": "*",
                "value": 8,
                "title": "Student",
                "color": "#E78AC3",
                "opacity": 1,
                "data": {
                  "value": 8
                }
              },
              {
                "source": "Activity^Sleeping",
                "target": "Job^Trainee",
                "type": "Trainee",
                "time": "*",
                "value": 6,
                "title": "Trainee",
                "color": "#A6D854",
                "opacity": 1,
                "data": {
                  "value": 6
                }
              },
              {
                "source": "Activity^Travelling",
                "target": "Job^Administrator",
                "type": "Administrator",
                "time": "*",
                "value": 1.5,
                "title": "Administrator",
                "color": "#66C2A5",
                "opacity": 1,
                "data": {
                  "value": 1.5
                }
              },
              {
                "source": "Activity^Travelling",
                "target": "Job^Manager",
                "type": "Manager",
                "time": "*",
                "value": 1.5,
                "title": "Manager",
                "color": "#FC8D62",
                "opacity": 1,
                "data": {
                  "value": 1.5
                }
              },
              {
                "source": "Activity^Travelling",
                "target": "Job^Pensioner",
                "type": "Pensioner",
                "time": "*",
                "value": 3,
                "title": "Pensioner",
                "color": "#8DA0CB",
                "opacity": 1,
                "data": {
                  "value": 3
                }
              },
              {
                "source": "Activity^Travelling",
                "target": "Job^Student",
                "type": "Student",
                "time": "*",
                "value": 1,
                "title": "Student",
                "color": "#E78AC3",
                "opacity": 1,
                "data": {
                  "value": 1
                }
              },
              {
                "source": "Activity^Travelling",
                "target": "Job^Trainee",
                "type": "Trainee",
                "time": "*",
                "value": 3,
                "title": "Trainee",
                "color": "#A6D854",
                "opacity": 1,
                "data": {
                  "value": 3
                }
              },
              {
                "source": "Activity^Working out",
                "target": "Job^Administrator",
                "type": "Administrator",
                "time": "*",
                "value": 7.5,
                "title": "Administrator",
                "color": "#66C2A5",
                "opacity": 1,
                "data": {
                  "value": 7.5
                }
              },
              {
                "source": "Activity^Working out",
                "target": "Job^Manager",
                "type": "Manager",
                "time": "*",
                "value": 11,
                "title": "Manager",
                "color": "#FC8D62",
                "opacity": 1,
                "data": {
                  "value": 11
                }
              },
              {
                "source": "Activity^Working out",
                "target": "Job^Pensioner",
                "type": "Pensioner",
                "time": "*",
                "value": 0,
                "title": "Pensioner",
                "color": "#8DA0CB",
                "opacity": 1,
                "data": {
                  "value": 0
                }
              },
              {
                "source": "Activity^Working out",
                "target": "Job^Student",
                "type": "Student",
                "time": "*",
                "value": 8,
                "title": "Student",
                "color": "#E78AC3",
                "opacity": 1,
                "data": {
                  "value": 8
                }
              },
              {
                "source": "Activity^Working out",
                "target": "Job^Trainee",
                "type": "Trainee",
                "time": "*",
                "value": 12,
                "title": "Trainee",
                "color": "#A6D854",
                "opacity": 1,
                "data": {
                  "value": 12
                }
              }
            ],
            "margins": {
              "left": 100,
              "right": 100
            },
            "node_position_attr": null,
            "nodes": [
              {
                "id": "Activity^Reading",
                "title": "Reading",
                "direction": "r",
                "hidden": false,
                "type": "process",
                "fromElsewhere": [],
                "toElsewhere": []
              },
              {
                "id": "Activity^Swimming",
                "title": "Swimming",
                "direction": "r",
                "hidden": false,
                "type": "process",
                "fromElsewhere": [],
                "toElsewhere": []
              },
              {
                "id": "Activity^Sleeping",
                "title": "Sleeping",
                "direction": "r",
                "hidden": false,
                "type": "process",
                "fromElsewhere": [],
                "toElsewhere": []
              },
              {
                "id": "Activity^Travelling",
                "title": "Travelling",
                "direction": "r",
                "hidden": false,
                "type": "process",
                "fromElsewhere": [],
                "toElsewhere": []
              },
              {
                "id": "Activity^Working out",
                "title": "Working out",
                "direction": "r",
                "hidden": false,
                "type": "process",
                "fromElsewhere": [],
                "toElsewhere": []
              },
              {
                "id": "Job^Student",
                "title": "Student",
                "direction": "r",
                "hidden": false,
                "type": "process",
                "fromElsewhere": [],
                "toElsewhere": []
              },
              {
                "id": "Job^Trainee",
                "title": "Trainee",
                "direction": "r",
                "hidden": false,
                "type": "process",
                "fromElsewhere": [],
                "toElsewhere": []
              },
              {
                "id": "Job^Administrator",
                "title": "Administrator",
                "direction": "r",
                "hidden": false,
                "type": "process",
                "fromElsewhere": [],
                "toElsewhere": []
              },
              {
                "id": "Job^Manager",
                "title": "Manager",
                "direction": "r",
                "hidden": false,
                "type": "process",
                "fromElsewhere": [],
                "toElsewhere": []
              },
              {
                "id": "Job^Pensioner",
                "title": "Pensioner",
                "direction": "r",
                "hidden": false,
                "type": "process",
                "fromElsewhere": [],
                "toElsewhere": []
              }
            ],
            "order": [
              [
                [
                  "Activity^Reading",
                  "Activity^Swimming",
                  "Activity^Sleeping",
                  "Activity^Travelling",
                  "Activity^Working out"
                ]
              ],
              [
                [
                  "Job^Student",
                  "Job^Trainee",
                  "Job^Administrator",
                  "Job^Manager",
                  "Job^Pensioner"
                ]
              ]
            ],
            "png": "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",
            "rank_sets": [],
            "scale": 1.5833333333333333,
            "show_link_info_html": false,
            "svg": "<?xml version=\"1.0\" standalone=\"no\"?><!DOCTYPE svg PUBLIC \"-//W3C//DTD SVG 1.1//EN\" \"http://www.w3.org/Graphics/SVG/1.1/DTD/svg11.dtd\"><svg xmlns=\"http://www.w3.org/2000/svg\" width=\"0.0045999359992210855\" height=\"0.0036799487993768682\" viewBox=\"0 0 500 400\" style=\"font-family: &quot;Helvetica Neue&quot;, Helvetica, Arial, sans-serif;\"><g class=\"sankey\" transform=\"translate(100,10)\"><g class=\"groups\"><g class=\"group\" transform=\"translate(0,38)\" style=\"display: none;\"><rect x=\"-10\" y=\"-20\" width=\"21\" height=\"333.99999999999994\" style=\"fill: rgb(0, 0, 0); stroke: rgb(187, 187, 187); stroke-width: 0.999995;\"/><text x=\"-10\" y=\"-25\" style=\"fill: rgb(0, 0, 0);\"/></g><g class=\"group\" transform=\"translate(299,38)\" style=\"display: none;\"><rect x=\"-10\" y=\"-20\" width=\"21\" height=\"334\" style=\"fill: rgb(0, 0, 0); stroke: rgb(187, 187, 187); stroke-width: 0.999995;\"/><text x=\"-10\" y=\"-25\" style=\"fill: rgb(0, 0, 0);\"/></g></g><g class=\"links\"><g class=\"link\" style=\"opacity: 0.999998;\"><path d=\"M1,342 A0 0 0 0 0 1,342 L299,342 A0 0 0 0 0 299,342 L299,342 A0 0 0 0 0 299,342 L1,342 A0 0 0 0 0 1,342 Z\" style=\"fill: rgb(255, 255, 255);\"/><title>Working out → Pensioner\nPensioner\n0.00</title><text class=\"label\" dy=\"0.35em\" x=\"5\" y=\"342\"/></g><g class=\"link\" style=\"opacity: 0.999998;\"><path d=\"M1,41.75 A223.3688582611592 223.3688582611592 0.2536034822873814 0 1 57.041862582052104,48.8945384466938 L243.4599250262861,97.21109898565894 A221.3688582611592 221.3688582611592 0.2536034822873814 0 0 299,104.29166666666667 L299,106.29166666666667 A223.3688582611592 223.3688582611592 0.2536034822873814 0 1 242.9581374179479,99.14712821997287 L56.540074973713885,50.830567681007736 A221.3688582611592 221.3688582611592 0.2536034822873814 0 0 1,43.75 Z\" style=\"fill: rgb(255, 255, 255);\"/><title>Reading → Trainee\nTrainee\n1.00</title><text class=\"label\" dy=\"0.35em\" x=\"5\" y=\"42.75\"/></g><g class=\"link\" style=\"opacity: 0.999998;\"><path d=\"M1,236.49999999999997 A101.37959186711122 101.37959186711122 0.6531509188857365 0 0 62.6075459381297,215.6333383405472 L236.17707047620968,82.81998241300518 A103.37959186711122 103.37959186711122 0.6531509188857365 0 1 299,61.541666666666664 L299,63.541666666666664 A101.37959186711122 101.37959186711122 0.6531509188857365 0 0 237.3924540618703,84.40832832611942 L63.822929523790314,217.22168425366146 A103.37959186711122 103.37959186711122 0.6531509188857365 0 1 1,238.49999999999997 Z\" style=\"fill: rgb(255, 255, 255);\"/><title>Travelling → Student\nStudent\n1.00</title><text class=\"label\" dy=\"0.35em\" x=\"5\" y=\"237.49999999999997\"/></g><g class=\"link\" style=\"opacity: 0.999998;\"><path d=\"M1,43.54166666666667 A124.81569753187316 124.81569753187316 0.4963571053807381 0 1 60.44040844580046,58.60402167921398 L240.69062693556836,156.22425231218975 A122.44069753187316 122.44069753187316 0.4963571053807381 0 0 299,171 L299,173.375 A124.81569753187316 124.81569753187316 0.4963571053807381 0 1 239.55959155419956,158.31264498745267 L59.309373064431654,60.69241435447692 A122.44069753187316 122.44069753187316 0.4963571053807381 0 0 1,45.91666666666667 Z\" style=\"fill: rgb(255, 255, 255);\"/><title>Reading → Administrator\nAdministrator\n1.50</title><text class=\"label\" dy=\"0.35em\" x=\"5\" y=\"44.72916666666667\"/></g><g class=\"link\" style=\"opacity: 0.999998;\"><path d=\"M1,243.04166666666666 A281.89266069887833 281.89266069887833 0.19690139360043046 0 0 56.14709570419668,237.59478725461702 L243.38827938512722,200.24277042095903 A284.26766069887833 284.26766069887833 0.19690139360043046 0 1 299,194.75 L299,197.125 A281.89266069887833 281.89266069887833 0.19690139360043046 0 0 243.8529042958033,202.57187941204964 L56.61172061487279,239.92389624570762 A284.26766069887833 284.26766069887833 0.19690139360043046 0 1 1,245.41666666666666 Z\" style=\"fill: rgb(255, 255, 255);\"/><title>Travelling → Administrator\nAdministrator\n1.50</title><text class=\"label\" dy=\"0.35em\" x=\"5\" y=\"244.22916666666666\"/></g><g class=\"link\" style=\"opacity: 0.999998;\"><path d=\"M1,245.41666666666666 A1001.1875 1001.1875 0.03984611530249538 0 1 40.88287684947496,246.2113606697124 L259.2117326342806,254.91552448991771 A998.8125 998.8125 0.03984611530249538 0 0 299,255.70833333333331 L299,258.0833333333333 A1001.1875 1001.1875 0.03984611530249538 0 1 259.11712315052506,257.28863933028754 L40.78826736571941,248.58447551008226 A998.8125 998.8125 0.03984611530249538 0 0 1,247.79166666666666 Z\" style=\"fill: rgb(255, 255, 255);\"/><title>Travelling → Manager\nManager\n1.50</title><text class=\"label\" dy=\"0.35em\" x=\"5\" y=\"246.60416666666666\"/></g><g class=\"link\" style=\"opacity: 0.999998;\"><path d=\"M1,45.91666666666667 A99.84984594751342 99.84984594751342 0.7034332835054028 0 1 65.58685491304226,69.61843379282182 L236.46147113710987,214.54991751779457 A96.68317928084676 96.68317928084676 0.7034332835054028 0 0 299,237.5 L299,240.66666666666669 A99.84984594751342 99.84984594751342 0.7034332835054028 0 1 234.41314508695774,216.96489954051154 L63.53852886289014,72.03341581553876 A96.68317928084676 96.68317928084676 0.7034332835054028 0 0 1,49.08333333333334 Z\" style=\"fill: rgb(255, 255, 255);\"/><title>Reading → Manager\nManager\n2.00</title><text class=\"label\" dy=\"0.35em\" x=\"5\" y=\"47.50000000000001\"/></g><g class=\"link\" style=\"opacity: 0.999998;\"><path d=\"M1,99.75 A117.24904149418488 117.24904149418488 0.5427269338733045 0 1 61.55596327095664,116.59827932759751 L240.07953453707907,224.27342632154168 A114.08237482751822 114.08237482751822 0.5427269338733045 0 0 299,240.66666666666666 L299,243.83333333333334 A117.24904149418488 117.24904149418488 0.5427269338733045 0 1 238.44403672904335,226.9850540057358 L59.920465462920916,119.30990701179167 A114.08237482751822 114.08237482751822 0.5427269338733045 0 0 1,102.91666666666666 Z\" style=\"fill: rgb(255, 255, 255);\"/><title>Swimming → Manager\nManager\n2.00</title><text class=\"label\" dy=\"0.35em\" x=\"5\" y=\"101.33333333333333\"/></g><g class=\"link\" style=\"opacity: 0.999998;\"><path d=\"M1,89.45833333333333 A805.3161810776943 805.3161810776943 0.06828159954388568 0 1 55.945557597656475,91.33494779394576 L244.2704994862743,104.21409810164766 A802.1495144110276 802.1495144110276 0.06828159954388568 0 0 299,106.08333333333333 L299,109.24999999999999 A805.3161810776943 805.3161810776943 0.06828159954388568 0 1 244.05444240234354,107.37338553938756 L55.7295005137257,94.49423523168565 A802.1495144110276 802.1495144110276 0.06828159954388568 0 0 1,92.62499999999999 Z\" style=\"fill: rgb(255, 255, 255);\"/><title>Swimming → Trainee\nTrainee\n2.00</title><text class=\"label\" dy=\"0.35em\" x=\"5\" y=\"91.04166666666666\"/></g><g class=\"link\" style=\"opacity: 0.999998;\"><path d=\"M1,38 A0 0 0 0 0 1,38 L299,38 A0 0 0 0 0 299,38 L299,41.95833333333333 A0 0 0 0 0 299,41.95833333333333 L1,41.95833333333333 A0 0 0 0 0 1,41.95833333333333 Z\" style=\"fill: rgb(255, 255, 255);\"/><title>Reading → Student\nStudent\n2.50</title><text class=\"label\" dy=\"0.35em\" x=\"5\" y=\"39.979166666666664\"/></g><g class=\"link\" style=\"opacity: 0.999998;\"><path d=\"M1,49.083333333333336 A92.86722376593657 92.86722376593657 0.873575204360115 0 1 72.1947471875807,82.32145998310519 L231.44674262365075,272.46194680116224 A88.11722376593657 88.11722376593657 0.873575204360115 0 0 299,304.00000000000006 L299,308.75000000000006 A92.86722376593657 92.86722376593657 0.873575204360115 0 1 227.8052528124193,275.5118733502282 L68.55325737634925,85.37138653217117 A88.11722376593657 88.11722376593657 0.873575204360115 0 0 1,53.833333333333336 Z\" style=\"fill: rgb(255, 255, 255);\"/><title>Reading → Pensioner\nPensioner\n3.00</title><text class=\"label\" dy=\"0.35em\" x=\"5\" y=\"51.458333333333336\"/></g><g class=\"link\" style=\"opacity: 0.999998;\"><path d=\"M1,247.79166666666666 A164.69659117373078 164.69659117373078 0.3577430758609035 0 1 58.67033784264986,258.2186909214434 L242.99292733363802,327.12370064096774 A159.94659117373078 159.94659117373078 0.3577430758609035 0 0 299,337.25 L299,342 A164.69659117373078 164.69659117373078 0.3577430758609035 0 1 241.32966215735013,331.5729757452233 L57.00707266636199,262.66796602569895 A159.94659117373078 159.94659117373078 0.3577430758609035 0 0 1,252.54166666666666 Z\" style=\"fill: rgb(255, 255, 255);\"/><title>Travelling → Pensioner\nPensioner\n3.00</title><text class=\"label\" dy=\"0.35em\" x=\"5\" y=\"250.16666666666666\"/></g><g class=\"link\" style=\"opacity: 0.999998;\"><path d=\"M1,238.29166666666666 A126.98685299756013 126.98685299756013 0.46838954931873333 0 0 58.3281985251829,224.61473595343767 L239.52741458305084,132.93852242019952 A131.73685299756013 131.73685299756013 0.46838954931873333 0 1 299,118.75 L299,123.5 A126.98685299756013 126.98685299756013 0.46838954931873333 0 0 241.6718014748171,137.17693071322898 L60.47258541694917,228.85314424646714 A131.73685299756013 131.73685299756013 0.46838954931873333 0 1 1,243.04166666666666 Z\" style=\"fill: rgb(255, 255, 255);\"/><title>Travelling → Trainee\nTrainee\n3.00</title><text class=\"label\" dy=\"0.35em\" x=\"5\" y=\"240.66666666666666\"/></g><g class=\"link\" style=\"opacity: 0.999998;\"><path d=\"M1,92.625 A180.63599071207432 180.63599071207432 0.3245292430331461 0 1 58.59806839165175,102.05402923537731 L243.67382789918577,164.31788907966737 A173.51099071207432 173.51099071207432 0.3245292430331461 0 0 299,173.375 L299,180.5 A180.63599071207432 180.63599071207432 0.3245292430331461 0 1 241.40193160834826,171.07097076462267 L56.32617210081425,108.80711092033262 A173.51099071207432 173.51099071207432 0.3245292430331461 0 0 1,99.75 Z\" style=\"fill: rgb(255, 255, 255);\"/><title>Swimming → Administrator\nAdministrator\n4.50</title><text class=\"label\" dy=\"0.35em\" x=\"5\" y=\"96.1875\"/></g><g class=\"link\" style=\"opacity: 0.999998;\"><path d=\"M1,82.33333333333333 A332.41573142414865 332.41573142414865 0.16503007490878074 0 0 55.60992031166275,77.81693875176748 L243.21957045715973,46.571532332836306 A339.54073142414865 339.54073142414865 0.16503007490878074 0 1 299,41.958333333333336 L299,49.083333333333336 A332.41573142414865 332.41573142414865 0.16503007490878074 0 0 244.39007968833724,53.599727914899184 L56.78042954284028,84.84513433383037 A339.54073142414865 339.54073142414865 0.16503007490878074 0 1 1,89.45833333333333 Z\" style=\"fill: rgb(255, 255, 255);\"/><title>Swimming → Student\nStudent\n4.50</title><text class=\"label\" dy=\"0.35em\" x=\"5\" y=\"85.89583333333333\"/></g><g class=\"link\" style=\"opacity: 0.999998;\"><path d=\"M1,158.33333333333331 A273.9999363327675 273.9999363327675 0.20007514059571307 0 0 55.455561954238924,152.86748586566446 L242.65637980206503,114.9053568217141 A283.4999363327675 283.4999363327675 0.20007514059571307 0 1 299,109.25 L299,118.75 A273.9999363327675 273.9999363327675 0.20007514059571307 0 0 244.54443804576107,124.21584746766888 L57.34362019793496,162.17797651161922 A283.4999363327675 283.4999363327675 0.20007514059571307 0 1 1,167.83333333333331 Z\" style=\"fill: rgb(255, 255, 255);\"/><title>Sleeping → Trainee\nTrainee\n6.00</title><text class=\"label\" dy=\"0.35em\" x=\"5\" y=\"163.08333333333331\"/></g><g class=\"link\" style=\"opacity: 0.999998;\"><path d=\"M1,182.08333333333331 A230.91821862348178 230.91821862348178 0.25047861700861906 0 1 58.23716054860874,189.2893905874007 L244.70626801916046,236.99784852869044 A219.04321862348178 219.04321862348178 0.25047861700861906 0 0 299,243.83333333333331 L299,255.70833333333331 A230.91821862348178 230.91821862348178 0.25047861700861906 0 1 241.76283945139124,248.50227607926593 L55.29373198083955,200.7938181379762 A219.04321862348178 219.04321862348178 0.25047861700861906 0 0 1,193.95833333333331 Z\" style=\"fill: rgb(255, 255, 255);\"/><title>Sleeping → Manager\nManager\n7.50</title><text class=\"label\" dy=\"0.35em\" x=\"5\" y=\"188.02083333333331\"/></g><g class=\"link\" style=\"opacity: 0.999998;\"><path d=\"M1,312.7083333333333 A126.64671953857246 126.64671953857246 0.45421899231175056 0 0 56.56759458870806,299.8668597261625 L238.22212291724017,211.17055137279115 A138.52171953857246 138.52171953857246 0.45421899231175056 0 1 299,197.125 L299,209 A126.64671953857246 126.64671953857246 0.45421899231175056 0 0 243.43240541129197,221.8414736071708 L61.77787708275983,310.53778196054213 A138.52171953857246 138.52171953857246 0.45421899231175056 0 1 1,324.5833333333333 Z\" style=\"fill: rgb(255, 255, 255);\"/><title>Working out → Administrator\nAdministrator\n7.50</title><text class=\"label\" dy=\"0.35em\" x=\"5\" y=\"318.6458333333333\"/></g><g class=\"link\" style=\"opacity: 0.999998;\"><path d=\"M1,145.66666666666666 A146.07237201610585 146.07237201610585 0.38454220615286583 0 0 55.79683222195954,134.99903993243797 L239.45146012405448,60.676003387540405 A158.73903868277253 158.73903868277253 0.38454220615286583 0 1 299,49.083333333333336 L299,61.75000000000001 A146.07237201610585 146.07237201610585 0.38454220615286583 0 0 244.20316777804047,72.41762673422868 L60.54853987594554,146.74066327912627 A158.73903868277253 158.73903868277253 0.38454220615286583 0 1 1,158.33333333333334 Z\" style=\"fill: rgb(255, 255, 255);\"/><title>Sleeping → Student\nStudent\n8.00</title><text class=\"label\" dy=\"0.35em\" x=\"5\" y=\"152\"/></g><g class=\"link\" style=\"opacity: 0.999998;\"><path d=\"M1,281.04166666666663 A87.50844776714517 87.50844776714517 0.7776470253815808 0 0 62.39633932687606,255.88879561784125 L228.71666764958778,92.12703039855549 A100.17511443381183 100.17511443381183 0.7776470253815808 0 1 299,63.333333333333336 L299,76 A87.50844776714517 87.50844776714517 0.7776470253815808 0 0 237.60366067312393,101.15287104882538 L71.28333235041221,264.9146362681111 A100.17511443381183 100.17511443381183 0.7776470253815808 0 1 1,293.70833333333326 Z\" style=\"fill: rgb(255, 255, 255);\"/><title>Working out → Student\nStudent\n8.00</title><text class=\"label\" dy=\"0.35em\" x=\"5\" y=\"287.37499999999994\"/></g><g class=\"link\" style=\"opacity: 0.999998;\"><path d=\"M1,102.91666666666667 A102.71546558704452 102.71546558704452 0.749798360425687 0 1 70.99968679870085,130.4622531873783 L235.7118034238813,283.8454529333746 A92.86722376593657 92.86722376593657 0.749798360425687 0 0 299,308.75 L299,323 A107.11722376593657 107.11722376593657 0.749798360425687 0 1 226.0005536994065,294.273977699078 L61.288437074226046,140.89077795308165 A88.46546558704452 88.46546558704452 0.749798360425687 0 0 1,117.16666666666667 Z\" style=\"fill: rgb(255, 255, 255);\"/><title>Swimming → Pensioner\nPensioner\n9.00</title><text class=\"label\" dy=\"0.35em\" x=\"5\" y=\"110.04166666666667\"/></g><g class=\"link\" style=\"opacity: 0.999998;\"><path d=\"M1,167.83333333333334 A1007.125 1007.125 0.05130214743428074 0 1 52.64501410235097,169.1583740256348 L248.08572086198663,179.19370755629262 A992.875 992.875 0.05130214743428074 0 0 299,180.5 L299,194.75 A1007.125 1007.125 0.05130214743428074 0 1 247.35498589764902,193.42495930769854 L51.91427913801337,183.38962577704072 A992.875 992.875 0.05130214743428074 0 0 1,182.08333333333334 Z\" style=\"fill: rgb(255, 255, 255);\"/><title>Sleeping → Administrator\nAdministrator\n9.00</title><text class=\"label\" dy=\"0.35em\" x=\"5\" y=\"174.95833333333331\"/></g><g class=\"link\" style=\"opacity: 0.999998;\"><path d=\"M1,193.95833333333331 A129.7083730222796 129.7083730222796 0.5018898969664565 0 1 63.40052202094814,209.95462747390397 L243.4549138933222,308.7610881023165 A115.45837302227962 115.45837302227962 0.5018898969664565 0 0 299,323 L299,337.25 A129.7083730222796 129.7083730222796 0.5018898969664565 0 1 236.59947797905187,321.2537058594293 L56.54508610667779,222.44724523101686 A115.45837302227962 115.45837302227962 0.5018898969664565 0 0 1,208.20833333333331 Z\" style=\"fill: rgb(255, 255, 255);\"/><title>Sleeping → Pensioner\nPensioner\n9.00</title><text class=\"label\" dy=\"0.35em\" x=\"5\" y=\"201.08333333333331\"/></g><g class=\"link\" style=\"opacity: 0.999998;\"><path d=\"M1,324.5833333333333 A201.5764411027569 201.5764411027569 0.2691792787460652 0 0 54.607311251117835,317.32446165773604 L240.76089415101535,265.96938816415627 A218.99310776942357 218.99310776942357 0.2691792787460652 0 1 299,258.0833333333333 L299,275.49999999999994 A201.5764411027569 201.5764411027569 0.2691792787460652 0 0 245.39268874888216,282.7588716755972 L59.23910584898465,334.113945169177 A218.99310776942357 218.99310776942357 0.2691792787460652 0 1 1,341.99999999999994 Z\" style=\"fill: rgb(255, 255, 255);\"/><title>Working out → Manager\nManager\n11.0</title><text class=\"label\" dy=\"0.35em\" x=\"5\" y=\"333.29166666666663\"/></g><g class=\"link\" style=\"opacity: 0.999998;\"><path d=\"M1,293.7083333333333 A100.17511443381181 100.17511443381181 0.6437838207137793 0 0 61.12772281719544,273.6563148247652 L230.99929173870166,146.17758359645282 A113.29181303549572 113.29181303549572 0.6437838207137793 0 1 299,123.5 L299,142.5 A94.29181303549572 94.29181303549572 0.6437838207137793 0 0 242.40358850425756,161.3743600731643 L72.53201958275136,288.85309130147664 A119.17511443381181 119.17511443381181 0.6437838207137793 0 1 1,312.7083333333333 Z\" style=\"fill: rgb(255, 255, 255);\"/><title>Working out → Trainee\nTrainee\n12.0</title><text class=\"label\" dy=\"0.35em\" x=\"5\" y=\"303.2083333333333\"/></g></g><g class=\"nodes\"><g class=\"node\" transform=\"translate(0,38)\"><title>Reading</title><line x1=\"0\" x2=\"0\" y1=\"0\" y2=\"15.833333333333329\" style=\"display: inline; stroke: rgb(0, 0, 0);\"/><rect class=\"node-body\" width=\"1\" height=\"15.833333333333329\" style=\"fill: none;\"/><text class=\"node-value\" dy=\".35em\" text-anchor=\"middle\" transform=\"translate(0.5,7.916666666666664) rotate(-90)\" style=\"display: none;\"/><text class=\"node-title\" dy=\".35em\" text-anchor=\"end\" transform=\"translate(-4,7.916666666666664)\" style=\"display: inline;\">Reading</text><rect class=\"node-click-target\" x=\"-5\" y=\"-5\" width=\"10\" height=\"20.83333333333333\" style=\"fill: none; visibility: hidden; pointer-events: all;\"/></g><g class=\"node\" transform=\"translate(0,82.33333333333333)\"><title>Swimming</title><line x1=\"0\" x2=\"0\" y1=\"0\" y2=\"34.83333333333333\" style=\"display: inline; stroke: rgb(0, 0, 0);\"/><rect class=\"node-body\" width=\"1\" height=\"34.83333333333333\" style=\"fill: none;\"/><text class=\"node-value\" dy=\".35em\" text-anchor=\"middle\" transform=\"translate(0.5,17.416666666666664) rotate(-90)\" style=\"display: none;\"/><text class=\"node-title\" dy=\".35em\" text-anchor=\"end\" transform=\"translate(-4,17.416666666666664)\" style=\"display: inline;\">Swimming</text><rect class=\"node-click-target\" x=\"-5\" y=\"-5\" width=\"10\" height=\"39.83333333333333\" style=\"fill: none; visibility: hidden; pointer-events: all;\"/></g><g class=\"node\" transform=\"translate(0,145.66666666666666)\"><title>Sleeping</title><line x1=\"0\" x2=\"0\" y1=\"0\" y2=\"62.54166666666666\" style=\"display: inline; stroke: rgb(0, 0, 0);\"/><rect class=\"node-body\" width=\"1\" height=\"62.54166666666666\" style=\"fill: none;\"/><text class=\"node-value\" dy=\".35em\" text-anchor=\"middle\" transform=\"translate(0.5,31.27083333333333) rotate(-90)\" style=\"display: none;\"/><text class=\"node-title\" dy=\".35em\" text-anchor=\"end\" transform=\"translate(-4,31.27083333333333)\" style=\"display: inline;\">Sleeping</text><rect class=\"node-click-target\" x=\"-5\" y=\"-5\" width=\"10\" height=\"67.54166666666666\" style=\"fill: none; visibility: hidden; pointer-events: all;\"/></g><g class=\"node\" transform=\"translate(0,236.70833333333331)\"><title>Travelling</title><line x1=\"0\" x2=\"0\" y1=\"0\" y2=\"15.833333333333343\" style=\"display: inline; stroke: rgb(0, 0, 0);\"/><rect class=\"node-body\" width=\"1\" height=\"15.833333333333343\" style=\"fill: none;\"/><text class=\"node-value\" dy=\".35em\" text-anchor=\"middle\" transform=\"translate(0.5,7.916666666666671) rotate(-90)\" style=\"display: none;\"/><text class=\"node-title\" dy=\".35em\" text-anchor=\"end\" transform=\"translate(-4,7.916666666666671)\" style=\"display: inline;\">Travelling</text><rect class=\"node-click-target\" x=\"-5\" y=\"-5\" width=\"10\" height=\"20.833333333333343\" style=\"fill: none; visibility: hidden; pointer-events: all;\"/></g><g class=\"node\" transform=\"translate(0,281.04166666666663)\"><title>Working out</title><line x1=\"0\" x2=\"0\" y1=\"0\" y2=\"60.958333333333314\" style=\"display: inline; stroke: rgb(0, 0, 0);\"/><rect class=\"node-body\" width=\"1\" height=\"60.958333333333314\" style=\"fill: none;\"/><text class=\"node-value\" dy=\".35em\" text-anchor=\"middle\" transform=\"translate(0.5,30.479166666666657) rotate(-90)\" style=\"display: none;\"/><text class=\"node-title\" dy=\".35em\" text-anchor=\"end\" transform=\"translate(-4,30.479166666666657)\" style=\"display: inline;\">Working out</text><rect class=\"node-click-target\" x=\"-5\" y=\"-5\" width=\"10\" height=\"65.95833333333331\" style=\"fill: none; visibility: hidden; pointer-events: all;\"/></g><g class=\"node\" transform=\"translate(299,38)\"><title>Student</title><line x1=\"0\" x2=\"0\" y1=\"0\" y2=\"38\" style=\"display: inline; stroke: rgb(0, 0, 0);\"/><rect class=\"node-body\" width=\"1\" height=\"38\" style=\"fill: none;\"/><text class=\"node-value\" dy=\".35em\" text-anchor=\"middle\" transform=\"translate(0.5,19) rotate(-90)\" style=\"display: none;\"/><text class=\"node-title\" dy=\".35em\" text-anchor=\"start\" transform=\"translate(5,19)\" style=\"display: inline;\">Student</text><rect class=\"node-click-target\" x=\"-5\" y=\"-5\" width=\"10\" height=\"43\" style=\"fill: none; visibility: hidden; pointer-events: all;\"/></g><g class=\"node\" transform=\"translate(299,104.5)\"><title>Trainee</title><line x1=\"0\" x2=\"0\" y1=\"0\" y2=\"38\" style=\"display: inline; stroke: rgb(0, 0, 0);\"/><rect class=\"node-body\" width=\"1\" height=\"38\" style=\"fill: none;\"/><text class=\"node-value\" dy=\".35em\" text-anchor=\"middle\" transform=\"translate(0.5,19) rotate(-90)\" style=\"display: none;\"/><text class=\"node-title\" dy=\".35em\" text-anchor=\"start\" transform=\"translate(5,19)\" style=\"display: inline;\">Trainee</text><rect class=\"node-click-target\" x=\"-5\" y=\"-5\" width=\"10\" height=\"43\" style=\"fill: none; visibility: hidden; pointer-events: all;\"/></g><g class=\"node\" transform=\"translate(299,171)\"><title>Administrator</title><line x1=\"0\" x2=\"0\" y1=\"0\" y2=\"38\" style=\"display: inline; stroke: rgb(0, 0, 0);\"/><rect class=\"node-body\" width=\"1\" height=\"38\" style=\"fill: none;\"/><text class=\"node-value\" dy=\".35em\" text-anchor=\"middle\" transform=\"translate(0.5,19) rotate(-90)\" style=\"display: none;\"/><text class=\"node-title\" dy=\".35em\" text-anchor=\"start\" transform=\"translate(5,19)\" style=\"display: inline;\">Administrator</text><rect class=\"node-click-target\" x=\"-5\" y=\"-5\" width=\"10\" height=\"43\" style=\"fill: none; visibility: hidden; pointer-events: all;\"/></g><g class=\"node\" transform=\"translate(299,237.5)\"><title>Manager</title><line x1=\"0\" x2=\"0\" y1=\"0\" y2=\"38\" style=\"display: inline; stroke: rgb(0, 0, 0);\"/><rect class=\"node-body\" width=\"1\" height=\"38\" style=\"fill: none;\"/><text class=\"node-value\" dy=\".35em\" text-anchor=\"middle\" transform=\"translate(0.5,19) rotate(-90)\" style=\"display: none;\"/><text class=\"node-title\" dy=\".35em\" text-anchor=\"start\" transform=\"translate(5,19)\" style=\"display: inline;\">Manager</text><rect class=\"node-click-target\" x=\"-5\" y=\"-5\" width=\"10\" height=\"43\" style=\"fill: none; visibility: hidden; pointer-events: all;\"/></g><g class=\"node\" transform=\"translate(299,304)\"><title>Pensioner</title><line x1=\"0\" x2=\"0\" y1=\"0\" y2=\"38\" style=\"display: inline; stroke: rgb(0, 0, 0);\"/><rect class=\"node-body\" width=\"1\" height=\"38\" style=\"fill: none;\"/><text class=\"node-value\" dy=\".35em\" text-anchor=\"middle\" transform=\"translate(0.5,19) rotate(-90)\" style=\"display: none;\"/><text class=\"node-title\" dy=\".35em\" text-anchor=\"start\" transform=\"translate(5,19)\" style=\"display: inline;\">Pensioner</text><rect class=\"node-click-target\" x=\"-5\" y=\"-5\" width=\"10\" height=\"43\" style=\"fill: none; visibility: hidden; pointer-events: all;\"/></g></g><g class=\"slice-titles\"/></g></svg>"
          }
        },
        "c85799c1b71d4b6fbc748487ed4eeb24": {
          "model_module": "@jupyter-widgets/base",
          "model_name": "LayoutModel",
          "model_module_version": "1.2.0",
          "state": {
            "_model_module": "@jupyter-widgets/base",
            "_model_module_version": "1.2.0",
            "_model_name": "LayoutModel",
            "_view_count": null,
            "_view_module": "@jupyter-widgets/base",
            "_view_module_version": "1.2.0",
            "_view_name": "LayoutView",
            "align_content": null,
            "align_items": null,
            "align_self": null,
            "border": null,
            "bottom": null,
            "display": null,
            "flex": null,
            "flex_flow": null,
            "grid_area": null,
            "grid_auto_columns": null,
            "grid_auto_flow": null,
            "grid_auto_rows": null,
            "grid_column": null,
            "grid_gap": null,
            "grid_row": null,
            "grid_template_areas": null,
            "grid_template_columns": null,
            "grid_template_rows": null,
            "height": "400",
            "justify_content": null,
            "justify_items": null,
            "left": null,
            "margin": null,
            "max_height": null,
            "max_width": null,
            "min_height": null,
            "min_width": null,
            "object_fit": null,
            "object_position": null,
            "order": null,
            "overflow": null,
            "overflow_x": null,
            "overflow_y": null,
            "padding": null,
            "right": null,
            "top": null,
            "visibility": null,
            "width": "500"
          }
        },
        "e5e2ee56e8a1456f9809522027cdc380": {
          "model_module": "jupyter-sankey-widget",
          "model_name": "SankeyModel",
          "model_module_version": "^0.5.0",
          "state": {
            "_dom_classes": [],
            "_model_module": "jupyter-sankey-widget",
            "_model_module_version": "^0.5.0",
            "_model_name": "SankeyModel",
            "_view_count": null,
            "_view_module": "jupyter-sankey-widget",
            "_view_module_version": "^0.5.0",
            "_view_name": "SankeyView",
            "align_link_types": false,
            "groups": [
              {
                "id": "Activity",
                "type": "process",
                "title": "",
                "nodes": [
                  "Activity^Reading",
                  "Activity^Swimming",
                  "Activity^Sleeping",
                  "Activity^Travelling",
                  "Activity^Working out"
                ]
              },
              {
                "id": "Job",
                "type": "process",
                "title": "",
                "nodes": [
                  "Job^Student",
                  "Job^Trainee",
                  "Job^Administrator",
                  "Job^Manager",
                  "Job^Pensioner"
                ]
              }
            ],
            "layout": "IPY_MODEL_3552905a58de4d37a8809b229bf5ce68",
            "linkLabelFormat": "",
            "linkLabelMinWidth": 5,
            "links": [
              {
                "source": "Activity^Reading",
                "target": "Job^Administrator",
                "type": "Administrator",
                "time": "*",
                "value": 1.5,
                "title": "Administrator",
                "color": "#fee0d2",
                "opacity": 1,
                "data": {
                  "value": 1.5
                }
              },
              {
                "source": "Activity^Reading",
                "target": "Job^Manager",
                "type": "Manager",
                "time": "*",
                "value": 2,
                "title": "Manager",
                "color": "#fdd4c2",
                "opacity": 1,
                "data": {
                  "value": 2
                }
              },
              {
                "source": "Activity^Reading",
                "target": "Job^Pensioner",
                "type": "Pensioner",
                "time": "*",
                "value": 3,
                "title": "Pensioner",
                "color": "#fcbba1",
                "opacity": 1,
                "data": {
                  "value": 3
                }
              },
              {
                "source": "Activity^Reading",
                "target": "Job^Student",
                "type": "Student",
                "time": "*",
                "value": 2.5,
                "title": "Student",
                "color": "#fdc7b2",
                "opacity": 1,
                "data": {
                  "value": 2.5
                }
              },
              {
                "source": "Activity^Reading",
                "target": "Job^Trainee",
                "type": "Trainee",
                "time": "*",
                "value": 1,
                "title": "Trainee",
                "color": "#fee7dc",
                "opacity": 1,
                "data": {
                  "value": 1
                }
              },
              {
                "source": "Activity^Swimming",
                "target": "Job^Administrator",
                "type": "Administrator",
                "time": "*",
                "value": 4.5,
                "title": "Administrator",
                "color": "#fc9272",
                "opacity": 1,
                "data": {
                  "value": 4.5
                }
              },
              {
                "source": "Activity^Swimming",
                "target": "Job^Manager",
                "type": "Manager",
                "time": "*",
                "value": 2,
                "title": "Manager",
                "color": "#fdd4c2",
                "opacity": 1,
                "data": {
                  "value": 2
                }
              },
              {
                "source": "Activity^Swimming",
                "target": "Job^Pensioner",
                "type": "Pensioner",
                "time": "*",
                "value": 9,
                "title": "Pensioner",
                "color": "#ca181d",
                "opacity": 1,
                "data": {
                  "value": 9
                }
              },
              {
                "source": "Activity^Swimming",
                "target": "Job^Student",
                "type": "Student",
                "time": "*",
                "value": 4.5,
                "title": "Student",
                "color": "#fc9272",
                "opacity": 1,
                "data": {
                  "value": 4.5
                }
              },
              {
                "source": "Activity^Swimming",
                "target": "Job^Trainee",
                "type": "Trainee",
                "time": "*",
                "value": 2,
                "title": "Trainee",
                "color": "#fdd4c2",
                "opacity": 1,
                "data": {
                  "value": 2
                }
              },
              {
                "source": "Activity^Sleeping",
                "target": "Job^Administrator",
                "type": "Administrator",
                "time": "*",
                "value": 9,
                "title": "Administrator",
                "color": "#ca181d",
                "opacity": 1,
                "data": {
                  "value": 9
                }
              },
              {
                "source": "Activity^Sleeping",
                "target": "Job^Manager",
                "type": "Manager",
                "time": "*",
                "value": 7.5,
                "title": "Manager",
                "color": "#ee3a2c",
                "opacity": 1,
                "data": {
                  "value": 7.5
                }
              },
              {
                "source": "Activity^Sleeping",
                "target": "Job^Pensioner",
                "type": "Pensioner",
                "time": "*",
                "value": 9,
                "title": "Pensioner",
                "color": "#ca181d",
                "opacity": 1,
                "data": {
                  "value": 9
                }
              },
              {
                "source": "Activity^Sleeping",
                "target": "Job^Student",
                "type": "Student",
                "time": "*",
                "value": 8,
                "title": "Student",
                "color": "#e32f27",
                "opacity": 1,
                "data": {
                  "value": 8
                }
              },
              {
                "source": "Activity^Sleeping",
                "target": "Job^Trainee",
                "type": "Trainee",
                "time": "*",
                "value": 6,
                "title": "Trainee",
                "color": "#fb694a",
                "opacity": 1,
                "data": {
                  "value": 6
                }
              },
              {
                "source": "Activity^Travelling",
                "target": "Job^Administrator",
                "type": "Administrator",
                "time": "*",
                "value": 1.5,
                "title": "Administrator",
                "color": "#fee0d2",
                "opacity": 1,
                "data": {
                  "value": 1.5
                }
              },
              {
                "source": "Activity^Travelling",
                "target": "Job^Manager",
                "type": "Manager",
                "time": "*",
                "value": 1.5,
                "title": "Manager",
                "color": "#fee0d2",
                "opacity": 1,
                "data": {
                  "value": 1.5
                }
              },
              {
                "source": "Activity^Travelling",
                "target": "Job^Pensioner",
                "type": "Pensioner",
                "time": "*",
                "value": 3,
                "title": "Pensioner",
                "color": "#fcbba1",
                "opacity": 1,
                "data": {
                  "value": 3
                }
              },
              {
                "source": "Activity^Travelling",
                "target": "Job^Student",
                "type": "Student",
                "time": "*",
                "value": 1,
                "title": "Student",
                "color": "#fee7dc",
                "opacity": 1,
                "data": {
                  "value": 1
                }
              },
              {
                "source": "Activity^Travelling",
                "target": "Job^Trainee",
                "type": "Trainee",
                "time": "*",
                "value": 3,
                "title": "Trainee",
                "color": "#fcbba1",
                "opacity": 1,
                "data": {
                  "value": 3
                }
              },
              {
                "source": "Activity^Working out",
                "target": "Job^Administrator",
                "type": "Administrator",
                "time": "*",
                "value": 7.5,
                "title": "Administrator",
                "color": "#ee3a2c",
                "opacity": 1,
                "data": {
                  "value": 7.5
                }
              },
              {
                "source": "Activity^Working out",
                "target": "Job^Manager",
                "type": "Manager",
                "time": "*",
                "value": 11,
                "title": "Manager",
                "color": "#900a12",
                "opacity": 1,
                "data": {
                  "value": 11
                }
              },
              {
                "source": "Activity^Working out",
                "target": "Job^Pensioner",
                "type": "Pensioner",
                "time": "*",
                "value": 0,
                "title": "Pensioner",
                "color": "#fff5f0",
                "opacity": 1,
                "data": {
                  "value": 0
                }
              },
              {
                "source": "Activity^Working out",
                "target": "Job^Student",
                "type": "Student",
                "time": "*",
                "value": 8,
                "title": "Student",
                "color": "#e32f27",
                "opacity": 1,
                "data": {
                  "value": 8
                }
              },
              {
                "source": "Activity^Working out",
                "target": "Job^Trainee",
                "type": "Trainee",
                "time": "*",
                "value": 12,
                "title": "Trainee",
                "color": "#67000d",
                "opacity": 1,
                "data": {
                  "value": 12
                }
              }
            ],
            "margins": {
              "left": 100,
              "right": 100
            },
            "node_position_attr": null,
            "nodes": [
              {
                "id": "Activity^Reading",
                "title": "Reading",
                "direction": "r",
                "hidden": false,
                "type": "process",
                "fromElsewhere": [],
                "toElsewhere": []
              },
              {
                "id": "Activity^Swimming",
                "title": "Swimming",
                "direction": "r",
                "hidden": false,
                "type": "process",
                "fromElsewhere": [],
                "toElsewhere": []
              },
              {
                "id": "Activity^Sleeping",
                "title": "Sleeping",
                "direction": "r",
                "hidden": false,
                "type": "process",
                "fromElsewhere": [],
                "toElsewhere": []
              },
              {
                "id": "Activity^Travelling",
                "title": "Travelling",
                "direction": "r",
                "hidden": false,
                "type": "process",
                "fromElsewhere": [],
                "toElsewhere": []
              },
              {
                "id": "Activity^Working out",
                "title": "Working out",
                "direction": "r",
                "hidden": false,
                "type": "process",
                "fromElsewhere": [],
                "toElsewhere": []
              },
              {
                "id": "Job^Student",
                "title": "Student",
                "direction": "r",
                "hidden": false,
                "type": "process",
                "fromElsewhere": [],
                "toElsewhere": []
              },
              {
                "id": "Job^Trainee",
                "title": "Trainee",
                "direction": "r",
                "hidden": false,
                "type": "process",
                "fromElsewhere": [],
                "toElsewhere": []
              },
              {
                "id": "Job^Administrator",
                "title": "Administrator",
                "direction": "r",
                "hidden": false,
                "type": "process",
                "fromElsewhere": [],
                "toElsewhere": []
              },
              {
                "id": "Job^Manager",
                "title": "Manager",
                "direction": "r",
                "hidden": false,
                "type": "process",
                "fromElsewhere": [],
                "toElsewhere": []
              },
              {
                "id": "Job^Pensioner",
                "title": "Pensioner",
                "direction": "r",
                "hidden": false,
                "type": "process",
                "fromElsewhere": [],
                "toElsewhere": []
              }
            ],
            "order": [
              [
                [
                  "Activity^Reading",
                  "Activity^Swimming",
                  "Activity^Sleeping",
                  "Activity^Travelling",
                  "Activity^Working out"
                ]
              ],
              [
                [
                  "Job^Student",
                  "Job^Trainee",
                  "Job^Administrator",
                  "Job^Manager",
                  "Job^Pensioner"
                ]
              ]
            ],
            "png": "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",
            "rank_sets": [],
            "scale": 1.5833333333333333,
            "show_link_info_html": false,
            "svg": "<?xml version=\"1.0\" standalone=\"no\"?><!DOCTYPE svg PUBLIC \"-//W3C//DTD SVG 1.1//EN\" \"http://www.w3.org/Graphics/SVG/1.1/DTD/svg11.dtd\"><svg xmlns=\"http://www.w3.org/2000/svg\" width=\"0.014155775998352051\" height=\"0.01132462079868164\" viewBox=\"0 0 500 400\" style=\"font-family: &quot;Helvetica Neue&quot;, Helvetica, Arial, sans-serif;\"><g class=\"sankey\" transform=\"translate(100,10)\"><g class=\"groups\"><g class=\"group\" transform=\"translate(0,38)\" style=\"display: none;\"><rect x=\"-10\" y=\"-20\" width=\"21\" height=\"333.99999999999994\" style=\"fill: rgb(0, 0, 0); stroke: rgb(187, 187, 187); stroke-width: 0.999986;\"/><text x=\"-10\" y=\"-25\" style=\"fill: rgb(0, 0, 0);\"/></g><g class=\"group\" transform=\"translate(299,38)\" style=\"display: none;\"><rect x=\"-10\" y=\"-20\" width=\"21\" height=\"334\" style=\"fill: rgb(0, 0, 0); stroke: rgb(187, 187, 187); stroke-width: 0.999986;\"/><text x=\"-10\" y=\"-25\" style=\"fill: rgb(0, 0, 0);\"/></g></g><g class=\"links\"><g class=\"link\" style=\"opacity: 0.999994;\"><path d=\"M1,342 A0 0 0 0 0 1,342 L299,342 A0 0 0 0 0 299,342 L299,342 A0 0 0 0 0 299,342 L1,342 A0 0 0 0 0 1,342 Z\" style=\"fill: rgb(255, 255, 255);\"/><title>Working out → Pensioner\nPensioner\n0.00</title><text class=\"label\" dy=\"0.35em\" x=\"5\" y=\"342\"/></g><g class=\"link\" style=\"opacity: 0.999994;\"><path d=\"M1,41.75 A223.3688582611592 223.3688582611592 0.2536034822873814 0 1 57.041862582052104,48.8945384466938 L243.4599250262861,97.21109898565894 A221.3688582611592 221.3688582611592 0.2536034822873814 0 0 299,104.29166666666667 L299,106.29166666666667 A223.3688582611592 223.3688582611592 0.2536034822873814 0 1 242.9581374179479,99.14712821997287 L56.540074973713885,50.830567681007736 A221.3688582611592 221.3688582611592 0.2536034822873814 0 0 1,43.75 Z\" style=\"fill: rgb(255, 255, 255);\"/><title>Reading → Trainee\nTrainee\n1.00</title><text class=\"label\" dy=\"0.35em\" x=\"5\" y=\"42.75\"/></g><g class=\"link\" style=\"opacity: 0.999994;\"><path d=\"M1,236.49999999999997 A101.37959186711122 101.37959186711122 0.6531509188857365 0 0 62.6075459381297,215.6333383405472 L236.17707047620968,82.81998241300519 A103.37959186711122 103.37959186711122 0.6531509188857365 0 1 299,61.54166666666667 L299,63.54166666666667 A101.37959186711122 101.37959186711122 0.6531509188857365 0 0 237.3924540618703,84.40832832611943 L63.822929523790314,217.22168425366146 A103.37959186711122 103.37959186711122 0.6531509188857365 0 1 1,238.49999999999997 Z\" style=\"fill: rgb(255, 255, 255);\"/><title>Travelling → Student\nStudent\n1.00</title><text class=\"label\" dy=\"0.35em\" x=\"5\" y=\"237.49999999999997\"/></g><g class=\"link\" style=\"opacity: 0.999994;\"><path d=\"M1,43.54166666666667 A124.81569753187316 124.81569753187316 0.4963571053807381 0 1 60.44040844580046,58.60402167921398 L240.69062693556836,156.22425231218975 A122.44069753187316 122.44069753187316 0.4963571053807381 0 0 299,171 L299,173.375 A124.81569753187316 124.81569753187316 0.4963571053807381 0 1 239.55959155419956,158.31264498745267 L59.309373064431654,60.69241435447692 A122.44069753187316 122.44069753187316 0.4963571053807381 0 0 1,45.91666666666667 Z\" style=\"fill: rgb(255, 255, 255);\"/><title>Reading → Administrator\nAdministrator\n1.50</title><text class=\"label\" dy=\"0.35em\" x=\"5\" y=\"44.72916666666667\"/></g><g class=\"link\" style=\"opacity: 0.999994;\"><path d=\"M1,243.04166666666666 A281.89266069887833 281.89266069887833 0.19690139360043046 0 0 56.14709570419668,237.59478725461702 L243.38827938512722,200.24277042095903 A284.26766069887833 284.26766069887833 0.19690139360043046 0 1 299,194.75 L299,197.125 A281.89266069887833 281.89266069887833 0.19690139360043046 0 0 243.8529042958033,202.57187941204964 L56.61172061487279,239.92389624570762 A284.26766069887833 284.26766069887833 0.19690139360043046 0 1 1,245.41666666666666 Z\" style=\"fill: rgb(255, 255, 255);\"/><title>Travelling → Administrator\nAdministrator\n1.50</title><text class=\"label\" dy=\"0.35em\" x=\"5\" y=\"244.22916666666666\"/></g><g class=\"link\" style=\"opacity: 0.999994;\"><path d=\"M1,245.41666666666666 A1001.1875 1001.1875 0.03984611530249538 0 1 40.88287684947496,246.2113606697124 L259.2117326342806,254.91552448991771 A998.8125 998.8125 0.03984611530249538 0 0 299,255.70833333333331 L299,258.0833333333333 A1001.1875 1001.1875 0.03984611530249538 0 1 259.11712315052506,257.28863933028754 L40.78826736571941,248.58447551008226 A998.8125 998.8125 0.03984611530249538 0 0 1,247.79166666666666 Z\" style=\"fill: rgb(255, 255, 255);\"/><title>Travelling → Manager\nManager\n1.50</title><text class=\"label\" dy=\"0.35em\" x=\"5\" y=\"246.60416666666666\"/></g><g class=\"link\" style=\"opacity: 0.999994;\"><path d=\"M1,45.91666666666667 A99.84984594751342 99.84984594751342 0.7034332835054028 0 1 65.58685491304226,69.61843379282182 L236.46147113710987,214.54991751779457 A96.68317928084676 96.68317928084676 0.7034332835054028 0 0 299,237.5 L299,240.66666666666669 A99.84984594751342 99.84984594751342 0.7034332835054028 0 1 234.41314508695774,216.96489954051154 L63.53852886289014,72.03341581553876 A96.68317928084676 96.68317928084676 0.7034332835054028 0 0 1,49.08333333333334 Z\" style=\"fill: rgb(255, 255, 255);\"/><title>Reading → Manager\nManager\n2.00</title><text class=\"label\" dy=\"0.35em\" x=\"5\" y=\"47.50000000000001\"/></g><g class=\"link\" style=\"opacity: 0.999994;\"><path d=\"M1,99.75 A117.24904149418488 117.24904149418488 0.5427269338733045 0 1 61.55596327095664,116.59827932759751 L240.07953453707907,224.27342632154168 A114.08237482751822 114.08237482751822 0.5427269338733045 0 0 299,240.66666666666666 L299,243.83333333333334 A117.24904149418488 117.24904149418488 0.5427269338733045 0 1 238.44403672904335,226.9850540057358 L59.920465462920916,119.30990701179167 A114.08237482751822 114.08237482751822 0.5427269338733045 0 0 1,102.91666666666666 Z\" style=\"fill: rgb(255, 255, 255);\"/><title>Swimming → Manager\nManager\n2.00</title><text class=\"label\" dy=\"0.35em\" x=\"5\" y=\"101.33333333333333\"/></g><g class=\"link\" style=\"opacity: 0.999994;\"><path d=\"M1,89.45833333333334 A805.3161810776943 805.3161810776943 0.06828159954388568 0 1 55.945557597656475,91.33494779394577 L244.2704994862743,104.21409810164766 A802.1495144110276 802.1495144110276 0.06828159954388568 0 0 299,106.08333333333333 L299,109.24999999999999 A805.3161810776943 805.3161810776943 0.06828159954388568 0 1 244.05444240234354,107.37338553938756 L55.7295005137257,94.49423523168566 A802.1495144110276 802.1495144110276 0.06828159954388568 0 0 1,92.625 Z\" style=\"fill: rgb(255, 255, 255);\"/><title>Swimming → Trainee\nTrainee\n2.00</title><text class=\"label\" dy=\"0.35em\" x=\"5\" y=\"91.04166666666666\"/></g><g class=\"link\" style=\"opacity: 0.999994;\"><path d=\"M1,38 A0 0 0 0 0 1,38 L299,38 A0 0 0 0 0 299,38 L299,41.95833333333333 A0 0 0 0 0 299,41.95833333333333 L1,41.95833333333333 A0 0 0 0 0 1,41.95833333333333 Z\" style=\"fill: rgb(255, 255, 255);\"/><title>Reading → Student\nStudent\n2.50</title><text class=\"label\" dy=\"0.35em\" x=\"5\" y=\"39.979166666666664\"/></g><g class=\"link\" style=\"opacity: 0.999994;\"><path d=\"M1,49.083333333333336 A92.86722376593657 92.86722376593657 0.8735752043601149 0 1 72.19474718758069,82.32145998310517 L231.44674262365075,272.4619468011622 A88.11722376593657 88.11722376593657 0.8735752043601149 0 0 299,304 L299,308.75 A92.86722376593657 92.86722376593657 0.8735752043601149 0 1 227.8052528124193,275.51187335022814 L68.55325737634924,85.37138653217116 A88.11722376593657 88.11722376593657 0.8735752043601149 0 0 1,53.833333333333336 Z\" style=\"fill: rgb(255, 255, 255);\"/><title>Reading → Pensioner\nPensioner\n3.00</title><text class=\"label\" dy=\"0.35em\" x=\"5\" y=\"51.458333333333336\"/></g><g class=\"link\" style=\"opacity: 0.999994;\"><path d=\"M1,247.79166666666669 A164.69659117373078 164.69659117373078 0.35774307586090304 0 1 58.670337842649786,258.2186909214434 L242.9929273336381,327.12370064096774 A159.94659117373078 159.94659117373078 0.35774307586090304 0 0 299,337.25 L299,342 A164.69659117373078 164.69659117373078 0.35774307586090304 0 1 241.3296621573502,331.5729757452233 L57.00707266636192,262.66796602569895 A159.94659117373078 159.94659117373078 0.35774307586090304 0 0 1,252.54166666666669 Z\" style=\"fill: rgb(255, 255, 255);\"/><title>Travelling → Pensioner\nPensioner\n3.00</title><text class=\"label\" dy=\"0.35em\" x=\"5\" y=\"250.16666666666666\"/></g><g class=\"link\" style=\"opacity: 0.999994;\"><path d=\"M1,238.29166666666666 A126.98685299756013 126.98685299756013 0.46838954931873333 0 0 58.3281985251829,224.61473595343767 L239.52741458305084,132.93852242019952 A131.73685299756013 131.73685299756013 0.46838954931873333 0 1 299,118.75 L299,123.5 A126.98685299756013 126.98685299756013 0.46838954931873333 0 0 241.6718014748171,137.17693071322898 L60.47258541694917,228.85314424646714 A131.73685299756013 131.73685299756013 0.46838954931873333 0 1 1,243.04166666666666 Z\" style=\"fill: rgb(255, 255, 255);\"/><title>Travelling → Trainee\nTrainee\n3.00</title><text class=\"label\" dy=\"0.35em\" x=\"5\" y=\"240.66666666666666\"/></g><g class=\"link\" style=\"opacity: 0.999994;\"><path d=\"M1,92.625 A180.63599071207432 180.63599071207432 0.3245292430331461 0 1 58.59806839165175,102.05402923537731 L243.67382789918577,164.31788907966737 A173.51099071207432 173.51099071207432 0.3245292430331461 0 0 299,173.375 L299,180.5 A180.63599071207432 180.63599071207432 0.3245292430331461 0 1 241.40193160834826,171.07097076462267 L56.32617210081425,108.80711092033262 A173.51099071207432 173.51099071207432 0.3245292430331461 0 0 1,99.75 Z\" style=\"fill: rgb(255, 255, 255);\"/><title>Swimming → Administrator\nAdministrator\n4.50</title><text class=\"label\" dy=\"0.35em\" x=\"5\" y=\"96.1875\"/></g><g class=\"link\" style=\"opacity: 0.999994;\"><path d=\"M1,82.33333333333333 A332.41573142414865 332.41573142414865 0.16503007490878074 0 0 55.60992031166275,77.81693875176748 L243.21957045715973,46.57153233283631 A339.54073142414865 339.54073142414865 0.16503007490878074 0 1 299,41.95833333333334 L299,49.08333333333334 A332.41573142414865 332.41573142414865 0.16503007490878074 0 0 244.39007968833724,53.59972791489919 L56.78042954284028,84.84513433383037 A339.54073142414865 339.54073142414865 0.16503007490878074 0 1 1,89.45833333333333 Z\" style=\"fill: rgb(255, 255, 255);\"/><title>Swimming → Student\nStudent\n4.50</title><text class=\"label\" dy=\"0.35em\" x=\"5\" y=\"85.89583333333333\"/></g><g class=\"link\" style=\"opacity: 0.999994;\"><path d=\"M1,158.33333333333331 A273.9999363327675 273.9999363327675 0.20007514059571307 0 0 55.455561954238924,152.86748586566446 L242.65637980206503,114.9053568217141 A283.4999363327675 283.4999363327675 0.20007514059571307 0 1 299,109.25 L299,118.75 A273.9999363327675 273.9999363327675 0.20007514059571307 0 0 244.54443804576107,124.21584746766888 L57.34362019793496,162.17797651161922 A283.4999363327675 283.4999363327675 0.20007514059571307 0 1 1,167.83333333333331 Z\" style=\"fill: rgb(255, 255, 255);\"/><title>Sleeping → Trainee\nTrainee\n6.00</title><text class=\"label\" dy=\"0.35em\" x=\"5\" y=\"163.08333333333331\"/></g><g class=\"link\" style=\"opacity: 0.999994;\"><path d=\"M1,182.08333333333334 A230.91821862348178 230.91821862348178 0.25047861700861906 0 1 58.23716054860874,189.28939058740073 L244.70626801916046,236.99784852869044 A219.04321862348178 219.04321862348178 0.25047861700861906 0 0 299,243.83333333333331 L299,255.70833333333331 A230.91821862348178 230.91821862348178 0.25047861700861906 0 1 241.76283945139124,248.50227607926593 L55.29373198083955,200.79381813797622 A219.04321862348178 219.04321862348178 0.25047861700861906 0 0 1,193.95833333333334 Z\" style=\"fill: rgb(255, 255, 255);\"/><title>Sleeping → Manager\nManager\n7.50</title><text class=\"label\" dy=\"0.35em\" x=\"5\" y=\"188.02083333333331\"/></g><g class=\"link\" style=\"opacity: 0.999994;\"><path d=\"M1,312.7083333333333 A126.64671953857246 126.64671953857246 0.45421899231175034 0 0 56.56759458870803,299.86685972616255 L238.2221229172402,211.17055137279118 A138.52171953857246 138.52171953857246 0.45421899231175034 0 1 299,197.12500000000003 L299,209.00000000000003 A126.64671953857246 126.64671953857246 0.45421899231175034 0 0 243.43240541129194,221.84147360717083 L61.7778770827598,310.5377819605422 A138.52171953857246 138.52171953857246 0.45421899231175034 0 1 1,324.5833333333333 Z\" style=\"fill: rgb(255, 255, 255);\"/><title>Working out → Administrator\nAdministrator\n7.50</title><text class=\"label\" dy=\"0.35em\" x=\"5\" y=\"318.6458333333333\"/></g><g class=\"link\" style=\"opacity: 0.999994;\"><path d=\"M1,145.66666666666666 A146.07237201610585 146.07237201610585 0.38454220615286583 0 0 55.79683222195954,134.99903993243797 L239.45146012405448,60.67600338754042 A158.73903868277253 158.73903868277253 0.38454220615286583 0 1 299,49.08333333333334 L299,61.750000000000014 A146.07237201610585 146.07237201610585 0.38454220615286583 0 0 244.20316777804047,72.41762673422869 L60.54853987594554,146.74066327912627 A158.73903868277253 158.73903868277253 0.38454220615286583 0 1 1,158.33333333333334 Z\" style=\"fill: rgb(255, 255, 255);\"/><title>Sleeping → Student\nStudent\n8.00</title><text class=\"label\" dy=\"0.35em\" x=\"5\" y=\"152\"/></g><g class=\"link\" style=\"opacity: 0.999994;\"><path d=\"M1,281.04166666666663 A87.50844776714516 87.50844776714516 0.7776470253815808 0 0 62.39633932687606,255.88879561784125 L228.71666764958778,92.12703039855549 A100.17511443381181 100.17511443381181 0.7776470253815808 0 1 299,63.333333333333336 L299,76 A87.50844776714516 87.50844776714516 0.7776470253815808 0 0 237.60366067312393,101.15287104882538 L71.28333235041221,264.9146362681111 A100.17511443381181 100.17511443381181 0.7776470253815808 0 1 1,293.70833333333326 Z\" style=\"fill: rgb(255, 255, 255);\"/><title>Working out → Student\nStudent\n8.00</title><text class=\"label\" dy=\"0.35em\" x=\"5\" y=\"287.37499999999994\"/></g><g class=\"link\" style=\"opacity: 0.999994;\"><path d=\"M1,102.91666666666667 A102.71546558704452 102.71546558704452 0.749798360425687 0 1 70.99968679870085,130.4622531873783 L235.7118034238813,283.8454529333746 A92.86722376593657 92.86722376593657 0.749798360425687 0 0 299,308.75 L299,323 A107.11722376593657 107.11722376593657 0.749798360425687 0 1 226.0005536994065,294.273977699078 L61.288437074226046,140.89077795308165 A88.46546558704452 88.46546558704452 0.749798360425687 0 0 1,117.16666666666667 Z\" style=\"fill: rgb(255, 255, 255);\"/><title>Swimming → Pensioner\nPensioner\n9.00</title><text class=\"label\" dy=\"0.35em\" x=\"5\" y=\"110.04166666666667\"/></g><g class=\"link\" style=\"opacity: 0.999994;\"><path d=\"M1,167.83333333333331 A1007.125 1007.125 0.05130214743428074 0 1 52.64501410235097,169.15837402563477 L248.08572086198663,179.19370755629262 A992.875 992.875 0.05130214743428074 0 0 299,180.5 L299,194.75 A1007.125 1007.125 0.05130214743428074 0 1 247.35498589764902,193.42495930769854 L51.91427913801337,183.3896257770407 A992.875 992.875 0.05130214743428074 0 0 1,182.08333333333331 Z\" style=\"fill: rgb(255, 255, 255);\"/><title>Sleeping → Administrator\nAdministrator\n9.00</title><text class=\"label\" dy=\"0.35em\" x=\"5\" y=\"174.95833333333331\"/></g><g class=\"link\" style=\"opacity: 0.999994;\"><path d=\"M1,193.95833333333331 A129.70837302227963 129.70837302227963 0.5018898969664567 0 1 63.40052202094817,209.95462747390397 L243.45491389332219,308.7610881023165 A115.45837302227963 115.45837302227963 0.5018898969664567 0 0 299,323 L299,337.25 A129.70837302227963 129.70837302227963 0.5018898969664567 0 1 236.59947797905184,321.2537058594293 L56.545086106677815,222.44724523101686 A115.45837302227963 115.45837302227963 0.5018898969664567 0 0 1,208.20833333333331 Z\" style=\"fill: rgb(255, 255, 255);\"/><title>Sleeping → Pensioner\nPensioner\n9.00</title><text class=\"label\" dy=\"0.35em\" x=\"5\" y=\"201.08333333333331\"/></g><g class=\"link\" style=\"opacity: 0.999994;\"><path d=\"M1,324.5833333333333 A201.5764411027569 201.5764411027569 0.2691792787460652 0 0 54.607311251117835,317.32446165773604 L240.76089415101535,265.96938816415627 A218.99310776942357 218.99310776942357 0.2691792787460652 0 1 299,258.0833333333333 L299,275.49999999999994 A201.5764411027569 201.5764411027569 0.2691792787460652 0 0 245.39268874888216,282.7588716755972 L59.23910584898465,334.113945169177 A218.99310776942357 218.99310776942357 0.2691792787460652 0 1 1,341.99999999999994 Z\" style=\"fill: rgb(255, 255, 255);\"/><title>Working out → Manager\nManager\n11.0</title><text class=\"label\" dy=\"0.35em\" x=\"5\" y=\"333.29166666666663\"/></g><g class=\"link\" style=\"opacity: 0.999994;\"><path d=\"M1,293.7083333333333 A100.17511443381181 100.17511443381181 0.6437838207137793 0 0 61.12772281719544,273.6563148247652 L230.99929173870166,146.17758359645282 A113.29181303549572 113.29181303549572 0.6437838207137793 0 1 299,123.5 L299,142.5 A94.29181303549572 94.29181303549572 0.6437838207137793 0 0 242.40358850425756,161.3743600731643 L72.53201958275136,288.85309130147664 A119.17511443381181 119.17511443381181 0.6437838207137793 0 1 1,312.7083333333333 Z\" style=\"fill: rgb(255, 255, 255);\"/><title>Working out → Trainee\nTrainee\n12.0</title><text class=\"label\" dy=\"0.35em\" x=\"5\" y=\"303.2083333333333\"/></g></g><g class=\"nodes\"><g class=\"node\" transform=\"translate(0,38)\"><title>Reading</title><line x1=\"0\" x2=\"0\" y1=\"0\" y2=\"15.833333333333329\" style=\"display: inline; stroke: rgb(0, 0, 0);\"/><rect class=\"node-body\" width=\"1\" height=\"15.833333333333329\" style=\"fill: none;\"/><text class=\"node-value\" dy=\".35em\" text-anchor=\"middle\" transform=\"translate(0.5,7.916666666666664) rotate(-90)\" style=\"display: none;\"/><text class=\"node-title\" dy=\".35em\" text-anchor=\"end\" transform=\"translate(-4,7.916666666666664)\" style=\"display: inline;\">Reading</text><rect class=\"node-click-target\" x=\"-5\" y=\"-5\" width=\"10\" height=\"20.83333333333333\" style=\"fill: none; visibility: hidden; pointer-events: all;\"/></g><g class=\"node\" transform=\"translate(0,82.33333333333333)\"><title>Swimming</title><line x1=\"0\" x2=\"0\" y1=\"0\" y2=\"34.83333333333333\" style=\"display: inline; stroke: rgb(0, 0, 0);\"/><rect class=\"node-body\" width=\"1\" height=\"34.83333333333333\" style=\"fill: none;\"/><text class=\"node-value\" dy=\".35em\" text-anchor=\"middle\" transform=\"translate(0.5,17.416666666666664) rotate(-90)\" style=\"display: none;\"/><text class=\"node-title\" dy=\".35em\" text-anchor=\"end\" transform=\"translate(-4,17.416666666666664)\" style=\"display: inline;\">Swimming</text><rect class=\"node-click-target\" x=\"-5\" y=\"-5\" width=\"10\" height=\"39.83333333333333\" style=\"fill: none; visibility: hidden; pointer-events: all;\"/></g><g class=\"node\" transform=\"translate(0,145.66666666666666)\"><title>Sleeping</title><line x1=\"0\" x2=\"0\" y1=\"0\" y2=\"62.54166666666666\" style=\"display: inline; stroke: rgb(0, 0, 0);\"/><rect class=\"node-body\" width=\"1\" height=\"62.54166666666666\" style=\"fill: none;\"/><text class=\"node-value\" dy=\".35em\" text-anchor=\"middle\" transform=\"translate(0.5,31.27083333333333) rotate(-90)\" style=\"display: none;\"/><text class=\"node-title\" dy=\".35em\" text-anchor=\"end\" transform=\"translate(-4,31.27083333333333)\" style=\"display: inline;\">Sleeping</text><rect class=\"node-click-target\" x=\"-5\" y=\"-5\" width=\"10\" height=\"67.54166666666666\" style=\"fill: none; visibility: hidden; pointer-events: all;\"/></g><g class=\"node\" transform=\"translate(0,236.70833333333331)\"><title>Travelling</title><line x1=\"0\" x2=\"0\" y1=\"0\" y2=\"15.833333333333343\" style=\"display: inline; stroke: rgb(0, 0, 0);\"/><rect class=\"node-body\" width=\"1\" height=\"15.833333333333343\" style=\"fill: none;\"/><text class=\"node-value\" dy=\".35em\" text-anchor=\"middle\" transform=\"translate(0.5,7.916666666666671) rotate(-90)\" style=\"display: none;\"/><text class=\"node-title\" dy=\".35em\" text-anchor=\"end\" transform=\"translate(-4,7.916666666666671)\" style=\"display: inline;\">Travelling</text><rect class=\"node-click-target\" x=\"-5\" y=\"-5\" width=\"10\" height=\"20.833333333333343\" style=\"fill: none; visibility: hidden; pointer-events: all;\"/></g><g class=\"node\" transform=\"translate(0,281.04166666666663)\"><title>Working out</title><line x1=\"0\" x2=\"0\" y1=\"0\" y2=\"60.958333333333314\" style=\"display: inline; stroke: rgb(0, 0, 0);\"/><rect class=\"node-body\" width=\"1\" height=\"60.958333333333314\" style=\"fill: none;\"/><text class=\"node-value\" dy=\".35em\" text-anchor=\"middle\" transform=\"translate(0.5,30.479166666666657) rotate(-90)\" style=\"display: none;\"/><text class=\"node-title\" dy=\".35em\" text-anchor=\"end\" transform=\"translate(-4,30.479166666666657)\" style=\"display: inline;\">Working out</text><rect class=\"node-click-target\" x=\"-5\" y=\"-5\" width=\"10\" height=\"65.95833333333331\" style=\"fill: none; visibility: hidden; pointer-events: all;\"/></g><g class=\"node\" transform=\"translate(299,38)\"><title>Student</title><line x1=\"0\" x2=\"0\" y1=\"0\" y2=\"38\" style=\"display: inline; stroke: rgb(0, 0, 0);\"/><rect class=\"node-body\" width=\"1\" height=\"38\" style=\"fill: none;\"/><text class=\"node-value\" dy=\".35em\" text-anchor=\"middle\" transform=\"translate(0.5,19) rotate(-90)\" style=\"display: none;\"/><text class=\"node-title\" dy=\".35em\" text-anchor=\"start\" transform=\"translate(5,19)\" style=\"display: inline;\">Student</text><rect class=\"node-click-target\" x=\"-5\" y=\"-5\" width=\"10\" height=\"43\" style=\"fill: none; visibility: hidden; pointer-events: all;\"/></g><g class=\"node\" transform=\"translate(299,104.5)\"><title>Trainee</title><line x1=\"0\" x2=\"0\" y1=\"0\" y2=\"38\" style=\"display: inline; stroke: rgb(0, 0, 0);\"/><rect class=\"node-body\" width=\"1\" height=\"38\" style=\"fill: none;\"/><text class=\"node-value\" dy=\".35em\" text-anchor=\"middle\" transform=\"translate(0.5,19) rotate(-90)\" style=\"display: none;\"/><text class=\"node-title\" dy=\".35em\" text-anchor=\"start\" transform=\"translate(5,19)\" style=\"display: inline;\">Trainee</text><rect class=\"node-click-target\" x=\"-5\" y=\"-5\" width=\"10\" height=\"43\" style=\"fill: none; visibility: hidden; pointer-events: all;\"/></g><g class=\"node\" transform=\"translate(299,171)\"><title>Administrator</title><line x1=\"0\" x2=\"0\" y1=\"0\" y2=\"38\" style=\"display: inline; stroke: rgb(0, 0, 0);\"/><rect class=\"node-body\" width=\"1\" height=\"38\" style=\"fill: none;\"/><text class=\"node-value\" dy=\".35em\" text-anchor=\"middle\" transform=\"translate(0.5,19) rotate(-90)\" style=\"display: none;\"/><text class=\"node-title\" dy=\".35em\" text-anchor=\"start\" transform=\"translate(5,19)\" style=\"display: inline;\">Administrator</text><rect class=\"node-click-target\" x=\"-5\" y=\"-5\" width=\"10\" height=\"43\" style=\"fill: none; visibility: hidden; pointer-events: all;\"/></g><g class=\"node\" transform=\"translate(299,237.5)\"><title>Manager</title><line x1=\"0\" x2=\"0\" y1=\"0\" y2=\"38\" style=\"display: inline; stroke: rgb(0, 0, 0);\"/><rect class=\"node-body\" width=\"1\" height=\"38\" style=\"fill: none;\"/><text class=\"node-value\" dy=\".35em\" text-anchor=\"middle\" transform=\"translate(0.5,19) rotate(-90)\" style=\"display: none;\"/><text class=\"node-title\" dy=\".35em\" text-anchor=\"start\" transform=\"translate(5,19)\" style=\"display: inline;\">Manager</text><rect class=\"node-click-target\" x=\"-5\" y=\"-5\" width=\"10\" height=\"43\" style=\"fill: none; visibility: hidden; pointer-events: all;\"/></g><g class=\"node\" transform=\"translate(299,304)\"><title>Pensioner</title><line x1=\"0\" x2=\"0\" y1=\"0\" y2=\"38\" style=\"display: inline; stroke: rgb(0, 0, 0);\"/><rect class=\"node-body\" width=\"1\" height=\"38\" style=\"fill: none;\"/><text class=\"node-value\" dy=\".35em\" text-anchor=\"middle\" transform=\"translate(0.5,19) rotate(-90)\" style=\"display: none;\"/><text class=\"node-title\" dy=\".35em\" text-anchor=\"start\" transform=\"translate(5,19)\" style=\"display: inline;\">Pensioner</text><rect class=\"node-click-target\" x=\"-5\" y=\"-5\" width=\"10\" height=\"43\" style=\"fill: none; visibility: hidden; pointer-events: all;\"/></g></g><g class=\"slice-titles\"/></g></svg>"
          }
        },
        "3552905a58de4d37a8809b229bf5ce68": {
          "model_module": "@jupyter-widgets/base",
          "model_name": "LayoutModel",
          "model_module_version": "1.2.0",
          "state": {
            "_model_module": "@jupyter-widgets/base",
            "_model_module_version": "1.2.0",
            "_model_name": "LayoutModel",
            "_view_count": null,
            "_view_module": "@jupyter-widgets/base",
            "_view_module_version": "1.2.0",
            "_view_name": "LayoutView",
            "align_content": null,
            "align_items": null,
            "align_self": null,
            "border": null,
            "bottom": null,
            "display": null,
            "flex": null,
            "flex_flow": null,
            "grid_area": null,
            "grid_auto_columns": null,
            "grid_auto_flow": null,
            "grid_auto_rows": null,
            "grid_column": null,
            "grid_gap": null,
            "grid_row": null,
            "grid_template_areas": null,
            "grid_template_columns": null,
            "grid_template_rows": null,
            "height": "400",
            "justify_content": null,
            "justify_items": null,
            "left": null,
            "margin": null,
            "max_height": null,
            "max_width": null,
            "min_height": null,
            "min_width": null,
            "object_fit": null,
            "object_position": null,
            "order": null,
            "overflow": null,
            "overflow_x": null,
            "overflow_y": null,
            "padding": null,
            "right": null,
            "top": null,
            "visibility": null,
            "width": "500"
          }
        }
      }
    }
  },
  "cells": [
    {
      "cell_type": "markdown",
      "metadata": {
        "id": "view-in-github",
        "colab_type": "text"
      },
      "source": [
        "<a href=\"https://colab.research.google.com/github/luke-scot/ISO-3166-Countries-with-Regional-Codes/blob/master/floweaver_tutorials.ipynb\" target=\"_parent\"><img src=\"https://colab.research.google.com/assets/colab-badge.svg\" alt=\"Open In Colab\"/></a>"
      ]
    },
    {
      "cell_type": "markdown",
      "source": [
        "# Floweaver tutorials\n",
        "This notebook goes through additional useful methods for plotting Sankeys in Floweaver and is split into 3 parts:\n",
        "\n",
        "- Part 1 - Dimension tables\n",
        "- Part 2 - System boundaries\n",
        "- Part 3 - Colour intensity scales\n",
        "\n",
        "Run the following two cells to setup the notebook.\n"
      ],
      "metadata": {
        "id": "tVwUQRwRj8KU"
      }
    },
    {
      "cell_type": "code",
      "source": [
        "# @markdown Fetch data files\n",
        "%%capture\n",
        "\"\"\"Data download and package import\"\"\"\n",
        "# Install floweaver and display widget packages\n",
        "%pip install floweaver ipysankeywidget\n",
        "\n",
        "# Import packages\n",
        "import gdown, os\n",
        "from google.colab import files\n",
        "import pandas as pd\n",
        "import numpy as np\n",
        "from floweaver import *\n",
        "\n",
        "# Function to download and unzip the examples file from Google Drive\n",
        "def download_and_unzip_from_google_drive(file_id = '1qriY29v7eKJIs07UxAw5RlJirfwuLnyP', destination_folder = 'example_data'):\n",
        "    if os.path.exists(destination_folder):\n",
        "      print('zip file already downloaded. If you want to reload then please delete the example_data folder.')\n",
        "      return\n",
        "\n",
        "    else:\n",
        "      download_url = f\"https://drive.google.com/uc?id={file_id}\"\n",
        "      !wget -O temp.zip $download_url\n",
        "\n",
        "      os.makedirs(destination_folder)\n",
        "      !unzip temp.zip -d $destination_folder\n",
        "\n",
        "      os.remove(\"temp.zip\")\n",
        "\n",
        "download_and_unzip_from_google_drive()\n",
        "\n",
        "# Set the default size of Sankeys fit the documentation better.\n",
        "size = dict(width=570, height=300)"
      ],
      "metadata": {
        "id": "TFBX_TBkk4Rc",
        "cellView": "form"
      },
      "execution_count": 3,
      "outputs": []
    },
    {
      "cell_type": "code",
      "source": [
        "\"\"\"Display setup\"\"\"\n",
        "# Enable widget display for Sankeys in Colab\n",
        "from google.colab import output\n",
        "output.enable_custom_widget_manager()"
      ],
      "metadata": {
        "id": "CmG1DYYVl8P0"
      },
      "execution_count": 6,
      "outputs": []
    },
    {
      "cell_type": "markdown",
      "source": [
        "## Part 1 - Dimension tables: efficiently adding details of processes and flows\n",
        "\n",
        "In Floweaver basics we saw how to draw some simple Sankey diagrams and partition them in different ways, such as this:\n",
        "\n",
        "![](https://github.com/Resource-Efficiency-Collective/coding-tutorials/blob/main/quickstart_example1.png?raw=1)\n",
        "\n",
        "But to do the grouping on the right-hand side we had to explicitly list which people were \"Men\" and which were \"Women\", using a partition like this:\n",
        "\n",
        "```python\n",
        "customers_by_gender = Partition.Simple('process', [\n",
        "    ('Men', ['Fred', 'James']),\n",
        "    ('Women', ['Susan', 'Mary']),\n",
        "])\n",
        "```\n",
        "\n",
        "We can show this type of information more efficiently -- and with less code -- by using *dimension tables*."
      ],
      "metadata": {
        "id": "ie1i8jzokcuS"
      }
    },
    {
      "cell_type": "markdown",
      "source": [
        "### Defintions\n",
        "\n",
        "The table we've seen before is a **flow fact table** -- it lists basic information about each flow:\n",
        "\n",
        "- *source*: where the flow comes from\n",
        "- *target*: where the flow goes to\n",
        "- *type* or *material*: what is flowing\n",
        "- *value*: the size (in tonnes, GJ, £ etc) of the flow\n",
        "\n",
        "An example of this type of table is shown at the top right of this diagram:\n",
        "\n",
        "![](https://github.com/Resource-Efficiency-Collective/coding-tutorials/blob/main/dimension_tables.png?raw=1)\n",
        "\n",
        "The **dimension tables** add extra information about the source/target and type of the flows (the diagram above also shows extra information about the time period the flow relates to, but we're not worrying about time in this tutorial). For example, \"farm2\" has a *location* attribute set to \"Cambridge\".\n",
        "\n",
        "This tutorial will show how to use dimension tables in floweaver."
      ],
      "metadata": {
        "id": "u23ktK3ipxaK"
      }
    },
    {
      "cell_type": "code",
      "source": [
        "# Load the same basic data used in the basics\n",
        "flows = pd.read_csv('example_data/simple_fruit_sales.csv')\n",
        "display(flows)"
      ],
      "metadata": {
        "id": "qbe-qJ3vkfzs",
        "outputId": "68f960b5-956f-406e-f062-91005b265701",
        "colab": {
          "base_uri": "https://localhost:8080/",
          "height": 332
        }
      },
      "execution_count": 7,
      "outputs": [
        {
          "output_type": "display_data",
          "data": {
            "text/plain": [
              "  source target     type  value\n",
              "0  farm1   Mary   apples      5\n",
              "1  farm1  James   apples      3\n",
              "2  farm2   Fred   apples     10\n",
              "3  farm2   Fred  bananas     10\n",
              "4  farm2  Susan  bananas      5\n",
              "5  farm3  Susan   apples     10\n",
              "6  farm4  Susan  bananas      1\n",
              "7  farm5  Susan  bananas      1\n",
              "8  farm6  Susan  bananas      1"
            ],
            "text/html": [
              "\n",
              "  <div id=\"df-2608971b-4daa-42de-b0e1-dacbd120387d\" class=\"colab-df-container\">\n",
              "    <div>\n",
              "<style scoped>\n",
              "    .dataframe tbody tr th:only-of-type {\n",
              "        vertical-align: middle;\n",
              "    }\n",
              "\n",
              "    .dataframe tbody tr th {\n",
              "        vertical-align: top;\n",
              "    }\n",
              "\n",
              "    .dataframe thead th {\n",
              "        text-align: right;\n",
              "    }\n",
              "</style>\n",
              "<table border=\"1\" class=\"dataframe\">\n",
              "  <thead>\n",
              "    <tr style=\"text-align: right;\">\n",
              "      <th></th>\n",
              "      <th>source</th>\n",
              "      <th>target</th>\n",
              "      <th>type</th>\n",
              "      <th>value</th>\n",
              "    </tr>\n",
              "  </thead>\n",
              "  <tbody>\n",
              "    <tr>\n",
              "      <th>0</th>\n",
              "      <td>farm1</td>\n",
              "      <td>Mary</td>\n",
              "      <td>apples</td>\n",
              "      <td>5</td>\n",
              "    </tr>\n",
              "    <tr>\n",
              "      <th>1</th>\n",
              "      <td>farm1</td>\n",
              "      <td>James</td>\n",
              "      <td>apples</td>\n",
              "      <td>3</td>\n",
              "    </tr>\n",
              "    <tr>\n",
              "      <th>2</th>\n",
              "      <td>farm2</td>\n",
              "      <td>Fred</td>\n",
              "      <td>apples</td>\n",
              "      <td>10</td>\n",
              "    </tr>\n",
              "    <tr>\n",
              "      <th>3</th>\n",
              "      <td>farm2</td>\n",
              "      <td>Fred</td>\n",
              "      <td>bananas</td>\n",
              "      <td>10</td>\n",
              "    </tr>\n",
              "    <tr>\n",
              "      <th>4</th>\n",
              "      <td>farm2</td>\n",
              "      <td>Susan</td>\n",
              "      <td>bananas</td>\n",
              "      <td>5</td>\n",
              "    </tr>\n",
              "    <tr>\n",
              "      <th>5</th>\n",
              "      <td>farm3</td>\n",
              "      <td>Susan</td>\n",
              "      <td>apples</td>\n",
              "      <td>10</td>\n",
              "    </tr>\n",
              "    <tr>\n",
              "      <th>6</th>\n",
              "      <td>farm4</td>\n",
              "      <td>Susan</td>\n",
              "      <td>bananas</td>\n",
              "      <td>1</td>\n",
              "    </tr>\n",
              "    <tr>\n",
              "      <th>7</th>\n",
              "      <td>farm5</td>\n",
              "      <td>Susan</td>\n",
              "      <td>bananas</td>\n",
              "      <td>1</td>\n",
              "    </tr>\n",
              "    <tr>\n",
              "      <th>8</th>\n",
              "      <td>farm6</td>\n",
              "      <td>Susan</td>\n",
              "      <td>bananas</td>\n",
              "      <td>1</td>\n",
              "    </tr>\n",
              "  </tbody>\n",
              "</table>\n",
              "</div>\n",
              "    <div class=\"colab-df-buttons\">\n",
              "\n",
              "  <div class=\"colab-df-container\">\n",
              "    <button class=\"colab-df-convert\" onclick=\"convertToInteractive('df-2608971b-4daa-42de-b0e1-dacbd120387d')\"\n",
              "            title=\"Convert this dataframe to an interactive table.\"\n",
              "            style=\"display:none;\">\n",
              "\n",
              "  <svg xmlns=\"http://www.w3.org/2000/svg\" height=\"24px\" viewBox=\"0 -960 960 960\">\n",
              "    <path d=\"M120-120v-720h720v720H120Zm60-500h600v-160H180v160Zm220 220h160v-160H400v160Zm0 220h160v-160H400v160ZM180-400h160v-160H180v160Zm440 0h160v-160H620v160ZM180-180h160v-160H180v160Zm440 0h160v-160H620v160Z\"/>\n",
              "  </svg>\n",
              "    </button>\n",
              "\n",
              "  <style>\n",
              "    .colab-df-container {\n",
              "      display:flex;\n",
              "      gap: 12px;\n",
              "    }\n",
              "\n",
              "    .colab-df-convert {\n",
              "      background-color: #E8F0FE;\n",
              "      border: none;\n",
              "      border-radius: 50%;\n",
              "      cursor: pointer;\n",
              "      display: none;\n",
              "      fill: #1967D2;\n",
              "      height: 32px;\n",
              "      padding: 0 0 0 0;\n",
              "      width: 32px;\n",
              "    }\n",
              "\n",
              "    .colab-df-convert:hover {\n",
              "      background-color: #E2EBFA;\n",
              "      box-shadow: 0px 1px 2px rgba(60, 64, 67, 0.3), 0px 1px 3px 1px rgba(60, 64, 67, 0.15);\n",
              "      fill: #174EA6;\n",
              "    }\n",
              "\n",
              "    .colab-df-buttons div {\n",
              "      margin-bottom: 4px;\n",
              "    }\n",
              "\n",
              "    [theme=dark] .colab-df-convert {\n",
              "      background-color: #3B4455;\n",
              "      fill: #D2E3FC;\n",
              "    }\n",
              "\n",
              "    [theme=dark] .colab-df-convert:hover {\n",
              "      background-color: #434B5C;\n",
              "      box-shadow: 0px 1px 3px 1px rgba(0, 0, 0, 0.15);\n",
              "      filter: drop-shadow(0px 1px 2px rgba(0, 0, 0, 0.3));\n",
              "      fill: #FFFFFF;\n",
              "    }\n",
              "  </style>\n",
              "\n",
              "    <script>\n",
              "      const buttonEl =\n",
              "        document.querySelector('#df-2608971b-4daa-42de-b0e1-dacbd120387d button.colab-df-convert');\n",
              "      buttonEl.style.display =\n",
              "        google.colab.kernel.accessAllowed ? 'block' : 'none';\n",
              "\n",
              "      async function convertToInteractive(key) {\n",
              "        const element = document.querySelector('#df-2608971b-4daa-42de-b0e1-dacbd120387d');\n",
              "        const dataTable =\n",
              "          await google.colab.kernel.invokeFunction('convertToInteractive',\n",
              "                                                    [key], {});\n",
              "        if (!dataTable) return;\n",
              "\n",
              "        const docLinkHtml = 'Like what you see? Visit the ' +\n",
              "          '<a target=\"_blank\" href=https://colab.research.google.com/notebooks/data_table.ipynb>data table notebook</a>'\n",
              "          + ' to learn more about interactive tables.';\n",
              "        element.innerHTML = '';\n",
              "        dataTable['output_type'] = 'display_data';\n",
              "        await google.colab.output.renderOutput(dataTable, element);\n",
              "        const docLink = document.createElement('div');\n",
              "        docLink.innerHTML = docLinkHtml;\n",
              "        element.appendChild(docLink);\n",
              "      }\n",
              "    </script>\n",
              "  </div>\n",
              "\n",
              "\n",
              "<div id=\"df-ad2f3191-277c-49d6-9933-0e471d34794e\">\n",
              "  <button class=\"colab-df-quickchart\" onclick=\"quickchart('df-ad2f3191-277c-49d6-9933-0e471d34794e')\"\n",
              "            title=\"Suggest charts\"\n",
              "            style=\"display:none;\">\n",
              "\n",
              "<svg xmlns=\"http://www.w3.org/2000/svg\" height=\"24px\"viewBox=\"0 0 24 24\"\n",
              "     width=\"24px\">\n",
              "    <g>\n",
              "        <path d=\"M19 3H5c-1.1 0-2 .9-2 2v14c0 1.1.9 2 2 2h14c1.1 0 2-.9 2-2V5c0-1.1-.9-2-2-2zM9 17H7v-7h2v7zm4 0h-2V7h2v10zm4 0h-2v-4h2v4z\"/>\n",
              "    </g>\n",
              "</svg>\n",
              "  </button>\n",
              "\n",
              "<style>\n",
              "  .colab-df-quickchart {\n",
              "      --bg-color: #E8F0FE;\n",
              "      --fill-color: #1967D2;\n",
              "      --hover-bg-color: #E2EBFA;\n",
              "      --hover-fill-color: #174EA6;\n",
              "      --disabled-fill-color: #AAA;\n",
              "      --disabled-bg-color: #DDD;\n",
              "  }\n",
              "\n",
              "  [theme=dark] .colab-df-quickchart {\n",
              "      --bg-color: #3B4455;\n",
              "      --fill-color: #D2E3FC;\n",
              "      --hover-bg-color: #434B5C;\n",
              "      --hover-fill-color: #FFFFFF;\n",
              "      --disabled-bg-color: #3B4455;\n",
              "      --disabled-fill-color: #666;\n",
              "  }\n",
              "\n",
              "  .colab-df-quickchart {\n",
              "    background-color: var(--bg-color);\n",
              "    border: none;\n",
              "    border-radius: 50%;\n",
              "    cursor: pointer;\n",
              "    display: none;\n",
              "    fill: var(--fill-color);\n",
              "    height: 32px;\n",
              "    padding: 0;\n",
              "    width: 32px;\n",
              "  }\n",
              "\n",
              "  .colab-df-quickchart:hover {\n",
              "    background-color: var(--hover-bg-color);\n",
              "    box-shadow: 0 1px 2px rgba(60, 64, 67, 0.3), 0 1px 3px 1px rgba(60, 64, 67, 0.15);\n",
              "    fill: var(--button-hover-fill-color);\n",
              "  }\n",
              "\n",
              "  .colab-df-quickchart-complete:disabled,\n",
              "  .colab-df-quickchart-complete:disabled:hover {\n",
              "    background-color: var(--disabled-bg-color);\n",
              "    fill: var(--disabled-fill-color);\n",
              "    box-shadow: none;\n",
              "  }\n",
              "\n",
              "  .colab-df-spinner {\n",
              "    border: 2px solid var(--fill-color);\n",
              "    border-color: transparent;\n",
              "    border-bottom-color: var(--fill-color);\n",
              "    animation:\n",
              "      spin 1s steps(1) infinite;\n",
              "  }\n",
              "\n",
              "  @keyframes spin {\n",
              "    0% {\n",
              "      border-color: transparent;\n",
              "      border-bottom-color: var(--fill-color);\n",
              "      border-left-color: var(--fill-color);\n",
              "    }\n",
              "    20% {\n",
              "      border-color: transparent;\n",
              "      border-left-color: var(--fill-color);\n",
              "      border-top-color: var(--fill-color);\n",
              "    }\n",
              "    30% {\n",
              "      border-color: transparent;\n",
              "      border-left-color: var(--fill-color);\n",
              "      border-top-color: var(--fill-color);\n",
              "      border-right-color: var(--fill-color);\n",
              "    }\n",
              "    40% {\n",
              "      border-color: transparent;\n",
              "      border-right-color: var(--fill-color);\n",
              "      border-top-color: var(--fill-color);\n",
              "    }\n",
              "    60% {\n",
              "      border-color: transparent;\n",
              "      border-right-color: var(--fill-color);\n",
              "    }\n",
              "    80% {\n",
              "      border-color: transparent;\n",
              "      border-right-color: var(--fill-color);\n",
              "      border-bottom-color: var(--fill-color);\n",
              "    }\n",
              "    90% {\n",
              "      border-color: transparent;\n",
              "      border-bottom-color: var(--fill-color);\n",
              "    }\n",
              "  }\n",
              "</style>\n",
              "\n",
              "  <script>\n",
              "    async function quickchart(key) {\n",
              "      const quickchartButtonEl =\n",
              "        document.querySelector('#' + key + ' button');\n",
              "      quickchartButtonEl.disabled = true;  // To prevent multiple clicks.\n",
              "      quickchartButtonEl.classList.add('colab-df-spinner');\n",
              "      try {\n",
              "        const charts = await google.colab.kernel.invokeFunction(\n",
              "            'suggestCharts', [key], {});\n",
              "      } catch (error) {\n",
              "        console.error('Error during call to suggestCharts:', error);\n",
              "      }\n",
              "      quickchartButtonEl.classList.remove('colab-df-spinner');\n",
              "      quickchartButtonEl.classList.add('colab-df-quickchart-complete');\n",
              "    }\n",
              "    (() => {\n",
              "      let quickchartButtonEl =\n",
              "        document.querySelector('#df-ad2f3191-277c-49d6-9933-0e471d34794e button');\n",
              "      quickchartButtonEl.style.display =\n",
              "        google.colab.kernel.accessAllowed ? 'block' : 'none';\n",
              "    })();\n",
              "  </script>\n",
              "</div>\n",
              "    </div>\n",
              "  </div>\n"
            ]
          },
          "metadata": {}
        }
      ]
    },
    {
      "cell_type": "code",
      "source": [
        "# Load another table giving extra information about the\n",
        "# farms and customers. `index_col` says the first column\n",
        "# can be used to lookup rows.\n",
        "processes = pd.read_csv('example_data/simple_fruit_sales_processes.csv', index_col=0)\n",
        "display(processes)"
      ],
      "metadata": {
        "id": "YiMVSC-dlajD",
        "outputId": "6fee3317-2ad2-4b4b-d604-fa5eae6fc5b7",
        "colab": {
          "base_uri": "https://localhost:8080/",
          "height": 394
        }
      },
      "execution_count": 8,
      "outputs": [
        {
          "output_type": "display_data",
          "data": {
            "text/plain": [
              "           type   location organic    sex\n",
              "id                                       \n",
              "farm1      farm     Barton     yes    NaN\n",
              "farm2      farm     Barton     yes    NaN\n",
              "farm3      farm        Ely      no    NaN\n",
              "farm4      farm        Ely     yes    NaN\n",
              "farm5      farm    Duxford      no    NaN\n",
              "farm6      farm     Milton     yes    NaN\n",
              "Mary   customer  Cambridge     NaN  Women\n",
              "James  customer     Milton     NaN    Men\n",
              "Fred   customer  Cambridge     NaN  Women\n",
              "Susan  customer  Cambridge     NaN    Men"
            ],
            "text/html": [
              "\n",
              "  <div id=\"df-8129b0d8-3539-4215-ab64-b79e13b61cd7\" class=\"colab-df-container\">\n",
              "    <div>\n",
              "<style scoped>\n",
              "    .dataframe tbody tr th:only-of-type {\n",
              "        vertical-align: middle;\n",
              "    }\n",
              "\n",
              "    .dataframe tbody tr th {\n",
              "        vertical-align: top;\n",
              "    }\n",
              "\n",
              "    .dataframe thead th {\n",
              "        text-align: right;\n",
              "    }\n",
              "</style>\n",
              "<table border=\"1\" class=\"dataframe\">\n",
              "  <thead>\n",
              "    <tr style=\"text-align: right;\">\n",
              "      <th></th>\n",
              "      <th>type</th>\n",
              "      <th>location</th>\n",
              "      <th>organic</th>\n",
              "      <th>sex</th>\n",
              "    </tr>\n",
              "    <tr>\n",
              "      <th>id</th>\n",
              "      <th></th>\n",
              "      <th></th>\n",
              "      <th></th>\n",
              "      <th></th>\n",
              "    </tr>\n",
              "  </thead>\n",
              "  <tbody>\n",
              "    <tr>\n",
              "      <th>farm1</th>\n",
              "      <td>farm</td>\n",
              "      <td>Barton</td>\n",
              "      <td>yes</td>\n",
              "      <td>NaN</td>\n",
              "    </tr>\n",
              "    <tr>\n",
              "      <th>farm2</th>\n",
              "      <td>farm</td>\n",
              "      <td>Barton</td>\n",
              "      <td>yes</td>\n",
              "      <td>NaN</td>\n",
              "    </tr>\n",
              "    <tr>\n",
              "      <th>farm3</th>\n",
              "      <td>farm</td>\n",
              "      <td>Ely</td>\n",
              "      <td>no</td>\n",
              "      <td>NaN</td>\n",
              "    </tr>\n",
              "    <tr>\n",
              "      <th>farm4</th>\n",
              "      <td>farm</td>\n",
              "      <td>Ely</td>\n",
              "      <td>yes</td>\n",
              "      <td>NaN</td>\n",
              "    </tr>\n",
              "    <tr>\n",
              "      <th>farm5</th>\n",
              "      <td>farm</td>\n",
              "      <td>Duxford</td>\n",
              "      <td>no</td>\n",
              "      <td>NaN</td>\n",
              "    </tr>\n",
              "    <tr>\n",
              "      <th>farm6</th>\n",
              "      <td>farm</td>\n",
              "      <td>Milton</td>\n",
              "      <td>yes</td>\n",
              "      <td>NaN</td>\n",
              "    </tr>\n",
              "    <tr>\n",
              "      <th>Mary</th>\n",
              "      <td>customer</td>\n",
              "      <td>Cambridge</td>\n",
              "      <td>NaN</td>\n",
              "      <td>Women</td>\n",
              "    </tr>\n",
              "    <tr>\n",
              "      <th>James</th>\n",
              "      <td>customer</td>\n",
              "      <td>Milton</td>\n",
              "      <td>NaN</td>\n",
              "      <td>Men</td>\n",
              "    </tr>\n",
              "    <tr>\n",
              "      <th>Fred</th>\n",
              "      <td>customer</td>\n",
              "      <td>Cambridge</td>\n",
              "      <td>NaN</td>\n",
              "      <td>Women</td>\n",
              "    </tr>\n",
              "    <tr>\n",
              "      <th>Susan</th>\n",
              "      <td>customer</td>\n",
              "      <td>Cambridge</td>\n",
              "      <td>NaN</td>\n",
              "      <td>Men</td>\n",
              "    </tr>\n",
              "  </tbody>\n",
              "</table>\n",
              "</div>\n",
              "    <div class=\"colab-df-buttons\">\n",
              "\n",
              "  <div class=\"colab-df-container\">\n",
              "    <button class=\"colab-df-convert\" onclick=\"convertToInteractive('df-8129b0d8-3539-4215-ab64-b79e13b61cd7')\"\n",
              "            title=\"Convert this dataframe to an interactive table.\"\n",
              "            style=\"display:none;\">\n",
              "\n",
              "  <svg xmlns=\"http://www.w3.org/2000/svg\" height=\"24px\" viewBox=\"0 -960 960 960\">\n",
              "    <path d=\"M120-120v-720h720v720H120Zm60-500h600v-160H180v160Zm220 220h160v-160H400v160Zm0 220h160v-160H400v160ZM180-400h160v-160H180v160Zm440 0h160v-160H620v160ZM180-180h160v-160H180v160Zm440 0h160v-160H620v160Z\"/>\n",
              "  </svg>\n",
              "    </button>\n",
              "\n",
              "  <style>\n",
              "    .colab-df-container {\n",
              "      display:flex;\n",
              "      gap: 12px;\n",
              "    }\n",
              "\n",
              "    .colab-df-convert {\n",
              "      background-color: #E8F0FE;\n",
              "      border: none;\n",
              "      border-radius: 50%;\n",
              "      cursor: pointer;\n",
              "      display: none;\n",
              "      fill: #1967D2;\n",
              "      height: 32px;\n",
              "      padding: 0 0 0 0;\n",
              "      width: 32px;\n",
              "    }\n",
              "\n",
              "    .colab-df-convert:hover {\n",
              "      background-color: #E2EBFA;\n",
              "      box-shadow: 0px 1px 2px rgba(60, 64, 67, 0.3), 0px 1px 3px 1px rgba(60, 64, 67, 0.15);\n",
              "      fill: #174EA6;\n",
              "    }\n",
              "\n",
              "    .colab-df-buttons div {\n",
              "      margin-bottom: 4px;\n",
              "    }\n",
              "\n",
              "    [theme=dark] .colab-df-convert {\n",
              "      background-color: #3B4455;\n",
              "      fill: #D2E3FC;\n",
              "    }\n",
              "\n",
              "    [theme=dark] .colab-df-convert:hover {\n",
              "      background-color: #434B5C;\n",
              "      box-shadow: 0px 1px 3px 1px rgba(0, 0, 0, 0.15);\n",
              "      filter: drop-shadow(0px 1px 2px rgba(0, 0, 0, 0.3));\n",
              "      fill: #FFFFFF;\n",
              "    }\n",
              "  </style>\n",
              "\n",
              "    <script>\n",
              "      const buttonEl =\n",
              "        document.querySelector('#df-8129b0d8-3539-4215-ab64-b79e13b61cd7 button.colab-df-convert');\n",
              "      buttonEl.style.display =\n",
              "        google.colab.kernel.accessAllowed ? 'block' : 'none';\n",
              "\n",
              "      async function convertToInteractive(key) {\n",
              "        const element = document.querySelector('#df-8129b0d8-3539-4215-ab64-b79e13b61cd7');\n",
              "        const dataTable =\n",
              "          await google.colab.kernel.invokeFunction('convertToInteractive',\n",
              "                                                    [key], {});\n",
              "        if (!dataTable) return;\n",
              "\n",
              "        const docLinkHtml = 'Like what you see? Visit the ' +\n",
              "          '<a target=\"_blank\" href=https://colab.research.google.com/notebooks/data_table.ipynb>data table notebook</a>'\n",
              "          + ' to learn more about interactive tables.';\n",
              "        element.innerHTML = '';\n",
              "        dataTable['output_type'] = 'display_data';\n",
              "        await google.colab.output.renderOutput(dataTable, element);\n",
              "        const docLink = document.createElement('div');\n",
              "        docLink.innerHTML = docLinkHtml;\n",
              "        element.appendChild(docLink);\n",
              "      }\n",
              "    </script>\n",
              "  </div>\n",
              "\n",
              "\n",
              "<div id=\"df-c5bf27f5-d40b-4915-a6ac-337517b13dee\">\n",
              "  <button class=\"colab-df-quickchart\" onclick=\"quickchart('df-c5bf27f5-d40b-4915-a6ac-337517b13dee')\"\n",
              "            title=\"Suggest charts\"\n",
              "            style=\"display:none;\">\n",
              "\n",
              "<svg xmlns=\"http://www.w3.org/2000/svg\" height=\"24px\"viewBox=\"0 0 24 24\"\n",
              "     width=\"24px\">\n",
              "    <g>\n",
              "        <path d=\"M19 3H5c-1.1 0-2 .9-2 2v14c0 1.1.9 2 2 2h14c1.1 0 2-.9 2-2V5c0-1.1-.9-2-2-2zM9 17H7v-7h2v7zm4 0h-2V7h2v10zm4 0h-2v-4h2v4z\"/>\n",
              "    </g>\n",
              "</svg>\n",
              "  </button>\n",
              "\n",
              "<style>\n",
              "  .colab-df-quickchart {\n",
              "      --bg-color: #E8F0FE;\n",
              "      --fill-color: #1967D2;\n",
              "      --hover-bg-color: #E2EBFA;\n",
              "      --hover-fill-color: #174EA6;\n",
              "      --disabled-fill-color: #AAA;\n",
              "      --disabled-bg-color: #DDD;\n",
              "  }\n",
              "\n",
              "  [theme=dark] .colab-df-quickchart {\n",
              "      --bg-color: #3B4455;\n",
              "      --fill-color: #D2E3FC;\n",
              "      --hover-bg-color: #434B5C;\n",
              "      --hover-fill-color: #FFFFFF;\n",
              "      --disabled-bg-color: #3B4455;\n",
              "      --disabled-fill-color: #666;\n",
              "  }\n",
              "\n",
              "  .colab-df-quickchart {\n",
              "    background-color: var(--bg-color);\n",
              "    border: none;\n",
              "    border-radius: 50%;\n",
              "    cursor: pointer;\n",
              "    display: none;\n",
              "    fill: var(--fill-color);\n",
              "    height: 32px;\n",
              "    padding: 0;\n",
              "    width: 32px;\n",
              "  }\n",
              "\n",
              "  .colab-df-quickchart:hover {\n",
              "    background-color: var(--hover-bg-color);\n",
              "    box-shadow: 0 1px 2px rgba(60, 64, 67, 0.3), 0 1px 3px 1px rgba(60, 64, 67, 0.15);\n",
              "    fill: var(--button-hover-fill-color);\n",
              "  }\n",
              "\n",
              "  .colab-df-quickchart-complete:disabled,\n",
              "  .colab-df-quickchart-complete:disabled:hover {\n",
              "    background-color: var(--disabled-bg-color);\n",
              "    fill: var(--disabled-fill-color);\n",
              "    box-shadow: none;\n",
              "  }\n",
              "\n",
              "  .colab-df-spinner {\n",
              "    border: 2px solid var(--fill-color);\n",
              "    border-color: transparent;\n",
              "    border-bottom-color: var(--fill-color);\n",
              "    animation:\n",
              "      spin 1s steps(1) infinite;\n",
              "  }\n",
              "\n",
              "  @keyframes spin {\n",
              "    0% {\n",
              "      border-color: transparent;\n",
              "      border-bottom-color: var(--fill-color);\n",
              "      border-left-color: var(--fill-color);\n",
              "    }\n",
              "    20% {\n",
              "      border-color: transparent;\n",
              "      border-left-color: var(--fill-color);\n",
              "      border-top-color: var(--fill-color);\n",
              "    }\n",
              "    30% {\n",
              "      border-color: transparent;\n",
              "      border-left-color: var(--fill-color);\n",
              "      border-top-color: var(--fill-color);\n",
              "      border-right-color: var(--fill-color);\n",
              "    }\n",
              "    40% {\n",
              "      border-color: transparent;\n",
              "      border-right-color: var(--fill-color);\n",
              "      border-top-color: var(--fill-color);\n",
              "    }\n",
              "    60% {\n",
              "      border-color: transparent;\n",
              "      border-right-color: var(--fill-color);\n",
              "    }\n",
              "    80% {\n",
              "      border-color: transparent;\n",
              "      border-right-color: var(--fill-color);\n",
              "      border-bottom-color: var(--fill-color);\n",
              "    }\n",
              "    90% {\n",
              "      border-color: transparent;\n",
              "      border-bottom-color: var(--fill-color);\n",
              "    }\n",
              "  }\n",
              "</style>\n",
              "\n",
              "  <script>\n",
              "    async function quickchart(key) {\n",
              "      const quickchartButtonEl =\n",
              "        document.querySelector('#' + key + ' button');\n",
              "      quickchartButtonEl.disabled = true;  // To prevent multiple clicks.\n",
              "      quickchartButtonEl.classList.add('colab-df-spinner');\n",
              "      try {\n",
              "        const charts = await google.colab.kernel.invokeFunction(\n",
              "            'suggestCharts', [key], {});\n",
              "      } catch (error) {\n",
              "        console.error('Error during call to suggestCharts:', error);\n",
              "      }\n",
              "      quickchartButtonEl.classList.remove('colab-df-spinner');\n",
              "      quickchartButtonEl.classList.add('colab-df-quickchart-complete');\n",
              "    }\n",
              "    (() => {\n",
              "      let quickchartButtonEl =\n",
              "        document.querySelector('#df-c5bf27f5-d40b-4915-a6ac-337517b13dee button');\n",
              "      quickchartButtonEl.style.display =\n",
              "        google.colab.kernel.accessAllowed ? 'block' : 'none';\n",
              "    })();\n",
              "  </script>\n",
              "</div>\n",
              "    </div>\n",
              "  </div>\n"
            ]
          },
          "metadata": {}
        }
      ]
    },
    {
      "cell_type": "markdown",
      "source": [
        "Each `id` in this table matches a `source` or `target` in the flows table above. We can use this extra information to build the Sankey.\n",
        "\n",
        "Because we now have two tables (before we only had one so didn't have to worry) we must put them together into a Dataset:"
      ],
      "metadata": {
        "id": "QBwWBjgWmCT8"
      }
    },
    {
      "cell_type": "code",
      "source": [
        "dataset = Dataset(flows, dim_process=processes)"
      ],
      "metadata": {
        "id": "rUsbYLKRln39"
      },
      "execution_count": 9,
      "outputs": []
    },
    {
      "cell_type": "markdown",
      "source": [
        "Now we can use the `type` column in the process table to more easily pick out the relevant processes:"
      ],
      "metadata": {
        "id": "jOPp4-12mM8r"
      }
    },
    {
      "cell_type": "code",
      "source": [
        "nodes = {\n",
        "    'farms': ProcessGroup('type == \"farm\"'),\n",
        "    'customers': ProcessGroup('type == \"customer\"'),\n",
        "}"
      ],
      "metadata": {
        "id": "T04jGJejmKMS"
      },
      "execution_count": 10,
      "outputs": []
    },
    {
      "cell_type": "markdown",
      "source": [
        "Compare this to how the same thing was written in the basic tutorial:\n",
        "```python\n",
        "nodes = {\n",
        "    'farms': ProcessGroup(['farm1', 'farm2', 'farm3',\n",
        "                           'farm4', 'farm5', 'farm6']),\n",
        "    'customers': ProcessGroup(['James', 'Mary', 'Fred', 'Susan']),\n",
        "}\n",
        "```\n",
        "\n",
        "Because we already know from the process dimension table that James, Mary, Fred and Susan are \"customers\", we don't have to list them all by name in the ProcessGroup definition -- we can write the *query* `type == \"customer\"` instead.\n",
        "\n",
        "The rest of the Sankey diagram definition is the same as before:"
      ],
      "metadata": {
        "id": "tw_Cpr7cmSjT"
      }
    },
    {
      "cell_type": "code",
      "source": [
        "ordering = [\n",
        "    ['farms'],       # put \"farms\" on the left...\n",
        "    ['customers'],   # ... and \"customers\" on the right.\n",
        "]\n",
        "bundles = [\n",
        "    Bundle('farms', 'customers'),\n",
        "]\n",
        "sdd = SankeyDefinition(nodes, bundles, ordering)\n",
        "weave(sdd, dataset).to_widget(**size)"
      ],
      "metadata": {
        "id": "lQvqU0xsmO-D",
        "outputId": "646fc950-e601-4ff5-8810-b1e167987ee1",
        "colab": {
          "base_uri": "https://localhost:8080/",
          "height": 321,
          "referenced_widgets": [
            "5a659b80be1c47acb41c6ba3bb329ae1",
            "b33cb6f8b3cc47a2acc946bca6130bd2"
          ]
        }
      },
      "execution_count": 11,
      "outputs": [
        {
          "output_type": "display_data",
          "data": {
            "text/plain": [
              "SankeyWidget(layout=Layout(height='300', width='570'), links=[{'source': 'farms^*', 'target': 'customers^*', '…"
            ],
            "application/vnd.jupyter.widget-view+json": {
              "version_major": 2,
              "version_minor": 0,
              "model_id": "5a659b80be1c47acb41c6ba3bb329ae1"
            }
          },
          "metadata": {
            "application/vnd.jupyter.widget-view+json": {
              "colab": {
                "custom_widget_manager": {
                  "url": "https://ssl.gstatic.com/colaboratory-static/widgets/colab-cdn-widget-manager/b3e629b1971e1542/manager.min.js"
                }
              }
            }
          }
        }
      ]
    },
    {
      "cell_type": "markdown",
      "source": [
        "Again, we need to set the partition on the ProcessGroups to see something interesting. Here again, we can use the process dimension table to make this easier:"
      ],
      "metadata": {
        "id": "iutfoOO1mfhq"
      }
    },
    {
      "cell_type": "code",
      "source": [
        "# Create a Partition which splits based on the `sex` column\n",
        "# of the dimension table\n",
        "customers_by_gender = Partition.Simple('process.sex',\n",
        "                                       ['Men', 'Women'])\n",
        "\n",
        "nodes['customers'].partition = customers_by_gender\n",
        "weave(sdd, dataset).to_widget(**size)"
      ],
      "metadata": {
        "id": "G0dKrOEMmcvt",
        "outputId": "89227b63-22ec-41bc-9ad2-7efaafe4d8d5",
        "colab": {
          "base_uri": "https://localhost:8080/",
          "height": 321,
          "referenced_widgets": [
            "547c54c036344bdab49ee0c80840436d",
            "3dbf96f04bfa4f1e866070b7b3cc6429"
          ]
        }
      },
      "execution_count": 12,
      "outputs": [
        {
          "output_type": "display_data",
          "data": {
            "text/plain": [
              "SankeyWidget(groups=[{'id': 'customers', 'type': 'process', 'title': '', 'nodes': ['customers^Men', 'customers…"
            ],
            "application/vnd.jupyter.widget-view+json": {
              "version_major": 2,
              "version_minor": 0,
              "model_id": "547c54c036344bdab49ee0c80840436d"
            }
          },
          "metadata": {
            "application/vnd.jupyter.widget-view+json": {
              "colab": {
                "custom_widget_manager": {
                  "url": "https://ssl.gstatic.com/colaboratory-static/widgets/colab-cdn-widget-manager/b3e629b1971e1542/manager.min.js"
                }
              }
            }
          }
        }
      ]
    },
    {
      "cell_type": "markdown",
      "source": [
        "For reference, this is what we wrote before in the basic tutorial:\n",
        "```python\n",
        "customers_by_gender = Partition.Simple('process', [\n",
        "    ('Men', ['Fred', 'James']),\n",
        "    ('Women', ['Susan', 'Mary']),\n",
        "])\n",
        "```\n",
        "\n",
        "And we can use other columns of the dimension table to set other partitions:"
      ],
      "metadata": {
        "id": "9zllonzcmoFC"
      }
    },
    {
      "cell_type": "code",
      "source": [
        "farms_by_organic = Partition.Simple('process.organic', ['yes', 'no'])\n",
        "\n",
        "nodes['farms'].partition = farms_by_organic\n",
        "weave(sdd, dataset).to_widget(**size)"
      ],
      "metadata": {
        "id": "jX9jzeSHmmMi",
        "outputId": "7a6f5ecc-4e02-4c99-8c75-143afcb64843",
        "colab": {
          "base_uri": "https://localhost:8080/",
          "height": 321,
          "referenced_widgets": [
            "e74e1a440d6d4d6bb383b4fc044b112d",
            "0d46c42fcde54a78b2bd7bc77df23c40"
          ]
        }
      },
      "execution_count": 13,
      "outputs": [
        {
          "output_type": "display_data",
          "data": {
            "text/plain": [
              "SankeyWidget(groups=[{'id': 'farms', 'type': 'process', 'title': '', 'nodes': ['farms^yes', 'farms^no']}, {'id…"
            ],
            "application/vnd.jupyter.widget-view+json": {
              "version_major": 2,
              "version_minor": 0,
              "model_id": "e74e1a440d6d4d6bb383b4fc044b112d"
            }
          },
          "metadata": {
            "application/vnd.jupyter.widget-view+json": {
              "colab": {
                "custom_widget_manager": {
                  "url": "https://ssl.gstatic.com/colaboratory-static/widgets/colab-cdn-widget-manager/b3e629b1971e1542/manager.min.js"
                }
              }
            }
          }
        }
      ]
    },
    {
      "cell_type": "markdown",
      "source": [
        "Finally, a tip for doing quick exploration of the data with partitions: you can automatically get a Partition which includes all the values that actually occur in your dataset using the `dataset.partition` method:"
      ],
      "metadata": {
        "id": "k3DX4BqxnNGy"
      }
    },
    {
      "cell_type": "code",
      "source": [
        "nodes['farms'].partition = dataset.partition('source.organic')\n",
        "\n",
        "# This should be the same as before\n",
        "weave(sdd, dataset).to_widget(**size)"
      ],
      "metadata": {
        "id": "SHkfjkhdmssE",
        "outputId": "a24ff4f3-b292-4917-856c-339e65712787",
        "colab": {
          "base_uri": "https://localhost:8080/",
          "height": 321,
          "referenced_widgets": [
            "6e01f49aca5946318f89d3a2aa619a6c",
            "8aff444459f94e45bc0db481bb2cb69c"
          ]
        }
      },
      "execution_count": 14,
      "outputs": [
        {
          "output_type": "display_data",
          "data": {
            "text/plain": [
              "SankeyWidget(groups=[{'id': 'farms', 'type': 'process', 'title': '', 'nodes': ['farms^yes', 'farms^no']}, {'id…"
            ],
            "application/vnd.jupyter.widget-view+json": {
              "version_major": 2,
              "version_minor": 0,
              "model_id": "6e01f49aca5946318f89d3a2aa619a6c"
            }
          },
          "metadata": {
            "application/vnd.jupyter.widget-view+json": {
              "colab": {
                "custom_widget_manager": {
                  "url": "https://ssl.gstatic.com/colaboratory-static/widgets/colab-cdn-widget-manager/b3e629b1971e1542/manager.min.js"
                }
              }
            }
          }
        }
      ]
    },
    {
      "cell_type": "markdown",
      "source": [
        "###Summary\n",
        "The process dimension table adds extra information about each process. You can use this extra information to:\n",
        "\n",
        "Pick out the processes you want to include in a ProcessGroup (selection); and\n",
        "Split apart groups of processes based on different attributes (partitions).\n",
        "Things to try:\n",
        "\n",
        "Make a diagram showing the locations of farms on the left and the locations of customers on the right"
      ],
      "metadata": {
        "id": "CzIi1ab0ndjk"
      }
    },
    {
      "cell_type": "markdown",
      "source": [
        "## Part 2 - System boundaries\n",
        "\n",
        "Often we don't want to show all of the data in one Sankey diagram: you focus on one part of the system. But we still want conservation of mass (or whatever is being shown in the diagram) to work, so we end up with flows to & from \"elsewhere\". These can also be thought of as *imports* and *exports*.\n",
        "\n",
        "Let's start by recreating the basic example:"
      ],
      "metadata": {
        "id": "slcKoIm5nnZS"
      }
    },
    {
      "cell_type": "code",
      "source": [
        "# Same partitions as the Quickstart tutorial\n",
        "farms_with_other = Partition.Simple('process', [\n",
        "    'farm1',\n",
        "    'farm2',\n",
        "    'farm3',\n",
        "    ('other', ['farm4', 'farm5', 'farm6']),\n",
        "])\n",
        "\n",
        "customers_by_name = Partition.Simple('process', [\n",
        "    'James', 'Mary', 'Fred', 'Susan'\n",
        "])\n",
        "\n",
        "# Define the nodes, this time setting the partition from the start\n",
        "nodes = {\n",
        "    'farms': ProcessGroup(['farm1', 'farm2', 'farm3',\n",
        "                           'farm4', 'farm5', 'farm6'],\n",
        "                          partition=farms_with_other),\n",
        "    'customers': ProcessGroup(['James', 'Mary', 'Fred', 'Susan'],\n",
        "                              partition=customers_by_name),\n",
        "}\n",
        "\n",
        "# Ordering and bundles as before\n",
        "ordering = [\n",
        "    ['farms'],       # put \"farms\" on the left...\n",
        "    ['customers'],   # ... and \"customers\" on the right.\n",
        "]\n",
        "\n",
        "bundles = [\n",
        "    Bundle('farms', 'customers'),\n",
        "]"
      ],
      "metadata": {
        "id": "meFdf7ZooMhC"
      },
      "execution_count": 15,
      "outputs": []
    },
    {
      "cell_type": "code",
      "source": [
        "sdd = SankeyDefinition(nodes, bundles, ordering)\n",
        "weave(sdd, flows).to_widget(**size)"
      ],
      "metadata": {
        "id": "8K1h0zBMnsRR",
        "outputId": "3cb3704e-616e-46a3-9ba2-35af926f883c",
        "colab": {
          "base_uri": "https://localhost:8080/",
          "height": 321,
          "referenced_widgets": [
            "3c66ac78c699458ea27142016cf11177",
            "f2c30541f0af44d0919422931a497622"
          ]
        }
      },
      "execution_count": 16,
      "outputs": [
        {
          "output_type": "display_data",
          "data": {
            "text/plain": [
              "SankeyWidget(groups=[{'id': 'farms', 'type': 'process', 'title': '', 'nodes': ['farms^farm1', 'farms^farm2', '…"
            ],
            "application/vnd.jupyter.widget-view+json": {
              "version_major": 2,
              "version_minor": 0,
              "model_id": "3c66ac78c699458ea27142016cf11177"
            }
          },
          "metadata": {
            "application/vnd.jupyter.widget-view+json": {
              "colab": {
                "custom_widget_manager": {
                  "url": "https://ssl.gstatic.com/colaboratory-static/widgets/colab-cdn-widget-manager/b3e629b1971e1542/manager.min.js"
                }
              }
            }
          }
        }
      ]
    },
    {
      "cell_type": "markdown",
      "source": [
        "What happens if we remove `farm2` from the ProcessGroup?"
      ],
      "metadata": {
        "id": "Dt1eAWm-oU7Z"
      }
    },
    {
      "cell_type": "code",
      "source": [
        "nodes['farms'].selection = [\n",
        "    'farm1', 'farm3', 'farm4', 'farm5', 'farm6'\n",
        "]\n",
        "weave(sdd, flows).to_widget(**size)"
      ],
      "metadata": {
        "id": "ZRCJq2ESoGWS",
        "outputId": "57a81b58-5d4f-4950-aacc-7d4c3e728445",
        "colab": {
          "base_uri": "https://localhost:8080/",
          "height": 321,
          "referenced_widgets": [
            "6b13a68e78cb40ee96deb1b94529eb03",
            "98a0d664a8bd45c9ae6971ca865a5088"
          ]
        }
      },
      "execution_count": 17,
      "outputs": [
        {
          "output_type": "display_data",
          "data": {
            "text/plain": [
              "SankeyWidget(groups=[{'id': 'farms', 'type': 'process', 'title': '', 'nodes': ['farms^farm1', 'farms^farm3', '…"
            ],
            "application/vnd.jupyter.widget-view+json": {
              "version_major": 2,
              "version_minor": 0,
              "model_id": "6b13a68e78cb40ee96deb1b94529eb03"
            }
          },
          "metadata": {
            "application/vnd.jupyter.widget-view+json": {
              "colab": {
                "custom_widget_manager": {
                  "url": "https://ssl.gstatic.com/colaboratory-static/widgets/colab-cdn-widget-manager/b3e629b1971e1542/manager.min.js"
                }
              }
            }
          }
        }
      ]
    },
    {
      "cell_type": "markdown",
      "source": [
        "The flow is still there! But it is labelled with a little arrow to show that it is coming \"from elsewhere\". This is important because we are still showing Susan and Fred in the diagram, and they get fruit from farm2. If we didn't show those flows, Susan's and Fred's inputs and outputs would not balance.\n",
        "\n",
        "Try now removing Susan and Fred from the diagram:"
      ],
      "metadata": {
        "id": "U_09YRmxoZiB"
      }
    },
    {
      "cell_type": "code",
      "source": [
        "nodes['customers'].selection = ['James', 'Mary']\n",
        "weave(sdd, flows).to_widget(**size)"
      ],
      "metadata": {
        "id": "e26y2GptoW2D",
        "outputId": "b6818b93-e9f3-4bfe-b845-98c26200d327",
        "colab": {
          "base_uri": "https://localhost:8080/",
          "height": 321,
          "referenced_widgets": [
            "84ffc15a22a3466aab8f823af68db03b",
            "9a466b704ee449dfa0db162d28a4bb2b"
          ]
        }
      },
      "execution_count": 18,
      "outputs": [
        {
          "output_type": "display_data",
          "data": {
            "text/plain": [
              "SankeyWidget(groups=[{'id': 'farms', 'type': 'process', 'title': '', 'nodes': ['farms^farm1', 'farms^farm3', '…"
            ],
            "application/vnd.jupyter.widget-view+json": {
              "version_major": 2,
              "version_minor": 0,
              "model_id": "84ffc15a22a3466aab8f823af68db03b"
            }
          },
          "metadata": {
            "application/vnd.jupyter.widget-view+json": {
              "colab": {
                "custom_widget_manager": {
                  "url": "https://ssl.gstatic.com/colaboratory-static/widgets/colab-cdn-widget-manager/b3e629b1971e1542/manager.min.js"
                }
              }
            }
          }
        }
      ]
    },
    {
      "cell_type": "markdown",
      "source": [
        "Now they're gone, we no longer see the incoming flows from `farm2`. But we see some outgoing flows \"to elsewhere\" from `farm3` and the `other` group. This is because `farm3` is within the system boundary -- it is shown in the diagram -- so its output flow has to go somewhere."
      ],
      "metadata": {
        "id": "Pkz1J1uRofBj"
      }
    },
    {
      "cell_type": "markdown",
      "source": [
        "### Controlling Elsewhere flows\n",
        "\n",
        "These flows are added automatically to make sure that mass is conserved, but because they are automatic, we have little control over them. By explicitly adding a flow to or from Elsewhere to the diagram, we can control where they appear and what they look like.\n",
        "\n",
        "To do this, add a Waypoint for the outgoing flows to 'pass through' on their way across the system boundary:"
      ],
      "metadata": {
        "id": "O_QnsXHbohnZ"
      }
    },
    {
      "cell_type": "code",
      "source": [
        "# Define a new Waypoint\n",
        "nodes['exports'] = Waypoint(title='exports here')\n",
        "\n",
        "# Update the ordering to include the waypoint\n",
        "ordering = [\n",
        "    ['farms'],                  #     put \"farms\" on the left...\n",
        "    ['customers', 'exports'],   # ... and \"exports\" below \"customers\"\n",
        "]                               #     on the right.\n",
        "\n",
        "# Add a new bundle from \"farms\" to Elsewhere, via the waypoint\n",
        "bundles = [\n",
        "    Bundle('farms', 'customers'),\n",
        "    Bundle('farms', Elsewhere, waypoints=['exports']),\n",
        "]\n",
        "\n",
        "sdd = SankeyDefinition(nodes, bundles, ordering)\n",
        "weave(sdd, flows).to_widget(**size)"
      ],
      "metadata": {
        "id": "PUW9uPhJob6x",
        "outputId": "9ab4dfec-6e06-42cf-8444-0a5290267b30",
        "colab": {
          "base_uri": "https://localhost:8080/",
          "height": 321,
          "referenced_widgets": [
            "30c35955b0c94478a08a2cf770ab8503",
            "6208bfec1b8c4ea89006cbd13dcd2e32"
          ]
        }
      },
      "execution_count": 19,
      "outputs": [
        {
          "output_type": "display_data",
          "data": {
            "text/plain": [
              "SankeyWidget(groups=[{'id': 'farms', 'type': 'process', 'title': '', 'nodes': ['farms^farm1', 'farms^farm3', '…"
            ],
            "application/vnd.jupyter.widget-view+json": {
              "version_major": 2,
              "version_minor": 0,
              "model_id": "30c35955b0c94478a08a2cf770ab8503"
            }
          },
          "metadata": {
            "application/vnd.jupyter.widget-view+json": {
              "colab": {
                "custom_widget_manager": {
                  "url": "https://ssl.gstatic.com/colaboratory-static/widgets/colab-cdn-widget-manager/b3e629b1971e1542/manager.min.js"
                }
              }
            }
          }
        }
      ]
    },
    {
      "cell_type": "markdown",
      "source": [
        "This is pretty similar to what we had already, but now the waypoint is explicitly listed as part of the `SankeyDefinition`, we have more control over it.\n",
        "\n",
        "For example, we can put the exports above James and Mary by changing the ordering:"
      ],
      "metadata": {
        "id": "0ug6mJrGo0UD"
      }
    },
    {
      "cell_type": "code",
      "source": [
        "ordering = [\n",
        "    ['farms'],\n",
        "    ['exports', 'customers'],\n",
        "]\n",
        "sdd = SankeyDefinition(nodes, bundles, ordering)\n",
        "weave(sdd, flows).to_widget(**size)"
      ],
      "metadata": {
        "id": "JATaSw_Nol-6",
        "outputId": "6e63e60f-cf80-4424-d8a7-1cc7176c6817",
        "colab": {
          "base_uri": "https://localhost:8080/",
          "height": 321,
          "referenced_widgets": [
            "61e84848aedc4858b8dc89b7c790d4a6",
            "3a3dff9c549145a3a447afe4a3e84eb4"
          ]
        }
      },
      "execution_count": 20,
      "outputs": [
        {
          "output_type": "display_data",
          "data": {
            "text/plain": [
              "SankeyWidget(groups=[{'id': 'farms', 'type': 'process', 'title': '', 'nodes': ['farms^farm1', 'farms^farm3', '…"
            ],
            "application/vnd.jupyter.widget-view+json": {
              "version_major": 2,
              "version_minor": 0,
              "model_id": "61e84848aedc4858b8dc89b7c790d4a6"
            }
          },
          "metadata": {
            "application/vnd.jupyter.widget-view+json": {
              "colab": {
                "custom_widget_manager": {
                  "url": "https://ssl.gstatic.com/colaboratory-static/widgets/colab-cdn-widget-manager/b3e629b1971e1542/manager.min.js"
                }
              }
            }
          }
        }
      ]
    },
    {
      "cell_type": "markdown",
      "source": [
        "Or we can partition the exports Waypoint to show how much of it is apples and bananas:"
      ],
      "metadata": {
        "id": "0ac8hr-uo54S"
      }
    },
    {
      "cell_type": "code",
      "source": [
        "fruits_by_type = Partition.Simple('type', ['apples', 'bananas'])\n",
        "nodes['exports'].partition = fruits_by_type\n",
        "weave(sdd, flows).to_widget(**size)"
      ],
      "metadata": {
        "id": "YrbzwjbCo3KC",
        "outputId": "91d9b882-faf0-477b-be13-2d5d17224d13",
        "colab": {
          "base_uri": "https://localhost:8080/",
          "height": 321,
          "referenced_widgets": [
            "ad83aa8f21fd413cba7a66f88bb5eef5",
            "b2ecb7a3f9d94becb96b65c521273fa4"
          ]
        }
      },
      "execution_count": 21,
      "outputs": [
        {
          "output_type": "display_data",
          "data": {
            "text/plain": [
              "SankeyWidget(groups=[{'id': 'farms', 'type': 'process', 'title': '', 'nodes': ['farms^farm1', 'farms^farm3', '…"
            ],
            "application/vnd.jupyter.widget-view+json": {
              "version_major": 2,
              "version_minor": 0,
              "model_id": "ad83aa8f21fd413cba7a66f88bb5eef5"
            }
          },
          "metadata": {
            "application/vnd.jupyter.widget-view+json": {
              "colab": {
                "custom_widget_manager": {
                  "url": "https://ssl.gstatic.com/colaboratory-static/widgets/colab-cdn-widget-manager/b3e629b1971e1542/manager.min.js"
                }
              }
            }
          }
        }
      ]
    },
    {
      "cell_type": "markdown",
      "source": [
        "### Horizontal bands\n",
        "\n",
        "Often, import/exports and loss flows are shown in a separate horizontal \"band\" either above or below the main flows. We can do this by modifying the `ordering` a little bit.\n",
        "\n",
        "The `ordering` style we have used so far looks like this:\n",
        "\n",
        "```python\n",
        "ordering = [\n",
        "    [list of nodes in layer 1],  # left-hand side\n",
        "    [list of nodes in layer 2],\n",
        "    ...\n",
        "    [list of nodes in layer N],  # right-hand side\n",
        "]\n",
        "```\n",
        "\n",
        "But we can add another layer of nesting to make it look like this:\n",
        "\n",
        "```python\n",
        "ordering = [\n",
        "    # |top band|  |bottom band|\n",
        "    [ [........], [...........] ],  # left-hand side\n",
        "    [ [........], [...........] ],\n",
        "    ...\n",
        "    [ [........], [...........] ],  # right-hand side\n",
        "]\n",
        "```\n",
        "\n",
        "Here's an example:"
      ],
      "metadata": {
        "id": "Qe7t3Cwmo-rS"
      }
    },
    {
      "cell_type": "code",
      "source": [
        "ordering = [\n",
        "    [[],          ['farms'    ]],\n",
        "    [['exports'], ['customers']],\n",
        "]\n",
        "sdd = SankeyDefinition(nodes, bundles, ordering)\n",
        "weave(sdd, flows).to_widget(**size)"
      ],
      "metadata": {
        "id": "jx14hKV7o72b",
        "outputId": "b3bc8e92-4c48-4b26-ea82-5333d0b063ae",
        "colab": {
          "base_uri": "https://localhost:8080/",
          "height": 321,
          "referenced_widgets": [
            "399bcdab95c744afb3999818564f04d1",
            "37ec4a091c4e462a800e1442da585917"
          ]
        }
      },
      "execution_count": 22,
      "outputs": [
        {
          "output_type": "display_data",
          "data": {
            "text/plain": [
              "SankeyWidget(groups=[{'id': 'farms', 'type': 'process', 'title': '', 'nodes': ['farms^farm1', 'farms^farm3', '…"
            ],
            "application/vnd.jupyter.widget-view+json": {
              "version_major": 2,
              "version_minor": 0,
              "model_id": "399bcdab95c744afb3999818564f04d1"
            }
          },
          "metadata": {
            "application/vnd.jupyter.widget-view+json": {
              "colab": {
                "custom_widget_manager": {
                  "url": "https://ssl.gstatic.com/colaboratory-static/widgets/colab-cdn-widget-manager/b3e629b1971e1542/manager.min.js"
                }
              }
            }
          }
        }
      ]
    },
    {
      "cell_type": "markdown",
      "source": [
        "### Summary\n",
        "\n",
        "- All the flows to/from a ProcessGroup are shown, even if the other end of the flow is outside the system boundary (i.e. not part of any ProcessGroup)\n",
        "- You can control the automatic flows by explicitly adding Bundles to/from `Elsewhere` with a `Waypoint`\n",
        "- The `ordering` can contain horizontal bands"
      ],
      "metadata": {
        "id": "0vZb5nIPpE_6"
      }
    },
    {
      "cell_type": "markdown",
      "source": [
        "## Part 3 - Colour-intensity scales\n",
        "\n",
        "In this tutorial we will look at how to use colours in the Sankey diagram. We have already seen how to use a palette, but in this tutorial we will also create a Sankey where the intensity of the colour is proportional to a numerical value."
      ],
      "metadata": {
        "id": "f45s0h0-pO7S"
      }
    },
    {
      "cell_type": "code",
      "source": [
        "\"\"\"Import data\"\"\"\n",
        "df1 = pd.read_csv('example_data/holiday_data.csv')\n",
        "display(df1)"
      ],
      "metadata": {
        "id": "c4VTqlNBpSwl",
        "outputId": "f22eb93a-7d47-46ac-bd9a-48a4ca300ee0",
        "colab": {
          "base_uri": "https://localhost:8080/",
          "height": 833
        }
      },
      "execution_count": 23,
      "outputs": [
        {
          "output_type": "display_data",
          "data": {
            "text/plain": [
              "      source          target  Calories Burnt  Enjoyment Employment Job  \\\n",
              "0   Activity  Employment Job             2.5         35        Student   \n",
              "1   Activity  Employment Job             4.5         20        Student   \n",
              "2   Activity  Employment Job             8.0          5        Student   \n",
              "3   Activity  Employment Job             1.0          5        Student   \n",
              "4   Activity  Employment Job             8.0         30        Student   \n",
              "5   Activity  Employment Job             1.0         35        Trainee   \n",
              "6   Activity  Employment Job             3.0         40        Trainee   \n",
              "7   Activity  Employment Job             2.0         40        Trainee   \n",
              "8   Activity  Employment Job             6.0          5        Trainee   \n",
              "9   Activity  Employment Job            12.0         45        Trainee   \n",
              "10  Activity  Employment Job             4.5         20  Administrator   \n",
              "11  Activity  Employment Job             9.0         10  Administrator   \n",
              "12  Activity  Employment Job             7.5         50  Administrator   \n",
              "13  Activity  Employment Job             1.5         35  Administrator   \n",
              "14  Activity  Employment Job             1.5         50  Administrator   \n",
              "15  Activity  Employment Job            11.0         55        Manager   \n",
              "16  Activity  Employment Job             2.0         45        Manager   \n",
              "17  Activity  Employment Job             7.5         10        Manager   \n",
              "18  Activity  Employment Job             1.5         90        Manager   \n",
              "19  Activity  Employment Job             2.0         40        Manager   \n",
              "20  Activity  Employment Job             3.0         35      Pensioner   \n",
              "21  Activity  Employment Job             9.0         15      Pensioner   \n",
              "22  Activity  Employment Job             9.0         15      Pensioner   \n",
              "23  Activity  Employment Job             3.0         60      Pensioner   \n",
              "24  Activity  Employment Job             0.0          0      Pensioner   \n",
              "\n",
              "       Activity  \n",
              "0       Reading  \n",
              "1      Swimming  \n",
              "2      Sleeping  \n",
              "3    Travelling  \n",
              "4   Working out  \n",
              "5       Reading  \n",
              "6    Travelling  \n",
              "7      Swimming  \n",
              "8      Sleeping  \n",
              "9   Working out  \n",
              "10     Swimming  \n",
              "11     Sleeping  \n",
              "12  Working out  \n",
              "13      Reading  \n",
              "14   Travelling  \n",
              "15  Working out  \n",
              "16      Reading  \n",
              "17     Sleeping  \n",
              "18   Travelling  \n",
              "19     Swimming  \n",
              "20      Reading  \n",
              "21     Swimming  \n",
              "22     Sleeping  \n",
              "23   Travelling  \n",
              "24  Working out  "
            ],
            "text/html": [
              "\n",
              "  <div id=\"df-f4cdf20b-4ec2-4ea7-8204-4c564a54b9e4\" class=\"colab-df-container\">\n",
              "    <div>\n",
              "<style scoped>\n",
              "    .dataframe tbody tr th:only-of-type {\n",
              "        vertical-align: middle;\n",
              "    }\n",
              "\n",
              "    .dataframe tbody tr th {\n",
              "        vertical-align: top;\n",
              "    }\n",
              "\n",
              "    .dataframe thead th {\n",
              "        text-align: right;\n",
              "    }\n",
              "</style>\n",
              "<table border=\"1\" class=\"dataframe\">\n",
              "  <thead>\n",
              "    <tr style=\"text-align: right;\">\n",
              "      <th></th>\n",
              "      <th>source</th>\n",
              "      <th>target</th>\n",
              "      <th>Calories Burnt</th>\n",
              "      <th>Enjoyment</th>\n",
              "      <th>Employment Job</th>\n",
              "      <th>Activity</th>\n",
              "    </tr>\n",
              "  </thead>\n",
              "  <tbody>\n",
              "    <tr>\n",
              "      <th>0</th>\n",
              "      <td>Activity</td>\n",
              "      <td>Employment Job</td>\n",
              "      <td>2.5</td>\n",
              "      <td>35</td>\n",
              "      <td>Student</td>\n",
              "      <td>Reading</td>\n",
              "    </tr>\n",
              "    <tr>\n",
              "      <th>1</th>\n",
              "      <td>Activity</td>\n",
              "      <td>Employment Job</td>\n",
              "      <td>4.5</td>\n",
              "      <td>20</td>\n",
              "      <td>Student</td>\n",
              "      <td>Swimming</td>\n",
              "    </tr>\n",
              "    <tr>\n",
              "      <th>2</th>\n",
              "      <td>Activity</td>\n",
              "      <td>Employment Job</td>\n",
              "      <td>8.0</td>\n",
              "      <td>5</td>\n",
              "      <td>Student</td>\n",
              "      <td>Sleeping</td>\n",
              "    </tr>\n",
              "    <tr>\n",
              "      <th>3</th>\n",
              "      <td>Activity</td>\n",
              "      <td>Employment Job</td>\n",
              "      <td>1.0</td>\n",
              "      <td>5</td>\n",
              "      <td>Student</td>\n",
              "      <td>Travelling</td>\n",
              "    </tr>\n",
              "    <tr>\n",
              "      <th>4</th>\n",
              "      <td>Activity</td>\n",
              "      <td>Employment Job</td>\n",
              "      <td>8.0</td>\n",
              "      <td>30</td>\n",
              "      <td>Student</td>\n",
              "      <td>Working out</td>\n",
              "    </tr>\n",
              "    <tr>\n",
              "      <th>5</th>\n",
              "      <td>Activity</td>\n",
              "      <td>Employment Job</td>\n",
              "      <td>1.0</td>\n",
              "      <td>35</td>\n",
              "      <td>Trainee</td>\n",
              "      <td>Reading</td>\n",
              "    </tr>\n",
              "    <tr>\n",
              "      <th>6</th>\n",
              "      <td>Activity</td>\n",
              "      <td>Employment Job</td>\n",
              "      <td>3.0</td>\n",
              "      <td>40</td>\n",
              "      <td>Trainee</td>\n",
              "      <td>Travelling</td>\n",
              "    </tr>\n",
              "    <tr>\n",
              "      <th>7</th>\n",
              "      <td>Activity</td>\n",
              "      <td>Employment Job</td>\n",
              "      <td>2.0</td>\n",
              "      <td>40</td>\n",
              "      <td>Trainee</td>\n",
              "      <td>Swimming</td>\n",
              "    </tr>\n",
              "    <tr>\n",
              "      <th>8</th>\n",
              "      <td>Activity</td>\n",
              "      <td>Employment Job</td>\n",
              "      <td>6.0</td>\n",
              "      <td>5</td>\n",
              "      <td>Trainee</td>\n",
              "      <td>Sleeping</td>\n",
              "    </tr>\n",
              "    <tr>\n",
              "      <th>9</th>\n",
              "      <td>Activity</td>\n",
              "      <td>Employment Job</td>\n",
              "      <td>12.0</td>\n",
              "      <td>45</td>\n",
              "      <td>Trainee</td>\n",
              "      <td>Working out</td>\n",
              "    </tr>\n",
              "    <tr>\n",
              "      <th>10</th>\n",
              "      <td>Activity</td>\n",
              "      <td>Employment Job</td>\n",
              "      <td>4.5</td>\n",
              "      <td>20</td>\n",
              "      <td>Administrator</td>\n",
              "      <td>Swimming</td>\n",
              "    </tr>\n",
              "    <tr>\n",
              "      <th>11</th>\n",
              "      <td>Activity</td>\n",
              "      <td>Employment Job</td>\n",
              "      <td>9.0</td>\n",
              "      <td>10</td>\n",
              "      <td>Administrator</td>\n",
              "      <td>Sleeping</td>\n",
              "    </tr>\n",
              "    <tr>\n",
              "      <th>12</th>\n",
              "      <td>Activity</td>\n",
              "      <td>Employment Job</td>\n",
              "      <td>7.5</td>\n",
              "      <td>50</td>\n",
              "      <td>Administrator</td>\n",
              "      <td>Working out</td>\n",
              "    </tr>\n",
              "    <tr>\n",
              "      <th>13</th>\n",
              "      <td>Activity</td>\n",
              "      <td>Employment Job</td>\n",
              "      <td>1.5</td>\n",
              "      <td>35</td>\n",
              "      <td>Administrator</td>\n",
              "      <td>Reading</td>\n",
              "    </tr>\n",
              "    <tr>\n",
              "      <th>14</th>\n",
              "      <td>Activity</td>\n",
              "      <td>Employment Job</td>\n",
              "      <td>1.5</td>\n",
              "      <td>50</td>\n",
              "      <td>Administrator</td>\n",
              "      <td>Travelling</td>\n",
              "    </tr>\n",
              "    <tr>\n",
              "      <th>15</th>\n",
              "      <td>Activity</td>\n",
              "      <td>Employment Job</td>\n",
              "      <td>11.0</td>\n",
              "      <td>55</td>\n",
              "      <td>Manager</td>\n",
              "      <td>Working out</td>\n",
              "    </tr>\n",
              "    <tr>\n",
              "      <th>16</th>\n",
              "      <td>Activity</td>\n",
              "      <td>Employment Job</td>\n",
              "      <td>2.0</td>\n",
              "      <td>45</td>\n",
              "      <td>Manager</td>\n",
              "      <td>Reading</td>\n",
              "    </tr>\n",
              "    <tr>\n",
              "      <th>17</th>\n",
              "      <td>Activity</td>\n",
              "      <td>Employment Job</td>\n",
              "      <td>7.5</td>\n",
              "      <td>10</td>\n",
              "      <td>Manager</td>\n",
              "      <td>Sleeping</td>\n",
              "    </tr>\n",
              "    <tr>\n",
              "      <th>18</th>\n",
              "      <td>Activity</td>\n",
              "      <td>Employment Job</td>\n",
              "      <td>1.5</td>\n",
              "      <td>90</td>\n",
              "      <td>Manager</td>\n",
              "      <td>Travelling</td>\n",
              "    </tr>\n",
              "    <tr>\n",
              "      <th>19</th>\n",
              "      <td>Activity</td>\n",
              "      <td>Employment Job</td>\n",
              "      <td>2.0</td>\n",
              "      <td>40</td>\n",
              "      <td>Manager</td>\n",
              "      <td>Swimming</td>\n",
              "    </tr>\n",
              "    <tr>\n",
              "      <th>20</th>\n",
              "      <td>Activity</td>\n",
              "      <td>Employment Job</td>\n",
              "      <td>3.0</td>\n",
              "      <td>35</td>\n",
              "      <td>Pensioner</td>\n",
              "      <td>Reading</td>\n",
              "    </tr>\n",
              "    <tr>\n",
              "      <th>21</th>\n",
              "      <td>Activity</td>\n",
              "      <td>Employment Job</td>\n",
              "      <td>9.0</td>\n",
              "      <td>15</td>\n",
              "      <td>Pensioner</td>\n",
              "      <td>Swimming</td>\n",
              "    </tr>\n",
              "    <tr>\n",
              "      <th>22</th>\n",
              "      <td>Activity</td>\n",
              "      <td>Employment Job</td>\n",
              "      <td>9.0</td>\n",
              "      <td>15</td>\n",
              "      <td>Pensioner</td>\n",
              "      <td>Sleeping</td>\n",
              "    </tr>\n",
              "    <tr>\n",
              "      <th>23</th>\n",
              "      <td>Activity</td>\n",
              "      <td>Employment Job</td>\n",
              "      <td>3.0</td>\n",
              "      <td>60</td>\n",
              "      <td>Pensioner</td>\n",
              "      <td>Travelling</td>\n",
              "    </tr>\n",
              "    <tr>\n",
              "      <th>24</th>\n",
              "      <td>Activity</td>\n",
              "      <td>Employment Job</td>\n",
              "      <td>0.0</td>\n",
              "      <td>0</td>\n",
              "      <td>Pensioner</td>\n",
              "      <td>Working out</td>\n",
              "    </tr>\n",
              "  </tbody>\n",
              "</table>\n",
              "</div>\n",
              "    <div class=\"colab-df-buttons\">\n",
              "\n",
              "  <div class=\"colab-df-container\">\n",
              "    <button class=\"colab-df-convert\" onclick=\"convertToInteractive('df-f4cdf20b-4ec2-4ea7-8204-4c564a54b9e4')\"\n",
              "            title=\"Convert this dataframe to an interactive table.\"\n",
              "            style=\"display:none;\">\n",
              "\n",
              "  <svg xmlns=\"http://www.w3.org/2000/svg\" height=\"24px\" viewBox=\"0 -960 960 960\">\n",
              "    <path d=\"M120-120v-720h720v720H120Zm60-500h600v-160H180v160Zm220 220h160v-160H400v160Zm0 220h160v-160H400v160ZM180-400h160v-160H180v160Zm440 0h160v-160H620v160ZM180-180h160v-160H180v160Zm440 0h160v-160H620v160Z\"/>\n",
              "  </svg>\n",
              "    </button>\n",
              "\n",
              "  <style>\n",
              "    .colab-df-container {\n",
              "      display:flex;\n",
              "      gap: 12px;\n",
              "    }\n",
              "\n",
              "    .colab-df-convert {\n",
              "      background-color: #E8F0FE;\n",
              "      border: none;\n",
              "      border-radius: 50%;\n",
              "      cursor: pointer;\n",
              "      display: none;\n",
              "      fill: #1967D2;\n",
              "      height: 32px;\n",
              "      padding: 0 0 0 0;\n",
              "      width: 32px;\n",
              "    }\n",
              "\n",
              "    .colab-df-convert:hover {\n",
              "      background-color: #E2EBFA;\n",
              "      box-shadow: 0px 1px 2px rgba(60, 64, 67, 0.3), 0px 1px 3px 1px rgba(60, 64, 67, 0.15);\n",
              "      fill: #174EA6;\n",
              "    }\n",
              "\n",
              "    .colab-df-buttons div {\n",
              "      margin-bottom: 4px;\n",
              "    }\n",
              "\n",
              "    [theme=dark] .colab-df-convert {\n",
              "      background-color: #3B4455;\n",
              "      fill: #D2E3FC;\n",
              "    }\n",
              "\n",
              "    [theme=dark] .colab-df-convert:hover {\n",
              "      background-color: #434B5C;\n",
              "      box-shadow: 0px 1px 3px 1px rgba(0, 0, 0, 0.15);\n",
              "      filter: drop-shadow(0px 1px 2px rgba(0, 0, 0, 0.3));\n",
              "      fill: #FFFFFF;\n",
              "    }\n",
              "  </style>\n",
              "\n",
              "    <script>\n",
              "      const buttonEl =\n",
              "        document.querySelector('#df-f4cdf20b-4ec2-4ea7-8204-4c564a54b9e4 button.colab-df-convert');\n",
              "      buttonEl.style.display =\n",
              "        google.colab.kernel.accessAllowed ? 'block' : 'none';\n",
              "\n",
              "      async function convertToInteractive(key) {\n",
              "        const element = document.querySelector('#df-f4cdf20b-4ec2-4ea7-8204-4c564a54b9e4');\n",
              "        const dataTable =\n",
              "          await google.colab.kernel.invokeFunction('convertToInteractive',\n",
              "                                                    [key], {});\n",
              "        if (!dataTable) return;\n",
              "\n",
              "        const docLinkHtml = 'Like what you see? Visit the ' +\n",
              "          '<a target=\"_blank\" href=https://colab.research.google.com/notebooks/data_table.ipynb>data table notebook</a>'\n",
              "          + ' to learn more about interactive tables.';\n",
              "        element.innerHTML = '';\n",
              "        dataTable['output_type'] = 'display_data';\n",
              "        await google.colab.output.renderOutput(dataTable, element);\n",
              "        const docLink = document.createElement('div');\n",
              "        docLink.innerHTML = docLinkHtml;\n",
              "        element.appendChild(docLink);\n",
              "      }\n",
              "    </script>\n",
              "  </div>\n",
              "\n",
              "\n",
              "<div id=\"df-7674d1d2-262f-415b-be1f-387c305f98e3\">\n",
              "  <button class=\"colab-df-quickchart\" onclick=\"quickchart('df-7674d1d2-262f-415b-be1f-387c305f98e3')\"\n",
              "            title=\"Suggest charts\"\n",
              "            style=\"display:none;\">\n",
              "\n",
              "<svg xmlns=\"http://www.w3.org/2000/svg\" height=\"24px\"viewBox=\"0 0 24 24\"\n",
              "     width=\"24px\">\n",
              "    <g>\n",
              "        <path d=\"M19 3H5c-1.1 0-2 .9-2 2v14c0 1.1.9 2 2 2h14c1.1 0 2-.9 2-2V5c0-1.1-.9-2-2-2zM9 17H7v-7h2v7zm4 0h-2V7h2v10zm4 0h-2v-4h2v4z\"/>\n",
              "    </g>\n",
              "</svg>\n",
              "  </button>\n",
              "\n",
              "<style>\n",
              "  .colab-df-quickchart {\n",
              "      --bg-color: #E8F0FE;\n",
              "      --fill-color: #1967D2;\n",
              "      --hover-bg-color: #E2EBFA;\n",
              "      --hover-fill-color: #174EA6;\n",
              "      --disabled-fill-color: #AAA;\n",
              "      --disabled-bg-color: #DDD;\n",
              "  }\n",
              "\n",
              "  [theme=dark] .colab-df-quickchart {\n",
              "      --bg-color: #3B4455;\n",
              "      --fill-color: #D2E3FC;\n",
              "      --hover-bg-color: #434B5C;\n",
              "      --hover-fill-color: #FFFFFF;\n",
              "      --disabled-bg-color: #3B4455;\n",
              "      --disabled-fill-color: #666;\n",
              "  }\n",
              "\n",
              "  .colab-df-quickchart {\n",
              "    background-color: var(--bg-color);\n",
              "    border: none;\n",
              "    border-radius: 50%;\n",
              "    cursor: pointer;\n",
              "    display: none;\n",
              "    fill: var(--fill-color);\n",
              "    height: 32px;\n",
              "    padding: 0;\n",
              "    width: 32px;\n",
              "  }\n",
              "\n",
              "  .colab-df-quickchart:hover {\n",
              "    background-color: var(--hover-bg-color);\n",
              "    box-shadow: 0 1px 2px rgba(60, 64, 67, 0.3), 0 1px 3px 1px rgba(60, 64, 67, 0.15);\n",
              "    fill: var(--button-hover-fill-color);\n",
              "  }\n",
              "\n",
              "  .colab-df-quickchart-complete:disabled,\n",
              "  .colab-df-quickchart-complete:disabled:hover {\n",
              "    background-color: var(--disabled-bg-color);\n",
              "    fill: var(--disabled-fill-color);\n",
              "    box-shadow: none;\n",
              "  }\n",
              "\n",
              "  .colab-df-spinner {\n",
              "    border: 2px solid var(--fill-color);\n",
              "    border-color: transparent;\n",
              "    border-bottom-color: var(--fill-color);\n",
              "    animation:\n",
              "      spin 1s steps(1) infinite;\n",
              "  }\n",
              "\n",
              "  @keyframes spin {\n",
              "    0% {\n",
              "      border-color: transparent;\n",
              "      border-bottom-color: var(--fill-color);\n",
              "      border-left-color: var(--fill-color);\n",
              "    }\n",
              "    20% {\n",
              "      border-color: transparent;\n",
              "      border-left-color: var(--fill-color);\n",
              "      border-top-color: var(--fill-color);\n",
              "    }\n",
              "    30% {\n",
              "      border-color: transparent;\n",
              "      border-left-color: var(--fill-color);\n",
              "      border-top-color: var(--fill-color);\n",
              "      border-right-color: var(--fill-color);\n",
              "    }\n",
              "    40% {\n",
              "      border-color: transparent;\n",
              "      border-right-color: var(--fill-color);\n",
              "      border-top-color: var(--fill-color);\n",
              "    }\n",
              "    60% {\n",
              "      border-color: transparent;\n",
              "      border-right-color: var(--fill-color);\n",
              "    }\n",
              "    80% {\n",
              "      border-color: transparent;\n",
              "      border-right-color: var(--fill-color);\n",
              "      border-bottom-color: var(--fill-color);\n",
              "    }\n",
              "    90% {\n",
              "      border-color: transparent;\n",
              "      border-bottom-color: var(--fill-color);\n",
              "    }\n",
              "  }\n",
              "</style>\n",
              "\n",
              "  <script>\n",
              "    async function quickchart(key) {\n",
              "      const quickchartButtonEl =\n",
              "        document.querySelector('#' + key + ' button');\n",
              "      quickchartButtonEl.disabled = true;  // To prevent multiple clicks.\n",
              "      quickchartButtonEl.classList.add('colab-df-spinner');\n",
              "      try {\n",
              "        const charts = await google.colab.kernel.invokeFunction(\n",
              "            'suggestCharts', [key], {});\n",
              "      } catch (error) {\n",
              "        console.error('Error during call to suggestCharts:', error);\n",
              "      }\n",
              "      quickchartButtonEl.classList.remove('colab-df-spinner');\n",
              "      quickchartButtonEl.classList.add('colab-df-quickchart-complete');\n",
              "    }\n",
              "    (() => {\n",
              "      let quickchartButtonEl =\n",
              "        document.querySelector('#df-7674d1d2-262f-415b-be1f-387c305f98e3 button');\n",
              "      quickchartButtonEl.style.display =\n",
              "        google.colab.kernel.accessAllowed ? 'block' : 'none';\n",
              "    })();\n",
              "  </script>\n",
              "</div>\n",
              "    </div>\n",
              "  </div>\n"
            ]
          },
          "metadata": {}
        }
      ]
    },
    {
      "cell_type": "markdown",
      "source": [
        "Now take a look at the dataset we are using. This is a very insightful [made-up] dataset about how different types of people lose weight while on holiday enjoying themselves."
      ],
      "metadata": {
        "id": "wEx0IINTp5aS"
      }
    },
    {
      "cell_type": "code",
      "source": [
        "df1['value'] = df1['Calories Burnt']\n",
        "dataset = Dataset(df1)"
      ],
      "metadata": {
        "id": "CrukosWDpaiC"
      },
      "execution_count": 24,
      "outputs": []
    },
    {
      "cell_type": "markdown",
      "source": [
        "We now define the partitions of the data. Rather than listing the categories by hand, we use `np.unique` to pick out a list of the unique values that occur in the dataset."
      ],
      "metadata": {
        "id": "frlM8aSHp9NZ"
      }
    },
    {
      "cell_type": "code",
      "source": [
        "partition_job = Partition.Simple('Employment Job', np.unique(df1['Employment Job']))\n",
        "partition_activity = Partition.Simple('Activity', np.unique(df1['Activity']))"
      ],
      "metadata": {
        "id": "V25mCkccp4xS"
      },
      "execution_count": 25,
      "outputs": []
    },
    {
      "cell_type": "markdown",
      "source": [
        "In fact, this is pretty common so there is a built-in function to do this:"
      ],
      "metadata": {
        "id": "xuIn0t_IqIIY"
      }
    },
    {
      "cell_type": "code",
      "source": [
        "# these statements or the ones above do the same thing\n",
        "partition_job = dataset.partition('Employment Job')\n",
        "partition_activity = dataset.partition('Activity')"
      ],
      "metadata": {
        "id": "H7mBvd8BqATy"
      },
      "execution_count": 26,
      "outputs": []
    },
    {
      "cell_type": "markdown",
      "source": [
        "We then go on to define the structure of our sankey. We define nodes, bundles and the order. In this case its pretty straightforward:"
      ],
      "metadata": {
        "id": "wHEnQIBIqMFp"
      }
    },
    {
      "cell_type": "code",
      "source": [
        "nodes = {\n",
        "    'Activity': ProcessGroup(['Activity'], partition_activity),\n",
        "    'Job': ProcessGroup(['Employment Job'], partition_job),\n",
        "}\n",
        "\n",
        "bundles = [\n",
        "    Bundle('Activity', 'Job'),\n",
        "]\n",
        "\n",
        "ordering = [\n",
        "    ['Activity'],\n",
        "    ['Job'],\n",
        "]"
      ],
      "metadata": {
        "id": "WFlbNV5EqKWB"
      },
      "execution_count": 27,
      "outputs": []
    },
    {
      "cell_type": "markdown",
      "source": [
        "Now we will plot a Sankey that shows the share of time dedicated to each activity by each type of person."
      ],
      "metadata": {
        "id": "BdUhheFMqQaB"
      }
    },
    {
      "cell_type": "code",
      "source": [
        "# These are the same each time, so just write them here once\n",
        "size_options = dict(width=500, height=400,\n",
        "                    margins=dict(left=100, right=100))\n",
        "\n",
        "sdd = SankeyDefinition(nodes, bundles, ordering)\n",
        "weave(sdd, dataset).to_widget(**size_options)"
      ],
      "metadata": {
        "id": "iGnYkW-sqOo6",
        "outputId": "75af6c53-c0d0-4a44-eba2-d066edd543e2",
        "colab": {
          "base_uri": "https://localhost:8080/",
          "height": 421,
          "referenced_widgets": [
            "82d00844cb17493a9ca0fdb09e48f2f2",
            "eff1955b5eeb42afb69912faa41f3a38"
          ]
        }
      },
      "execution_count": 28,
      "outputs": [
        {
          "output_type": "display_data",
          "data": {
            "text/plain": [
              "SankeyWidget(groups=[{'id': 'Activity', 'type': 'process', 'title': '', 'nodes': ['Activity^Reading', 'Activit…"
            ],
            "application/vnd.jupyter.widget-view+json": {
              "version_major": 2,
              "version_minor": 0,
              "model_id": "82d00844cb17493a9ca0fdb09e48f2f2"
            }
          },
          "metadata": {
            "application/vnd.jupyter.widget-view+json": {
              "colab": {
                "custom_widget_manager": {
                  "url": "https://ssl.gstatic.com/colaboratory-static/widgets/colab-cdn-widget-manager/b3e629b1971e1542/manager.min.js"
                }
              }
            }
          }
        }
      ]
    },
    {
      "cell_type": "markdown",
      "source": [
        "We can start using colour by specifying that we want to partition the flows according to type of person. Notice that this time we are using a pre-determined palette.\n",
        "\n",
        "You can find all sorts of palettes [listed here](https://jiffyclub.github.io/palettable/colorbrewer/qualitative/)."
      ],
      "metadata": {
        "id": "HWkau6izrdUr"
      }
    },
    {
      "cell_type": "code",
      "source": [
        "sdd = SankeyDefinition(nodes, bundles, ordering, flow_partition=partition_job)\n",
        "\n",
        "weave(sdd, dataset, palette='Set2_8').to_widget(**size_options)"
      ],
      "metadata": {
        "id": "_uXiSRq6qTpy",
        "outputId": "c51d4214-eafb-4467-effc-dc56bca3eeb2",
        "colab": {
          "base_uri": "https://localhost:8080/",
          "height": 421,
          "referenced_widgets": [
            "7dcc349396164059b95465ce699e6750",
            "c85799c1b71d4b6fbc748487ed4eeb24"
          ]
        }
      },
      "execution_count": 29,
      "outputs": [
        {
          "output_type": "display_data",
          "data": {
            "text/plain": [
              "SankeyWidget(groups=[{'id': 'Activity', 'type': 'process', 'title': '', 'nodes': ['Activity^Reading', 'Activit…"
            ],
            "application/vnd.jupyter.widget-view+json": {
              "version_major": 2,
              "version_minor": 0,
              "model_id": "7dcc349396164059b95465ce699e6750"
            }
          },
          "metadata": {
            "application/vnd.jupyter.widget-view+json": {
              "colab": {
                "custom_widget_manager": {
                  "url": "https://ssl.gstatic.com/colaboratory-static/widgets/colab-cdn-widget-manager/b3e629b1971e1542/manager.min.js"
                }
              }
            }
          }
        }
      ]
    },
    {
      "cell_type": "markdown",
      "source": [
        "Now, if we want to make the colour of the flow to be proportional to a numerical value. Use the `hue` parameter to set the name of the variable that you want to display in colour. To start off, let's use \"value\", which is the width of the lines: wider lines will be shown in a darker colour."
      ],
      "metadata": {
        "id": "07ib95fUrkda"
      }
    },
    {
      "cell_type": "code",
      "source": [
        "weave(sdd, dataset, link_color=QuantitativeScale('value')).to_widget(**size_options)"
      ],
      "metadata": {
        "id": "nwPvHCx9rfIQ",
        "outputId": "b7c368c7-2185-444e-9bfb-66b65bf99431",
        "colab": {
          "base_uri": "https://localhost:8080/",
          "height": 421,
          "referenced_widgets": [
            "e5e2ee56e8a1456f9809522027cdc380",
            "3552905a58de4d37a8809b229bf5ce68"
          ]
        }
      },
      "execution_count": 30,
      "outputs": [
        {
          "output_type": "display_data",
          "data": {
            "text/plain": [
              "SankeyWidget(groups=[{'id': 'Activity', 'type': 'process', 'title': '', 'nodes': ['Activity^Reading', 'Activit…"
            ],
            "application/vnd.jupyter.widget-view+json": {
              "version_major": 2,
              "version_minor": 0,
              "model_id": "e5e2ee56e8a1456f9809522027cdc380"
            }
          },
          "metadata": {
            "application/vnd.jupyter.widget-view+json": {
              "colab": {
                "custom_widget_manager": {
                  "url": "https://ssl.gstatic.com/colaboratory-static/widgets/colab-cdn-widget-manager/b3e629b1971e1542/manager.min.js"
                }
              }
            }
          }
        }
      ]
    },
    {
      "cell_type": "markdown",
      "source": [
        "More information is available in the [floweaver tutorial](https://floweaver.readthedocs.io/en/latest/tutorials/colour-scales.html) but current re-development of the `measures` input mean that the tutorial is slightly outdated."
      ],
      "metadata": {
        "id": "hFWs3SvFroKR"
      }
    }
  ]
}